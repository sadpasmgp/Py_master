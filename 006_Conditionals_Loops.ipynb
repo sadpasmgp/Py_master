{
 "cells": [
  {
   "cell_type": "code",
   "execution_count": 13,
   "metadata": {},
   "outputs": [
    {
     "name": "stdout",
     "output_type": "stream",
     "text": [
      "Enter an integer: -5\n",
      "n is odd\n"
     ]
    }
   ],
   "source": [
    "\"\"\"\n",
    "In Python you can define a series of conditionals using if for the first one, elif for the rest, up until the final\n",
    "(optional) else for anything not caught by the other conditionals.\n",
    "\"\"\"\n",
    "\n",
    "n = int(input(\"Enter an integer: \"))\n",
    "if n%2==0:\n",
    "    print(\"n is even\")\n",
    "elif n%2==abs(1):\n",
    "    print(\"n is odd\")"
   ]
  },
  {
   "cell_type": "code",
   "execution_count": 19,
   "metadata": {},
   "outputs": [
    {
     "name": "stdout",
     "output_type": "stream",
     "text": [
      "19\n",
      "No Discount\n"
     ]
    }
   ],
   "source": [
    "#Ex:2\n",
    "\n",
    "x = input()\n",
    "Age = float(x)\n",
    "\n",
    "if Age >= 60:\n",
    "   print ('Senior Discount')\n",
    "elif 18 <= Age < 60:\n",
    "   print ('No Discount')\n",
    "else:\n",
    "   print ('Junior Discount')"
   ]
  },
  {
   "cell_type": "code",
   "execution_count": 20,
   "metadata": {},
   "outputs": [
    {
     "name": "stdout",
     "output_type": "stream",
     "text": [
      "Senior Discount\n",
      "Membership Gift\n"
     ]
    }
   ],
   "source": [
    "#Example with nested if\n",
    "\n",
    "Age = 65\n",
    "Membership = 'Yes'\n",
    "\n",
    "if Age >= 60:\n",
    "   print ('Senior Discount')\n",
    "   if Membership == 'Yes':\n",
    "     print ('Membership Gift')\n",
    "   else:\n",
    "     print ('No Gift')\n",
    "else:\n",
    "   print ('No Discount')"
   ]
  },
  {
   "cell_type": "code",
   "execution_count": null,
   "metadata": {},
   "outputs": [],
   "source": [
    "\"\"\"\n",
    "Example: IF using a tkinter graphical user interface (GUI)\n",
    "\n",
    "The conditions are:\n",
    "\n",
    "    If the Age is equal or above 60, the person is eligible for a ‘Senior Discount’\n",
    "    If the Age is from 18 to 59, there is ‘No discount’\n",
    "    If the age is below 18, the person is eligible for a ‘Junior Discount’\n",
    "\"\"\""
   ]
  },
  {
   "cell_type": "code",
   "execution_count": 25,
   "metadata": {},
   "outputs": [],
   "source": [
    "import tkinter as tk \n",
    "\n",
    "root= tk.Tk() \n",
    " \n",
    "canvas1 = tk.Canvas(root, width = 500, height = 450)\n",
    "canvas1.pack()\n",
    "\n",
    "\n",
    "label1 = tk.Label(root, text='Type your Age: ')\n",
    "canvas1.create_window(100, 100, window=label1)\n",
    "\n",
    "entry1 = tk.Entry (root)\n",
    "canvas1.create_window(270, 100, window=entry1)\n",
    "\n",
    "\n",
    "def values(): \n",
    "    global Age \n",
    "    Age = float(entry1.get()) \n",
    "    \n",
    "    if Age >= 60:\n",
    "       Discount = ('Discount Status: ','Senior Discount')  \n",
    "       label_Discount = tk.Label(root, text= Discount, bg='yellow')\n",
    "       canvas1.create_window(270, 200, window=label_Discount)\n",
    "    elif 18 <= Age < 60:\n",
    "       Discount = ('Discount Status: ','No Discount')  \n",
    "       label_Discount = tk.Label(root, text= Discount, bg='yellow')\n",
    "       canvas1.create_window(270, 200, window=label_Discount)\n",
    "    else:\n",
    "       Discount = ('Discount Status: ','Junior Discount')  \n",
    "       label_Discount = tk.Label(root, text= Discount, bg='yellow')\n",
    "       canvas1.create_window(270, 200, window=label_Discount)\n",
    "      \n",
    "    \n",
    "button1 = tk.Button (root, text='Find your Discount Status',command=values, bg='orange') # button to call the 'values' command above \n",
    "canvas1.create_window(270, 150, window=button1)\n",
    " \n",
    "\n",
    "root.mainloop()"
   ]
  },
  {
   "cell_type": "code",
   "execution_count": 26,
   "metadata": {},
   "outputs": [
    {
     "name": "stdout",
     "output_type": "stream",
     "text": [
      "Hello bro\n",
      "Hello bro\n",
      "Hello bro\n"
     ]
    }
   ],
   "source": [
    "\"\"\"\n",
    "While Loop -  In python, while loop is used to execute a block of statements repeatedly until a given a condition is satisfied. And when the condition becomes false, the line immediately after the loop in program is executed.\n",
    "Syntax :\n",
    "\n",
    "while expression:\n",
    "    statement(s)\n",
    "\n",
    "\"\"\"\n",
    "\n",
    "\n",
    "# Python program to illustrate \n",
    "# while loop \n",
    "count = 0\n",
    "while (count < 3):     \n",
    "    count = count + 1\n",
    "    print(\"Hello bro\") \n"
   ]
  },
  {
   "cell_type": "code",
   "execution_count": 27,
   "metadata": {},
   "outputs": [
    {
     "name": "stdout",
     "output_type": "stream",
     "text": [
      "Hello dude\n",
      "Hello dude\n",
      "Hello dude\n",
      "In Else Block\n"
     ]
    }
   ],
   "source": [
    "#while-else loop\n",
    "count = 0\n",
    "while (count < 3):     \n",
    "    count = count + 1\n",
    "    print(\"Hello dude\") \n",
    "else: \n",
    "    print(\"In Else Block\") "
   ]
  },
  {
   "cell_type": "code",
   "execution_count": 29,
   "metadata": {},
   "outputs": [
    {
     "name": "stdout",
     "output_type": "stream",
     "text": [
      "l\n",
      "e\n",
      "a\n",
      "r\n",
      "n\n",
      "i\n",
      "n\n",
      "g\n",
      " \n",
      "p\n",
      "y\n",
      "t\n",
      "h\n",
      "o\n",
      "n\n",
      " \n",
      "f\n",
      "o\n",
      "r\n",
      " \n",
      "l\n",
      "o\n",
      "o\n",
      "p\n",
      "s\n"
     ]
    }
   ],
   "source": [
    "\"\"\"\n",
    "For loops are used for sequential traversal. \n",
    "For example: traversing a list or string or array etc. \n",
    "In Python, there is no C style for loop, i.e., for (i=0; i<n; i++). \n",
    "\n",
    "Syntax:\n",
    "\n",
    "for iterator_var in sequence:\n",
    "    statements(s)\n",
    "\n",
    "\"\"\"\n",
    "\n",
    "st = 'learning python for loops'\n",
    "for each in st:\n",
    "    print(each)"
   ]
  },
  {
   "cell_type": "code",
   "execution_count": 30,
   "metadata": {},
   "outputs": [
    {
     "name": "stdout",
     "output_type": "stream",
     "text": [
      "l\n",
      "e\n",
      "a\n",
      "r\n",
      "n\n",
      "i\n",
      "n\n",
      "g\n",
      " \n",
      "p\n",
      "y\n",
      "t\n",
      "h\n",
      "o\n",
      "n\n",
      " \n",
      "f\n",
      "o\n",
      "r\n",
      " \n",
      "l\n",
      "o\n",
      "o\n",
      "p\n",
      "s\n",
      "goodbye\n"
     ]
    }
   ],
   "source": [
    "#for-else loop\n",
    "st = 'learning python for loops'\n",
    "for each in st:\n",
    "    print(each)\n",
    "else :\n",
    "    print(\"goodbye\")"
   ]
  },
  {
   "cell_type": "code",
   "execution_count": 45,
   "metadata": {},
   "outputs": [
    {
     "name": "stdout",
     "output_type": "stream",
     "text": [
      "1 \n",
      "2 2 \n",
      "3 3 3 \n",
      "4 4 4 4 \n",
      "5 5 5 5 5 \n"
     ]
    }
   ],
   "source": [
    "\"\"\"\n",
    "Nested Loops: Python programming language allows to use one loop inside another loop.\n",
    "Syntax:\n",
    "\n",
    "for iterator_var in sequence: \n",
    "    for iterator_var in sequence: \n",
    "        statements(s) \n",
    "        statements(s) \n",
    "\n",
    "The syntax for a nested while loop statement in Python programming language is as follows:\n",
    "\n",
    "while expression: \n",
    "    while expression:  \n",
    "        statement(s) \n",
    "        statement(s) \n",
    "\n",
    "\"\"\"\n",
    "\n",
    "for i in range(1, 6): \n",
    "    for j in range(i): \n",
    "         print(i, end=' ') \n",
    "    print()"
   ]
  },
  {
   "cell_type": "code",
   "execution_count": 47,
   "metadata": {},
   "outputs": [
    {
     "name": "stdout",
     "output_type": "stream",
     "text": [
      "Current Letter : g\n",
      "Current Letter : k\n",
      "Current Letter : f\n",
      "Current Letter : o\n",
      "Current Letter : r\n",
      "Current Letter : g\n",
      "Current Letter : k\n"
     ]
    }
   ],
   "source": [
    "\"\"\"\n",
    "Loop Control Statements: \n",
    "Loop control statements change execution from its normal sequence. \n",
    "When execution leaves a scope, all automatic objects that were created in that scope are destroyed. \n",
    "Python supports the following control statements.\n",
    "\n",
    "Continue Statement: It returns the control to the beginning of the loop. \n",
    "Break Statement: It brings control out of the loop \n",
    "Pass Statement: We use pass statement to write empty loops. \n",
    "Pass is also used for empty control statement, function and classes. \n",
    "\"\"\"\n",
    "\n",
    "\n",
    "# Prints all letters except 'e' and 's' \n",
    "for letter in 'geeksforgeeks':  \n",
    "    if letter == 'e' or letter == 's': \n",
    "         continue\n",
    "    print('Current Letter :', letter)\n"
   ]
  },
  {
   "cell_type": "code",
   "execution_count": 54,
   "metadata": {},
   "outputs": [
    {
     "name": "stdout",
     "output_type": "stream",
     "text": [
      "Current Letter : g\n",
      "Current Letter : e\n",
      "Current Letter : e\n"
     ]
    }
   ],
   "source": [
    "for letter in 'geeksforgeeks':  \n",
    "  \n",
    "    # break the loop as soon it sees 'e'  \n",
    "    # or 's' \n",
    "    if letter == 'k' or letter == 's': \n",
    "         break\n",
    "  \n",
    "    print('Current Letter :', letter)\n"
   ]
  },
  {
   "cell_type": "code",
   "execution_count": 52,
   "metadata": {},
   "outputs": [
    {
     "name": "stdout",
     "output_type": "stream",
     "text": [
      "Last Letter : g\n",
      "Last Letter : e\n",
      "Last Letter : e\n",
      "Last Letter : k\n",
      "Last Letter : s\n",
      "Last Letter : f\n",
      "Last Letter : o\n",
      "Last Letter : r\n",
      "Last Letter : g\n",
      "Last Letter : e\n",
      "Last Letter : e\n",
      "Last Letter : k\n",
      "Last Letter : s\n"
     ]
    }
   ],
   "source": [
    "for letter in 'geeksforgeeks': \n",
    "    pass\n",
    "    print('Last Letter :', letter) "
   ]
  },
  {
   "cell_type": "code",
   "execution_count": null,
   "metadata": {},
   "outputs": [],
   "source": []
  },
  {
   "cell_type": "code",
   "execution_count": null,
   "metadata": {},
   "outputs": [],
   "source": []
  },
  {
   "cell_type": "code",
   "execution_count": null,
   "metadata": {},
   "outputs": [],
   "source": []
  }
 ],
 "metadata": {
  "kernelspec": {
   "display_name": "Python 3",
   "language": "python",
   "name": "python3"
  },
  "language_info": {
   "codemirror_mode": {
    "name": "ipython",
    "version": 3
   },
   "file_extension": ".py",
   "mimetype": "text/x-python",
   "name": "python",
   "nbconvert_exporter": "python",
   "pygments_lexer": "ipython3",
   "version": "3.7.3"
  }
 },
 "nbformat": 4,
 "nbformat_minor": 2
}
