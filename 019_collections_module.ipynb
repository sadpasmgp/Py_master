{
 "cells": [
  {
   "cell_type": "markdown",
   "metadata": {},
   "source": [
    "\n",
    "The built-in collections package provides several specialized, flexible collection types that are both highperformance and \n",
    "provide alternatives to the general collection types of dict, list, tuple and set. The module also\n",
    "defines abstract base classes describing different types of collection functionality (such as MutableSet and\n",
    "ItemsView)"
   ]
  },
  {
   "cell_type": "code",
   "execution_count": 20,
   "metadata": {},
   "outputs": [
    {
     "name": "stdout",
     "output_type": "stream",
     "text": [
      "['ChainMap', 'Counter', 'Mapping', 'OrderedDict', 'UserDict', 'UserList', 'UserString', '_Link', '_OrderedDictItemsView', '_OrderedDictKeysView', '_OrderedDictValuesView', '__all__', '__builtins__', '__cached__', '__doc__', '__file__', '__getattr__', '__loader__', '__name__', '__package__', '__path__', '__spec__', '_chain', '_collections_abc', '_count_elements', '_eq', '_heapq', '_iskeyword', '_itemgetter', '_nt_itemgetters', '_proxy', '_recursive_repr', '_repeat', '_starmap', '_sys', 'abc', 'defaultdict', 'deque', 'namedtuple']\n"
     ]
    }
   ],
   "source": [
    "import collections\n",
    "print(dir(collections))"
   ]
  },
  {
   "cell_type": "markdown",
   "metadata": {},
   "source": [
    "#### collections.counter"
   ]
  },
  {
   "cell_type": "markdown",
   "metadata": {},
   "source": [
    "counter is a dict sub class that allows you to easily count objects. \n",
    "It has utility methods for working with the frequencies of the objects that you are counting"
   ]
  },
  {
   "cell_type": "code",
   "execution_count": 5,
   "metadata": {},
   "outputs": [
    {
     "data": {
      "text/plain": [
       "Counter({1: 1, 2: 1, 3: 1})"
      ]
     },
     "execution_count": 5,
     "metadata": {},
     "output_type": "execute_result"
    }
   ],
   "source": [
    "counts = collections.Counter([1,2,3])\n",
    "counts"
   ]
  },
  {
   "cell_type": "code",
   "execution_count": 6,
   "metadata": {},
   "outputs": [
    {
     "data": {
      "text/plain": [
       "Counter({'H': 1,\n",
       "         'a': 2,\n",
       "         'p': 2,\n",
       "         'y': 2,\n",
       "         ' ': 1,\n",
       "         'B': 1,\n",
       "         'i': 1,\n",
       "         'r': 1,\n",
       "         't': 1,\n",
       "         'h': 1,\n",
       "         'd': 1})"
      ]
     },
     "execution_count": 6,
     "metadata": {},
     "output_type": "execute_result"
    }
   ],
   "source": [
    "collections.Counter('Happy Birthday')"
   ]
  },
  {
   "cell_type": "code",
   "execution_count": 7,
   "metadata": {},
   "outputs": [
    {
     "data": {
      "text/plain": [
       "Counter({'I': 3,\n",
       "         'am': 2,\n",
       "         'Sam': 3,\n",
       "         'That': 1,\n",
       "         'Sam-I-am': 2,\n",
       "         'do': 1,\n",
       "         'not': 1,\n",
       "         'like': 1})"
      ]
     },
     "execution_count": 7,
     "metadata": {},
     "output_type": "execute_result"
    }
   ],
   "source": [
    "collections.Counter('I am Sam Sam I am That Sam Sam-I-am I do not like Sam-I-am'.split())"
   ]
  },
  {
   "cell_type": "code",
   "execution_count": 8,
   "metadata": {},
   "outputs": [
    {
     "data": {
      "text/plain": [
       "4"
      ]
     },
     "execution_count": 8,
     "metadata": {},
     "output_type": "execute_result"
    }
   ],
   "source": [
    "c = collections.Counter({'a':4, 'b':2,'c':-2})\n",
    "c['a']"
   ]
  },
  {
   "cell_type": "markdown",
   "metadata": {},
   "source": [
    "#### collections.OrderedDict"
   ]
  },
  {
   "cell_type": "markdown",
   "metadata": {},
   "source": [
    "The order of keys in python dictionaries is arbitrary. \n",
    "They are not governed by the order in which you add them. \n",
    "The collections.OrderedDict class provides dictionary objects that retain the order of keys. Iterating through an OrderedDict allows key access in the order they were added."
   ]
  },
  {
   "cell_type": "code",
   "execution_count": 23,
   "metadata": {},
   "outputs": [
    {
     "name": "stdout",
     "output_type": "stream",
     "text": [
      "OrderedDict([('baz', 7), ('foobar', 4)])\n",
      "OrderedDict([('baz', 7), ('foobar', 4), ('foo', 3)])\n"
     ]
    }
   ],
   "source": [
    "from collections import OrderedDict\n",
    "d = OrderedDict()\n",
    "d['baz'] = 7\n",
    "d['foobar']=4\n",
    "print(d)\n",
    "d['foo']=3\n",
    "print(d)"
   ]
  },
  {
   "cell_type": "markdown",
   "metadata": {},
   "source": [
    "#### collections.defaultdict"
   ]
  },
  {
   "cell_type": "markdown",
   "metadata": {},
   "source": [
    "collections.defaultdict returns a subclass of default value for missing keys. Argument should be a function that returns the default value when called with no arguments. \n",
    "If there is nothing passed, it defaults to None."
   ]
  },
  {
   "cell_type": "code",
   "execution_count": 25,
   "metadata": {},
   "outputs": [
    {
     "data": {
      "text/plain": [
       "defaultdict(str, {})"
      ]
     },
     "execution_count": 25,
     "metadata": {},
     "output_type": "execute_result"
    }
   ],
   "source": [
    "state_capitals = collections.defaultdict(str)\n",
    "state_capitals"
   ]
  },
  {
   "cell_type": "markdown",
   "metadata": {},
   "source": [
    "Calling the defaultdict with a key does not produce an error."
   ]
  },
  {
   "cell_type": "code",
   "execution_count": 27,
   "metadata": {},
   "outputs": [
    {
     "data": {
      "text/plain": [
       "defaultdict(str, {'Alaska': ''})"
      ]
     },
     "execution_count": 27,
     "metadata": {},
     "output_type": "execute_result"
    }
   ],
   "source": [
    "state_capitals['Alaska']\n",
    "state_capitals"
   ]
  },
  {
   "cell_type": "code",
   "execution_count": 31,
   "metadata": {},
   "outputs": [
    {
     "data": {
      "text/plain": [
       "defaultdict(int, {'apple': 2})"
      ]
     },
     "execution_count": 31,
     "metadata": {},
     "output_type": "execute_result"
    }
   ],
   "source": [
    "#Another example\n",
    "\n",
    "fruit_counts = collections.defaultdict(int)\n",
    "fruit_counts['apple']+=2\n",
    "fruit_counts"
   ]
  },
  {
   "cell_type": "code",
   "execution_count": 33,
   "metadata": {},
   "outputs": [
    {
     "data": {
      "text/plain": [
       "defaultdict(int, {'apple': 2, 'banana': 0})"
      ]
     },
     "execution_count": 33,
     "metadata": {},
     "output_type": "execute_result"
    }
   ],
   "source": [
    "fruit_counts['banana']\n",
    "fruit_counts"
   ]
  },
  {
   "cell_type": "code",
   "execution_count": 37,
   "metadata": {},
   "outputs": [
    {
     "data": {
      "text/plain": [
       "defaultdict(list, {})"
      ]
     },
     "execution_count": 37,
     "metadata": {},
     "output_type": "execute_result"
    }
   ],
   "source": [
    "s = [('NC', 'Raleigh'), ('VA', 'Richmond'), ('WA', 'Seattle'), ('NC', 'Asheville')]\n",
    "dd = collections.defaultdict(list)\n",
    "dd"
   ]
  },
  {
   "cell_type": "code",
   "execution_count": 40,
   "metadata": {},
   "outputs": [
    {
     "data": {
      "text/plain": [
       "defaultdict(list,\n",
       "            {'NC': ['Raleigh', 'Asheville', 'Raleigh', 'Asheville'],\n",
       "             'VA': ['Richmond', 'Richmond'],\n",
       "             'WA': ['Seattle', 'Seattle']})"
      ]
     },
     "execution_count": 40,
     "metadata": {},
     "output_type": "execute_result"
    }
   ],
   "source": [
    "for k,v in s:\n",
    "    dd[k].append(v)\n",
    "\n",
    "dd"
   ]
  },
  {
   "cell_type": "markdown",
   "metadata": {},
   "source": [
    "#### collections.namedtuple"
   ]
  },
  {
   "cell_type": "code",
   "execution_count": 43,
   "metadata": {},
   "outputs": [
    {
     "data": {
      "text/plain": [
       "__main__.Person"
      ]
     },
     "execution_count": 43,
     "metadata": {},
     "output_type": "execute_result"
    }
   ],
   "source": [
    "Person = collections.namedtuple('Person',['age','height','name'])\n",
    "Person\n",
    "\n",
    "#second argument is list of attributes that tuple will have."
   ]
  },
  {
   "cell_type": "code",
   "execution_count": 47,
   "metadata": {},
   "outputs": [
    {
     "data": {
      "text/plain": [
       "__main__.Person"
      ]
     },
     "execution_count": 47,
     "metadata": {},
     "output_type": "execute_result"
    }
   ],
   "source": [
    "Person = collections.namedtuple('Person','age, height, name')\n",
    "Person"
   ]
  },
  {
   "cell_type": "code",
   "execution_count": 50,
   "metadata": {},
   "outputs": [
    {
     "data": {
      "text/plain": [
       "__main__.Person"
      ]
     },
     "execution_count": 50,
     "metadata": {},
     "output_type": "execute_result"
    }
   ],
   "source": [
    "Person = collections.namedtuple('Person','age height name')\n",
    "Person"
   ]
  },
  {
   "cell_type": "code",
   "execution_count": 52,
   "metadata": {},
   "outputs": [
    {
     "data": {
      "text/plain": [
       "Person(age=30, height=178, name='Dave')"
      ]
     },
     "execution_count": 52,
     "metadata": {},
     "output_type": "execute_result"
    }
   ],
   "source": [
    "dave = Person(30,178,'Dave')\n",
    "dave"
   ]
  },
  {
   "cell_type": "code",
   "execution_count": 54,
   "metadata": {},
   "outputs": [
    {
     "data": {
      "text/plain": [
       "Person(age=45, height=189, name='Jack')"
      ]
     },
     "execution_count": 54,
     "metadata": {},
     "output_type": "execute_result"
    }
   ],
   "source": [
    "jack = Person(45, 189, 'Jack')\n",
    "jack"
   ]
  },
  {
   "cell_type": "code",
   "execution_count": 56,
   "metadata": {},
   "outputs": [],
   "source": [
    "#The first argument to the namedtuple constructor (in our example 'Person') is the typename. It is typical to use the\n",
    "#same word for the constructor and the typename, but they can be different:\n",
    "Human = collections.namedtuple('Person', 'age, height, name')\n",
    "dave = Human(30, 178, 'Dave')"
   ]
  },
  {
   "cell_type": "code",
   "execution_count": 59,
   "metadata": {},
   "outputs": [
    {
     "name": "stdout",
     "output_type": "stream",
     "text": [
      "Person(age=30, height=178, name='Dave')\n",
      "30\n",
      "189\n"
     ]
    }
   ],
   "source": [
    "print(dave)\n",
    "print(dave.age)\n",
    "print(jack.height)"
   ]
  },
  {
   "cell_type": "markdown",
   "metadata": {},
   "source": [
    "#### collections.deque"
   ]
  },
  {
   "cell_type": "code",
   "execution_count": null,
   "metadata": {},
   "outputs": [],
   "source": [
    "Returns a new deque object initialized left-to-right (using append()) with data from iterable. \n",
    "If iterable is not specified, the new deque is empty.\n",
    "\n",
    "Deques are a generalization of stacks and queues (the name is pronounced “deck” and is short for “double-ended\n",
    "queue”). Deques support thread-safe, memory efficient appends and pops from either side of the deque with\n",
    "approximately the same O(1) performance in either direction.\n",
    "\n",
    "Though list objects support similar operations, they are optimized for fast fixed-length operations and incur O(n)\n",
    "memory movement costs for pop(0) and insert(0, v) operations which change both the size and position of the\n",
    "underlying data representation.\n",
    "\n",
    "\n",
    "If maxlen is not specified or is None, deques may grow to an arbitrary length. Otherwise, the deque is bounded to the\n",
    "specified maximum length. Once a bounded length deque is full, when new items are added, a corresponding\n",
    "number of items are discarded from the opposite end. Bounded length deques provide functionality similar to the\n",
    "tail filter in Unix. They are also useful for tracking transactions and other pools of data where only the most recent\n",
    "activity is of interest."
   ]
  },
  {
   "cell_type": "code",
   "execution_count": 61,
   "metadata": {},
   "outputs": [
    {
     "name": "stdout",
     "output_type": "stream",
     "text": [
      "G\n",
      "H\n",
      "I\n"
     ]
    }
   ],
   "source": [
    "from collections import deque\n",
    "d = deque(\"ghi\")\n",
    "for elem in d:\n",
    "    print(elem.upper())"
   ]
  },
  {
   "cell_type": "code",
   "execution_count": 62,
   "metadata": {},
   "outputs": [
    {
     "data": {
      "text/plain": [
       "deque(['f', 'g', 'h', 'i', 'j'])"
      ]
     },
     "execution_count": 62,
     "metadata": {},
     "output_type": "execute_result"
    }
   ],
   "source": [
    "d.append('j')\n",
    "d.appendleft('f')\n",
    "d"
   ]
  },
  {
   "cell_type": "code",
   "execution_count": 63,
   "metadata": {},
   "outputs": [
    {
     "data": {
      "text/plain": [
       "['g', 'h', 'i']"
      ]
     },
     "execution_count": 63,
     "metadata": {},
     "output_type": "execute_result"
    }
   ],
   "source": [
    "d.pop()\n",
    "d.popleft()\n",
    "list(d)"
   ]
  },
  {
   "cell_type": "code",
   "execution_count": 64,
   "metadata": {},
   "outputs": [
    {
     "data": {
      "text/plain": [
       "['i', 'h', 'g']"
      ]
     },
     "execution_count": 64,
     "metadata": {},
     "output_type": "execute_result"
    }
   ],
   "source": [
    "list(reversed(d))"
   ]
  },
  {
   "cell_type": "code",
   "execution_count": 70,
   "metadata": {},
   "outputs": [
    {
     "data": {
      "text/plain": [
       "deque(['c',\n",
       "       'b',\n",
       "       'a',\n",
       "       'c',\n",
       "       'b',\n",
       "       'a',\n",
       "       'i',\n",
       "       'j',\n",
       "       'k',\n",
       "       'l',\n",
       "       'j',\n",
       "       'k',\n",
       "       'l',\n",
       "       'g',\n",
       "       'h',\n",
       "       'j',\n",
       "       'k',\n",
       "       'l',\n",
       "       'j',\n",
       "       'k',\n",
       "       'l'])"
      ]
     },
     "execution_count": 70,
     "metadata": {},
     "output_type": "execute_result"
    }
   ],
   "source": [
    "d.extend('jkl')\n",
    "d.extendleft('abc')\n",
    "d"
   ]
  },
  {
   "cell_type": "code",
   "execution_count": 71,
   "metadata": {},
   "outputs": [
    {
     "data": {
      "text/plain": [
       "deque(['b',\n",
       "       'a',\n",
       "       'c',\n",
       "       'b',\n",
       "       'a',\n",
       "       'i',\n",
       "       'j',\n",
       "       'k',\n",
       "       'l',\n",
       "       'j',\n",
       "       'k',\n",
       "       'l',\n",
       "       'g',\n",
       "       'h',\n",
       "       'j',\n",
       "       'k',\n",
       "       'l',\n",
       "       'j',\n",
       "       'k',\n",
       "       'l',\n",
       "       'c'])"
      ]
     },
     "execution_count": 71,
     "metadata": {},
     "output_type": "execute_result"
    }
   ],
   "source": [
    "d.rotate(-1)\n",
    "d"
   ]
  },
  {
   "cell_type": "markdown",
   "metadata": {},
   "source": [
    "#### collections.ChainMap"
   ]
  },
  {
   "cell_type": "code",
   "execution_count": null,
   "metadata": {},
   "outputs": [],
   "source": [
    "Returns a new ChainMap object given a number of maps. This object groups multiple dicts or other mappings\n",
    "together to create a single, updateable view.\n",
    "\n",
    "\n",
    "ChainMaps are useful managing nested contexts and overlays. An example in the python world is found in the\n",
    "implementation of the Context class in Django's template engine. It is useful for quickly linking a number of\n",
    "mappings so that the result can be treated as a single unit. It is often much faster than creating a new dictionary\n",
    "and running multiple update() calls.\n",
    "\n",
    "\n",
    "Anytime one has a chain of lookup values there can be a case for ChainMap. An example includes having both user\n",
    "specified values and a dictionary of default values. Another example is the POST and GET parameter maps found in\n",
    "web use, e.g. Django or Flask. Through the use of ChainMap one returns a combined view of two distinct\n",
    "dictionaries.\n",
    "\n",
    "\n",
    "The maps parameter list is ordered from first-searched to last-searched. Lookups search the underlying mappings\n",
    "successively until a key is found. In contrast, writes, updates, and deletions only operate on the first mapping."
   ]
  },
  {
   "cell_type": "code",
   "execution_count": 72,
   "metadata": {},
   "outputs": [],
   "source": [
    "from collections import ChainMap"
   ]
  },
  {
   "cell_type": "code",
   "execution_count": 73,
   "metadata": {},
   "outputs": [],
   "source": [
    "dict1 = {'apple':1, 'banana':2}\n",
    "dict2 = {'coconut':1, 'date':1, 'apple':3}"
   ]
  },
  {
   "cell_type": "code",
   "execution_count": 74,
   "metadata": {},
   "outputs": [],
   "source": [
    "combined_dict = collections.ChainMap(dict1, dict2)"
   ]
  },
  {
   "cell_type": "code",
   "execution_count": 75,
   "metadata": {},
   "outputs": [
    {
     "data": {
      "text/plain": [
       "ChainMap({'apple': 1, 'banana': 2}, {'coconut': 1, 'date': 1, 'apple': 3})"
      ]
     },
     "execution_count": 75,
     "metadata": {},
     "output_type": "execute_result"
    }
   ],
   "source": [
    "combined_dict"
   ]
  },
  {
   "cell_type": "code",
   "execution_count": 76,
   "metadata": {},
   "outputs": [
    {
     "name": "stdout",
     "output_type": "stream",
     "text": [
      "coconut 1\n",
      "date 1\n",
      "apple 1\n",
      "banana 2\n"
     ]
    }
   ],
   "source": [
    "#Note the impact of order on which value is found first in the subsequent lookup\n",
    "\n",
    "for k, v in combined_dict.items():\n",
    "    print(k, v)"
   ]
  },
  {
   "cell_type": "code",
   "execution_count": null,
   "metadata": {},
   "outputs": [],
   "source": []
  }
 ],
 "metadata": {
  "kernelspec": {
   "display_name": "Python 3",
   "language": "python",
   "name": "python3"
  },
  "language_info": {
   "codemirror_mode": {
    "name": "ipython",
    "version": 3
   },
   "file_extension": ".py",
   "mimetype": "text/x-python",
   "name": "python",
   "nbconvert_exporter": "python",
   "pygments_lexer": "ipython3",
   "version": "3.7.3"
  }
 },
 "nbformat": 4,
 "nbformat_minor": 2
}
