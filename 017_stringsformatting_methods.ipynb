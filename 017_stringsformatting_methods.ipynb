{
 "cells": [
  {
   "cell_type": "code",
   "execution_count": null,
   "metadata": {},
   "outputs": [],
   "source": [
    "string formatting methods:\n",
    "\n",
    "formatting using %operator\n",
    "formatting using str.format\n",
    "formatting using string interpolcation/f-strings\n",
    "template strings"
   ]
  },
  {
   "cell_type": "code",
   "execution_count": 13,
   "metadata": {},
   "outputs": [
    {
     "name": "stdout",
     "output_type": "stream",
     "text": [
      "Hello Bob, I got 8184466491 error\n",
      "value of pi is 3.141590\n",
      "errorcode is565560177756\n",
      "errorcode is badc0ffee\n",
      "errorcode is 0xbadc0ffee\n"
     ]
    }
   ],
   "source": [
    "#formatting using % operator\n",
    "errno = 8184466491\n",
    "errcode = 0xbadc0ffee\n",
    "name = 'Bob'\n",
    "pi = 3.14159\n",
    "\n",
    "\n",
    "print(\"Hello %s, I got %d error\"%(name,errno))\n",
    "print(\"value of pi is %f\"%pi)\n",
    "print(\"errorcode is%o\"%errcode)\n",
    "print(\"errorcode is %x\"%errcode)\n",
    "print(\"errorcode is 0x%x\"%errcode)"
   ]
  },
  {
   "cell_type": "code",
   "execution_count": null,
   "metadata": {},
   "outputs": [],
   "source": [
    "The conversion types are:\n",
    "\n",
    "Conversion\tMeaning\tNotes\n",
    "\n",
    "'d'\tSigned integer decimal.\n",
    "'i'\tSigned integer decimal.\n",
    "'o'\tSigned octal value.\n",
    "'u'\tObsolete type – it is identical to 'd'.\n",
    "'x'\tSigned hexadecimal (lowercase).\n",
    "'X'\tSigned hexadecimal (uppercase).\n",
    "'e'\tFloating point exponential format (lowercase).\n",
    "'E'\tFloating point exponential format (uppercase).\n",
    "'f'\tFloating point decimal format.\n",
    "'F'\tFloating point decimal format.\n",
    "'g'\tFloating point format. Uses lowercase exponential format if exponent is less than -4 or not less than precision, decimal format otherwise.\n",
    "'G'\tFloating point format. Uses uppercase exponential format if exponent is less than -4 or not less than precision, decimal format otherwise.\n",
    "'c'\tSingle character (accepts integer or single character string).\n",
    "'r'\tString (converts any Python object using repr()).\n",
    "'s'\tString (converts any Python object using str()).\n",
    "'a'\tString (converts any Python object using ascii()).\n",
    "'%'\tNo argument is converted, results in a '%' character in the result.\n"
   ]
  },
  {
   "cell_type": "code",
   "execution_count": 19,
   "metadata": {},
   "outputs": [
    {
     "name": "stdout",
     "output_type": "stream",
     "text": [
      "Hello Bob, there is 0x50159747054 with 8184466491 and value of pi is 3.14159\n",
      "Hello Bob, there is 0x50159747054 with 8184466491 and value is 3.14159\n",
      "Hello 3.14159, there is 0x8184466491 with 50159747054 and value is Bob\n"
     ]
    }
   ],
   "source": [
    "#formatting using str.format\n",
    "\n",
    "errno = 8184466491\n",
    "errcode = 0xbadc0ffee\n",
    "name = 'Bob'\n",
    "pi = 3.14159\n",
    "\n",
    "print(\"Hello {name}, there is 0x{errcode} with {errno} and value of pi is {pi}\".format(name = name, errno =errno, errcode = errcode, pi = pi))\n",
    "print(\"Hello {}, there is 0x{} with {} and value is {}\".format(name,errcode, errno, pi))\n",
    "print(\"Hello {}, there is 0x{} with {} and value is {}\".format(pi, errno, errcode, name))"
   ]
  },
  {
   "cell_type": "code",
   "execution_count": 22,
   "metadata": {},
   "outputs": [
    {
     "name": "stdout",
     "output_type": "stream",
     "text": [
      "Hello Bob\n",
      "Hello Bob, there is 0x50159747054 with 8184466491 and value of pi is 3.14159\n"
     ]
    }
   ],
   "source": [
    "#formatting using string interpolation / f-strings\n",
    "errno = 8184466491\n",
    "errcode = 0xbadc0ffee\n",
    "name = 'Bob'\n",
    "pi = 3.14159\n",
    "\n",
    "print(f\"Hello {name}\")\n",
    "print(f\"Hello {name}, there is 0x{errcode} with {errno} and value of pi is {pi}\")"
   ]
  },
  {
   "cell_type": "code",
   "execution_count": 24,
   "metadata": {},
   "outputs": [
    {
     "name": "stdout",
     "output_type": "stream",
     "text": [
      "sum and differences of a and b are 15 and -5\n"
     ]
    }
   ],
   "source": [
    "a, b= 5,10\n",
    "print(f\"sum and differences of a and b are {a+b} and {a-b}\")"
   ]
  },
  {
   "cell_type": "code",
   "execution_count": 28,
   "metadata": {},
   "outputs": [
    {
     "name": "stdout",
     "output_type": "stream",
     "text": [
      "Hello, Bob! How are you??\n",
      "Hello, Jack! whats up??\n",
      "Hello, Jill! what you doing??\n"
     ]
    }
   ],
   "source": [
    "def greet(name, question):\n",
    "    return f\"Hello, {name}! {question}?\"\n",
    "\n",
    "print(greet(\"Bob\", \"How are you?\"))\n",
    "print(greet(\"Jack\",\"whats up?\"))\n",
    "print(greet(\"Jill\",\"what you doing?\"))"
   ]
  },
  {
   "cell_type": "code",
   "execution_count": 29,
   "metadata": {},
   "outputs": [
    {
     "name": "stdout",
     "output_type": "stream",
     "text": [
      "  2           0 LOAD_CONST               1 ('Hello, ')\n",
      "              2 LOAD_FAST                0 (name)\n",
      "              4 FORMAT_VALUE             0\n",
      "              6 LOAD_CONST               2 ('! ')\n",
      "              8 LOAD_FAST                1 (question)\n",
      "             10 FORMAT_VALUE             0\n",
      "             12 LOAD_CONST               3 ('?')\n",
      "             14 BUILD_STRING             5\n",
      "             16 RETURN_VALUE\n"
     ]
    }
   ],
   "source": [
    "import dis\n",
    "dis.dis(greet)"
   ]
  },
  {
   "cell_type": "code",
   "execution_count": 30,
   "metadata": {},
   "outputs": [
    {
     "data": {
      "text/plain": [
       "'Hey, Bob!'"
      ]
     },
     "execution_count": 30,
     "metadata": {},
     "output_type": "execute_result"
    }
   ],
   "source": [
    "#Another way to format using string templates\n",
    "\n",
    "from string import Template\n",
    "t = Template('Hey, $name!')\n",
    "t.substitute(name=name)"
   ]
  },
  {
   "cell_type": "markdown",
   "metadata": {},
   "source": [
    "#### String methods"
   ]
  },
  {
   "cell_type": "code",
   "execution_count": 34,
   "metadata": {},
   "outputs": [
    {
     "name": "stdout",
     "output_type": "stream",
     "text": [
      "['__add__', '__class__', '__contains__', '__delattr__', '__dir__', '__doc__', '__eq__', '__format__', '__ge__', '__getattribute__', '__getitem__', '__getnewargs__', '__gt__', '__hash__', '__init__', '__init_subclass__', '__iter__', '__le__', '__len__', '__lt__', '__mod__', '__mul__', '__ne__', '__new__', '__reduce__', '__reduce_ex__', '__repr__', '__rmod__', '__rmul__', '__setattr__', '__sizeof__', '__str__', '__subclasshook__', 'capitalize', 'casefold', 'center', 'count', 'encode', 'endswith', 'expandtabs', 'find', 'format', 'format_map', 'index', 'isalnum', 'isalpha', 'isascii', 'isdecimal', 'isdigit', 'isidentifier', 'islower', 'isnumeric', 'isprintable', 'isspace', 'istitle', 'isupper', 'join', 'ljust', 'lower', 'lstrip', 'maketrans', 'partition', 'replace', 'rfind', 'rindex', 'rjust', 'rpartition', 'rsplit', 'rstrip', 'split', 'splitlines', 'startswith', 'strip', 'swapcase', 'title', 'translate', 'upper', 'zfill']\n"
     ]
    }
   ],
   "source": [
    "print(dir(name))"
   ]
  },
  {
   "cell_type": "code",
   "execution_count": 49,
   "metadata": {},
   "outputs": [],
   "source": [
    "st = \"Hello pythoners, Good morning! , How are you Today ?\""
   ]
  },
  {
   "cell_type": "code",
   "execution_count": 50,
   "metadata": {},
   "outputs": [
    {
     "data": {
      "text/plain": [
       "'hello pythoners, good morning! , how are you today ?'"
      ]
     },
     "execution_count": 50,
     "metadata": {},
     "output_type": "execute_result"
    }
   ],
   "source": [
    "st.casefold()"
   ]
  },
  {
   "cell_type": "code",
   "execution_count": 51,
   "metadata": {},
   "outputs": [
    {
     "data": {
      "text/plain": [
       "'hello pythoners, good morning! , how are you today ?'"
      ]
     },
     "execution_count": 51,
     "metadata": {},
     "output_type": "execute_result"
    }
   ],
   "source": [
    "st.lower()"
   ]
  },
  {
   "cell_type": "code",
   "execution_count": 38,
   "metadata": {},
   "outputs": [
    {
     "data": {
      "text/plain": [
       "'xssσ'"
      ]
     },
     "execution_count": 38,
     "metadata": {},
     "output_type": "execute_result"
    }
   ],
   "source": [
    "\"XßΣ\".casefold()"
   ]
  },
  {
   "cell_type": "code",
   "execution_count": 39,
   "metadata": {},
   "outputs": [
    {
     "data": {
      "text/plain": [
       "'xßς'"
      ]
     },
     "execution_count": 39,
     "metadata": {},
     "output_type": "execute_result"
    }
   ],
   "source": [
    "\"XßΣ\".lower()"
   ]
  },
  {
   "cell_type": "code",
   "execution_count": 53,
   "metadata": {},
   "outputs": [
    {
     "name": "stdout",
     "output_type": "stream",
     "text": [
      "HELLO PYTHONERS, GOOD MORNING! , HOW ARE YOU TODAY ?\n",
      "Hello pythoners, good morning! , how are you today ?\n",
      "Hello Pythoners, Good Morning! , How Are You Today ?\n",
      "hELLO PYTHONERS, gOOD MORNING! , hOW ARE YOU tODAY ?\n",
      "Hello pythoners, Good morning! , How are you Today ?\n",
      "['Hello', 'pythoners,', 'Good', 'morning!', ',', 'How', 'are', 'you', 'Today', '?']\n"
     ]
    }
   ],
   "source": [
    "print(st.upper())\n",
    "print(st.capitalize())\n",
    "print(st.title())\n",
    "print(st.swapcase())\n",
    "print(st.strip())\n",
    "print(st.split())"
   ]
  },
  {
   "cell_type": "code",
   "execution_count": 60,
   "metadata": {},
   "outputs": [
    {
     "data": {
      "text/plain": [
       "['?',\n",
       " ' ',\n",
       " 'y',\n",
       " 'a',\n",
       " 'd',\n",
       " 'o',\n",
       " 'T',\n",
       " ' ',\n",
       " 'u',\n",
       " 'o',\n",
       " 'y',\n",
       " ' ',\n",
       " 'e',\n",
       " 'r',\n",
       " 'a',\n",
       " ' ',\n",
       " 'w',\n",
       " 'o',\n",
       " 'H',\n",
       " ' ',\n",
       " ',',\n",
       " ' ',\n",
       " '!',\n",
       " 'g',\n",
       " 'n',\n",
       " 'i',\n",
       " 'n',\n",
       " 'r',\n",
       " 'o',\n",
       " 'm',\n",
       " ' ',\n",
       " 'd',\n",
       " 'o',\n",
       " 'o',\n",
       " 'G',\n",
       " ' ',\n",
       " ',',\n",
       " 's',\n",
       " 'r',\n",
       " 'e',\n",
       " 'n',\n",
       " 'o',\n",
       " 'h',\n",
       " 't',\n",
       " 'y',\n",
       " 'p',\n",
       " ' ',\n",
       " 'o',\n",
       " 'l',\n",
       " 'l',\n",
       " 'e',\n",
       " 'H']"
      ]
     },
     "execution_count": 60,
     "metadata": {},
     "output_type": "execute_result"
    }
   ],
   "source": [
    "reversed(st)\n",
    "[char for char in reversed(st)]"
   ]
  },
  {
   "cell_type": "code",
   "execution_count": 61,
   "metadata": {},
   "outputs": [
    {
     "data": {
      "text/plain": [
       "'? yadoT uoy era woH , !gninrom dooG ,srenohtyp olleH'"
      ]
     },
     "execution_count": 61,
     "metadata": {},
     "output_type": "execute_result"
    }
   ],
   "source": [
    "\"\".join(reversed(st))"
   ]
  },
  {
   "cell_type": "code",
   "execution_count": 62,
   "metadata": {},
   "outputs": [
    {
     "data": {
      "text/plain": [
       "'Hello pythonerz, Good morning! , How are you Today ?'"
      ]
     },
     "execution_count": 62,
     "metadata": {},
     "output_type": "execute_result"
    }
   ],
   "source": [
    "st.replace('s', 'z')"
   ]
  },
  {
   "cell_type": "code",
   "execution_count": 64,
   "metadata": {},
   "outputs": [
    {
     "data": {
      "text/plain": [
       "False"
      ]
     },
     "execution_count": 64,
     "metadata": {},
     "output_type": "execute_result"
    }
   ],
   "source": [
    "st.isalpha()\n",
    "st.isalnum()"
   ]
  },
  {
   "cell_type": "code",
   "execution_count": 66,
   "metadata": {},
   "outputs": [
    {
     "data": {
      "text/plain": [
       "True"
      ]
     },
     "execution_count": 66,
     "metadata": {},
     "output_type": "execute_result"
    }
   ],
   "source": [
    "'he' in st.lower()"
   ]
  },
  {
   "cell_type": "code",
   "execution_count": 67,
   "metadata": {},
   "outputs": [
    {
     "data": {
      "text/plain": [
       "2"
      ]
     },
     "execution_count": 67,
     "metadata": {},
     "output_type": "execute_result"
    }
   ],
   "source": [
    "st.count('a')"
   ]
  },
  {
   "cell_type": "code",
   "execution_count": 69,
   "metadata": {},
   "outputs": [
    {
     "data": {
      "text/plain": [
       "True"
      ]
     },
     "execution_count": 69,
     "metadata": {},
     "output_type": "execute_result"
    }
   ],
   "source": [
    "st.startswith('H')"
   ]
  },
  {
   "cell_type": "code",
   "execution_count": 70,
   "metadata": {},
   "outputs": [
    {
     "data": {
      "text/plain": [
       "True"
      ]
     },
     "execution_count": 70,
     "metadata": {},
     "output_type": "execute_result"
    }
   ],
   "source": [
    "st.endswith('?')"
   ]
  },
  {
   "cell_type": "code",
   "execution_count": null,
   "metadata": {},
   "outputs": [],
   "source": []
  },
  {
   "cell_type": "code",
   "execution_count": null,
   "metadata": {},
   "outputs": [],
   "source": []
  }
 ],
 "metadata": {
  "kernelspec": {
   "display_name": "Python 3",
   "language": "python",
   "name": "python3"
  },
  "language_info": {
   "codemirror_mode": {
    "name": "ipython",
    "version": 3
   },
   "file_extension": ".py",
   "mimetype": "text/x-python",
   "name": "python",
   "nbconvert_exporter": "python",
   "pygments_lexer": "ipython3",
   "version": "3.7.3"
  }
 },
 "nbformat": 4,
 "nbformat_minor": 2
}
