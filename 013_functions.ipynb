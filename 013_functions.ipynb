{
 "cells": [
  {
   "cell_type": "code",
   "execution_count": 6,
   "metadata": {},
   "outputs": [
    {
     "name": "stdout",
     "output_type": "stream",
     "text": [
      "Hello\n",
      "hello johnny\n"
     ]
    }
   ],
   "source": [
    "\"\"\"\n",
    "Functions in Python provide organized, reusable and modular code to perform a set of specific actions. \n",
    "Functions simplify the coding process, prevent redundant logic, and make the code easier to follow\n",
    "\n",
    "Python has many built-in functions like print(), input(), len(). Besides built-ins you can also create your own\n",
    "functions to do more specific jobs—these are called user-defined functions\n",
    "\n",
    "Using the def statement we define a function in python. single clause compound statement with the following syntax:\n",
    "\n",
    "def function_name(parameters):\n",
    "    statement(s)\n",
    "\n",
    "function_name is known as the identifier of the function\n",
    "\"\"\"\n",
    "\n",
    "def greet():\n",
    "    print(\"Hello\")\n",
    "    \n",
    "greet()\n",
    "\n",
    "def say_hello(name):\n",
    "    print(\"hello\", name)\n",
    "\n",
    "say_hello('johnny')"
   ]
  },
  {
   "cell_type": "code",
   "execution_count": 12,
   "metadata": {},
   "outputs": [
    {
     "name": "stdout",
     "output_type": "stream",
     "text": [
      "johnny walker\n",
      "1\n",
      "2\n",
      "3\n",
      "j\n",
      "o\n",
      "h\n",
      "n\n"
     ]
    },
    {
     "data": {
      "text/plain": [
       "function"
      ]
     },
     "execution_count": 12,
     "metadata": {},
     "output_type": "execute_result"
    }
   ],
   "source": [
    "#Arbitrary number of positional arguments\n",
    "\n",
    "def func(*args):\n",
    "    for i in args:\n",
    "        print(i)\n",
    "        \n",
    "func('johnny walker')\n",
    "func(1,2,3)\n",
    "func('j','o','h','n')\n"
   ]
  },
  {
   "cell_type": "code",
   "execution_count": 15,
   "metadata": {},
   "outputs": [
    {
     "name": "stdout",
     "output_type": "stream",
     "text": [
      "value1 1\n",
      "value2 2\n",
      "value3 3\n"
     ]
    }
   ],
   "source": [
    "#Arbitrary number of keyword arguments\n",
    "\n",
    "def funct(**kwargs):\n",
    "    for name, value in kwargs.items():\n",
    "        print(name, value)\n",
    "        \n",
    "funct(value1 = 1, value2 = 2, value3 = 3)"
   ]
  },
  {
   "cell_type": "code",
   "execution_count": 26,
   "metadata": {},
   "outputs": [],
   "source": [
    "\"\"\"\n",
    "The positional/keyword arguments come first. (Required arguments).\n",
    "Then comes the arbitrary *arg arguments. (Optional).\n",
    "Then keyword-only arguments come next. (Required).\n",
    "Finally the arbitrary keyword **kwargs come. (Optional)\n",
    "\"\"\"\n",
    "\n",
    "def fun(arg1, arg2=10, *args, kwarg1, kwarg2=2, **kwargs):\n",
    "    pass\n",
    "\n",
    "\"\"\"\n",
    "arg1 must be given, otherwise a TypeError is raised. \n",
    "It can be given as positional (func(10)) or keyword\n",
    "argument (func(arg1=10)).\n",
    "kwarg1 must also be given, but it can only be provided as keyword-argument: func(kwarg1=10).\n",
    "arg2 and kwarg2 are optional. \n",
    "If the value is to be changed the same rules as for arg1 (either positional or\n",
    "keyword) and kwarg1 (only keyword) apply.\n",
    "*args catches additional positional parameters. \n",
    "But note, that arg1 and arg2 must be provided as positional\n",
    "arguments to pass arguments to *args: func(1, 1, 1, 1).\n",
    "**kwargs catches all additional keyword parameters. In this case any parameter that is not arg1, arg2,\n",
    "kwarg1 or kwarg2. For example: func(kwarg3=10).\n",
    "In Python 3, you can use * alone to indicate that all subsequent arguments must be specified as keywords.\n",
    "\"\"\""
   ]
  },
  {
   "cell_type": "code",
   "execution_count": 33,
   "metadata": {},
   "outputs": [
    {
     "name": "stdout",
     "output_type": "stream",
     "text": [
      "Hello\n"
     ]
    },
    {
     "data": {
      "text/plain": [
       "'Hello'"
      ]
     },
     "execution_count": 33,
     "metadata": {},
     "output_type": "execute_result"
    }
   ],
   "source": [
    "#lambda function\n",
    "\"\"\"\n",
    "The lambda keyword creates an inline function that contains a single expression. The value of this expression is\n",
    "what the function returns when invoked.\n",
    "\"\"\"\n",
    "\n",
    "def greet():\n",
    "    print(\"Hello\")\n",
    "    \n",
    "#can be written as below\n",
    "\n",
    "greet1 = lambda: \"Hello\"\n",
    "greet()\n",
    "greet1()"
   ]
  },
  {
   "cell_type": "code",
   "execution_count": 34,
   "metadata": {},
   "outputs": [
    {
     "name": "stdout",
     "output_type": "stream",
     "text": [
      "Hello ('world',) {'world': 'Earth'}\n"
     ]
    }
   ],
   "source": [
    "#lambda functions can take arguments too\n",
    "\n",
    "greeting = lambda x, *args, **kwargs: print(x, args, kwargs)\n",
    "greeting('Hello', 'world', world='Earth')"
   ]
  },
  {
   "cell_type": "code",
   "execution_count": 36,
   "metadata": {},
   "outputs": [
    {
     "data": {
      "text/plain": [
       "120"
      ]
     },
     "execution_count": 36,
     "metadata": {},
     "output_type": "execute_result"
    }
   ],
   "source": [
    "def factorial(n):\n",
    "    if n==0:\n",
    "        return 1\n",
    "    else:\n",
    "        return(n*factorial(n-1))\n",
    "\n",
    "factorial(5)"
   ]
  },
  {
   "cell_type": "code",
   "execution_count": 40,
   "metadata": {},
   "outputs": [
    {
     "data": {
      "text/plain": [
       "120"
      ]
     },
     "execution_count": 40,
     "metadata": {},
     "output_type": "execute_result"
    }
   ],
   "source": [
    "factorial = lambda n: 1 if n==0 else n*(factorial(n-1))\n",
    "factorial(5)"
   ]
  },
  {
   "cell_type": "markdown",
   "metadata": {},
   "source": [
    "## Functional programming"
   ]
  },
  {
   "cell_type": "code",
   "execution_count": 45,
   "metadata": {},
   "outputs": [
    {
     "data": {
      "text/plain": [
       "'\\nLambda function\\nMap function\\nReduce function\\nFilter function\\n'"
      ]
     },
     "execution_count": 45,
     "metadata": {},
     "output_type": "execute_result"
    }
   ],
   "source": [
    "\"\"\"\n",
    "Lambda function\n",
    "Map function\n",
    "Reduce function\n",
    "Filter function\n",
    "\"\"\""
   ]
  },
  {
   "cell_type": "code",
   "execution_count": 46,
   "metadata": {},
   "outputs": [
    {
     "data": {
      "text/plain": [
       "64"
      ]
     },
     "execution_count": 46,
     "metadata": {},
     "output_type": "execute_result"
    }
   ],
   "source": [
    "'''\n",
    "An anonymous, inlined function defined with lambda. The parameters of the lambda are defined to the left of the\n",
    "colon. The function body is defined to the right of the colon. The result of running the function body is (implicitly)\n",
    "returned.\n",
    "'''\n",
    "s=lambda x:x*x\n",
    "s(8)"
   ]
  },
  {
   "cell_type": "code",
   "execution_count": 52,
   "metadata": {},
   "outputs": [
    {
     "name": "stdout",
     "output_type": "stream",
     "text": [
      "<map object at 0x000001897B9F9550>\n",
      "[1, 4, 9, 16, 25]\n"
     ]
    }
   ],
   "source": [
    "\"\"\"\n",
    "Map takes a function and a collection of items. It makes a new, empty collection, runs the function on each item in\n",
    "the original collection and inserts each return value into the new collection. It returns the new collection.\n",
    "This is a simple map that takes a list of names and returns a list of the lengths of those names:\n",
    "\"\"\"\n",
    "\n",
    "lis = [1,2,3,4,5]\n",
    "s=lambda x:x*x\n",
    "\n",
    "m =map(s,lis)\n",
    "print(m)\n",
    "print(list(m))"
   ]
  },
  {
   "cell_type": "code",
   "execution_count": 55,
   "metadata": {},
   "outputs": [
    {
     "name": "stdout",
     "output_type": "stream",
     "text": [
      "10\n"
     ]
    }
   ],
   "source": [
    "\"\"\"\n",
    "Reduce takes a function and a collection of items. It returns a value that is created by combining the items.\n",
    "\"\"\"\n",
    "from functools import reduce\n",
    "total = reduce(lambda a, x:a+x, [0,1,2,3,4])\n",
    "\n",
    "print(total)"
   ]
  },
  {
   "cell_type": "code",
   "execution_count": 57,
   "metadata": {},
   "outputs": [
    {
     "data": {
      "text/plain": [
       "[2, 4, 6, 8, 10]"
      ]
     },
     "execution_count": 57,
     "metadata": {},
     "output_type": "execute_result"
    }
   ],
   "source": [
    "\"\"\"\n",
    "Filter takes a function and a collection. It returns a collection of every item for which the function returned True\n",
    "\"\"\"\n",
    "\n",
    "arr = [1,2,3,4,5,6,7,8,9,10]\n",
    "[ i for i in filter(lambda x :x%2==0, arr)]"
   ]
  },
  {
   "cell_type": "code",
   "execution_count": null,
   "metadata": {},
   "outputs": [],
   "source": []
  },
  {
   "cell_type": "code",
   "execution_count": null,
   "metadata": {},
   "outputs": [],
   "source": []
  },
  {
   "cell_type": "code",
   "execution_count": null,
   "metadata": {},
   "outputs": [],
   "source": []
  }
 ],
 "metadata": {
  "kernelspec": {
   "display_name": "Python 3",
   "language": "python",
   "name": "python3"
  },
  "language_info": {
   "codemirror_mode": {
    "name": "ipython",
    "version": 3
   },
   "file_extension": ".py",
   "mimetype": "text/x-python",
   "name": "python",
   "nbconvert_exporter": "python",
   "pygments_lexer": "ipython3",
   "version": "3.7.3"
  }
 },
 "nbformat": 4,
 "nbformat_minor": 2
}
