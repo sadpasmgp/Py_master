{
 "cells": [
  {
   "cell_type": "code",
   "execution_count": 2,
   "metadata": {},
   "outputs": [
    {
     "name": "stdout",
     "output_type": "stream",
     "text": [
      "array('i', [1, 2, 3, 4, 5])\n"
     ]
    }
   ],
   "source": [
    "\"\"\"\n",
    "Arrays are the data structures that store values of same datatypes. \n",
    "\n",
    "Init signature: array(self, /, *args, **kwargs)\n",
    "Docstring:     \n",
    "array(typecode [, initializer]) -> array\n",
    "\n",
    "Return a new array whose items are restricted by typecode, and\n",
    "initialized from the optional initializer value, which must be a list,\n",
    "string or iterable over elements of the appropriate type.\n",
    "\n",
    "Arrays represent basic values and behave very much like lists, except\n",
    "the type of objects stored in them is constrained. The type is specified\n",
    "at object creation time by using a type code, which is a single character.\n",
    "The following type codes are defined:\n",
    "\n",
    "    Type code   C Type             Minimum size in bytes \n",
    "    'b'         signed integer     1 \n",
    "    'B'         unsigned integer   1 \n",
    "    'u'         Unicode character  2 (see note) \n",
    "    'h'         signed integer     2 \n",
    "    'H'         unsigned integer   2 \n",
    "    'i'         signed integer     2 \n",
    "    'I'         unsigned integer   2 \n",
    "    'l'         signed integer     4 \n",
    "    'L'         unsigned integer   4 \n",
    "    'q'         signed integer     8 (see note) \n",
    "    'Q'         unsigned integer   8 (see note) \n",
    "    'f'         floating point     4 \n",
    "    'd'         floating point     8 \n",
    "\n",
    "NOTE: The 'u' typecode corresponds to Python's unicode character. On \n",
    "narrow builds this is 2-bytes on wide builds this is 4-bytes.\n",
    "\n",
    "NOTE: The 'q' and 'Q' type codes are only available if the platform \n",
    "C compiler used to build Python supports 'long long', or, on Windows, \n",
    "'__int64'.\n",
    "\n",
    "Methods:\n",
    "\n",
    "append() -- append a new item to the end of the array\n",
    "buffer_info() -- return information giving the current memory info\n",
    "byteswap() -- byteswap all the items of the array\n",
    "count() -- return number of occurrences of an object\n",
    "extend() -- extend array by appending multiple elements from an iterable\n",
    "fromfile() -- read items from a file object\n",
    "fromlist() -- append items from the list\n",
    "frombytes() -- append items from the string\n",
    "index() -- return index of first occurrence of an object\n",
    "insert() -- insert a new item into the array at a provided position\n",
    "pop() -- remove and return item (default last)\n",
    "remove() -- remove first occurrence of an object\n",
    "reverse() -- reverse the order of the items in the array\n",
    "tofile() -- write all items to a file object\n",
    "tolist() -- return the array converted to an ordinary list\n",
    "tobytes() -- return the array converted to a string\n",
    "\n",
    "Attributes:\n",
    "\n",
    "typecode -- the typecode character used to create the array\n",
    "itemsize -- the length in bytes of one array item\n",
    "\n",
    "arrayIdentifiername = array(typecode, [initializers])\n",
    "\"\"\"\n",
    "\n",
    "from array import *\n",
    "my_array = array('i',[1,2,3,4,5])\n",
    "print(my_array)"
   ]
  },
  {
   "cell_type": "code",
   "execution_count": 4,
   "metadata": {},
   "outputs": [
    {
     "name": "stdout",
     "output_type": "stream",
     "text": [
      "['__add__', '__class__', '__contains__', '__copy__', '__deepcopy__', '__delattr__', '__delitem__', '__dir__', '__doc__', '__eq__', '__format__', '__ge__', '__getattribute__', '__getitem__', '__gt__', '__hash__', '__iadd__', '__imul__', '__init__', '__init_subclass__', '__iter__', '__le__', '__len__', '__lt__', '__mul__', '__ne__', '__new__', '__reduce__', '__reduce_ex__', '__repr__', '__rmul__', '__setattr__', '__setitem__', '__sizeof__', '__str__', '__subclasshook__', 'append', 'buffer_info', 'byteswap', 'count', 'extend', 'frombytes', 'fromfile', 'fromlist', 'fromstring', 'fromunicode', 'index', 'insert', 'itemsize', 'pop', 'remove', 'reverse', 'tobytes', 'tofile', 'tolist', 'tostring', 'tounicode', 'typecode']\n"
     ]
    }
   ],
   "source": [
    "print(dir(my_array))"
   ]
  },
  {
   "cell_type": "code",
   "execution_count": 6,
   "metadata": {},
   "outputs": [
    {
     "name": "stdout",
     "output_type": "stream",
     "text": [
      "1 4\n"
     ]
    }
   ],
   "source": [
    "#Accessing elemnets of array\n",
    "\"\"\"\n",
    "individual elements can be accessed through indexes. Python array are zero-indexed\n",
    "\"\"\"\n",
    "print(my_array[0], my_array[3])"
   ]
  },
  {
   "cell_type": "code",
   "execution_count": 28,
   "metadata": {},
   "outputs": [
    {
     "name": "stdout",
     "output_type": "stream",
     "text": [
      "array('i', [1, 2, 3, 4, 5, 6])\n",
      "array('i', [0, 1, 2, 3, 4, 5, 6])\n",
      "array('i', [0, 1, 2, 3, 4, 5, 6, 6, 7, 8])\n",
      "array('i', [0, 1, 2, 3, 4, 5, 6, 6, 7, 8, 11, 12, 13])\n",
      "array('i', [0, 1, 2, 3, 4, 5, 6, 7, 8, 11, 12, 13])\n",
      "array('i', [0, 1, 2, 3, 4, 5, 6, 7, 8, 11, 12])\n",
      "9\n",
      "array('i', [12, 11, 8, 7, 6, 5, 4, 3, 2, 1, 0])\n",
      "(2106806377752, 11)\n",
      "1\n",
      "2\n"
     ]
    }
   ],
   "source": [
    "my_array = array('i',[1,2,3,4,5])\n",
    "\n",
    "#appending to existing array\n",
    "my_array.append(6) \n",
    "print(my_array)\n",
    "\n",
    "#inserting at a specified index\n",
    "my_array.insert(0,0)\n",
    "print(my_array)\n",
    "\n",
    "#extending an array\n",
    "my_array.extend(array('i',[6,7,8]))\n",
    "print(my_array)\n",
    "\n",
    "#adding elements from list\n",
    "c = [11,12,13]\n",
    "my_array.fromlist(c)\n",
    "print(my_array)\n",
    "\n",
    "my_array.remove(6)\n",
    "print(my_array)\n",
    "\n",
    "my_array.pop()\n",
    "print(my_array)\n",
    "\n",
    "#getting index of the passed value\n",
    "print(my_array.index(11)) \n",
    "\n",
    "my_array.reverse()\n",
    "print(my_array)\n",
    "\n",
    "#This method provides you the array buffer start address in memory \n",
    "#and number of elements in array\n",
    "print(my_array.buffer_info())\n",
    "\n",
    "#Check for number of occurrences of an element using count() method\n",
    "print(my_array.count(6))\n",
    "my_array.append(6)\n",
    "print(my_array.count(6))"
   ]
  },
  {
   "cell_type": "code",
   "execution_count": 40,
   "metadata": {},
   "outputs": [
    {
     "name": "stdout",
     "output_type": "stream",
     "text": [
      "b'g\\x00e\\x00e\\x00k\\x00'\n",
      "[12, 11, 8, 7, 6, 5, 4, 3, 2, 1, 0, 6]\n"
     ]
    }
   ],
   "source": [
    "#convert array to string using tostring() method\n",
    "mychar_array = array('u', ['g','e','e','k'])\n",
    "print(mychar_array.tostring())\n",
    "\n",
    "\n",
    "#Convert array to a python list with same elements using tolist() method\n",
    "print(my_array.tolist())\n",
    "\n"
   ]
  },
  {
   "cell_type": "markdown",
   "metadata": {},
   "source": [
    "#### Multidimensional Arrays"
   ]
  },
  {
   "cell_type": "code",
   "execution_count": 57,
   "metadata": {},
   "outputs": [
    {
     "name": "stdout",
     "output_type": "stream",
     "text": [
      "[1, 2, 3]\n",
      "[4, 5, 6]\n",
      "[7, 8, 9]\n",
      "1\n",
      "6\n",
      "[[2, 3, 6], [4, 5, 6], [7, 8, 9]]\n",
      "[[[111, 112, 113], [121, 122, 123], [131, 132, 133]], [[211, 212, 213], [221, 222, 223], [231, 232, 233]], [[311, 312, 313], [321, 322, 323], [331, 332, 333]]]\n",
      "[[111, 112, 113], [121, 122, 123], [131, 132, 133]]\n",
      "[321, 322, 323]\n",
      "111\n",
      "333\n"
     ]
    }
   ],
   "source": [
    "lst = [[1,2,3],[4,5,6],[7,8,9]]\n",
    "print(lst[0])\n",
    "print(lst[1])\n",
    "print(lst[2])\n",
    "print(lst[0][0])\n",
    "print(lst[1][2])\n",
    "\n",
    "lst[0]=[2,3,6]\n",
    "print(lst)\n",
    "\n",
    "#3d array\n",
    "\n",
    "A = [[[111,112,113],[121,122,123],[131,132,133]],[[211,212,213],[221,222,223],[231,232,233]],[[311,312,\n",
    "313],[321,322,323],[331,332,333]]]\n",
    "\n",
    "print(A)\n",
    "print(A[0])\n",
    "print(A[2][1])\n",
    "print(A[0][0][0])\n",
    "print(A[2][2][2])"
   ]
  },
  {
   "cell_type": "code",
   "execution_count": null,
   "metadata": {},
   "outputs": [],
   "source": []
  },
  {
   "cell_type": "code",
   "execution_count": null,
   "metadata": {},
   "outputs": [],
   "source": []
  },
  {
   "cell_type": "code",
   "execution_count": null,
   "metadata": {},
   "outputs": [],
   "source": []
  },
  {
   "cell_type": "code",
   "execution_count": null,
   "metadata": {},
   "outputs": [],
   "source": []
  },
  {
   "cell_type": "code",
   "execution_count": null,
   "metadata": {},
   "outputs": [],
   "source": []
  },
  {
   "cell_type": "code",
   "execution_count": null,
   "metadata": {},
   "outputs": [],
   "source": []
  }
 ],
 "metadata": {
  "kernelspec": {
   "display_name": "Python 3",
   "language": "python",
   "name": "python3"
  },
  "language_info": {
   "codemirror_mode": {
    "name": "ipython",
    "version": 3
   },
   "file_extension": ".py",
   "mimetype": "text/x-python",
   "name": "python",
   "nbconvert_exporter": "python",
   "pygments_lexer": "ipython3",
   "version": "3.7.3"
  }
 },
 "nbformat": 4,
 "nbformat_minor": 2
}
