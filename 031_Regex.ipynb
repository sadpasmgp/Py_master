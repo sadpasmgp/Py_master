{
 "cells": [
  {
   "cell_type": "code",
   "execution_count": 1,
   "metadata": {},
   "outputs": [
    {
     "name": "stdout",
     "output_type": "stream",
     "text": [
      "['A', 'ASCII', 'DEBUG', 'DOTALL', 'I', 'IGNORECASE', 'L', 'LOCALE', 'M', 'MULTILINE', 'Match', 'Pattern', 'RegexFlag', 'S', 'Scanner', 'T', 'TEMPLATE', 'U', 'UNICODE', 'VERBOSE', 'X', '_MAXCACHE', '__all__', '__builtins__', '__cached__', '__doc__', '__file__', '__loader__', '__name__', '__package__', '__spec__', '__version__', '_cache', '_compile', '_compile_repl', '_expand', '_locale', '_pickle', '_special_chars_map', '_subx', 'compile', 'copyreg', 'enum', 'error', 'escape', 'findall', 'finditer', 'fullmatch', 'functools', 'match', 'purge', 'search', 'split', 'sre_compile', 'sre_parse', 'sub', 'subn', 'template']\n"
     ]
    }
   ],
   "source": [
    "import re\n",
    "print(dir(re))"
   ]
  },
  {
   "cell_type": "markdown",
   "metadata": {},
   "source": [
    "Module Regular Expressions(RE) specifies a set of strings(pattern) that matches it.\n",
    "\n",
    "To understand the RE analogy, MetaCharacters are useful, important and will be used in functions of module re.\n",
    "\n",
    "There are a total of 14 metacharcters and will be discussed as they follow into functions:\n",
    "\n",
    "\\   Used to drop the special meaning of character following it\n",
    "[]  Represent a character class\n",
    "^   Matches the beginning\n",
    "$   Matches the end\n",
    ".   Matches any character except newline\n",
    "?   Matches zero or one occurrence.\n",
    "|   Means OR (Matches with any of the characters separated by it.\n",
    "*   Any number of occurrences (including 0 occurrences)\n",
    "+   One ore more occurrences\n",
    "{}  Indicate number of occurrences of a preceding RE to match.\n",
    "()  Enclose a group of REs"
   ]
  },
  {
   "cell_type": "markdown",
   "metadata": {},
   "source": [
    "#### Function compile()\n",
    "\n",
    "Regular expressions are compiled into pattern objects, which have methods for various operations such as searching for pattern matches or performing string substitutions."
   ]
  },
  {
   "cell_type": "code",
   "execution_count": 6,
   "metadata": {},
   "outputs": [
    {
     "name": "stdout",
     "output_type": "stream",
     "text": [
      "['e', 'a', 'd', 'b', 'e', 'a']\n",
      "['e', 'a', 'i', 'i', 'e', 'o', 'a']\n",
      "['A', 'e', 'a', 'i', 'i', 'e', 'o', 'a']\n"
     ]
    }
   ],
   "source": [
    "import re \n",
    "p = re.compile('[a-e]') \n",
    "print(p.findall(\"Aye, said Mr. Gibenson Stark\"))\n",
    "\n",
    "q = re.compile('[aeiou]') \n",
    "print(q.findall(\"Aye, said Mr. Gibenson Stark\"))\n",
    "\n",
    "r = re.compile('[aeiouAEIOU]') \n",
    "print(r.findall(\"Aye, said Mr. Gibenson Stark\"))"
   ]
  },
  {
   "cell_type": "markdown",
   "metadata": {},
   "source": [
    "Metacharacter blackslash ‘\\’ has a very important role as it signals various sequences. If the blackslash is to be used without its special meaning as metacharcter, use’\\\\’\n",
    "\n",
    "\n",
    "\\d   Matches any decimal digit, this is equivalent to the set class [0-9].\n",
    "\\D   Matches any non-digit character.\n",
    "\\s   Matches any whitespace character.\n",
    "\\S   Matches any non-whitespace character\n",
    "\\w   Matches any alphanumeric character, equivalent to the class [a-zA-Z0-9_].\n",
    "\\W   Matches any non-alphanumeric character. \n",
    "\n",
    "Set class [\\s,.] will match any whitespace character, ‘,’, or,’.’ ."
   ]
  },
  {
   "cell_type": "code",
   "execution_count": 10,
   "metadata": {},
   "outputs": [
    {
     "name": "stdout",
     "output_type": "stream",
     "text": [
      "['1', '1', '4', '1', '8', '8', '6']\n",
      "['11', '4', '1886']\n"
     ]
    }
   ],
   "source": [
    "import re\n",
    "p=re.compile('\\d')\n",
    "print(p.findall(\"I went to him at 11 a.m on 4th July 1886\"))\n",
    "\n",
    "q=re.compile('\\d+')\n",
    "print(q.findall(\"I wento to him at 11 a.m on 4th July 1886\"))"
   ]
  },
  {
   "cell_type": "code",
   "execution_count": 14,
   "metadata": {},
   "outputs": [
    {
     "name": "stdout",
     "output_type": "stream",
     "text": [
      "['H', 'e', 's', 'a', 'i', 'd', 'i', 'n', 's', 'o', 'm', 'e', '_', 'l', 'a', 'n', 'g']\n",
      "['I', 'went', 'to', 'him', 'at', '11', 'a', 'm', 'on', '4th', 'July', '1886']\n",
      "[' ', ' ', '*', '*', '*', ' ', ' ', '.']\n"
     ]
    }
   ],
   "source": [
    "import re\n",
    "p=re.compile('\\w')\n",
    "print(p.findall(\"He said * in some_lang\"))\n",
    "\n",
    "q=re.compile('\\w+')\n",
    "print(q.findall(\"I went to him at 11 a.m on 4th July 1886\"))\n",
    "\n",
    "r=re.compile('\\W')\n",
    "print(r.findall(\"he said *** in some_language.\"))"
   ]
  },
  {
   "cell_type": "code",
   "execution_count": 19,
   "metadata": {},
   "outputs": [
    {
     "name": "stdout",
     "output_type": "stream",
     "text": [
      "['ab', 'ab', 'ab']\n",
      "['ab', 'abb', 'abbb']\n",
      "['ab', 'abb', 'a', 'abbb']\n",
      "['a', '', 'a', '', '', 'aa', '', '', '', '']\n",
      "['ab', 'abb', 'abbb']\n"
     ]
    }
   ],
   "source": [
    "import re\n",
    "p=re.compile('ab')\n",
    "print(p.findall(\"ababbaabbb\"))\n",
    "\n",
    "p=re.compile('ab+')\n",
    "print(p.findall(\"ababbaabbb\"))\n",
    "\n",
    "p=re.compile('ab*')\n",
    "print(p.findall(\"ababbaabbb\"))\n",
    "\n",
    "p=re.compile('a*')\n",
    "print(p.findall(\"ababbaabbb\"))\n",
    "\n",
    "p=re.compile('abb*')\n",
    "print(p.findall(\"ababbaabbb\"))"
   ]
  },
  {
   "cell_type": "markdown",
   "metadata": {},
   "source": [
    "Understanding the Output:\n",
    "\n",
    "Our RE is ab*, which ‘a’ accompanied by any no. of ‘b’s, starting from 0.\n",
    "Output ‘ab’, is valid because of singe ‘a’ accompanied by single ‘b’.\n",
    "Output ‘abb’, is valid because of singe ‘a’ accompanied by 2 ‘b’.\n",
    "Output ‘a’, is valid because of singe ‘a’ accompanied by 0 ‘b’.\n",
    "Output ‘abbb’, is valid because of singe ‘a’ accompanied by 3 ‘b’."
   ]
  },
  {
   "cell_type": "markdown",
   "metadata": {},
   "source": [
    "##### Flags in regex\n",
    "\n",
    "\n",
    "re.DEBUG\n",
    "\n",
    "    Display debug information about compiled expression.\n",
    "\n",
    "re.I / re.IGNORECASE\n",
    "\n",
    "    Perform case-insensitive matching; expressions like [A-Z] will match lowercase letters, too. This is not affected by the current locale. To get this effect on non-ASCII Unicode characters such as ü and Ü, add the UNICODE flag.\n",
    "\n",
    "re.L /re.LOCALE\n",
    "\n",
    "    Make \\w, \\W, \\b, \\B, \\s and \\S dependent on the current locale.\n",
    "\n",
    "re.M /re.MULTILINE\n",
    "\n",
    "    When specified, the pattern character '^' matches at the beginning of the string and at the beginning of each line (immediately following each newline); and the pattern character '$' matches at the end of the string and at the end of each line (immediately preceding each newline). By default, '^' matches only at the beginning of the string, and '$' only at the end of the string and immediately before the newline (if any) at the end of the string.\n",
    "\n",
    "re.S /re.DOTALL\n",
    "\n",
    "    Make the '.' special character match any character at all, including a newline; without this flag, '.' will match anything except a newline.\n",
    "\n",
    "re.U /re.UNICODE\n",
    "\n",
    "    Make the \\w, \\W, \\b, \\B, \\d, \\D, \\s and \\S sequences dependent on the Unicode character properties database. Also enables non-ASCII matching for IGNORECASE.\n",
    "\n",
    "\n",
    "re.X / re.VERBOSE\n",
    "\n",
    "    This flag allows you to write regular expressions that look nicer and are more readable by allowing you to visually separate logical sections of the pattern and add comments. Whitespace within the pattern is ignored, except when in a character class, or when preceded by an unescaped backslash, or within tokens like *?, (?: or (?P<...>. When a line contains a # that is not in a character class and is not preceded by an unescaped backslash, all characters from the leftmost such # through the end of the line are ignored."
   ]
  },
  {
   "cell_type": "markdown",
   "metadata": {},
   "source": [
    "#### Function split()\n",
    "\n",
    "\n",
    "Split string by the occurrences of a character or a pattern, upon finding that pattern, the remaining characters from the string are returned as part of the resulting list.\n",
    "Syntax :\n",
    "\n",
    " re.split(pattern, string, maxsplit=0, flags=0)\n",
    "\n",
    "The First parameter, pattern denotes the regular expression, string is the given string in which pattern will be searched for and in which splitting occurs, maxsplit if not provided is considered to be zero ‘0’, and if any nonzero value is provided, then at most that many splits occurs. \n",
    "\n",
    "If maxsplit = 1, then the string will split once only, resulting in a list of length 2. The flags are very useful and can help to shorten code, they are not necessary parameters, eg: flags = re.IGNORECASE, In this split, case will be ignored."
   ]
  },
  {
   "cell_type": "code",
   "execution_count": 33,
   "metadata": {},
   "outputs": [
    {
     "name": "stdout",
     "output_type": "stream",
     "text": [
      "['Words', 'words', 'Words']\n",
      "['Word', 's', 'words', 'Words']\n",
      "['On', '12th', 'Jan', '2016', 'at', '11', '02', 'AM']\n",
      "['On ', 'th Jan ', ', at ', ':', ' AM']\n"
     ]
    }
   ],
   "source": [
    "\n",
    "from re import split \n",
    "  \n",
    "#'\\W+' denotes Non-Alphanumeric Characters or group of characters \n",
    "# Upon finding ',' or whitespace ' ', the split(), splits the string from that point \n",
    "\n",
    "print(split('\\W+', 'Words, words , Words')) \n",
    "print(split('\\W+', \"Word's words Words\")) \n",
    "  \n",
    "#Here ':', ' ' ,',' are not AlphaNumeric thus, the point where splitting occurs \n",
    "print(split('\\W+', 'On 12th Jan 2016, at 11:02 AM')) \n",
    "  \n",
    "#'\\d+' denotes Numeric Characters or group of characters \n",
    "#Spliting occurs at '12', '2016', '11', '02' only\n",
    "print(split('\\d+', 'On 12th Jan 2016, at 11:02 AM'))\n"
   ]
  },
  {
   "cell_type": "markdown",
   "metadata": {},
   "source": [
    "#### Function sub()\n",
    "\n",
    "Syntax:\n",
    "\n",
    " re.sub(pattern, repl, string, count=0, flags=0\n",
    " \n",
    "The ‘sub’ in the function stands for SubString, a certain regular expression pattern is searched in the given string(3rd parameter), and upon finding the substring pattern is replaced by repl(2nd parameter), count checks and maintains the number of times this occurs. "
   ]
  },
  {
   "cell_type": "code",
   "execution_count": 35,
   "metadata": {},
   "outputs": [
    {
     "name": "stdout",
     "output_type": "stream",
     "text": [
      "S~*ject has ~*er booked already\n",
      "S~*ject has Uber booked already\n",
      "S~*ject has Uber booked already\n",
      "Baked Beans & Spam\n"
     ]
    }
   ],
   "source": [
    "import re \n",
    "  \n",
    "# Regular Expression pattern 'ub' matches the string at \"Subject\" and \"Uber\". \n",
    "# As the CASE has been ignored, using Flag, 'ub' should match twice with the string \n",
    "# Upon matching, 'ub' is replaced by '~*' in \"Subject\", and in \"Uber\", 'Ub' is replaced. \n",
    "print(re.sub('ub', '~*' , 'Subject has Uber booked already', flags = re.IGNORECASE)) \n",
    "  \n",
    "# Consider the Case Senstivity, 'Ub' in \"Uber\", will not be reaplced. \n",
    "print(re.sub('ub', '~*' , 'Subject has Uber booked already')) \n",
    "  \n",
    "# As count has been given value 1, the maximum times replacement occurs is 1 \n",
    "print(re.sub('ub', '~*' , 'Subject has Uber booked already', count=1, flags = re.IGNORECASE)) \n",
    "  \n",
    "# 'r' before the patter denotes RE, \\s is for start and end of a String. \n",
    "print(re.sub(r'\\sAND\\s', ' & ', 'Baked Beans And Spam', flags=re.IGNORECASE))"
   ]
  },
  {
   "cell_type": "markdown",
   "metadata": {},
   "source": [
    "#### Function subn()\n",
    "Syntax:\n",
    "\n",
    " re.subn(pattern, repl, string, count=0, flags=0)\n",
    "\n",
    "subn() is similar to sub() in all ways, except in its way to providing output. It returns a tuple with count of total of replacement and the new string rather than just the string."
   ]
  },
  {
   "cell_type": "code",
   "execution_count": 36,
   "metadata": {},
   "outputs": [
    {
     "name": "stdout",
     "output_type": "stream",
     "text": [
      "('S~*ject has Uber booked already', 1)\n",
      "('S~*ject has ~*er booked already', 2)\n",
      "2\n",
      "S~*ject has ~*er booked already\n"
     ]
    }
   ],
   "source": [
    "\n",
    "import re \n",
    "print(re.subn('ub', '~*' , 'Subject has Uber booked already')) \n",
    "t = re.subn('ub', '~*' , 'Subject has Uber booked already', flags = re.IGNORECASE) \n",
    "print(t) \n",
    "print(len(t)) \n",
    "  \n",
    "# This will give same output as sub() would have  \n",
    "print(t[0]) "
   ]
  },
  {
   "cell_type": "markdown",
   "metadata": {},
   "source": [
    "##### Function escape()\n",
    "Syntax:\n",
    "\n",
    "re.escape(string)\n",
    "\n",
    "Return string with all non-alphanumerics backslashed, this is useful if you want to match an arbitrary literal string that may have regular expression metacharacters in it."
   ]
  },
  {
   "cell_type": "code",
   "execution_count": 37,
   "metadata": {},
   "outputs": [
    {
     "name": "stdout",
     "output_type": "stream",
     "text": [
      "This\\ is\\ Awseome\\ even\\ 1\\ AM\n",
      "I\\ Asked\\ what\\ is\\ this\\ \\[a\\-9\\],\\ he\\ said\\ \\\t\\ \\^WoW\n"
     ]
    }
   ],
   "source": [
    "\n",
    "import re \n",
    "  \n",
    "# escape() returns a string with BackSlash '\\', before every Non-Alphanumeric Character \n",
    "# In 1st case only ' ', is not alphanumeric \n",
    "# In 2nd case, ' ', caret '^', '-', '[]', '\\' are not alphanumeric \n",
    "print(re.escape(\"This is Awseome even 1 AM\")) \n",
    "print(re.escape(\"I Asked what is this [a-9], he said \\t ^WoW\")) \n"
   ]
  },
  {
   "cell_type": "markdown",
   "metadata": {},
   "source": [
    "##### re.search() : \n",
    "\n",
    "This method either returns None (if the pattern doesn’t match), or a re.MatchObject that contains information about the matching part of the string. This method stops after the first match, so this is best suited for testing a regular expression more than extracting data.\n"
   ]
  },
  {
   "cell_type": "code",
   "execution_count": 39,
   "metadata": {},
   "outputs": [
    {
     "name": "stdout",
     "output_type": "stream",
     "text": [
      "Match at index 14, 21\n",
      "Full match: June 24\n",
      "Month: June\n",
      "Day: 24\n"
     ]
    }
   ],
   "source": [
    "import re \n",
    "  \n",
    "# Lets use a regular expression to match a date string \n",
    "# in the form of Month name followed by day number \n",
    "regex = r\"([a-zA-Z]+) (\\d+)\"\n",
    "  \n",
    "match = re.search(regex, \"I was born on June 24\") \n",
    "  \n",
    "if match != None: \n",
    "  \n",
    "    # We reach here when the expression \"([a-zA-Z]+) (\\d+)\" matches the date string. \n",
    "  \n",
    "    # This will print [14, 21), since it matches at index 14 and ends at 21.  \n",
    "    print(\"Match at index %s, %s\" % (match.start(), match.end()))\n",
    "  \n",
    "    # We us group() method to get all the matches and \n",
    "    # captured groups. The groups contain the matched values. \n",
    "    # In particular: \n",
    "    #    match.group(0) always returns the fully matched string \n",
    "    #    match.group(1) match.group(2), ... return the capture \n",
    "    #    groups in order from left to right in the input string \n",
    "    #    match.group() is equivalent to match.group(0) \n",
    "  \n",
    "    # So this will print \"June 24\" \n",
    "    print(\"Full match: %s\" % (match.group(0)))\n",
    "  \n",
    "    # So this will print \"June\" \n",
    "    print(\"Month: %s\" % (match.group(1))) \n",
    "  \n",
    "    # So this will print \"24\" \n",
    "    print(\"Day: %s\" % (match.group(2)))\n",
    "    \n",
    "else: \n",
    "    print(\"The regex pattern does not match.\")"
   ]
  },
  {
   "cell_type": "markdown",
   "metadata": {},
   "source": [
    "##### re.match() : \n",
    "    \n",
    "This function attempts to match pattern to whole string. The re.match function returns a match object on success, None on failure.\n",
    "\n",
    "re.match(pattern, string, flags=0)\n",
    "\n",
    "pattern : Regular expression to be matched.\n",
    "string : String where p attern is searched\n",
    "flags : We can specify different flags \n",
    "        using bitwise OR (|). "
   ]
  },
  {
   "cell_type": "code",
   "execution_count": 47,
   "metadata": {},
   "outputs": [
    {
     "name": "stdout",
     "output_type": "stream",
     "text": [
      "Given Data: Jun 24\n",
      "Month: Jun\n",
      "Day: 24\n",
      "\n",
      "Not a valid date\n"
     ]
    }
   ],
   "source": [
    "\n",
    "# A Python program to demonstrate working \n",
    "# of re.match(). \n",
    "import re \n",
    "  \n",
    "# a sample function that uses regular expressions \n",
    "# to find month and day of a date.\n",
    "\n",
    "def findMonthAndDate(string): \n",
    "      \n",
    "    regex = r\"([a-zA-Z]+) (\\d+)\"\n",
    "    match = re.match(regex, string) \n",
    "      \n",
    "    if match == None:  \n",
    "        print(\"Not a valid date\")\n",
    "        return\n",
    "  \n",
    "    print(\"Given Data: %s\" % (match.group()))\n",
    "    print(\"Month: %s\" % (match.group(1)))\n",
    "    print(\"Day: %s\" % (match.group(2)))\n",
    "  \n",
    "      \n",
    "# Driver Code \n",
    "findMonthAndDate(\"Jun 24\") \n",
    "print(\"\") \n",
    "findMonthAndDate(\"I was born on June 24\") \n"
   ]
  },
  {
   "cell_type": "markdown",
   "metadata": {},
   "source": [
    "##### re.findall()\n",
    "\n",
    "Return all non-overlapping matches of pattern in string, as a list of strings. The string is scanned left-to-right, and matches are returned in the order found "
   ]
  },
  {
   "cell_type": "code",
   "execution_count": 48,
   "metadata": {},
   "outputs": [
    {
     "name": "stdout",
     "output_type": "stream",
     "text": [
      "['123456789', '987654321']\n"
     ]
    }
   ],
   "source": [
    "\n",
    "# A Python program to demonstrate working of \n",
    "# findall() \n",
    "import re \n",
    "  \n",
    "# A sample text string where regular expression  \n",
    "# is searched. \n",
    "string  = \"\"\"Hello my Number is 123456789 and \n",
    "             my friend's number is 987654321\"\"\"\n",
    "  \n",
    "# A sample regular expression to find digits. \n",
    "regex = '\\d+'             \n",
    "  \n",
    "match = re.findall(regex, string) \n",
    "print(match)  \n"
   ]
  },
  {
   "cell_type": "code",
   "execution_count": null,
   "metadata": {},
   "outputs": [],
   "source": [
    "# extract all email addresses and add them into the resulting set\n",
    "\n",
    "new_emails = set(re.findall(r\"[a-z0-9\\.\\-+_]+@[a-z0-9\\.\\-+_]+\\.[a-z]+\",text, re.I))"
   ]
  },
  {
   "cell_type": "code",
   "execution_count": null,
   "metadata": {},
   "outputs": [],
   "source": []
  }
 ],
 "metadata": {
  "kernelspec": {
   "display_name": "Python 3",
   "language": "python",
   "name": "python3"
  },
  "language_info": {
   "codemirror_mode": {
    "name": "ipython",
    "version": 3
   },
   "file_extension": ".py",
   "mimetype": "text/x-python",
   "name": "python",
   "nbconvert_exporter": "python",
   "pygments_lexer": "ipython3",
   "version": "3.7.3"
  }
 },
 "nbformat": 4,
 "nbformat_minor": 2
}
