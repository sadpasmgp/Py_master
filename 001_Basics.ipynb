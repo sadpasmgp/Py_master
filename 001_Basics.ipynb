{
 "cells": [
  {
   "cell_type": "markdown",
   "metadata": {},
   "source": [
    "creating variables and assigning values\n",
    "<variable name> = <value>\n",
    "Rules:\n",
    "    1. Variable names must start with letter or underscore\n",
    "    2. Remainder of var name may consist of letters, numbers or underscores\n",
    "    3. var names are case sensitive\n",
    "    4. var name cannot begin with number"
   ]
  },
  {
   "cell_type": "code",
   "execution_count": 7,
   "metadata": {},
   "outputs": [
    {
     "name": "stdout",
     "output_type": "stream",
     "text": [
      "2\n",
      "3.14\n",
      "True\n",
      "1 2 3\n"
     ]
    }
   ],
   "source": [
    "a=2\n",
    "print(a)\n",
    "pi = 3.14\n",
    "print(pi)\n",
    "q_=True\n",
    "print(q_)\n",
    "a,b,c = 1,2,3\n",
    "print(a,b,c)"
   ]
  },
  {
   "cell_type": "markdown",
   "metadata": {},
   "source": [
    "###### DataTypes\n",
    "\n",
    "1. Booleans - A boolean value of either True or False. Logical ops like and , or, not can be performed on bools\n",
    "\n",
    "2. Numbers - int, float, complex\n",
    "\n",
    "3. strings - set of characters or numbers in single or double quotes\n",
    "\n",
    "4. tuple - ordered collection of n values of any type which are immutable\n",
    "\n",
    "5. list - ordered collection of n values of any type which are mutable and not hashable\n",
    "\n",
    "6. dict - unondered collection of unique key-value pairs, keys must be hashable\n",
    "\n",
    "7. set - unordered collection of unique values. must be hashable\n",
    "\n",
    "8. built-in constants - True, False, None, Ellipsis, NotImplemented\n",
    "\n",
    "Ex of immutable DataTypes:\n",
    "    int, long, float, complex, str, bytes, tuple, frozenset\n",
    "    \n",
    "Ex of mutable DatTypes:\n",
    "    bytearray, list, set, dict"
   ]
  },
  {
   "cell_type": "code",
   "execution_count": 10,
   "metadata": {},
   "outputs": [
    {
     "name": "stdout",
     "output_type": "stream",
     "text": [
      "What is your name? : sadiq\n",
      "sadiq\n"
     ]
    }
   ],
   "source": [
    "#input() - is a function used to take input from user\n",
    "name= input(\"What is your name? : \")\n",
    "print(name)"
   ]
  },
  {
   "cell_type": "markdown",
   "metadata": {},
   "source": [
    "builtin Modules and Functions - \n",
    "\n",
    "\n",
    "A module is a file containing python definitions and statements.\n",
    "Function is a piece of code which execute some logic."
   ]
  },
  {
   "cell_type": "code",
   "execution_count": 11,
   "metadata": {},
   "outputs": [
    {
     "name": "stdout",
     "output_type": "stream",
     "text": [
      "['ArithmeticError', 'AssertionError', 'AttributeError', 'BaseException', 'BlockingIOError', 'BrokenPipeError', 'BufferError', 'BytesWarning', 'ChildProcessError', 'ConnectionAbortedError', 'ConnectionError', 'ConnectionRefusedError', 'ConnectionResetError', 'DeprecationWarning', 'EOFError', 'Ellipsis', 'EnvironmentError', 'Exception', 'False', 'FileExistsError', 'FileNotFoundError', 'FloatingPointError', 'FutureWarning', 'GeneratorExit', 'IOError', 'ImportError', 'ImportWarning', 'IndentationError', 'IndexError', 'InterruptedError', 'IsADirectoryError', 'KeyError', 'KeyboardInterrupt', 'LookupError', 'MemoryError', 'ModuleNotFoundError', 'NameError', 'None', 'NotADirectoryError', 'NotImplemented', 'NotImplementedError', 'OSError', 'OverflowError', 'PendingDeprecationWarning', 'PermissionError', 'ProcessLookupError', 'RecursionError', 'ReferenceError', 'ResourceWarning', 'RuntimeError', 'RuntimeWarning', 'StopAsyncIteration', 'StopIteration', 'SyntaxError', 'SyntaxWarning', 'SystemError', 'SystemExit', 'TabError', 'TimeoutError', 'True', 'TypeError', 'UnboundLocalError', 'UnicodeDecodeError', 'UnicodeEncodeError', 'UnicodeError', 'UnicodeTranslateError', 'UnicodeWarning', 'UserWarning', 'ValueError', 'Warning', 'WindowsError', 'ZeroDivisionError', '__IPYTHON__', '__build_class__', '__debug__', '__doc__', '__import__', '__loader__', '__name__', '__package__', '__spec__', 'abs', 'all', 'any', 'ascii', 'bin', 'bool', 'breakpoint', 'bytearray', 'bytes', 'callable', 'chr', 'classmethod', 'compile', 'complex', 'copyright', 'credits', 'delattr', 'dict', 'dir', 'display', 'divmod', 'enumerate', 'eval', 'exec', 'filter', 'float', 'format', 'frozenset', 'get_ipython', 'getattr', 'globals', 'hasattr', 'hash', 'help', 'hex', 'id', 'input', 'int', 'isinstance', 'issubclass', 'iter', 'len', 'license', 'list', 'locals', 'map', 'max', 'memoryview', 'min', 'next', 'object', 'oct', 'open', 'ord', 'pow', 'print', 'property', 'range', 'repr', 'reversed', 'round', 'set', 'setattr', 'slice', 'sorted', 'staticmethod', 'str', 'sum', 'super', 'tuple', 'type', 'vars', 'zip']\n"
     ]
    }
   ],
   "source": [
    "#To check builtin functions\n",
    "print(dir(__builtins__))"
   ]
  },
  {
   "cell_type": "code",
   "execution_count": 18,
   "metadata": {},
   "outputs": [
    {
     "name": "stdout",
     "output_type": "stream",
     "text": [
      "Hello world\n",
      "H\n",
      "r\n",
      "Hello\n",
      "lo wor\n",
      "Hello world\n",
      "dlrow olleH\n"
     ]
    }
   ],
   "source": [
    "\"\"\"DataTypes in Details:\n",
    "1. Strings DatType: Strings are identified as a contiguous set of characters represented in quotation marks. A pair of single or double quotes can be used.\n",
    "\"\"\"\n",
    "a_str = 'Hello world'\n",
    "print(a_str)\n",
    "print(a_str[0])\n",
    "print(a_str[8])\n",
    "print(a_str[0:5])\n",
    "print(a_str[3:9])\n",
    "print(a_str[::])\n",
    "print(a_str[::-1])\n",
    "        "
   ]
  },
  {
   "cell_type": "code",
   "execution_count": 1,
   "metadata": {},
   "outputs": [
    {
     "name": "stdout",
     "output_type": "stream",
     "text": [
      "{'banana', 'apple', 'pear', 'orange'}\n",
      "frozenset({'banana', 'apple', 'pear', 'orange'})\n",
      "{'pineapple', 'pear', 'banana', 'apple', 'orange'}\n"
     ]
    },
    {
     "ename": "AttributeError",
     "evalue": "'frozenset' object has no attribute 'remove'",
     "output_type": "error",
     "traceback": [
      "\u001b[1;31m---------------------------------------------------------------------------\u001b[0m",
      "\u001b[1;31mAttributeError\u001b[0m                            Traceback (most recent call last)",
      "\u001b[1;32m<ipython-input-1-6f224890fe5f>\u001b[0m in \u001b[0;36m<module>\u001b[1;34m\u001b[0m\n\u001b[0;32m     14\u001b[0m \u001b[0mprint\u001b[0m\u001b[1;33m(\u001b[0m\u001b[0mset\u001b[0m\u001b[1;33m(\u001b[0m\u001b[0mbasket\u001b[0m\u001b[1;33m)\u001b[0m\u001b[1;33m)\u001b[0m\u001b[1;33m\u001b[0m\u001b[1;33m\u001b[0m\u001b[0m\n\u001b[0;32m     15\u001b[0m \u001b[1;33m\u001b[0m\u001b[0m\n\u001b[1;32m---> 16\u001b[1;33m \u001b[0mfrozenset\u001b[0m\u001b[1;33m(\u001b[0m\u001b[0mbasket\u001b[0m\u001b[1;33m)\u001b[0m\u001b[1;33m.\u001b[0m\u001b[0mremove\u001b[0m\u001b[1;33m(\u001b[0m\u001b[1;33m)\u001b[0m \u001b[1;31m#no manipulating attributes defined for frozensets\u001b[0m\u001b[1;33m\u001b[0m\u001b[1;33m\u001b[0m\u001b[0m\n\u001b[0m",
      "\u001b[1;31mAttributeError\u001b[0m: 'frozenset' object has no attribute 'remove'"
     ]
    }
   ],
   "source": [
    "\"\"\"\n",
    "2. Set - Unordered collection of unique objects\n",
    "sets are of 2 types - sets and frozensets\n",
    "a. set - they are mutable and new elements can be added once sets are defined\n",
    "b. frozenset - immutable and new elements cannot be added after its defined\n",
    "\"\"\"\n",
    "\n",
    "basket = ['apple','orange','apple','pear','banana']\n",
    "print(set(basket))\n",
    "\n",
    "print(frozenset(basket))\n",
    "basket.append('pineapple')\n",
    "\n",
    "print(set(basket))\n",
    "\n",
    "frozenset(basket).remove() #no manipulating attributes defined for frozensets"
   ]
  },
  {
   "cell_type": "code",
   "execution_count": 28,
   "metadata": {},
   "outputs": [
    {
     "name": "stdout",
     "output_type": "stream",
     "text": [
      "['__and__', '__class__', '__contains__', '__delattr__', '__dir__', '__doc__', '__eq__', '__format__', '__ge__', '__getattribute__', '__gt__', '__hash__', '__init__', '__init_subclass__', '__iter__', '__le__', '__len__', '__lt__', '__ne__', '__new__', '__or__', '__rand__', '__reduce__', '__reduce_ex__', '__repr__', '__ror__', '__rsub__', '__rxor__', '__setattr__', '__sizeof__', '__str__', '__sub__', '__subclasshook__', '__xor__', 'copy', 'difference', 'intersection', 'isdisjoint', 'issubset', 'issuperset', 'symmetric_difference', 'union']\n"
     ]
    }
   ],
   "source": [
    "#frozenset has no attributes that can manipulate the contents\n",
    "print(dir(frozenset))"
   ]
  },
  {
   "cell_type": "code",
   "execution_count": 35,
   "metadata": {},
   "outputs": [
    {
     "name": "stdout",
     "output_type": "stream",
     "text": [
      "5 3.956 (2+3.14j)\n"
     ]
    }
   ],
   "source": [
    "\"\"\"\n",
    "3. Numbers have three types in python - int, float, complex\n",
    "\"\"\"\n",
    "\n",
    "i = 5\n",
    "f = 3.956\n",
    "c = 2+3.14j\n",
    "print(i, f, c)"
   ]
  },
  {
   "cell_type": "code",
   "execution_count": 44,
   "metadata": {},
   "outputs": [
    {
     "name": "stdout",
     "output_type": "stream",
     "text": [
      "[1, 2, 123, 'abc', 2j, 10.2, [45, 'd'], (34, 6), {'name': 'sadiq'}]\n",
      "[1, 2, 123, 'abc', 2j, 10.2, [45, 'd'], (34, 6), {'name': 'sadiq'}, 1, 2, 123, 'abc', 2j, 10.2, [45, 'd'], (34, 6), {'name': 'sadiq'}]\n",
      "[1, 2, 123, 'abc', 2j, 10.2, [45, 'd'], (34, 6), {'name': 'sadiq'}, 1, 2, 123, 'abc', 2j, 10.2, [45, 'd'], (34, 6), {'name': 'sadiq'}]\n",
      "\n",
      "2j\n",
      "[1, 2, 123, 'abc', 2j]\n",
      "{'name': 'sadiq'}\n",
      "sadiq\n",
      "[{'name': 'sadiq'}, (34, 6), [45, 'd'], 10.2, 2j, 'abc', 123, 2, 1]\n"
     ]
    }
   ],
   "source": [
    "\"\"\"\n",
    "4. List  - contains items seperated by commas and enclosed within square brackets [].\n",
    "items belonging to list can be of different datatypes\n",
    "\"\"\"\n",
    "\n",
    "lis = [1,2,123,'abc', 2j, 10.2, [45, 'd'], (34, 6), {'name': 'sadiq'}]\n",
    "print(lis)\n",
    "print(lis*2)\n",
    "print(lis+lis)\n",
    "print()\n",
    "print(lis[4])\n",
    "print(lis[0:5])\n",
    "print(lis[8])\n",
    "print(lis[8]['name'])\n",
    "print(lis[::-1])"
   ]
  },
  {
   "cell_type": "code",
   "execution_count": 45,
   "metadata": {},
   "outputs": [
    {
     "name": "stdout",
     "output_type": "stream",
     "text": [
      "{'name': 'red', 'age': 25}\n",
      "red\n",
      "25\n",
      "dict_values(['red', 25])\n",
      "dict_keys(['name', 'age'])\n",
      "dict_items([('name', 'red'), ('age', 25)])\n"
     ]
    }
   ],
   "source": [
    "\"\"\"\n",
    "Dict - consists of key-value pairs. enclosed by curly braces {} and values can be assigned and accessed using square brackets\n",
    "\"\"\"\n",
    "\n",
    "dic = {'name':'red','age':25}\n",
    "print(dic)\n",
    "print(dic['name'])\n",
    "print(dic['age'])\n",
    "print(dic.values())\n",
    "print(dic.keys())\n",
    "print(dic.items())"
   ]
  },
  {
   "cell_type": "code",
   "execution_count": 51,
   "metadata": {},
   "outputs": [
    {
     "name": "stdout",
     "output_type": "stream",
     "text": [
      "(123, 'hello')\n",
      "(123, 'hello', 123, 'hello')\n",
      "hello\n",
      "123\n"
     ]
    }
   ],
   "source": [
    "\"\"\"\n",
    "Tuples - enclosed in parantheses. cannot be updated as they're immutable but can be accesses.\n",
    "\"\"\"\n",
    "\n",
    "tup = (123,'hello')\n",
    "print(tup)\n",
    "print(tup*2)\n",
    "print(tup[1])\n",
    "print(tup[0])"
   ]
  }
 ],
 "metadata": {
  "kernelspec": {
   "display_name": "Python 3",
   "language": "python",
   "name": "python3"
  },
  "language_info": {
   "codemirror_mode": {
    "name": "ipython",
    "version": 3
   },
   "file_extension": ".py",
   "mimetype": "text/x-python",
   "name": "python",
   "nbconvert_exporter": "python",
   "pygments_lexer": "ipython3",
   "version": "3.7.3"
  }
 },
 "nbformat": 4,
 "nbformat_minor": 2
}
