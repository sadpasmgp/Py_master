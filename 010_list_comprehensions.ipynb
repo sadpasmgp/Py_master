{
 "cells": [
  {
   "cell_type": "code",
   "execution_count": 10,
   "metadata": {},
   "outputs": [
    {
     "name": "stdout",
     "output_type": "stream",
     "text": [
      "[1, 4, 9, 16]\n",
      "['H', 'E', 'L', 'L', 'O', ' ', 'W', 'O', 'R', 'L', 'D']\n",
      "['these', 'words', 'mostly', 'have,commas']\n"
     ]
    },
    {
     "data": {
      "text/plain": [
       "['aBefiltuu', 'is', 'beertt', 'ahnt', 'gluy']"
      ]
     },
     "execution_count": 10,
     "metadata": {},
     "output_type": "execute_result"
    }
   ],
   "source": [
    "\"\"\"\n",
    "List comprehensions in Python are concise, syntactic constructs. \n",
    "They can be utilized to generate lists from other\n",
    "lists by applying functions to each element in the list\n",
    "\n",
    "A list comprehension creates a new list by applying an expression to each element of an iterable. \n",
    "The most basic form is:\n",
    "\n",
    "[ <expression> for <element> in <iterable> ]\n",
    "\n",
    "There's also an optional 'if' condition:\n",
    "\n",
    "[ <expression> for <element> in <iterable> if <condition> ]\n",
    "\n",
    "Each <element> in the <iterable> is plugged in to the <expression> if the (optional) <condition> evaluates to true\n",
    "All results are returned at once in the new list.\n",
    "list comprehensions evaluate the entire iterator immediately - consuming memory proportional to the iterator's length\n",
    "\"\"\"\n",
    "\n",
    "#To create a list of squared integers :\n",
    "print([x*x for x in (1,2,3,4)])\n",
    "\n",
    "#get uppercase chars from string:\n",
    "print([s.upper() for s in \"Hello World\"])\n",
    "\n",
    "#strip off any commas from end of strings in a list\n",
    "print([w.strip(',') for w in ['these,', 'words,,', 'mostly', 'have,commas,']])\n",
    "\n",
    "#organize letters in alphabetical order\n",
    "sentence = \"Beautiful is better than ugly\"\n",
    "[\"\".join(sorted(word, key = lambda x:x.lower())) for word in sentence.split()]"
   ]
  },
  {
   "cell_type": "code",
   "execution_count": 17,
   "metadata": {},
   "outputs": [
    {
     "data": {
      "text/plain": [
       "['a', '-', '-', '-', 'e']"
      ]
     },
     "execution_count": 17,
     "metadata": {},
     "output_type": "execute_result"
    }
   ],
   "source": [
    "#if-else clause should come before for loop\n",
    "[x if x in 'aeiou' else '-' for x in 'apple']"
   ]
  },
  {
   "cell_type": "code",
   "execution_count": 20,
   "metadata": {},
   "outputs": [
    {
     "name": "stdout",
     "output_type": "stream",
     "text": [
      "[0, 2, 4, 6, 8]\n",
      "[0, None, 2, None, 4, None, 6, None, 8, None]\n"
     ]
    }
   ],
   "source": [
    "\"\"\"\n",
    "A conditional list comprehension of the form [e for x in y if c] \n",
    "(where e and c are expressions in terms of x) \n",
    "is equivalent to list(filter(lambda x: c, map(lambda x: e, y)))\n",
    "\"\"\"\n",
    "\n",
    "print([x for x in range(10) if x%2 == 0 ])\n",
    "print([x if x % 2 == 0 else None for x in range(10)])"
   ]
  },
  {
   "cell_type": "code",
   "execution_count": 26,
   "metadata": {},
   "outputs": [
    {
     "name": "stdout",
     "output_type": "stream",
     "text": [
      "[1, 2, 3, 4, 5, 6]\n"
     ]
    }
   ],
   "source": [
    "#nested for loops with list comprehensions\n",
    "\n",
    "data = [[1, 2], [3, 4], [5, 6]]\n",
    "output = []\n",
    "for each_list in data:\n",
    "    for element in each_list:\n",
    "        output.append(element)\n",
    "print(output)"
   ]
  },
  {
   "cell_type": "code",
   "execution_count": 28,
   "metadata": {},
   "outputs": [
    {
     "data": {
      "text/plain": [
       "[1, 2, 3, 4, 5, 6]"
      ]
     },
     "execution_count": 28,
     "metadata": {},
     "output_type": "execute_result"
    }
   ],
   "source": [
    "data = [[1, 2], [3, 4], [5, 6]]\n",
    "output = [element for each_list in data for element in each_list]\n",
    "output"
   ]
  },
  {
   "cell_type": "code",
   "execution_count": null,
   "metadata": {},
   "outputs": [],
   "source": []
  },
  {
   "cell_type": "code",
   "execution_count": null,
   "metadata": {},
   "outputs": [],
   "source": []
  },
  {
   "cell_type": "code",
   "execution_count": null,
   "metadata": {},
   "outputs": [],
   "source": []
  },
  {
   "cell_type": "code",
   "execution_count": null,
   "metadata": {},
   "outputs": [],
   "source": []
  },
  {
   "cell_type": "code",
   "execution_count": null,
   "metadata": {},
   "outputs": [],
   "source": []
  },
  {
   "cell_type": "code",
   "execution_count": null,
   "metadata": {},
   "outputs": [],
   "source": []
  }
 ],
 "metadata": {
  "kernelspec": {
   "display_name": "Python 3",
   "language": "python",
   "name": "python3"
  },
  "language_info": {
   "codemirror_mode": {
    "name": "ipython",
    "version": 3
   },
   "file_extension": ".py",
   "mimetype": "text/x-python",
   "name": "python",
   "nbconvert_exporter": "python",
   "pygments_lexer": "ipython3",
   "version": "3.7.3"
  }
 },
 "nbformat": 4,
 "nbformat_minor": 2
}
