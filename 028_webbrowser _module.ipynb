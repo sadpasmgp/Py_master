{
 "cells": [
  {
   "cell_type": "code",
   "execution_count": 1,
   "metadata": {},
   "outputs": [
    {
     "name": "stdout",
     "output_type": "stream",
     "text": [
      "['BackgroundBrowser', 'BaseBrowser', 'Chrome', 'Chromium', 'Elinks', 'Error', 'Galeon', 'GenericBrowser', 'Grail', 'Konqueror', 'Mozilla', 'Netscape', 'Opera', 'UnixBrowser', 'WindowsDefault', '__all__', '__builtins__', '__cached__', '__doc__', '__file__', '__loader__', '__name__', '__package__', '__spec__', '_browsers', '_lock', '_os_preferred_browser', '_synthesize', '_tryorder', 'get', 'main', 'open', 'open_new', 'open_new_tab', 'os', 'register', 'register_X_browsers', 'register_standard_browsers', 'shlex', 'shutil', 'subprocess', 'sys', 'threading']\n"
     ]
    }
   ],
   "source": [
    "import webbrowser\n",
    "print(dir(webbrowser))"
   ]
  },
  {
   "cell_type": "markdown",
   "metadata": {},
   "source": [
    "Parameter Details\n",
    "\n",
    "webbrowser.open() - url the URL to open in the web browser\n",
    "\n",
    "new - 0 opens the URL in the existing tab, \n",
    "      1 opens in a new window, \n",
    "      2 opens in new tab\n",
    "      \n",
    "autoraise - if set to True, the window will be moved on top of the other windows\n",
    "\n",
    "webbrowser.open_new() url - the URL to open in the web browser\n",
    "\n",
    "webbrowser.open_new_tab() url - the URL to open in the web browser\n",
    "\n",
    "webbrowser.get() using - the browser to use\n",
    "\n",
    "webbrowser.register() url  - browser name\n",
    "\n",
    "constructor  - path to the executable browser (help)\n",
    "\n",
    "instance - An instance of a web browser returned from the webbrowser.get() method\n",
    "\n",
    "According to Python's standard documentation, the webbrowser module provides a high-level interface to allow displaying Web-based documents to users. "
   ]
  },
  {
   "cell_type": "code",
   "execution_count": 3,
   "metadata": {},
   "outputs": [
    {
     "data": {
      "text/plain": [
       "True"
      ]
     },
     "execution_count": 3,
     "metadata": {},
     "output_type": "execute_result"
    }
   ],
   "source": [
    "#Opening a URL with Default Browser\n",
    "\n",
    "import webbrowser\n",
    "webbrowser.open('http://stackoverflow.com')"
   ]
  },
  {
   "cell_type": "markdown",
   "metadata": {},
   "source": [
    "If a browser window is currently open, the method will open a new tab at the specified URL. \n",
    "\n",
    "If no window is open, the method will open the operating system's default browser and navigate to the URL in the parameter. \n",
    "\n",
    "The open method supports the following parameters:\n",
    "\n",
    "url - the URL to open in the web browser (string) [required]\n",
    "new - 0 opens in existing tab, 1 opens new window, 2 opens new tab (integer) [default 0]\n",
    "\n",
    "autoraise - if set to True, the window will be moved on top of other applications' windows (Boolean) [default False]\n",
    "\n",
    "Note, the new and autoraise arguments rarely work as the majority of modern browsers refuse these commands.\n",
    "\n",
    "Webbrowser can also try to open URLs in new windows with the open_new method:"
   ]
  },
  {
   "cell_type": "code",
   "execution_count": 4,
   "metadata": {},
   "outputs": [
    {
     "data": {
      "text/plain": [
       "True"
      ]
     },
     "execution_count": 4,
     "metadata": {},
     "output_type": "execute_result"
    }
   ],
   "source": [
    "import webbrowser\n",
    "webbrowser.open_new(\"http://engadget.com\")"
   ]
  },
  {
   "cell_type": "markdown",
   "metadata": {},
   "source": [
    "This method is commonly ignored by modern browsers and the URL is usually opened in a new tab. Opening a new tab can be tried by the module using the open_new_tab method:"
   ]
  },
  {
   "cell_type": "code",
   "execution_count": 5,
   "metadata": {},
   "outputs": [
    {
     "data": {
      "text/plain": [
       "True"
      ]
     },
     "execution_count": 5,
     "metadata": {},
     "output_type": "execute_result"
    }
   ],
   "source": [
    "import webbrowser\n",
    "webbrowser.open_new_tab(\"http://stackoverflow.com\")"
   ]
  },
  {
   "cell_type": "markdown",
   "metadata": {},
   "source": [
    "#Opening a URL with different browser\n",
    "\n",
    "The webbrowser module also supports different browsers using the register() and get() methods. The get method is used to create a browser controller using a specific executable's path and the register method is used to attach these executables to preset browser types for future use, commonly when multiple browser types are used"
   ]
  },
  {
   "cell_type": "code",
   "execution_count": null,
   "metadata": {},
   "outputs": [],
   "source": [
    "import webbrowser\n",
    "ff_path = webbrowser.get(\"C:/Program Files/Mozilla Firefox/firefox.exe\")\n",
    "ff = webbrowser.get(ff_path)\n",
    "ff.open(\"http://stackoverflow.com/\")"
   ]
  },
  {
   "cell_type": "code",
   "execution_count": null,
   "metadata": {},
   "outputs": [],
   "source": [
    "import webbrowser\n",
    "ff_path = webbrowser.get(\"C:/Program Files/Mozilla Firefox/firefox.exe\")\n",
    "ff = webbrowser.get(ff_path)\n",
    "webbrowser.register('firefox', None, ff)\n",
    "# Now to refer to use Firefox in the future you can use this\n",
    "webbrowser.get('firefox').open(\"https://stackoverflow.com/\")"
   ]
  }
 ],
 "metadata": {
  "kernelspec": {
   "display_name": "Python 3",
   "language": "python",
   "name": "python3"
  },
  "language_info": {
   "codemirror_mode": {
    "name": "ipython",
    "version": 3
   },
   "file_extension": ".py",
   "mimetype": "text/x-python",
   "name": "python",
   "nbconvert_exporter": "python",
   "pygments_lexer": "ipython3",
   "version": "3.7.3"
  }
 },
 "nbformat": 4,
 "nbformat_minor": 2
}
