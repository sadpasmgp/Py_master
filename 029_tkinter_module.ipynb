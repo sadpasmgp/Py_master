{
 "cells": [
  {
   "cell_type": "code",
   "execution_count": 2,
   "metadata": {},
   "outputs": [
    {
     "name": "stdout",
     "output_type": "stream",
     "text": [
      "['ACTIVE', 'ALL', 'ANCHOR', 'ARC', 'BASELINE', 'BEVEL', 'BOTH', 'BOTTOM', 'BROWSE', 'BUTT', 'BaseWidget', 'BitmapImage', 'BooleanVar', 'Button', 'CASCADE', 'CENTER', 'CHAR', 'CHECKBUTTON', 'CHORD', 'COMMAND', 'CURRENT', 'CallWrapper', 'Canvas', 'Checkbutton', 'DISABLED', 'DOTBOX', 'DoubleVar', 'E', 'END', 'EW', 'EXCEPTION', 'EXTENDED', 'Entry', 'Event', 'EventType', 'FALSE', 'FIRST', 'FLAT', 'Frame', 'GROOVE', 'Grid', 'HIDDEN', 'HORIZONTAL', 'INSERT', 'INSIDE', 'Image', 'IntVar', 'LAST', 'LEFT', 'Label', 'LabelFrame', 'Listbox', 'MITER', 'MOVETO', 'MULTIPLE', 'Menu', 'Menubutton', 'Message', 'Misc', 'N', 'NE', 'NO', 'NONE', 'NORMAL', 'NS', 'NSEW', 'NUMERIC', 'NW', 'NoDefaultRoot', 'OFF', 'ON', 'OUTSIDE', 'OptionMenu', 'PAGES', 'PIESLICE', 'PROJECTING', 'Pack', 'PanedWindow', 'PhotoImage', 'Place', 'RADIOBUTTON', 'RAISED', 'READABLE', 'RIDGE', 'RIGHT', 'ROUND', 'Radiobutton', 'S', 'SCROLL', 'SE', 'SEL', 'SEL_FIRST', 'SEL_LAST', 'SEPARATOR', 'SINGLE', 'SOLID', 'SUNKEN', 'SW', 'Scale', 'Scrollbar', 'Spinbox', 'StringVar', 'TOP', 'TRUE', 'Tcl', 'TclError', 'TclVersion', 'Text', 'Tk', 'TkVersion', 'Toplevel', 'UNDERLINE', 'UNITS', 'VERTICAL', 'Variable', 'W', 'WORD', 'WRITABLE', 'Widget', 'Wm', 'X', 'XView', 'Y', 'YES', 'YView', '__builtins__', '__cached__', '__doc__', '__file__', '__loader__', '__name__', '__package__', '__path__', '__spec__', '_cnfmerge', '_default_root', '_exit', '_flatten', '_join', '_magic_re', '_setit', '_space_re', '_splitdict', '_stringify', '_support_default_root', '_test', '_tkerror', '_tkinter', '_varnum', 'constants', 'enum', 'getboolean', 'getdouble', 'getint', 'image_names', 'image_types', 'mainloop', 're', 'sys', 'wantobjects']\n"
     ]
    }
   ],
   "source": [
    "import tkinter\n",
    "print(dir(tkinter))"
   ]
  },
  {
   "cell_type": "markdown",
   "metadata": {},
   "source": [
    "Creating a GUI using tkinter is an easy task.\n",
    "To create a tkinter:\n",
    "\n",
    "    Importing the module – tkinter\n",
    "    Create the main window (container)\n",
    "    Add any number of widgets to the main window\n",
    "    Apply the event Trigger on the widgets.\n",
    "\n"
   ]
  },
  {
   "cell_type": "markdown",
   "metadata": {},
   "source": [
    "There are two main methods to be remembered while creating python application with GUI\n",
    "\n",
    "Tk(screenName=None,  baseName=None,  className=’Tk’,  useTk=1): To create a main window, tkinter offers a method ‘Tk(screenName=None,  baseName=None,  className=’Tk’,  useTk=1)’. To change the name of the window, you can change the className to the desired one. The basic code used to create the main window of the application is:\n",
    "\n",
    "m=tkinter.Tk() where m is the name of the main"
   ]
  },
  {
   "cell_type": "markdown",
   "metadata": {},
   "source": [
    "mainloop(): There is a method known by the name mainloop() is used when you are ready for the application to run. mainloop() is an infinite loop used to run the application, wait for an event to occur and process the event till the window is not closed.\n",
    "\n",
    "m.mainloop()"
   ]
  },
  {
   "cell_type": "code",
   "execution_count": 10,
   "metadata": {},
   "outputs": [],
   "source": [
    "#running these 2 lines of code brings a empty box\n",
    "\n",
    "m=tkinter.Tk()\n",
    "''' widgets are added here'''\n",
    "m.mainloop()"
   ]
  },
  {
   "cell_type": "markdown",
   "metadata": {},
   "source": [
    "tkinter also offers access to the geometric configuration of the widgets which can organize the widgets in the parent windows. There are mainly three geometry manager classes class.\n",
    "\n",
    "    pack() method:It organizes the widgets in blocks before placing in the parent widget.\n",
    "    grid() method:It organizes the widgets in grid (table-like structure) before placing in the parent widget.\n",
    "    place() method:It organizes the widgets by placing them on specific positions directed by the programmer.\n"
   ]
  },
  {
   "cell_type": "markdown",
   "metadata": {},
   "source": [
    "There are a number of widgets which you can put in your tkinter application. Some of the major widgets are explained below:\n",
    "\n",
    "    Button:To add a button in your application, this widget is used.\n",
    "    The general syntax is:\n",
    "\n",
    "    w=Button(master, option=value)\n",
    "    \n",
    "master is the parameter used to represent the parent window.\n",
    "There are number of options which are used to change the format of the Buttons. Number of options can be passed as parameters separated by commas. Some of them are listed below.\n",
    "\n",
    "    activebackground: to set the background color when button is under the cursor.\n",
    "    activeforeground: to set the foreground color when button is under the cursor.\n",
    "    bg: to set he normal background color.\n",
    "    command: to call a function.\n",
    "    font: to set the font on the button label.\n",
    "    image: to set the image on the button.\n",
    "    width: to set the width of the button.\n",
    "    height: to set the height of the button.\n"
   ]
  },
  {
   "cell_type": "code",
   "execution_count": 12,
   "metadata": {},
   "outputs": [],
   "source": [
    "\n",
    "import tkinter as tk \n",
    "r = tk.Tk() \n",
    "r.title('Counting Seconds') \n",
    "button = tk.Button(r, text='Stop', width=20, command=r.destroy) \n",
    "button.pack() \n",
    "r.mainloop() \n"
   ]
  },
  {
   "cell_type": "markdown",
   "metadata": {},
   "source": [
    "Canvas: It is used to draw pictures and other complex layout like graphics, text and widgets.\n",
    "The general syntax is:\n",
    "\n",
    "w = Canvas(master, option=value)\n",
    "\n",
    "\n",
    "master is the parameter used to represent the parent window"
   ]
  },
  {
   "cell_type": "markdown",
   "metadata": {},
   "source": [
    "There are number of options which are used to change the format of the widget. Number of options can be passed as parameters separated by commas. Some of them are listed below.\n",
    "\n",
    "    bd: to set the border width in pixels.\n",
    "    bg: to set the normal background color.\n",
    "    cursor: to set the cursor used in the canvas.\n",
    "    highlightcolor: to set the color shown in the focus highlight.\n",
    "    width: to set the width of the widget.\n",
    "    height: to set the height of the widget.\n"
   ]
  },
  {
   "cell_type": "code",
   "execution_count": 13,
   "metadata": {},
   "outputs": [],
   "source": [
    "\n",
    "from tkinter import *\n",
    "master = Tk() \n",
    "w = Canvas(master, width=40, height=60) \n",
    "w.pack() \n",
    "canvas_height=20\n",
    "canvas_width=200\n",
    "y = int(canvas_height / 2) \n",
    "w.create_line(0, y, canvas_width, y ) \n",
    "mainloop() \n"
   ]
  },
  {
   "cell_type": "markdown",
   "metadata": {},
   "source": [
    "CheckButton: To select any number of options by displaying a number of options to a user as toggle buttons. The general syntax is: \n",
    "\n",
    "w = CheckButton(master, option=value)\n",
    "\n",
    "There are number of options which are used to change the format of this widget. Number of options can be passed as parameters separated by commas. Some of them are listed below.\n",
    "\n",
    "    Title: To set the title of the widget.\n",
    "    activebackground: to set the background color when widget is under the cursor.\n",
    "    activeforeground: to set the foreground color when widget is under the cursor.\n",
    "    bg: to set he normal backgrouSteganography\n",
    "\n",
    "    Break\n",
    "\n",
    "    Secret Code:\n",
    "\n",
    "    Attach a File:nd color.\n",
    "    command: to call a function.\n",
    "    font: to set the font on the button label.\n",
    "    image: to set the image on the widget"
   ]
  },
  {
   "cell_type": "code",
   "execution_count": 19,
   "metadata": {},
   "outputs": [],
   "source": [
    "\n",
    "from tkinter import *\n",
    "master = Tk() \n",
    "master.title(\"hello\")\n",
    "var1 = IntVar() \n",
    "Checkbutton(master, text='male', variable=var1).grid(row=0, sticky=W) \n",
    "var2 = IntVar() \n",
    "Checkbutton(master, text='female', variable=var2).grid(row=1, sticky=W) \n",
    "mainloop() \n"
   ]
  },
  {
   "cell_type": "markdown",
   "metadata": {},
   "source": [
    "Entry:It is used to input the single line text entry from the user.. For multi-line text input, Text widget is used.\n",
    "The general syntax is:\n",
    "\n",
    "w=Entry(master, option=value)\n",
    "\n",
    "master is the parameter used to represent the parent window.\n",
    "There are number of options which are used to change the format of the widget. Number of options can be passed as parameters separated by commas. Some of them are listed below.\n",
    "\n",
    "    bd: to set the border width in pixels.\n",
    "    bg: to set the normal background color.\n",
    "    cursor: to set the cursor used.\n",
    "    command: to call a function.\n",
    "    highlightcolor: to set the color shown in the focus highlight.\n",
    "    width: to set the width of the button.\n",
    "    height: to set the height of the button.\n"
   ]
  },
  {
   "cell_type": "code",
   "execution_count": 20,
   "metadata": {},
   "outputs": [],
   "source": [
    "\n",
    "from tkinter import *\n",
    "master = Tk() \n",
    "Label(master, text='First Name').grid(row=0) \n",
    "Label(master, text='Last Name').grid(row=1) \n",
    "e1 = Entry(master) \n",
    "e2 = Entry(master) \n",
    "e1.grid(row=0, column=1) \n",
    "e2.grid(row=1, column=1) \n",
    "mainloop() \n"
   ]
  },
  {
   "cell_type": "markdown",
   "metadata": {},
   "source": [
    "Frame: It acts as a container to hold the widgets. It is used for grouping and organizing the widgets. The general syntax is:\n",
    "\n",
    "w = Frame(master, option=value)\n",
    "\n",
    "master is the parameter used to represent the parent window.\n",
    "\n",
    "There are number of options which are used to change the format of the widget. Number of options can be passed as parameters separated by commas. Some of them are listed below.\n",
    "\n",
    "    highlightcolor: To set the color of the focus highlight when widget has to be focused.\n",
    "    bd: to set the border width in pixels.\n",
    "    bg: to set the normal background color.\n",
    "    cursor: to set the cursor used.\n",
    "    width: to set the width of the widget.\n",
    "    height: to set the height of the widget.\n"
   ]
  },
  {
   "cell_type": "code",
   "execution_count": 21,
   "metadata": {},
   "outputs": [],
   "source": [
    "\n",
    "from tkinter import *\n",
    "  \n",
    "root = Tk() \n",
    "frame = Frame(root) \n",
    "frame.pack() \n",
    "bottomframe = Frame(root) \n",
    "bottomframe.pack( side = BOTTOM ) \n",
    "redbutton = Button(frame, text = 'Red', fg ='red') \n",
    "redbutton.pack( side = LEFT) \n",
    "greenbutton = Button(frame, text = 'Brown', fg='brown') \n",
    "greenbutton.pack( side = LEFT ) \n",
    "bluebutton = Button(frame, text ='Blue', fg ='blue') \n",
    "bluebutton.pack( side = LEFT ) \n",
    "blackbutton = Button(bottomframe, text ='Black', fg ='black') \n",
    "blackbutton.pack( side = BOTTOM) \n",
    "root.mainloop() \n"
   ]
  },
  {
   "cell_type": "markdown",
   "metadata": {},
   "source": [
    "Label: It refers to the display box where you can put any text or image which can be updated any time as per the code.\n",
    "The general syntax is:\n",
    "\n",
    "w=Label(master, option=value)\n",
    "master is the parameter used to represent the parent window.\n",
    "\n",
    "There are number of options which are used to change the format of the widget. Number of options can be passed as parameters separated by commas. Some of them are listed below.\n",
    "\n",
    "    bg: to set he normal background color.\n",
    "    bg to set he normal background color.\n",
    "    command: to call a function.\n",
    "    font: to set the font on the button label.\n",
    "    image: to set the image on the button.\n",
    "    width: to set the width of the button.\n",
    "    height: to set the height of the button.\n"
   ]
  },
  {
   "cell_type": "code",
   "execution_count": 22,
   "metadata": {},
   "outputs": [],
   "source": [
    "\n",
    "from tkinter import *\n",
    "root = Tk() \n",
    "w = Label(root, text='GeeksForGeeks.org!') \n",
    "w.pack() \n",
    "root.mainloop() \n"
   ]
  },
  {
   "cell_type": "markdown",
   "metadata": {},
   "source": [
    "Listbox: It offers a list to the user from which the user can accept any number of options.\n",
    "The general syntax is:\n",
    "\n",
    "w = Listbox(master, option=value)\n",
    "master is the parameter used to represent the parent window.\n",
    "\n",
    "There are number of options which are used to change the format of the widget. Number of options can be passed as parameters separated by commas. Some of them are listed below.\n",
    "\n",
    "    highlightcolor: To set the color of the focus highlight when widget has to be focused.\n",
    "    bg: to set he normal background color.\n",
    "    bd: to set the border width in pixels.\n",
    "    font: to set the font on the button label.\n",
    "    image: to set the image on the widget.\n",
    "    width: to set the width of the widget.\n",
    "    height: to set the height of the widget"
   ]
  },
  {
   "cell_type": "code",
   "execution_count": 23,
   "metadata": {},
   "outputs": [],
   "source": [
    "\n",
    "from tkinter import *\n",
    "  \n",
    "top = Tk() \n",
    "Lb = Listbox(top) \n",
    "Lb.insert(1, 'Python') \n",
    "Lb.insert(2, 'Java') \n",
    "Lb.insert(3, 'C++') \n",
    "Lb.insert(4, 'Any other') \n",
    "Lb.pack() \n",
    "top.mainloop() \n"
   ]
  },
  {
   "cell_type": "markdown",
   "metadata": {},
   "source": [
    "MenuButton: It is a part of top-down menu which stays on the window all the time. Every menubutton has its own functionality. The general syntax is:\n",
    "\n",
    "w = MenuButton(master, option=value)\n",
    "\n",
    "master is the parameter used to represent the parent window.\n",
    "\n",
    "There are number of options which are used to change the format of the widget. Number of options can be passed as parameters separated by commas. Some of them are listed below.\n",
    "\n",
    "    activebackground: To set the background when mouse is over the widget.\n",
    "    activeforeground: To set the foreground when mouse is over the widget.\n",
    "    bg: to set he normal background color.\n",
    "    bd: to set the size of border around the indicator.\n",
    "    cursor: To appear the cursor when the mouse over the menubutton.\n",
    "    image: to set the image on the widget.\n",
    "    width: to set the width of the widget.\n",
    "    height: to set the height of the widget.\n",
    "    highlightcolor: To set the color of the focus highlight when widget has to be focused.\n"
   ]
  },
  {
   "cell_type": "code",
   "execution_count": 27,
   "metadata": {},
   "outputs": [],
   "source": [
    "from tkinter import *\n",
    "top = Tk() \n",
    "mb =  Menubutton( top, text = \"GFG\") \n",
    "mb.grid() \n",
    "mb.menu  =  Menu ( mb, tearoff = 0 ) \n",
    "mb[\"menu\"]  =  mb.menu \n",
    "cVar  = IntVar() \n",
    "aVar = IntVar() \n",
    "mb.menu.add_checkbutton ( label ='Contact', variable = cVar ) \n",
    "mb.menu.add_checkbutton ( label = 'About', variable = aVar ) \n",
    "mb.pack() \n",
    "top.mainloop() "
   ]
  },
  {
   "cell_type": "markdown",
   "metadata": {},
   "source": [
    "Menu: It is used to create all kinds of menus used by the application.\n",
    "The general syntax is:\n",
    "\n",
    "w = Menu(master, option=value)\n",
    "\n",
    "\n",
    "master is the parameter used to represent the parent window.\n",
    "\n",
    "There are number of options which are used to change the format of this widget. Number of options can be passed as parameters separated by commas. Some of them are listed below.\n",
    "\n",
    "    title: To set the title of the widget.\n",
    "    activebackground: to set the background color when widget is under the cursor.\n",
    "    activeforeground: to set the foreground color when widget is under the cursor.\n",
    "    bg: to set he normal background color.\n",
    "    command: to call a function.\n",
    "    font: to set the font on the button label.\n",
    "    image: to set the image on the widget.\n"
   ]
  },
  {
   "cell_type": "code",
   "execution_count": 28,
   "metadata": {},
   "outputs": [],
   "source": [
    "\n",
    "from tkinter import *\n",
    "      \n",
    "root = Tk() \n",
    "menu = Menu(root) \n",
    "root.config(menu=menu) \n",
    "filemenu = Menu(menu) \n",
    "menu.add_cascade(label='File', menu=filemenu) \n",
    "filemenu.add_command(label='New') \n",
    "filemenu.add_command(label='Open...') \n",
    "filemenu.add_separator() \n",
    "filemenu.add_command(label='Exit', command=root.quit) \n",
    "helpmenu = Menu(menu) \n",
    "menu.add_cascade(label='Help', menu=helpmenu) \n",
    "helpmenu.add_command(label='About') \n",
    "mainloop()\n"
   ]
  },
  {
   "cell_type": "markdown",
   "metadata": {},
   "source": [
    "Message: It refers to the multi-line and non-editable text. It works same as that of Label.\n",
    "The general syntax is:\n",
    "\n",
    "w = Message(master, option=value)\n",
    "\n",
    "master is the parameter used to represent the parent window.\n",
    "\n",
    "There are number of options which are used to change the format of the widget. Number of options can be passed as parameters separated by commas. Some of them are listed below.\n",
    "\n",
    "    bd: to set the border around the indicator.\n",
    "    bg: to set he normal background color.\n",
    "    font: to set the font on the button label.\n",
    "    image: to set the image on the widget.\n",
    "    width: to set the width of the widget.\n",
    "    height: to set the height of the widget"
   ]
  },
  {
   "cell_type": "code",
   "execution_count": 29,
   "metadata": {},
   "outputs": [],
   "source": [
    "\n",
    "from tkinter import *\n",
    "main = Tk() \n",
    "ourMessage ='This is our Message'\n",
    "messageVar = Message(main, text = ourMessage) \n",
    "messageVar.config(bg='lightgreen') \n",
    "messageVar.pack( ) \n",
    "main.mainloop( ) \n"
   ]
  },
  {
   "cell_type": "markdown",
   "metadata": {},
   "source": [
    "RadioButton: It is used to offer multi-choice option to the user. It offers several options to the user and the user has to choose one option.\n",
    "The general syntax is:\n",
    "\n",
    "w = RadioButton(master, option=value)\n",
    "\n",
    "There are number of options which are used to change the format of this widget. Number of options can be passed as parameters separated by commas. Some of them are listed below.\n",
    "\n",
    "    activebackground: to set the background color when widget is under the cursor.\n",
    "    activeforeground: to set the foreground color when widget is under the cursor.\n",
    "    bg: to set he normal background color.\n",
    "    command: to call a function.\n",
    "    font: to set the font on the button label.\n",
    "    image: to set the image on the widget.\n",
    "    width: to set the width of the label in characters.\n",
    "    height: to set the height of the label in characters.\n"
   ]
  },
  {
   "cell_type": "code",
   "execution_count": 30,
   "metadata": {},
   "outputs": [],
   "source": [
    "\n",
    "from tkinter import *\n",
    "root = Tk() \n",
    "v = IntVar() \n",
    "Radiobutton(root, text='GfG', variable=v, value=1).pack(anchor=W) \n",
    "Radiobutton(root, text='MIT', variable=v, value=2).pack(anchor=W) \n",
    "mainloop() \n"
   ]
  },
  {
   "cell_type": "markdown",
   "metadata": {},
   "source": [
    "Scale: It is used to provide a graphical slider that allows to select any value from that scale. The general syntax is:\n",
    "\n",
    "w = Scale(master, option=value)\n",
    "master is the parameter used to represent the parent window.\n",
    "\n",
    "There are number of options which are used to change the format of the widget. Number of options can be passed as parameters separated by commas. Some of them are listed below.\n",
    "\n",
    "    cursor: To change the cursor pattern when the mouse is over the widget.\n",
    "    activebackground: To set the background of the widget when mouse is over the widget.\n",
    "    bg: to set he normal background color.\n",
    "    orient: Set it to HORIZONTAL or VERTICAL according to the requirement.\n",
    "    from_: To set the value of one end of the scale range.\n",
    "    to: To set the value of the other end of the scale range.\n",
    "    image: to set the image on the widget.\n",
    "    width: to set the width of the widget.\n"
   ]
  },
  {
   "cell_type": "code",
   "execution_count": 31,
   "metadata": {},
   "outputs": [],
   "source": [
    "\n",
    "from tkinter import *\n",
    "master = Tk() \n",
    "w = Scale(master, from_=0, to=42) \n",
    "w.pack() \n",
    "w = Scale(master, from_=0, to=200, orient=HORIZONTAL) \n",
    "w.pack() \n",
    "mainloop() \n"
   ]
  },
  {
   "cell_type": "markdown",
   "metadata": {},
   "source": [
    "crollbar: It refers to the slide controller which will be used to implement listed widgets.\n",
    "The general syntax is:\n",
    "\n",
    "w = Scrollbar(master, option=value)\n",
    "master is the parameter used to represent the parent window.\n",
    "\n",
    "There are number of options which are used to change the format of the widget. Number of options can be passed as parameters separated by commas. Some of them are listed below.\n",
    "\n",
    "    width: to set the width of the widget.\n",
    "    activebackground: To set the background when mouse is over the widget.\n",
    "    bg: to set he normal background color.\n",
    "    bd: to set the size of border around the indicator.\n",
    "    cursor: To appear the cursor when the mouse over the menubutton.\n"
   ]
  },
  {
   "cell_type": "code",
   "execution_count": 32,
   "metadata": {},
   "outputs": [],
   "source": [
    "\n",
    "from tkinter import *\n",
    "root = Tk() \n",
    "scrollbar = Scrollbar(root) \n",
    "scrollbar.pack( side = RIGHT, fill = Y ) \n",
    "mylist = Listbox(root, yscrollcommand = scrollbar.set ) \n",
    "for line in range(100): \n",
    "   mylist.insert(END, 'This is line number' + str(line)) \n",
    "mylist.pack( side = LEFT, fill = BOTH ) \n",
    "scrollbar.config( command = mylist.yview ) \n",
    "mainloop() \n"
   ]
  },
  {
   "cell_type": "markdown",
   "metadata": {},
   "source": [
    "Text: To edit a multi-line text and format the way it has to be displayed.\n",
    "The general syntax is:\n",
    "\n",
    "w  =Text(master, option=value)\n",
    "\n",
    "There are number of options which are used to change the format of the text. Number of options can be passed as parameters separated by commas. Some of them are listed below.\n",
    "\n",
    "    highlightcolor: To set the color of the focus highlight when widget has to be focused.\n",
    "    insertbackground: To set the background of the widget.\n",
    "    bg: to set he normal background color.\n",
    "    font: to set the font on the button label.\n",
    "    image: to set the image on the widget.\n",
    "    width: to set the width of the widget.\n",
    "    height: to set the height of the widget.\n"
   ]
  },
  {
   "cell_type": "code",
   "execution_count": 33,
   "metadata": {},
   "outputs": [],
   "source": [
    "\n",
    "from tkinter import *\n",
    "root = Tk() \n",
    "T = Text(root, height=2, width=30) \n",
    "T.pack() \n",
    "T.insert(END, 'GeeksforGeeks\\nBEST WEBSITE\\n') \n",
    "mainloop() \n"
   ]
  },
  {
   "cell_type": "markdown",
   "metadata": {},
   "source": [
    "TopLevel: This widget is directly controlled by the window manager. It don’t need any parent window to work on.The general syntax is:\n",
    "\n",
    "w = TopLevel(master, option=value)\n",
    "\n",
    "\n",
    "There are number of options which are used to change the format of the widget. Number of options can be passed as parameters separated by commas. Some of them are listed below.\n",
    "\n",
    "    bg: to set he normal background color.\n",
    "    bd: to set the size of border around the indicator.\n",
    "    cursor: To appear the cursor when the mouse over the menubutton.\n",
    "    width: to set the width of the widget.\n",
    "    height: to set the height of the widget.\n"
   ]
  },
  {
   "cell_type": "code",
   "execution_count": 34,
   "metadata": {},
   "outputs": [],
   "source": [
    "\n",
    "from tkinter import *\n",
    "root = Tk() \n",
    "root.title('GfG') \n",
    "top = Toplevel() \n",
    "top.title('Python') \n",
    "top.mainloop() \n"
   ]
  },
  {
   "cell_type": "markdown",
   "metadata": {},
   "source": [
    "SpinBox: It is an entry of ‘Entry’ widget. Here, value can be input by selecting a fixed value of numbers.The general syntax is:\n",
    "\n",
    "w = SpinBox(master, option=value)\n",
    "\n",
    "There are number of options which are used to change the format of the widget. Number of options can be passed as parameters separated by commas. Some of them are listed below.\n",
    "\n",
    "    bg: to set he normal background color.\n",
    "    bd: to set the size of border around the indicator.\n",
    "    cursor: To appear the cursor when the mouse over the menubutton.\n",
    "    command: To call a function.\n",
    "    width: to set the width of the widget.\n",
    "    activebackground: To set the background when mouse is over the widget.\n",
    "    disabledbackground: To disable the background when mouse is over the widget.\n",
    "    from_: To set the value of one end of the range.\n",
    "    to: To set the value of the other end of the range.\n"
   ]
  },
  {
   "cell_type": "code",
   "execution_count": 35,
   "metadata": {},
   "outputs": [],
   "source": [
    "\n",
    "from tkinter import *\n",
    "master = Tk() \n",
    "w = Spinbox(master, from_ = 0, to = 10) \n",
    "w.pack() \n",
    "mainloop() \n"
   ]
  },
  {
   "cell_type": "markdown",
   "metadata": {},
   "source": [
    "PannedWindowIt is a container widget which is used to handle number of panes arranged in it. The general syntax is:\n",
    "\n",
    "w = PannedWindow(master, option=value)\n",
    "\n",
    "master is the parameter used to represent the parent window.\n",
    "There are number of options which are used to change the format of the widget. Number of options can be passed as parameters separated by commas. Some of them are listed below.\n",
    "\n",
    "    bg: to set he normal background color.\n",
    "    bd: to set the size of border around the indicator.\n",
    "    cursor: To appear the cursor when the mouse over the menubutton.\n",
    "    width: to set the width of the widget.\n",
    "    height: to set the height of the widget.\n"
   ]
  },
  {
   "cell_type": "code",
   "execution_count": 36,
   "metadata": {},
   "outputs": [],
   "source": [
    "\n",
    "from tkinter import *\n",
    "m1 = PanedWindow() \n",
    "m1.pack(fill = BOTH, expand = 1) \n",
    "left = Entry(m1, bd = 5) \n",
    "m1.add(left) \n",
    "m2 = PanedWindow(m1, orient = VERTICAL) \n",
    "m1.add(m2) \n",
    "top = Scale( m2, orient = HORIZONTAL) \n",
    "m2.add(top) \n",
    "mainloop() \n"
   ]
  },
  {
   "cell_type": "markdown",
   "metadata": {},
   "source": [
    "\n",
    "Python | after method in Tkinter\n",
    "\n",
    "Tkinter provides a variety of built-in functions develop interactive and featured GUI (Graphical User Interface). after() function is also a Universal function which can be used directly on the root as well as with other widgets.\n",
    "\n",
    "after(parent, ms, function = None, *args)\n",
    "\n",
    "    Parameters:\n",
    "    parent: is the object of the widget or main window whichever is using this function.\n",
    "    ms: is the time in miliseconds.\n",
    "    function: which shall be called.\n",
    "    *args: other options."
   ]
  },
  {
   "cell_type": "code",
   "execution_count": 38,
   "metadata": {},
   "outputs": [
    {
     "name": "stdout",
     "output_type": "stream",
     "text": [
      "Running...\n",
      "Destroyed after  5 seconds\n"
     ]
    }
   ],
   "source": [
    "from tkinter import Tk, mainloop, TOP \n",
    "from tkinter.ttk import Button\n",
    "from time import time \n",
    "  \n",
    "# creating tkinter window \n",
    "root = Tk() \n",
    "  \n",
    "button = Button(root, text = 'Geeks') \n",
    "button.pack(side = TOP, pady = 5) \n",
    "  \n",
    "print('Running...') \n",
    "# Calculating starting time \n",
    "start = time() \n",
    "  \n",
    "# in after method 5000 miliseconds is passed i.e after 5 seconds \n",
    "# main window i.e root window will get destroyed \n",
    "root.after(5000, root.destroy) \n",
    "  \n",
    "mainloop() \n",
    "  \n",
    "# calculating end time\n",
    "end = time() \n",
    "print('Destroyed after % d seconds' % (end-start)) \n"
   ]
  },
  {
   "cell_type": "code",
   "execution_count": 50,
   "metadata": {},
   "outputs": [],
   "source": [
    "#Code2: Prompting a message after certain time (in our program after 5 seconds).\n",
    "\n",
    "from tkinter import Tk, mainloop, TOP \n",
    "from tkinter.ttk import Button \n",
    "from tkinter.messagebox import _show \n",
    "  \n",
    "# creating tkinter window \n",
    "root = Tk() \n",
    "root.geometry() \n",
    "  \n",
    "button = Button(root, text = 'Geeks') \n",
    "button.pack(side = TOP, pady = 5) \n",
    "  \n",
    "# in after method 5000 miliseconds is passed i.e after 5 seconds \n",
    "# a message will be prompted \n",
    "root.after(5000, lambda : _show('Title', 'Prompting after 5 seconds')) \n",
    "  \n",
    "# Destroying root window after 6.7 seconds \n",
    "root.after(6700, root.destroy) \n",
    "  \n",
    "mainloop()\n"
   ]
  },
  {
   "cell_type": "code",
   "execution_count": null,
   "metadata": {},
   "outputs": [],
   "source": [
    "Different messages in Tkinter | Python\n",
    "\n",
    "Tkinter provides a messagebox class which can be used to show variety of messages \n",
    "so that user can respond according to those messages. \n",
    "Messages like confirmation message, error message, warning message etc.\n",
    "\n",
    "In order to use this class one must import this class as shown below:\n",
    "\n",
    "# import all the functions and constants of this class.\n",
    "from tkinter.messagebox import *\n",
    "\n",
    " \n",
    "Syntax and uses of different functions of this class –\n",
    "\n",
    "askokcancel(title=None, message=None, **options)\n",
    "# Ask if operation should proceed; return true if the answer is ok.\n",
    "\n",
    "askquestion(title=None, message=None, **options)\n",
    "# Ask a question.\n",
    "\n",
    "askretrycancel(title=None, message=None, **options)\n",
    "# Ask if operation should be retried; # return true if the answer is yes.\n",
    "\n",
    "askyesno(title=None, message=None, **options)\n",
    "# Ask a question; return true # if the answer is yes.\n",
    "\n",
    "askyesnocancel(title=None, message=None, **options)\n",
    "# Ask a question; return true # if the answer is yes, None if cancelled.\n",
    "\n",
    "showerror(title=None, message=None, **options)\n",
    "# Show an error message.\n",
    "\n",
    "showinfo(title=None, message=None, **options)\n",
    "# Show an info message.\n",
    "\n",
    "showwarning(title=None, message=None, **options)\n",
    "# Show a warning message.\n"
   ]
  },
  {
   "cell_type": "code",
   "execution_count": 51,
   "metadata": {},
   "outputs": [
    {
     "name": "stdout",
     "output_type": "stream",
     "text": [
      "True\n",
      "yes\n",
      "True\n",
      "True\n",
      "False\n",
      "ok\n",
      "ok\n",
      "ok\n"
     ]
    }
   ],
   "source": [
    "# importing messagebox class \n",
    "from tkinter.messagebox import *\n",
    "  \n",
    "# Showing various messaes \n",
    "print(askokcancel(\"askokcancel\", \"Ok or Cancel\")) \n",
    "  \n",
    "print(askquestion(\"askquestion\", \"Question?\")) \n",
    "  \n",
    "print(askretrycancel(\"askretrycancel\", \"Retry or Cancel\")) \n",
    "  \n",
    "print(askyesno(\"askyesno\", \"Yes or No\")) \n",
    "  \n",
    "print(askyesnocancel(\"askyesnocancel\", \"Yes or No or Cancel\")) \n",
    "  \n",
    "print(showerror(\"showerror\", \"Error\")) \n",
    "  \n",
    "print(showinfo(\"showinfo\", \"Information\")) \n",
    "  \n",
    "print(showwarning(\"showwarning\", \"Warning\")) \n",
    "  \n",
    "# print statement is used so that we can print the returned value by the function \n"
   ]
  },
  {
   "cell_type": "markdown",
   "metadata": {},
   "source": [
    "\n",
    "Python | Binding function in Tkinter\n",
    "\n",
    "Tkinter is a GUI (Graphical User Interface) module which is widely used in the desktop applications. It comes along with the Python, but you can also install it externally with the help of pip command.\n",
    "\n",
    "It provides variety of Widget classes and functions with the help of which one can make our GUI more attractive and user friendly in terms of both looks and functionality.\n",
    "\n",
    "Binding function is used to deal with the events. We can bind Python’s Functions and methods to an event as well as we can bind these functions to any particular widget."
   ]
  },
  {
   "cell_type": "code",
   "execution_count": 2,
   "metadata": {},
   "outputs": [
    {
     "name": "stdout",
     "output_type": "stream",
     "text": [
      "Button-2 pressed at x =  199, y =  12\n",
      "Button-3 pressed at x =  174, y = -5\n",
      "Button-2 pressed at x =  179, y =  92\n",
      "Button-3 pressed at x =  149, y = -5\n",
      "Button-2 pressed at x =  159, y =  2\n",
      "Button-3 pressed at x =  27, y = -7\n",
      "Button-2 pressed at x =  31, y =  0\n",
      "Button-3 pressed at x =  78, y = -10\n",
      "Button-2 pressed at x =  31, y =  0\n",
      "Button-3 pressed at x =  34, y = -21\n"
     ]
    }
   ],
   "source": [
    "# Import all files from \n",
    "# tkinter and overwrite \n",
    "# all the tkinter files \n",
    "# by tkinter.ttk \n",
    "\n",
    "from tkinter import * \n",
    "from tkinter.ttk import *\n",
    "\n",
    "# creates tkinter window or root window \n",
    "root = Tk() \n",
    "root.geometry('200x100') \n",
    "\n",
    "# function to be called when mouse enters in a frame \n",
    "def enter(event): \n",
    "    print('Button-2 pressed at x = % d, y = % d'%(event.x, event.y)) \n",
    "\n",
    "# function to be called when when mouse exits the frame \n",
    "def exit_(event): \n",
    "    print('Button-3 pressed at x = % d, y = % d'%(event.x, event.y)) \n",
    "\n",
    "# frame with fixed geomerty \n",
    "frame1 = Frame(root, height = 100, width = 200) \n",
    "\n",
    "# these lines are showing the \n",
    "# working of bind function \n",
    "# it is universal widget method \n",
    "frame1.bind('<Enter>', enter) \n",
    "frame1.bind('<Leave>', exit_) \n",
    "\n",
    "frame1.pack() \n",
    "\n",
    "mainloop() \n"
   ]
  },
  {
   "cell_type": "code",
   "execution_count": 4,
   "metadata": {},
   "outputs": [
    {
     "name": "stdout",
     "output_type": "stream",
     "text": [
      "Double clicked at x =  58, y =  59\n",
      "Double clicked at x =  47, y =  27\n",
      "Double clicked at x =  119, y =  23\n",
      "Double clicked at x =  167, y =  66\n",
      "Double clicked at x =  84, y =  34\n"
     ]
    }
   ],
   "source": [
    "# Import all files from \n",
    "# tkinter and overwrite \n",
    "# all the tkinter files \n",
    "# by tkinter.ttk \n",
    "from tkinter import * \n",
    "from tkinter.ttk import *\n",
    "  \n",
    "# creates tkinter window or root window \n",
    "root = Tk() \n",
    "root.geometry('200x100') \n",
    "  \n",
    "# function to be called when button-2 of mouse is pressed \n",
    "def pressed2(event): \n",
    "    print('Button-2 pressed at x = % d, y = % d'%(event.x, event.y)) \n",
    "\n",
    "    #function to be called when button-3 of mouse is pressed \n",
    "def pressed3(event): \n",
    "    print('Button-3 pressed at x = % d, y = % d'%(event.x, event.y)) \n",
    "    \n",
    "    #function to be called when button-1 is double clocked \n",
    "def double_click(event): \n",
    "    print('Double clicked at x = % d, y = % d'%(event.x, event.y)) \n",
    "    \n",
    "frame1 = Frame(root, height = 100, width = 200) \n",
    "  \n",
    "# these lines are binding mouse \n",
    "# buttons with the Frame widget \n",
    "frame1.bind('<Button-2>', pressed2) \n",
    "frame1.bind('<Button-3>', pressed3) \n",
    "frame1.bind('<Double 1>', double_click) \n",
    "  \n",
    "frame1.pack() \n",
    "  \n",
    "mainloop() \n"
   ]
  },
  {
   "cell_type": "code",
   "execution_count": 6,
   "metadata": {},
   "outputs": [
    {
     "name": "stdout",
     "output_type": "stream",
     "text": [
      "m is pressed\n",
      "j is pressed\n",
      "w is pressed\n",
      "e is pressed\n",
      "r is pressed\n",
      "y is pressed\n",
      "u is pressed\n"
     ]
    }
   ],
   "source": [
    "\n",
    "# Import all files from \n",
    "# tkinter and overwrite \n",
    "# all the tkinter files \n",
    "# by tkinter.ttk \n",
    "from tkinter import * \n",
    "from tkinter.ttk import *\n",
    "  \n",
    "# function to be called when \n",
    "# keyboard buttons are pressed \n",
    "def key_press(event): \n",
    "    key = event.char \n",
    "    print(key, 'is pressed') \n",
    "  #creates tkinter window or root window \n",
    "root = Tk() \n",
    "root.geometry('200x100') \n",
    "  \n",
    "# here we are binding keyboard \n",
    "# with the main window \n",
    "root.bind('<Key>', lambda a : key_press(a)) \n",
    "  \n",
    "mainloop() \n"
   ]
  },
  {
   "cell_type": "markdown",
   "metadata": {},
   "source": [
    "iconphoto() method in Tkinter | Python\n",
    "\n",
    "iconphoto() method is used to set the titlebar icon of any tkinter/toplevel window. But to set any image as the icon of titlebar, image should be the object of PhotoImage class.\n",
    "\n",
    "Syntax:\n",
    "\n",
    "iconphoto(self, default = False, *args)\n",
    "\n",
    "Steps to set icon image –\n",
    "\n",
    "\n",
    "from tkinter import Tk\n",
    "master = Tk()\n",
    "\n",
    "photo = PhotoImage(file = \"Any image file\")\n",
    "master.iconphoto(False, photo)\n",
    "\n",
    "Set the titlebar icon for this window based on the named photo images passed through args. If default is True, this is applied to all future created toplevels as well. The data in the images is taken as a snapshot at the time of invocation. If the images are later changed, this is not reflected in the titlebar icons. The function also scales provided icons to an appropriate size."
   ]
  },
  {
   "cell_type": "code",
   "execution_count": null,
   "metadata": {},
   "outputs": [],
   "source": [
    "#Code #1: When PhotoImage is provided.\n",
    "\n",
    "# Importing Tkinter module \n",
    "from tkinter import * \n",
    "from tkinter.ttk import *\n",
    "  \n",
    "# Creating master Tkinter window \n",
    "master = Tk() \n",
    "  \n",
    "# Creating object of photoimage class \n",
    "# Image should be in the same folder \n",
    "# in which script is saved \n",
    "p1 = PhotoImage(file = 'info.png') \n",
    "  \n",
    "# Setting icon of master window \n",
    "master.iconphoto(False, 'info.png') \n",
    "  \n",
    "# Creating button \n",
    "b = Button(master, text = 'Click me !') \n",
    "b.pack(side = TOP) \n",
    "  \n",
    "# Infinite loop can be terminated by \n",
    "# keyboard or mouse interrupt \n",
    "# or by any predefined function (destroy()) \n",
    "mainloop() \n"
   ]
  },
  {
   "cell_type": "markdown",
   "metadata": {},
   "source": [
    "\n",
    "Python | Add image on a Tkinter button\n",
    "\n",
    "Tkinter is a Python module which is used to create GUI (Graphical User Interface) applications with the help of varieties of widgets and functions. Like any other GUI module it also supports images i.e you can use images in the application to make it more attractive.\n",
    "\n",
    "Image can be added with the help of PhotoImage() method. This is a Tkinter method which means you don’t have to import any other module in order to use it.\n",
    "\n",
    "Important: If both image and text are given on Button, the text will be dominated and only image will appear on the Button. But if you want to show both image and text then you have to pass compound in button options.\n",
    "\n",
    "\n",
    "    Button(master, text = \"Button\", image = \"image.png\", compound=LEFT)\n",
    "\n",
    "    compound = LEFT -> image will be at left side of the button\n",
    "    compound = RIGHT -> image will be at right side of button\n",
    "    compound = TOP -> image will be at top of button\n",
    "    compound = BOTTOM -> image will be at bottom of button \n",
    "\n",
    "Syntax:\n",
    "\n",
    "photo = PhotoImage(file = \"path_of_file\")\n",
    "\n",
    "path_of_file is any valid path available on your local machine."
   ]
  },
  {
   "cell_type": "code",
   "execution_count": null,
   "metadata": {},
   "outputs": [],
   "source": [
    "\n",
    "# importing only those functions \n",
    "# which are needed \n",
    "from tkinter import * \n",
    "from tkinter.ttk import *\n",
    "  \n",
    "# creating tkinter window \n",
    "root = Tk() \n",
    "  \n",
    "# Adding widgets to the root window \n",
    "Label(root, text = 'GeeksforGeeks', font =('Verdana', 15)).pack(side = TOP, pady = 10) \n",
    "  \n",
    "# Creating a photoimage object to use image \n",
    "photo = PhotoImage(file = r\"C:\\Gfg\\circle.png\") \n",
    "  \n",
    "# here, image option is used to \n",
    "# set image on button \n",
    "Button(root, text = 'Click Me !', image = photo).pack(side = TOP) \n",
    "  \n",
    "mainloop() \n"
   ]
  },
  {
   "cell_type": "code",
   "execution_count": null,
   "metadata": {},
   "outputs": [],
   "source": [
    "\n",
    "# importing only those functions \n",
    "# which are needed \n",
    "from tkinter import * \n",
    "from tkinter.ttk import *\n",
    "  \n",
    "# creating tkinter window \n",
    "root = Tk() \n",
    "  \n",
    "# Adding widgets to the root window \n",
    "Label(root, text = 'GeeksforGeeks', font =('Verdana', 15)).pack(side = TOP, pady = 10) \n",
    "  \n",
    "# Creating a photoimage object to use image \n",
    "photo = PhotoImage(file = r\"C:\\Gfg\\circle.png\") \n",
    "  \n",
    "# Resizing image to fit on button \n",
    "photoimage = photo.subsample(3, 3) \n",
    "  \n",
    "# here, image option is used to \n",
    "# set image on button \n",
    "# compound option is used to align \n",
    "# image on LEFT side of button \n",
    "Button(root, text = 'Click Me !', image = photoimage, \n",
    "                    compound = LEFT).pack(side = TOP) \n",
    "  \n",
    "mainloop() \n"
   ]
  },
  {
   "cell_type": "code",
   "execution_count": null,
   "metadata": {},
   "outputs": [],
   "source": []
  },
  {
   "cell_type": "code",
   "execution_count": null,
   "metadata": {},
   "outputs": [],
   "source": []
  }
 ],
 "metadata": {
  "kernelspec": {
   "display_name": "Python 3",
   "language": "python",
   "name": "python3"
  },
  "language_info": {
   "codemirror_mode": {
    "name": "ipython",
    "version": 3
   },
   "file_extension": ".py",
   "mimetype": "text/x-python",
   "name": "python",
   "nbconvert_exporter": "python",
   "pygments_lexer": "ipython3",
   "version": "3.7.3"
  }
 },
 "nbformat": 4,
 "nbformat_minor": 2
}
