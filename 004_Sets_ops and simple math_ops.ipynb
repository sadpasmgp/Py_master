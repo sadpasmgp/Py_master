{
 "cells": [
  {
   "cell_type": "code",
   "execution_count": 2,
   "metadata": {},
   "outputs": [
    {
     "name": "stdout",
     "output_type": "stream",
     "text": [
      "['__and__', '__class__', '__contains__', '__delattr__', '__dir__', '__doc__', '__eq__', '__format__', '__ge__', '__getattribute__', '__gt__', '__hash__', '__iand__', '__init__', '__init_subclass__', '__ior__', '__isub__', '__iter__', '__ixor__', '__le__', '__len__', '__lt__', '__ne__', '__new__', '__or__', '__rand__', '__reduce__', '__reduce_ex__', '__repr__', '__ror__', '__rsub__', '__rxor__', '__setattr__', '__sizeof__', '__str__', '__sub__', '__subclasshook__', '__xor__', 'add', 'clear', 'copy', 'difference', 'difference_update', 'discard', 'intersection', 'intersection_update', 'isdisjoint', 'issubset', 'issuperset', 'pop', 'remove', 'symmetric_difference', 'symmetric_difference_update', 'union', 'update']\n"
     ]
    }
   ],
   "source": [
    "print(dir(set))"
   ]
  },
  {
   "cell_type": "code",
   "execution_count": 32,
   "metadata": {},
   "outputs": [
    {
     "name": "stdout",
     "output_type": "stream",
     "text": [
      "{3, 4, 5}\n",
      "{3, 4, 5}\n",
      "{1, 2, 3, 4, 5, 6}\n",
      "{1, 2, 3, 4, 5, 6}\n",
      "{1, 2}\n",
      "{1, 2}\n",
      "{1, 2, 6}\n",
      "{1, 2, 6}\n",
      "False\n",
      "False\n",
      "False\n",
      "False\n",
      "False\n",
      "False\n",
      "True\n",
      "False\n",
      "True\n",
      "{1, 2, 3, 4, 5, 8}\n",
      "{1, 2, 3, 4, 8}\n",
      "{1, 2, 3, 4, 5, 6, 8}\n",
      "7 4\n"
     ]
    }
   ],
   "source": [
    "a = {1,2,3,4,5}\n",
    "b = {3,4,5,6}\n",
    "\n",
    "#Intersection\n",
    "print(a.intersection(b)) # intersection is indicated by &\n",
    "print(a & b)\n",
    "\n",
    "#union\n",
    "print(a.union(b)) # union |\n",
    "print(a | b)\n",
    "\n",
    "#difference\n",
    "print(a - b)\n",
    "print(a.difference(b))\n",
    "\n",
    "#symmetric difference\n",
    "print(a ^ b)\n",
    "print(a.symmetric_difference(b))\n",
    "\n",
    "#superset check\n",
    "print(a.issuperset(b))\n",
    "print(a>=b)\n",
    "\n",
    "#subset check\n",
    "print(a<=b)\n",
    "print(a.issubset(b))\n",
    "\n",
    "#Disjoint check\n",
    "print(a.isdisjoint(b))\n",
    "print(b.isdisjoint(a))\n",
    "\n",
    "#Existance check\n",
    "print(2 in a)\n",
    "print(8 in a)\n",
    "print( 9 not in b)\n",
    "\n",
    "#Add and remove\n",
    "a.add(8)\n",
    "print(a)\n",
    "a.remove(5)\n",
    "print(a)\n",
    "\n",
    "#update is used to add multiple elements into set\n",
    "a.update(b)\n",
    "print(a)\n",
    "\n",
    "#len\n",
    "print(len(a), len(b))"
   ]
  },
  {
   "cell_type": "code",
   "execution_count": 49,
   "metadata": {},
   "outputs": [
    {
     "name": "stdout",
     "output_type": "stream",
     "text": [
      "1.5 -1.5 (-0.36+0.48j)\n",
      "(5+4j)\n",
      "(4+4j)\n",
      "9\n",
      "6.0\n",
      "59049\n",
      "1.4142135623730951\n",
      "(1.4142135623730951+0j)\n",
      "0.049787068367863944\n",
      "1.0000005000001665e-06\n"
     ]
    }
   ],
   "source": [
    "#basic math\n",
    "x, y, z = 3, 2,-3\n",
    "p, q, r = 2.0, 10, 3+4j\n",
    "\n",
    "print(x/p, z/p, z/r)\n",
    "print(x+z+p+r)\n",
    "print(r-y-z)\n",
    "print(z**2)\n",
    "print(p*3)\n",
    "\n",
    "#To perform complex math \n",
    "import math\n",
    "import cmath\n",
    "\n",
    "print(pow(x,q))\n",
    "print(math.sqrt(p))\n",
    "print(cmath.sqrt(p))\n",
    "\n",
    "print(math.exp(z)) #computes e**z\n",
    "#The function math.expm1(x) computes e ** x - 1. When x is small, this gives significantly better precision than\n",
    "#math.exp(x) - 1.\n",
    "\n",
    "print(math.expm1(1e-6)) "
   ]
  },
  {
   "cell_type": "code",
   "execution_count": 51,
   "metadata": {},
   "outputs": [
    {
     "name": "stdout",
     "output_type": "stream",
     "text": [
      "['__doc__', '__loader__', '__name__', '__package__', '__spec__', 'acos', 'acosh', 'asin', 'asinh', 'atan', 'atan2', 'atanh', 'ceil', 'copysign', 'cos', 'cosh', 'degrees', 'e', 'erf', 'erfc', 'exp', 'expm1', 'fabs', 'factorial', 'floor', 'fmod', 'frexp', 'fsum', 'gamma', 'gcd', 'hypot', 'inf', 'isclose', 'isfinite', 'isinf', 'isnan', 'ldexp', 'lgamma', 'log', 'log10', 'log1p', 'log2', 'modf', 'nan', 'pi', 'pow', 'radians', 'remainder', 'sin', 'sinh', 'sqrt', 'tan', 'tanh', 'tau', 'trunc']\n"
     ]
    }
   ],
   "source": [
    "#trigonometric functions\n",
    "print(dir(math))"
   ]
  },
  {
   "cell_type": "code",
   "execution_count": 52,
   "metadata": {},
   "outputs": [
    {
     "name": "stdout",
     "output_type": "stream",
     "text": [
      "['__doc__', '__loader__', '__name__', '__package__', '__spec__', 'acos', 'acosh', 'asin', 'asinh', 'atan', 'atanh', 'cos', 'cosh', 'e', 'exp', 'inf', 'infj', 'isclose', 'isfinite', 'isinf', 'isnan', 'log', 'log10', 'nan', 'nanj', 'phase', 'pi', 'polar', 'rect', 'sin', 'sinh', 'sqrt', 'tan', 'tanh', 'tau']\n"
     ]
    }
   ],
   "source": [
    "print(dir(cmath))"
   ]
  },
  {
   "cell_type": "code",
   "execution_count": 64,
   "metadata": {},
   "outputs": [
    {
     "name": "stdout",
     "output_type": "stream",
     "text": [
      "0.8414709848078965 3.7621956910836314\n",
      "1.2626272556789115\n",
      "3.141592653589793\n",
      "2.23606797749979\n",
      "57.29577951308232\n",
      "1.0\n"
     ]
    }
   ],
   "source": [
    "a,b = 1,2\n",
    "print(math.sin(a), math.cosh(b))\n",
    "print(math.atan(math.pi))\n",
    "print(math.pi)\n",
    "print(math.hypot(a,b))\n",
    "print(math.degrees(a))\n",
    "print(math.radians(57.29577951308232))\n"
   ]
  },
  {
   "cell_type": "code",
   "execution_count": 69,
   "metadata": {},
   "outputs": [
    {
     "name": "stdout",
     "output_type": "stream",
     "text": [
      "1.6094379124341003\n",
      "2.0\n",
      "2\n"
     ]
    }
   ],
   "source": [
    "print(math.log(5))\n",
    "print(math.log10(100))\n",
    "print(10%4)"
   ]
  }
 ],
 "metadata": {
  "kernelspec": {
   "display_name": "Python 3",
   "language": "python",
   "name": "python3"
  },
  "language_info": {
   "codemirror_mode": {
    "name": "ipython",
    "version": 3
   },
   "file_extension": ".py",
   "mimetype": "text/x-python",
   "name": "python",
   "nbconvert_exporter": "python",
   "pygments_lexer": "ipython3",
   "version": "3.7.3"
  }
 },
 "nbformat": 4,
 "nbformat_minor": 2
}
