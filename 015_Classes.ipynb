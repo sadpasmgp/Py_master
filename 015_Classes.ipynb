{
 "cells": [
  {
   "cell_type": "markdown",
   "metadata": {},
   "source": [
    "# Object oriented programming"
   ]
  },
  {
   "cell_type": "markdown",
   "metadata": {},
   "source": [
    "###### building on the following topics:\n",
    "\n",
    "* Objects\n",
    "* Using the *class* keyword\n",
    "* Creating class attributes\n",
    "* Creating methods in a class\n",
    "* Learning about Inheritance\n",
    "* Learning about Polymorphism\n",
    "* Learning about Special Methods for classes\n",
    "\n",
    "Lets start the lesson by remembering about the Basic Python Objects. \n",
    "For example:"
   ]
  },
  {
   "cell_type": "code",
   "execution_count": 15,
   "metadata": {},
   "outputs": [
    {
     "data": {
      "text/plain": [
       "1"
      ]
     },
     "execution_count": 15,
     "metadata": {},
     "output_type": "execute_result"
    }
   ],
   "source": [
    "lst = [1,2,3]\n",
    "\n",
    "#Remember we can call a method on a list\n",
    "\n",
    "lst.count(2)"
   ]
  },
  {
   "cell_type": "markdown",
   "metadata": {},
   "source": [
    "#### Objects"
   ]
  },
  {
   "cell_type": "code",
   "execution_count": 22,
   "metadata": {},
   "outputs": [
    {
     "name": "stdout",
     "output_type": "stream",
     "text": [
      "<class 'int'>\n",
      "<class 'list'>\n",
      "<class 'tuple'>\n",
      "<class 'dict'>\n"
     ]
    }
   ],
   "source": [
    "#In Python everything is a object. To check type use type()\n",
    "\n",
    "print(type(1))\n",
    "print(type([]))\n",
    "print(type(()))\n",
    "print(type({}))"
   ]
  },
  {
   "cell_type": "markdown",
   "metadata": {},
   "source": [
    "#### Class"
   ]
  },
  {
   "cell_type": "code",
   "execution_count": null,
   "metadata": {},
   "outputs": [],
   "source": [
    "User created objects are created using class keyword. \n",
    "The class is a blueprint that defines nature of the future object.\n",
    "From classes we can construct instances. \n",
    "An instance is a specific object created from a particular class.\n",
    "ex. lst was an instance of a list object"
   ]
  },
  {
   "cell_type": "code",
   "execution_count": 23,
   "metadata": {},
   "outputs": [
    {
     "name": "stdout",
     "output_type": "stream",
     "text": [
      "<class '__main__.Sample'>\n"
     ]
    }
   ],
   "source": [
    "#create a object type called sample\n",
    "\n",
    "class Sample:\n",
    "    pass\n",
    "\n",
    "#instance of sample\n",
    "x= Sample()\n",
    "\n",
    "print(type(x))"
   ]
  },
  {
   "cell_type": "code",
   "execution_count": null,
   "metadata": {},
   "outputs": [],
   "source": [
    "By convention we give classes a name that starts with capital letter. \n",
    "x is a reference to our new instance of a sample class.\n",
    "\n",
    "Inside class we can define attributes and methods.\n",
    "\n",
    "An attribute is a characteristic of an object.\n",
    "\n",
    "A method is an operation we can perform with the object.\n",
    "\n",
    "for ex, we can create a class called Dog. \n",
    "\n",
    "An attribute of a dog may be its breed or its name, \n",
    "while a method of a dog may be defined by a bark() method which returns a sound"
   ]
  },
  {
   "cell_type": "markdown",
   "metadata": {},
   "source": [
    "#### Attributes"
   ]
  },
  {
   "cell_type": "code",
   "execution_count": null,
   "metadata": {},
   "outputs": [],
   "source": [
    "syntax of creating an attribute is:\n",
    "\n",
    "    self.attribute = something\n",
    "\n",
    "There is a special method called \n",
    "\n",
    "__init__()\n",
    "\n",
    "This method is used to initialize the attributes of an object."
   ]
  },
  {
   "cell_type": "code",
   "execution_count": 26,
   "metadata": {},
   "outputs": [],
   "source": [
    "class Dog:\n",
    "    def __init__(self, breed):\n",
    "        self.breed = breed\n",
    "        \n",
    "Sam = Dog(breed = 'Lab')\n",
    "frank = Dog(breed = 'Huskie')"
   ]
  },
  {
   "cell_type": "code",
   "execution_count": null,
   "metadata": {},
   "outputs": [],
   "source": [
    "Here __init__() is automatically called after object is created.\n",
    "\n",
    "def __init__(self, breed):\n",
    "\n",
    "Each attribute in a class definition brings with a reference to the instance object.\n",
    "\n",
    "It is by convention named self. The breed is its argument. \n",
    "Value is passed during the class instantiation.\n",
    "\n",
    "self.breed = breed\n",
    "\n",
    "Now we have created two instances of Dog class. \n",
    "\n",
    "With two breed types, we can access these attributes like this:"
   ]
  },
  {
   "cell_type": "code",
   "execution_count": 28,
   "metadata": {},
   "outputs": [
    {
     "data": {
      "text/plain": [
       "'Lab'"
      ]
     },
     "execution_count": 28,
     "metadata": {},
     "output_type": "execute_result"
    }
   ],
   "source": [
    "Sam.breed"
   ]
  },
  {
   "cell_type": "code",
   "execution_count": 29,
   "metadata": {},
   "outputs": [
    {
     "data": {
      "text/plain": [
       "'Huskie'"
      ]
     },
     "execution_count": 29,
     "metadata": {},
     "output_type": "execute_result"
    }
   ],
   "source": [
    "frank.breed"
   ]
  },
  {
   "cell_type": "code",
   "execution_count": null,
   "metadata": {},
   "outputs": [],
   "source": [
    "Note how we don't have any parentheses after breed; \n",
    "this is because it is an attribute and doesn't take any arguments.\n",
    "\n",
    "In Python there are also class object attributes. \n",
    "These Class Object Attributes are the same for any instance of the class. \n",
    "For example, we could create the attribute species for the Dog class. \n",
    "Dogs, regardless of their breed, name, or other attributes, will always be mammals. \n",
    "We apply this logic in the following manner:\n"
   ]
  },
  {
   "cell_type": "code",
   "execution_count": 36,
   "metadata": {},
   "outputs": [],
   "source": [
    "class Dog:\n",
    "    #Class object attribute\n",
    "    species = 'mammal'\n",
    "    \n",
    "    def __init__(self, breed, gender):\n",
    "        self.breed = breed\n",
    "        self.gender = gender\n",
    "\n",
    "Sam = Dog('Lab','male')\n",
    "frank = Dog('Huskie','female')"
   ]
  },
  {
   "cell_type": "code",
   "execution_count": 38,
   "metadata": {},
   "outputs": [
    {
     "name": "stdout",
     "output_type": "stream",
     "text": [
      "male Lab mammal\n",
      "female Huskie mammal\n"
     ]
    }
   ],
   "source": [
    "print(Sam.gender, Sam.breed, Sam.species)\n",
    "print(frank.gender, frank.breed, frank.species)"
   ]
  },
  {
   "cell_type": "code",
   "execution_count": 2,
   "metadata": {},
   "outputs": [
    {
     "data": {
      "text/plain": [
       "<__main__.Person at 0x1bc77510588>"
      ]
     },
     "execution_count": 2,
     "metadata": {},
     "output_type": "execute_result"
    }
   ],
   "source": [
    "\"\"\"\n",
    " Classes describe data and provide methods to manipulate that data, all encompassed under a single\n",
    "object. Furthermore, classes allow for abstraction by separating concrete implementation details from abstract\n",
    "representations of data\n",
    "\"\"\"\n",
    "\n",
    "class Person(object):\n",
    "    \n",
    "    species = \"Homo Sapiens\"\n",
    "    \n",
    "    def __init__(self, name):\n",
    "        self.name = name\n",
    "    \n",
    "    def __str__(self):\n",
    "        return self.name\n",
    "    \n",
    "    def rename(self, renamed):\n",
    "        self.name = renamed\n",
    "        print(\"Now my name is {}\".format(self.name))\n",
    "        \n",
    "\"\"\"\n",
    "1. The class is made up of attributes (data) and methods (functions).\n",
    "2. Attributes and methods are simply defined as normal variables and functions.\n",
    "3. As noted in the corresponding docstring, the __init__() method is called the initializer. It's equivalent to the\n",
    "constructor in other object oriented languages, and is the method that is first run when you create a new\n",
    "object, or new instance of the class.\n",
    "4. Attributes that apply to the whole class are defined first, and are called class attributes.\n",
    "5. Attributes that apply to a specific instance of a class (an object) are called instance attributes. They are\n",
    "generally defined inside __init__(); this is not necessary, but it is recommended (since attributes defined\n",
    "outside of __init__() run the risk of being accessed before they are defined).\n",
    "6. Every method, included in the class definition passes the object in question as its first parameter. The word\n",
    "self is used for this parameter (usage of self is actually by convention, as the word self has no inherent\n",
    "meaning in Python, but this is one of Python's most respected conventions, and you should always follow it).\n",
    "7. Those used to object-oriented programming in other languages may be surprised by a few things. One is that\n",
    "Python has no real concept of private elements, so everything, by default, imitates the behavior of the\n",
    "C++/Java public keyword. For more information, see the \"Private Class Members\" example on this page.\n",
    "8. Some of the class's methods have the following form: __functionname__(self, other_stuff). All such\n",
    "methods are called \"magic methods\" and are an important part of classes in Python. For instance, operator\n",
    "overloading in Python is implemented with magic methods. \n",
    "\"\"\""
   ]
  },
  {
   "cell_type": "code",
   "execution_count": 11,
   "metadata": {},
   "outputs": [
    {
     "data": {
      "text/plain": [
       "('Homo Sapiens', 'Kelly', 'Homo Sapiens', 'John')"
      ]
     },
     "execution_count": 11,
     "metadata": {},
     "output_type": "execute_result"
    }
   ],
   "source": [
    "#Lets make instance of Person class\n",
    "\n",
    "kelly = Person(\"Kelly\")\n",
    "joseph = Person(\"Joseph\")\n",
    "john = Person(\"John\")\n",
    "\n",
    "kelly.species , kelly.name , john.species, john.name"
   ]
  },
  {
   "cell_type": "markdown",
   "metadata": {},
   "source": [
    "### Methods"
   ]
  },
  {
   "cell_type": "code",
   "execution_count": null,
   "metadata": {},
   "outputs": [],
   "source": [
    "Methods are functions defined inside the body of a class. \n",
    "They are used to perform operations with the attributes of our objects.\n",
    "Methods are important for dividing responsibilities in programming.\n",
    "\n",
    "Methods basically are functions acting on objects \n",
    "that take object itself into account through its self argument."
   ]
  },
  {
   "cell_type": "code",
   "execution_count": 40,
   "metadata": {},
   "outputs": [
    {
     "name": "stdout",
     "output_type": "stream",
     "text": [
      "Radius is:  1\n",
      "Area is:  3.14159\n",
      "circumference is: 6.28318\n"
     ]
    }
   ],
   "source": [
    "class Circle:\n",
    "    pi = 3.14159\n",
    "    \n",
    "    #Circle gets instantiated with a radius (default is 1).\n",
    "    def __init__(self, radius=1):\n",
    "        self.radius = radius\n",
    "        self.area = radius * radius * Circle.pi\n",
    "        \n",
    "    #method for resetting radius\n",
    "    def setRadius(self, new_radius):\n",
    "        self.radius = new_radius\n",
    "        self.area = new_radius * new_radius * self.pi\n",
    "        \n",
    "    #Method for getting Circumference\n",
    "    def getcircumference(self):\n",
    "        return self.radius * self.pi * 2\n",
    "\n",
    "c = Circle()\n",
    "\n",
    "print('Radius is: ', c.radius)\n",
    "print('Area is: ',c.area)\n",
    "print('circumference is:', c.getcircumference())"
   ]
  },
  {
   "cell_type": "code",
   "execution_count": 42,
   "metadata": {},
   "outputs": [
    {
     "name": "stdout",
     "output_type": "stream",
     "text": [
      "Radius is:  2\n",
      "Area is:  12.56636\n",
      "circumference is: 12.56636\n"
     ]
    }
   ],
   "source": [
    "c.setRadius(2)\n",
    "\n",
    "print('Radius is: ', c.radius)\n",
    "print('Area is: ',c.area)\n",
    "print('circumference is:', c.getcircumference())"
   ]
  },
  {
   "cell_type": "code",
   "execution_count": 71,
   "metadata": {},
   "outputs": [
    {
     "name": "stdout",
     "output_type": "stream",
     "text": [
      "Rocket altitude: 4\n",
      "Rocket altitude: 0\n",
      "Rocket altitude: 0\n",
      "Rocket altitude: 0\n",
      "Rocket altitude: 0\n"
     ]
    }
   ],
   "source": [
    "class Rocket():\n",
    "    \n",
    "    def __init__(self):\n",
    "        # Each rocket has an (x,y) position.\n",
    "        self.x = 0\n",
    "        self.y = 0\n",
    "        \n",
    "    def move_up(self):\n",
    "        # Increment the y-position of the rocket.\n",
    "        self.y += 1\n",
    "        \n",
    "# Create a fleet of 5 rockets, and store them in a list.\n",
    "my_rockets = [Rocket() for x in range(0,5)]\n",
    "\n",
    "# Move the first rocket up.\n",
    "my_rockets[0].move_up()\n",
    "my_rockets[0].move_up()\n",
    "my_rockets[0].move_up()\n",
    "my_rockets[0].move_up()\n",
    "\n",
    "# Show that only the first rocket has moved.\n",
    "for rocket in my_rockets:\n",
    "    print(\"Rocket altitude:\", rocket.y)"
   ]
  },
  {
   "cell_type": "code",
   "execution_count": null,
   "metadata": {},
   "outputs": [],
   "source": [
    "A class is a body of code that defines the attributes and behaviors required to accurately model something you need for your program. \n",
    "You can model something from the real world, such as a rocket ship or a guitar string, or you can model something from a virtual world such as a rocket in a game, or a set of physical laws for a game engine.\n",
    "\n",
    "An attribute is a piece of information. In code, an attribute is just a variable that is part of a class.\n",
    "\n",
    "A behavior is an action that is defined within a class. These are made up of methods, which are just functions that are defined for the class.\n",
    "\n",
    "An object is a particular instance of a class. An object has a certain set of values for all of the attributes (variables) in the class. You can have as many objects as you want for any one class.\n"
   ]
  },
  {
   "cell_type": "markdown",
   "metadata": {},
   "source": [
    "## Inheritance\n",
    "\n",
    "Inheritance is a way to form new classes using classes that have already been defined. Newly formed classes are called derviced classes. The classes that we drive from are called base classes. Important benefits of inheritance are code reuse and reduction of complexity of a program. derived classes override or extend the functionality of a base class."
   ]
  },
  {
   "cell_type": "code",
   "execution_count": 53,
   "metadata": {},
   "outputs": [],
   "source": [
    "class Animal:\n",
    "    def __init__(self):\n",
    "        print(\"Animal created\")\n",
    "\n",
    "    def whoAmI(self):\n",
    "        print(\"Animal\")\n",
    "\n",
    "    def eat(self):\n",
    "        print(\"Eating\")\n",
    "\n",
    "\n",
    "class Dog(Animal):\n",
    "    def __init__(self):\n",
    "        Animal.__init__(self)\n",
    "        print(\"Dog created\")\n",
    "\n",
    "    def whoAmI(self):\n",
    "        print(\"Dog\")\n",
    "\n",
    "    def bark(self):\n",
    "        print(\"Woof!\")"
   ]
  },
  {
   "cell_type": "code",
   "execution_count": 54,
   "metadata": {},
   "outputs": [
    {
     "name": "stdout",
     "output_type": "stream",
     "text": [
      "Animal created\n",
      "Dog created\n"
     ]
    }
   ],
   "source": [
    "d = Dog()"
   ]
  },
  {
   "cell_type": "code",
   "execution_count": 57,
   "metadata": {},
   "outputs": [
    {
     "name": "stdout",
     "output_type": "stream",
     "text": [
      "Dog\n"
     ]
    }
   ],
   "source": [
    "d.whoAmI()"
   ]
  },
  {
   "cell_type": "code",
   "execution_count": 58,
   "metadata": {},
   "outputs": [
    {
     "name": "stdout",
     "output_type": "stream",
     "text": [
      "Woof!\n"
     ]
    }
   ],
   "source": [
    "d.bark()"
   ]
  },
  {
   "cell_type": "code",
   "execution_count": 59,
   "metadata": {},
   "outputs": [
    {
     "name": "stdout",
     "output_type": "stream",
     "text": [
      "Eating\n"
     ]
    }
   ],
   "source": [
    "d.eat()"
   ]
  },
  {
   "cell_type": "markdown",
   "metadata": {},
   "source": [
    "\n",
    "In above example we have 2 classes: Animal and Dog. \n",
    "Animal is base class , Dog is derived class.\n",
    "derived class Dog inherits eat() method from Animal\n",
    "derived class also modfied existing behaviour of base class as shown by whoAmI() method\n",
    "dervied class also extends functionality of base class by defining new bark() method."
   ]
  },
  {
   "cell_type": "markdown",
   "metadata": {},
   "source": [
    "### Polymorphism\n",
    "\n",
    "Polymorphism refers to a way in which different object classes can share the same method name, and those methods can be called from same place even though a variety of deifferent objects might be passed in."
   ]
  },
  {
   "cell_type": "code",
   "execution_count": 60,
   "metadata": {},
   "outputs": [
    {
     "name": "stdout",
     "output_type": "stream",
     "text": [
      "Niko says woof!\n",
      "Felix says Meow!\n"
     ]
    }
   ],
   "source": [
    "class Dog:\n",
    "    def __init__(self, name):\n",
    "        self.name = name\n",
    "        \n",
    "    def speak(self):\n",
    "        return self.name+' says woof!'\n",
    "\n",
    "class Cat:\n",
    "    def __init__(self, name):\n",
    "        self.name = name\n",
    "        \n",
    "    def speak(self):\n",
    "        return self.name+' says Meow!'\n",
    "    \n",
    "niko = Dog('Niko')\n",
    "felix = Cat('Felix')\n",
    "\n",
    "print(niko.speak())\n",
    "print(felix.speak())"
   ]
  },
  {
   "cell_type": "markdown",
   "metadata": {},
   "source": [
    "\n",
    "here we have a Dog class and Cat class and each has a .speak() method. \n",
    "When called, each method returns a result unique to the object."
   ]
  },
  {
   "cell_type": "code",
   "execution_count": 62,
   "metadata": {},
   "outputs": [
    {
     "name": "stdout",
     "output_type": "stream",
     "text": [
      "Niko says woof!\n",
      "Felix says Meow!\n"
     ]
    }
   ],
   "source": [
    "for pet in [niko, felix]:\n",
    "    print(pet.speak())"
   ]
  },
  {
   "cell_type": "code",
   "execution_count": 63,
   "metadata": {},
   "outputs": [
    {
     "name": "stdout",
     "output_type": "stream",
     "text": [
      "Niko says woof!\n",
      "Felix says Meow!\n"
     ]
    }
   ],
   "source": [
    "def pet_speak(pet):\n",
    "    print(pet.speak())\n",
    "    \n",
    "pet_speak(niko)\n",
    "pet_speak(felix)"
   ]
  },
  {
   "cell_type": "markdown",
   "metadata": {},
   "source": [
    "\n",
    "In both cases we were able to pass in difeerent object types, and we obtained object_specific results from same mechanism.\n",
    "\n",
    "A more common practice is to use abstract classes and inheritance.\n",
    "An abstract class is one that never expects to be instantiated.\n",
    "For example, we will never have an animal object, only Dog and Cat objects, although these are dervied classes"
   ]
  },
  {
   "cell_type": "code",
   "execution_count": 65,
   "metadata": {},
   "outputs": [
    {
     "name": "stdout",
     "output_type": "stream",
     "text": [
      "Fido says Woof!\n",
      "Isis says Meow!\n"
     ]
    }
   ],
   "source": [
    "class Animal:\n",
    "    def __init__(self, name): #constructor of class\n",
    "        self.name = name\n",
    "        \n",
    "    def speak(self): #Abstract method, defined by convention only \n",
    "        raise NotImplementedError(\"Subclass must implement abstract method\")\n",
    "        \n",
    "class Dog(Animal):\n",
    "    def speak(self):\n",
    "        return self.name +' says Woof!'\n",
    "    \n",
    "class Cat(Animal):\n",
    "    def speak(self):\n",
    "        return self.name+' says Meow!'\n",
    "    \n",
    "fido = Dog('Fido')\n",
    "isis = Cat('Isis')\n",
    "\n",
    "print(fido.speak())\n",
    "print(isis.speak())"
   ]
  },
  {
   "cell_type": "markdown",
   "metadata": {},
   "source": [
    "## Special Methods\n",
    "\n",
    "Classes in python implement certain operations with special method names."
   ]
  },
  {
   "cell_type": "code",
   "execution_count": 67,
   "metadata": {},
   "outputs": [],
   "source": [
    "class Book:\n",
    "    def __init__(self, title, author, pages):\n",
    "        print(\"A Book object is created\")\n",
    "        self.title = title\n",
    "        self.author = author\n",
    "        self.pages = pages\n",
    "        \n",
    "    def __str__(self):\n",
    "        return \"Title: %s, author: %s, pages: %s\"%(self.title, self.author, self.pages)\n",
    "    \n",
    "    def __len__(self):\n",
    "        return self.pages\n",
    "    \n",
    "    def __del__(self):\n",
    "        print(\"A book is destroyed\")"
   ]
  },
  {
   "cell_type": "code",
   "execution_count": 69,
   "metadata": {},
   "outputs": [
    {
     "name": "stdout",
     "output_type": "stream",
     "text": [
      "A Book object is created\n",
      "A book is destroyed\n",
      "Title: Python Book, author: Jose Portilla, pages: 159\n",
      "159\n",
      "A book is destroyed\n"
     ]
    }
   ],
   "source": [
    "book = Book(\"Python Book\", \"Jose Portilla\", 159)\n",
    "\n",
    "print(book)\n",
    "print(len(book))\n",
    "del book"
   ]
  },
  {
   "cell_type": "markdown",
   "metadata": {},
   "source": [
    "__init__(), __str__(), __len__() and __del__() methods allow python specific functions on objects created through our class Book"
   ]
  },
  {
   "cell_type": "code",
   "execution_count": null,
   "metadata": {},
   "outputs": [],
   "source": []
  }
 ],
 "metadata": {
  "kernelspec": {
   "display_name": "Python 3",
   "language": "python",
   "name": "python3"
  },
  "language_info": {
   "codemirror_mode": {
    "name": "ipython",
    "version": 3
   },
   "file_extension": ".py",
   "mimetype": "text/x-python",
   "name": "python",
   "nbconvert_exporter": "python",
   "pygments_lexer": "ipython3",
   "version": "3.7.3"
  }
 },
 "nbformat": 4,
 "nbformat_minor": 2
}
