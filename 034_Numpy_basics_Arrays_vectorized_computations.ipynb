{
 "cells": [
  {
   "cell_type": "markdown",
   "metadata": {},
   "source": [
    "##### Numpy - Numerical python \n",
    "\n",
    "is a fundamental package for high performance scientific computing and data analysis. \n",
    "\n",
    "it provides the following:\n",
    "\n",
    "1. ndarray - a fast and space efficient multidimensional array providing vectorized arithmetic operations and sophisticated broadcasting capabilities.\n",
    "\n",
    "2. standard mathematical functions for fast operations on entire arrays of data without having to write loops.\n",
    "\n",
    "3. Tools for reading/writing array data to disk and working with memory-mapped files.\n",
    "\n",
    "4. Linear algebra, random number generation and Fourier transform capabilities\n",
    "\n",
    "5. Tools for integrating code written in C, C++ and Fortran. it provides easy to use C API, it is easy to pass data to external libraries written in low level languages and also for external libraries to return data to python as NumPy arrays."
   ]
  },
  {
   "cell_type": "code",
   "execution_count": 4,
   "metadata": {},
   "outputs": [
    {
     "name": "stdout",
     "output_type": "stream",
     "text": [
      "622\n",
      "['ALLOW_THREADS', 'AxisError', 'BUFSIZE', 'CLIP', 'ComplexWarning', 'DataSource', 'ERR_CALL', 'ERR_DEFAULT', 'ERR_IGNORE', 'ERR_LOG', 'ERR_PRINT', 'ERR_RAISE', 'ERR_WARN', 'FLOATING_POINT_SUPPORT', 'FPE_DIVIDEBYZERO', 'FPE_INVALID', 'FPE_OVERFLOW', 'FPE_UNDERFLOW', 'False_', 'Inf', 'Infinity', 'MAXDIMS', 'MAY_SHARE_BOUNDS', 'MAY_SHARE_EXACT', 'MachAr', 'ModuleDeprecationWarning', 'NAN', 'NINF', 'NZERO', 'NaN', 'PINF', 'PZERO', 'RAISE', 'RankWarning', 'SHIFT_DIVIDEBYZERO', 'SHIFT_INVALID', 'SHIFT_OVERFLOW', 'SHIFT_UNDERFLOW', 'ScalarType', 'Tester', 'TooHardError', 'True_', 'UFUNC_BUFSIZE_DEFAULT', 'UFUNC_PYVALS_NAME', 'VisibleDeprecationWarning', 'WRAP', '_NoValue', '_UFUNC_API', '__NUMPY_SETUP__', '__all__', '__builtins__', '__cached__', '__config__', '__doc__', '__file__', '__git_revision__', '__loader__', '__mkl_version__', '__name__', '__package__', '__path__', '__spec__', '__version__', '_add_newdoc_ufunc', '_arg', '_distributor_init', '_globals', '_mat', '_mklinit', '_pytesttester', 'abs', 'absolute', 'absolute_import', 'add', 'add_docstring', 'add_newdoc', 'add_newdoc_ufunc', 'alen', 'all', 'allclose', 'alltrue', 'amax', 'amin', 'angle', 'any', 'append', 'apply_along_axis', 'apply_over_axes', 'arange', 'arccos', 'arccosh', 'arcsin', 'arcsinh', 'arctan', 'arctan2', 'arctanh', 'argmax', 'argmin', 'argpartition', 'argsort', 'argwhere', 'around', 'array', 'array2string', 'array_equal', 'array_equiv', 'array_repr', 'array_split', 'array_str', 'asanyarray', 'asarray', 'asarray_chkfinite', 'ascontiguousarray', 'asfarray', 'asfortranarray', 'asmatrix', 'asscalar', 'atleast_1d', 'atleast_2d', 'atleast_3d', 'average', 'bartlett', 'base_repr', 'binary_repr', 'bincount', 'bitwise_and', 'bitwise_not', 'bitwise_or', 'bitwise_xor', 'blackman', 'block', 'bmat', 'bool', 'bool8', 'bool_', 'broadcast', 'broadcast_arrays', 'broadcast_to', 'busday_count', 'busday_offset', 'busdaycalendar', 'byte', 'byte_bounds', 'bytes0', 'bytes_', 'c_', 'can_cast', 'cast', 'cbrt', 'cdouble', 'ceil', 'cfloat', 'char', 'character', 'chararray', 'choose', 'clip', 'clongdouble', 'clongfloat', 'column_stack', 'common_type', 'compare_chararrays', 'compat', 'complex', 'complex128', 'complex64', 'complex_', 'complexfloating', 'compress', 'concatenate', 'conj', 'conjugate', 'convolve', 'copy', 'copysign', 'copyto', 'core', 'corrcoef', 'correlate', 'cos', 'cosh', 'count_nonzero', 'cov', 'cross', 'csingle', 'ctypeslib', 'cumprod', 'cumproduct', 'cumsum', 'datetime64', 'datetime_as_string', 'datetime_data', 'deg2rad', 'degrees', 'delete', 'deprecate', 'deprecate_with_doc', 'diag', 'diag_indices', 'diag_indices_from', 'diagflat', 'diagonal', 'diff', 'digitize', 'disp', 'divide', 'division', 'divmod', 'dot', 'double', 'dsplit', 'dstack', 'dtype', 'e', 'ediff1d', 'einsum', 'einsum_path', 'emath', 'empty', 'empty_like', 'equal', 'errstate', 'euler_gamma', 'exp', 'exp2', 'expand_dims', 'expm1', 'extract', 'eye', 'fabs', 'fastCopyAndTranspose', 'fft', 'fill_diagonal', 'find_common_type', 'finfo', 'fix', 'flatiter', 'flatnonzero', 'flexible', 'flip', 'fliplr', 'flipud', 'float', 'float16', 'float32', 'float64', 'float_', 'float_power', 'floating', 'floor', 'floor_divide', 'fmax', 'fmin', 'fmod', 'format_float_positional', 'format_float_scientific', 'format_parser', 'frexp', 'frombuffer', 'fromfile', 'fromfunction', 'fromiter', 'frompyfunc', 'fromregex', 'fromstring', 'full', 'full_like', 'fv', 'gcd', 'generic', 'genfromtxt', 'geomspace', 'get_array_wrap', 'get_include', 'get_printoptions', 'getbufsize', 'geterr', 'geterrcall', 'geterrobj', 'gradient', 'greater', 'greater_equal', 'half', 'hamming', 'hanning', 'heaviside', 'histogram', 'histogram2d', 'histogram_bin_edges', 'histogramdd', 'hsplit', 'hstack', 'hypot', 'i0', 'identity', 'iinfo', 'imag', 'in1d', 'index_exp', 'indices', 'inexact', 'inf', 'info', 'infty', 'inner', 'insert', 'int', 'int0', 'int16', 'int32', 'int64', 'int8', 'int_', 'int_asbuffer', 'intc', 'integer', 'interp', 'intersect1d', 'intp', 'invert', 'ipmt', 'irr', 'is_busday', 'isclose', 'iscomplex', 'iscomplexobj', 'isfinite', 'isfortran', 'isin', 'isinf', 'isnan', 'isnat', 'isneginf', 'isposinf', 'isreal', 'isrealobj', 'isscalar', 'issctype', 'issubclass_', 'issubdtype', 'issubsctype', 'iterable', 'ix_', 'kaiser', 'kron', 'lcm', 'ldexp', 'left_shift', 'less', 'less_equal', 'lexsort', 'lib', 'linalg', 'linspace', 'little_endian', 'load', 'loads', 'loadtxt', 'log', 'log10', 'log1p', 'log2', 'logaddexp', 'logaddexp2', 'logical_and', 'logical_not', 'logical_or', 'logical_xor', 'logspace', 'long', 'longcomplex', 'longdouble', 'longfloat', 'longlong', 'lookfor', 'ma', 'mafromtxt', 'mask_indices', 'mat', 'math', 'matmul', 'matrix', 'matrixlib', 'max', 'maximum', 'maximum_sctype', 'may_share_memory', 'mean', 'median', 'memmap', 'meshgrid', 'mgrid', 'min', 'min_scalar_type', 'minimum', 'mintypecode', 'mirr', 'mod', 'modf', 'moveaxis', 'msort', 'multiply', 'nan', 'nan_to_num', 'nanargmax', 'nanargmin', 'nancumprod', 'nancumsum', 'nanmax', 'nanmean', 'nanmedian', 'nanmin', 'nanpercentile', 'nanprod', 'nanquantile', 'nanstd', 'nansum', 'nanvar', 'nbytes', 'ndarray', 'ndenumerate', 'ndfromtxt', 'ndim', 'ndindex', 'nditer', 'negative', 'nested_iters', 'newaxis', 'nextafter', 'nonzero', 'not_equal', 'nper', 'npv', 'numarray', 'number', 'obj2sctype', 'object', 'object0', 'object_', 'ogrid', 'oldnumeric', 'ones', 'ones_like', 'outer', 'packbits', 'pad', 'partition', 'percentile', 'pi', 'piecewise', 'place', 'pmt', 'poly', 'poly1d', 'polyadd', 'polyder', 'polydiv', 'polyfit', 'polyint', 'polymul', 'polynomial', 'polysub', 'polyval', 'positive', 'power', 'ppmt', 'print_function', 'printoptions', 'prod', 'product', 'promote_types', 'ptp', 'put', 'put_along_axis', 'putmask', 'pv', 'quantile', 'r_', 'rad2deg', 'radians', 'random', 'rank', 'rate', 'ravel', 'ravel_multi_index', 'real', 'real_if_close', 'rec', 'recarray', 'recfromcsv', 'recfromtxt', 'reciprocal', 'record', 'remainder', 'repeat', 'require', 'reshape', 'resize', 'result_type', 'right_shift', 'rint', 'roll', 'rollaxis', 'roots', 'rot90', 'round', 'round_', 'row_stack', 's_', 'safe_eval', 'save', 'savetxt', 'savez', 'savez_compressed', 'sctype2char', 'sctypeDict', 'sctypeNA', 'sctypes', 'searchsorted', 'select', 'set_numeric_ops', 'set_printoptions', 'set_string_function', 'setbufsize', 'setdiff1d', 'seterr', 'seterrcall', 'seterrobj', 'setxor1d', 'shape', 'shares_memory', 'short', 'show_config', 'sign', 'signbit', 'signedinteger', 'sin', 'sinc', 'single', 'singlecomplex', 'sinh', 'size', 'sometrue', 'sort', 'sort_complex', 'source', 'spacing', 'split', 'sqrt', 'square', 'squeeze', 'stack', 'std', 'str', 'str0', 'str_', 'string_', 'subtract', 'sum', 'swapaxes', 'sys', 'take', 'take_along_axis', 'tan', 'tanh', 'tensordot', 'test', 'testing', 'tile', 'timedelta64', 'trace', 'tracemalloc_domain', 'transpose', 'trapz', 'tri', 'tril', 'tril_indices', 'tril_indices_from', 'trim_zeros', 'triu', 'triu_indices', 'triu_indices_from', 'true_divide', 'trunc', 'typeDict', 'typeNA', 'typecodes', 'typename', 'ubyte', 'ufunc', 'uint', 'uint0', 'uint16', 'uint32', 'uint64', 'uint8', 'uintc', 'uintp', 'ulonglong', 'unicode', 'unicode_', 'union1d', 'unique', 'unpackbits', 'unravel_index', 'unsignedinteger', 'unwrap', 'ushort', 'vander', 'var', 'vdot', 'vectorize', 'version', 'void', 'void0', 'vsplit', 'vstack', 'warnings', 'where', 'who', 'zeros', 'zeros_like']\n"
     ]
    }
   ],
   "source": [
    "import numpy as np\n",
    "print(len(dir(np)))\n",
    "print(dir(np))"
   ]
  },
  {
   "cell_type": "markdown",
   "metadata": {},
   "source": [
    "##### we'll focus on the following:\n",
    "\n",
    "• Fast vectorized array operations for data munging and cleaning, subsetting and filtering, transformation, and any other kinds of computations\n",
    "\n",
    "• Common array algorithms like sorting, unique, and set operations\n",
    "\n",
    "• Efficient descriptive statistics and aggregating/summarizing data\n",
    "\n",
    "• Data alignment and relational data manipulations for merging and joining together heterogeneous data sets\n",
    "\n",
    "• Expressing conditional logic as array expressions instead of loops with if-elif  else branches\n",
    "\n",
    "• Group-wise data manipulations (aggregation, transformation, function application)."
   ]
  },
  {
   "cell_type": "markdown",
   "metadata": {},
   "source": [
    "##### numpy ndarray: A multidimensional array object\n",
    "    \n",
    "ndarray is a generic multidimensional container for homogenous data, elements are of same type. \n",
    "\n",
    "Every array has a shape, dtype and dimensions(rows*columns)"
   ]
  },
  {
   "cell_type": "code",
   "execution_count": 31,
   "metadata": {},
   "outputs": [
    {
     "name": "stdout",
     "output_type": "stream",
     "text": [
      "[ 6.   7.4  8.   0.   1.   7.   4.  -5. ]\n",
      "[ 6.   7.4  8.   0.   1.   7.   4.  -5. ]\n"
     ]
    }
   ],
   "source": [
    "#creating ndarrays usng array and asarray\n",
    "\n",
    "data1 = [6,7.4, 8, 0, 1, 7 , 4, -5]\n",
    "arr1 = np.array(data1)\n",
    "print(arr1)\n",
    "arr1 = np.asarray(data1)\n",
    "print(arr1)"
   ]
  },
  {
   "cell_type": "code",
   "execution_count": 7,
   "metadata": {},
   "outputs": [
    {
     "data": {
      "text/plain": [
       "array([[1, 2, 3, 4],\n",
       "       [5, 6, 7, 8]])"
      ]
     },
     "execution_count": 7,
     "metadata": {},
     "output_type": "execute_result"
    }
   ],
   "source": [
    "data2 = [[1,2,3,4],[5,6,7,8]]\n",
    "arr2 = np.array(data2)\n",
    "arr2"
   ]
  },
  {
   "cell_type": "code",
   "execution_count": 11,
   "metadata": {},
   "outputs": [
    {
     "name": "stdout",
     "output_type": "stream",
     "text": [
      "1 2\n",
      "(8,) (2, 4)\n",
      "float64 int32\n"
     ]
    }
   ],
   "source": [
    "print(arr1.ndim, arr2.ndim)\n",
    "print(arr1.shape, arr2.shape)\n",
    "print(arr1.dtype, arr2.dtype)"
   ]
  },
  {
   "cell_type": "code",
   "execution_count": 16,
   "metadata": {},
   "outputs": [
    {
     "name": "stdout",
     "output_type": "stream",
     "text": [
      "[0. 0. 0. 0. 0.]\n",
      "[1. 1. 1. 1. 1.]\n"
     ]
    }
   ],
   "source": [
    "#In addtion to np.array, there are other ways to create arrays.\n",
    "a= np.zeros(5)\n",
    "b = np.ones(5)\n",
    "print(a)\n",
    "print(b)\n"
   ]
  },
  {
   "cell_type": "code",
   "execution_count": 25,
   "metadata": {},
   "outputs": [
    {
     "name": "stdout",
     "output_type": "stream",
     "text": [
      "[[0. 0. 0. 0. 0. 0.]\n",
      " [0. 0. 0. 0. 0. 0.]\n",
      " [0. 0. 0. 0. 0. 0.]]\n",
      "[[1. 1. 1. 1.]]\n",
      "[[[0. 0.]\n",
      "  [0. 0.]\n",
      "  [0. 0.]]\n",
      "\n",
      " [[0. 0.]\n",
      "  [0. 0.]\n",
      "  [0. 0.]]]\n"
     ]
    }
   ],
   "source": [
    "#np.zeros and np.ones creates arrays of 0's and 1's\n",
    "print(np.zeros((3,6)))\n",
    "print(np.ones((1,4)))\n",
    "\n",
    "#np.empty creates an array without initializing its values to any particular value\n",
    "print(np.empty((2,3,2)))"
   ]
  },
  {
   "cell_type": "code",
   "execution_count": 28,
   "metadata": {},
   "outputs": [
    {
     "data": {
      "text/plain": [
       "array([ 0,  1,  2,  3,  4,  5,  6,  7,  8,  9, 10, 11, 12, 13, 14])"
      ]
     },
     "execution_count": 28,
     "metadata": {},
     "output_type": "execute_result"
    }
   ],
   "source": [
    "#arange is an array-valued version of the builtin python range function\n",
    "\n",
    "np.arange(15)"
   ]
  },
  {
   "cell_type": "markdown",
   "metadata": {},
   "source": [
    "#### Table 4-1. Array creation functions:\n",
    "\n",
    "Function --> Description\n",
    "\n",
    "array --> Convert input data (list, tuple, array, or other sequence type) to an ndarray either by inferring a dtype or explicitly specifying a dtype. Copies the input data by default.\n",
    "\n",
    "asarray --> Convert input to ndarray, but do not copy if the input is already an ndarray\n",
    "\n",
    "arange --> Like the built-in range but returns an ndarray instead of a list.\n",
    "\n",
    "ones, ones_like --> Produce an array of all 1’s with the given shape and dtype. ones_like takes another array and produces a ones array of the same shape and dtype.\n",
    "\n",
    "zeros, zeros_like --> Like ones and ones_like but producing arrays of 0’s instead \n",
    "\n",
    "empty, empty_like --> Create new arrays by allocating new memory, but do not populate with any values like ones and zeros\n",
    "\n",
    "eye, identity --> Create a square N x N identity matrix (1’s on the diagonal and 0’s elsewhere)"
   ]
  },
  {
   "cell_type": "code",
   "execution_count": 30,
   "metadata": {},
   "outputs": [
    {
     "data": {
      "text/plain": [
       "array([0., 0., 0., 0., 0.])"
      ]
     },
     "execution_count": 30,
     "metadata": {},
     "output_type": "execute_result"
    }
   ],
   "source": [
    "np.asarray(a)"
   ]
  },
  {
   "cell_type": "markdown",
   "metadata": {},
   "source": [
    "#### Datatypes for ndarrays\n",
    "\n",
    "datatype or dtype is a special object containing the information the ndarray needs to interpret a chunk of memory as a particular type of data.\n",
    "\n",
    "\n",
    "Type --> Type -->Code Description\n",
    "\n",
    "int8, uint8--> i1, u1 -->Signed and unsigned 8-bit (1 byte) integer types\n",
    "\n",
    "int16, uint16 -->i2, u2 --> Signed and unsigned 16-bit integer types\n",
    "\n",
    "int32, uint32 -->i4, u4 -->Signed and unsigned 32-bit integer types\n",
    "\n",
    "int64, uint64 -->i8, u8 -->Signed and unsigned 32-bit integer types\n",
    "\n",
    "float16 -->f2 -->Half-precision floating point\n",
    "\n",
    "float32 -->f4 or f --> Standard single-precision floating point. Compatible with C float\n",
    "\n",
    "float64, float128 --> f8 or d -->Standard double-precision floating point. Compatible with C double and Python float object\n",
    "\n",
    "float128 --> f16 or g --> Extended-precision floating point\n",
    "\n",
    "complex64/128/256 -->c8, c16, c32 --> Complex numbers represented by two 32, 64, or 128 floats, respectively\n",
    "\n",
    "bool --> ? --> Boolean type storing True and False values\n",
    "\n",
    "object --> O --> Python object type\n",
    "\n",
    "string_ --> S --> Fixed-length string type (1 byte per character). For example, to create a string dtype with length 10, use 'S10'.\n",
    "\n",
    "unicode_ --> U --> Fixed-length unicode type (number of bytes platform \n",
    "specific). Same specification semantics as string_ (e.g. 'U10')"
   ]
  },
  {
   "cell_type": "code",
   "execution_count": 34,
   "metadata": {},
   "outputs": [
    {
     "name": "stdout",
     "output_type": "stream",
     "text": [
      "float64 int32\n"
     ]
    }
   ],
   "source": [
    "arr1 = np.array([1,2,3],dtype = np.float64)\n",
    "arr2 = np.array([1,2,3],dtype = np.int32)\n",
    "print(arr1.dtype, arr2.dtype)"
   ]
  },
  {
   "cell_type": "code",
   "execution_count": 42,
   "metadata": {},
   "outputs": [
    {
     "name": "stdout",
     "output_type": "stream",
     "text": [
      "int32\n",
      "[1 2 3 4 5]\n",
      "float64\n",
      "[1. 2. 3. 4. 5.]\n",
      "|S32\n",
      "[b'1.0' b'2.0' b'3.0' b'4.0' b'5.0']\n",
      "complex64\n",
      "[1.+0.j 2.+0.j 3.+0.j 4.+0.j 5.+0.j]\n",
      "int32\n",
      "[1 2 3 4 5]\n"
     ]
    },
    {
     "name": "stderr",
     "output_type": "stream",
     "text": [
      "C:\\Users\\SP\\Anaconda3\\lib\\site-packages\\ipykernel_launcher.py:19: ComplexWarning: Casting complex values to real discards the imaginary part\n"
     ]
    }
   ],
   "source": [
    "#convert or cast an array from one dtype to another using astype method:\n",
    "\n",
    "arr = np.array([1,2,3,4,5])\n",
    "print(arr.dtype)\n",
    "print(arr)\n",
    "\n",
    "arr = arr.astype(np.float64)\n",
    "print(arr.dtype)\n",
    "print(arr)\n",
    "\n",
    "arr = arr.astype(np.string_)\n",
    "print(arr.dtype)\n",
    "print(arr)\n",
    "\n",
    "arr = arr.astype(np.complex64)\n",
    "print(arr.dtype)\n",
    "print(arr)\n",
    "\n",
    "arr = arr.astype(np.int32)\n",
    "print(arr.dtype)\n",
    "print(arr)"
   ]
  },
  {
   "cell_type": "markdown",
   "metadata": {},
   "source": [
    "#### Operations between arrays and scalars\n",
    "\n",
    "Arrays are important because they enable you to express batch operations on data without writing any for loops. This is usually called vectorization. Any arithmetic operations between equal-size arrays applies the operation elementwise while Operations between different sized arrays is called broadcasting"
   ]
  },
  {
   "cell_type": "code",
   "execution_count": 43,
   "metadata": {},
   "outputs": [
    {
     "data": {
      "text/plain": [
       "array([[1., 2., 3.],\n",
       "       [4., 5., 6.]])"
      ]
     },
     "execution_count": 43,
     "metadata": {},
     "output_type": "execute_result"
    }
   ],
   "source": [
    "arr = np.array([[1.,2.,3.],[4.,5.,6.]])\n",
    "arr"
   ]
  },
  {
   "cell_type": "code",
   "execution_count": 44,
   "metadata": {},
   "outputs": [
    {
     "data": {
      "text/plain": [
       "array([[ 1.,  4.,  9.],\n",
       "       [16., 25., 36.]])"
      ]
     },
     "execution_count": 44,
     "metadata": {},
     "output_type": "execute_result"
    }
   ],
   "source": [
    "arr*arr"
   ]
  },
  {
   "cell_type": "code",
   "execution_count": 45,
   "metadata": {},
   "outputs": [
    {
     "data": {
      "text/plain": [
       "array([[1.        , 0.5       , 0.33333333],\n",
       "       [0.25      , 0.2       , 0.16666667]])"
      ]
     },
     "execution_count": 45,
     "metadata": {},
     "output_type": "execute_result"
    }
   ],
   "source": [
    "1/arr"
   ]
  },
  {
   "cell_type": "code",
   "execution_count": 46,
   "metadata": {},
   "outputs": [
    {
     "data": {
      "text/plain": [
       "array([[0.5, 1. , 1.5],\n",
       "       [2. , 2.5, 3. ]])"
      ]
     },
     "execution_count": 46,
     "metadata": {},
     "output_type": "execute_result"
    }
   ],
   "source": [
    "arr*.5"
   ]
  },
  {
   "cell_type": "code",
   "execution_count": 47,
   "metadata": {},
   "outputs": [
    {
     "data": {
      "text/plain": [
       "array([[ 2.,  4.,  6.],\n",
       "       [ 8., 10., 12.]])"
      ]
     },
     "execution_count": 47,
     "metadata": {},
     "output_type": "execute_result"
    }
   ],
   "source": [
    "arr+arr"
   ]
  },
  {
   "cell_type": "markdown",
   "metadata": {},
   "source": [
    "##### basic indexing and slicing\n",
    "\n",
    "There are many ways to select subset of data or individual elements."
   ]
  },
  {
   "cell_type": "code",
   "execution_count": 54,
   "metadata": {},
   "outputs": [
    {
     "name": "stdout",
     "output_type": "stream",
     "text": [
      "[0 1 2 3 4 5 6 7 8 9]\n",
      "5\n",
      "[5 6 7]\n",
      "[12 12 12]\n",
      "[ 0  1  2  3  4 12 12 12  8  9]\n",
      "[    0     1     2     3     4    12 12345    12     8     9]\n",
      "[   12 12345    12]\n"
     ]
    }
   ],
   "source": [
    "arr = np.arange(10)\n",
    "print(arr)\n",
    "print(arr[5])\n",
    "print(arr[5:8])\n",
    "\n",
    "arr[5:8]=12\n",
    "print(arr[5:8])\n",
    "print(arr)\n",
    "\n",
    "arr_slice = arr[5:8]\n",
    "arr_slice[1] = 12345\n",
    "\n",
    "print(arr)\n",
    "print(arr_slice[:])"
   ]
  },
  {
   "cell_type": "code",
   "execution_count": 60,
   "metadata": {},
   "outputs": [
    {
     "name": "stdout",
     "output_type": "stream",
     "text": [
      "[7 8 9]\n",
      "9\n",
      "4\n",
      "4\n"
     ]
    }
   ],
   "source": [
    "arr2d = np.array([[1,2,3],[4,5,6],[7,8,9]])\n",
    "print(arr2d[2])\n",
    "print(arr2d[2][2])\n",
    "print(arr2d[1][0])\n",
    "print(arr2d[1,0])"
   ]
  },
  {
   "cell_type": "code",
   "execution_count": 83,
   "metadata": {},
   "outputs": [
    {
     "name": "stdout",
     "output_type": "stream",
     "text": [
      "(2, 2, 3)\n",
      "\n",
      "[[[ 1  2  3]\n",
      "  [ 4  5  6]]\n",
      "\n",
      " [[ 7  8  9]\n",
      "  [10 11 12]]]\n",
      "\n",
      "[[1 2 3]\n",
      " [4 5 6]]\n",
      "\n",
      "[1 2 3]\n",
      "1\n",
      "2\n",
      "3\n",
      "4\n",
      "10\n",
      "12\n",
      "[[[32 32 32]\n",
      "  [42 42 42]]\n",
      "\n",
      " [[ 7  8  9]\n",
      "  [10 11 12]]]\n"
     ]
    }
   ],
   "source": [
    "arr3d = np.array([[[1, 2, 3], [4, 5, 6]], [[7, 8, 9], [10, 11, 12]]])\n",
    "print(arr3d.shape)\n",
    "print()\n",
    "print(arr3d)\n",
    "print()\n",
    "print(arr3d[0])\n",
    "print()\n",
    "print(arr3d[0][0])\n",
    "print(arr3d[0][0][0])\n",
    "print(arr3d[0][0][1])\n",
    "print(arr3d[0][0][2])\n",
    "print(arr3d[0][1][0])\n",
    "print(arr3d[1][1][0])\n",
    "print(arr3d[1][1][2])\n",
    "\n",
    "arr3d[0][1]=42\n",
    "arr3d[0][0]=32\n",
    "print(arr3d)"
   ]
  },
  {
   "cell_type": "code",
   "execution_count": 112,
   "metadata": {},
   "outputs": [
    {
     "name": "stdout",
     "output_type": "stream",
     "text": [
      "[    0     1     2     3     4    12 12345    12     8     9]\n",
      "\n",
      "[ 1  2  3  4 12]\n",
      "\n",
      "[[1 2 3]\n",
      " [4 5 6]\n",
      " [7 8 9]]\n",
      "\n",
      "[[1 2 3]\n",
      " [4 5 6]]\n",
      "\n",
      "[[1]\n",
      " [4]]\n",
      "\n",
      "[[1]\n",
      " [4]\n",
      " [7]]\n",
      "\n",
      "[[3]\n",
      " [6]\n",
      " [9]]\n",
      "\n",
      "[[4 5 6]]\n",
      "\n",
      "[[7 8 9]]\n",
      "\n",
      "[[2 3]\n",
      " [5 6]]\n",
      "\n",
      "[[1 2]\n",
      " [4 5]]\n"
     ]
    }
   ],
   "source": [
    "print(arr)\n",
    "print()\n",
    "print(arr[1:6])\n",
    "print()\n",
    "print(arr2d)\n",
    "print()\n",
    "print(arr2d[:2])\n",
    "print()\n",
    "print(arr2d[:2,:1])\n",
    "print()\n",
    "print(arr2d[:,:1])\n",
    "print()\n",
    "print(arr2d[:,2:3])\n",
    "print()\n",
    "print(arr2d[1:2,:])\n",
    "print()\n",
    "print(arr2d[2:3,:])\n",
    "print()\n",
    "print(arr2d[:2,1:])\n",
    "print()\n",
    "print(arr2d[:2,0:2])"
   ]
  },
  {
   "cell_type": "markdown",
   "metadata": {},
   "source": [
    "##### Boolean indexing\n",
    "\n",
    "Let’s consider an example where we have some data in an array and an array of names with duplicates. I’m going to use here the randn function in numpy.random to generate some random normally distributed data:\n"
   ]
  },
  {
   "cell_type": "code",
   "execution_count": 121,
   "metadata": {},
   "outputs": [
    {
     "name": "stdout",
     "output_type": "stream",
     "text": [
      "['Bob' 'Joe' 'Will' 'Bob' 'Will' 'Joe' 'Joe']\n"
     ]
    },
    {
     "data": {
      "text/plain": [
       "array([[-1.14478997, -0.43065902,  0.63283902, -0.65900513],\n",
       "       [ 0.49324263, -1.41013173,  0.12403513, -0.60476185],\n",
       "       [ 0.55761862,  0.10438399, -0.46908344,  0.00314616],\n",
       "       [-0.90946192, -0.07282316,  0.44594104,  0.03058698],\n",
       "       [ 0.72219361,  2.09738358,  2.01712753, -1.35343537],\n",
       "       [-0.95701322,  0.4130192 ,  0.36190586,  1.77949328],\n",
       "       [-0.41289075, -0.01789793, -0.17786204,  0.99859043]])"
      ]
     },
     "execution_count": 121,
     "metadata": {},
     "output_type": "execute_result"
    }
   ],
   "source": [
    "names = np.array(['Bob', 'Joe', 'Will', 'Bob', 'Will', 'Joe', 'Joe'])\n",
    "data = np.random.randn(7,4)\n",
    "print(names)\n",
    "data"
   ]
  },
  {
   "cell_type": "markdown",
   "metadata": {},
   "source": [
    "Suppose each name corresponds to a row in the data array. If we wanted to select all the rows with corresponding name 'Bob'. Like arithmetic operations, comparisons (such as ==) with arrays are also vectorized. Thus, comparing names with the string 'Bob' yields a boolean array:"
   ]
  },
  {
   "cell_type": "code",
   "execution_count": 122,
   "metadata": {},
   "outputs": [
    {
     "data": {
      "text/plain": [
       "array([ True, False, False,  True, False, False, False])"
      ]
     },
     "execution_count": 122,
     "metadata": {},
     "output_type": "execute_result"
    }
   ],
   "source": [
    "names == 'Bob'"
   ]
  },
  {
   "cell_type": "markdown",
   "metadata": {},
   "source": [
    "This boolean array can be passed when indexing the array:"
   ]
  },
  {
   "cell_type": "code",
   "execution_count": 123,
   "metadata": {},
   "outputs": [
    {
     "data": {
      "text/plain": [
       "array([[-1.14478997, -0.43065902,  0.63283902, -0.65900513],\n",
       "       [-0.90946192, -0.07282316,  0.44594104,  0.03058698]])"
      ]
     },
     "execution_count": 123,
     "metadata": {},
     "output_type": "execute_result"
    }
   ],
   "source": [
    "data[names=='Bob']"
   ]
  },
  {
   "cell_type": "markdown",
   "metadata": {},
   "source": [
    "The boolean array must be of the same length as the axis it’s indexing. You can even mix and match boolean arrays with slices or integers "
   ]
  },
  {
   "cell_type": "code",
   "execution_count": 124,
   "metadata": {},
   "outputs": [
    {
     "data": {
      "text/plain": [
       "array([[ 0.63283902, -0.65900513],\n",
       "       [ 0.44594104,  0.03058698]])"
      ]
     },
     "execution_count": 124,
     "metadata": {},
     "output_type": "execute_result"
    }
   ],
   "source": [
    "data[names == 'Bob',2:]"
   ]
  },
  {
   "cell_type": "code",
   "execution_count": 125,
   "metadata": {},
   "outputs": [
    {
     "data": {
      "text/plain": [
       "array([-0.65900513,  0.03058698])"
      ]
     },
     "execution_count": 125,
     "metadata": {},
     "output_type": "execute_result"
    }
   ],
   "source": [
    "data[names == 'Bob',3]"
   ]
  },
  {
   "cell_type": "markdown",
   "metadata": {},
   "source": [
    "To select everything except 'Bob', we can use != or negate the condition using ~"
   ]
  },
  {
   "cell_type": "code",
   "execution_count": 126,
   "metadata": {},
   "outputs": [
    {
     "data": {
      "text/plain": [
       "array([False,  True,  True, False,  True,  True,  True])"
      ]
     },
     "execution_count": 126,
     "metadata": {},
     "output_type": "execute_result"
    }
   ],
   "source": [
    "names != 'Bob'"
   ]
  },
  {
   "cell_type": "code",
   "execution_count": 127,
   "metadata": {},
   "outputs": [
    {
     "data": {
      "text/plain": [
       "array([[ 0.49324263, -1.41013173,  0.12403513, -0.60476185],\n",
       "       [ 0.55761862,  0.10438399, -0.46908344,  0.00314616],\n",
       "       [ 0.72219361,  2.09738358,  2.01712753, -1.35343537],\n",
       "       [-0.95701322,  0.4130192 ,  0.36190586,  1.77949328],\n",
       "       [-0.41289075, -0.01789793, -0.17786204,  0.99859043]])"
      ]
     },
     "execution_count": 127,
     "metadata": {},
     "output_type": "execute_result"
    }
   ],
   "source": [
    "data[names != 'Bob']"
   ]
  },
  {
   "cell_type": "code",
   "execution_count": 129,
   "metadata": {},
   "outputs": [
    {
     "data": {
      "text/plain": [
       "array([[ 0.49324263, -1.41013173,  0.12403513, -0.60476185],\n",
       "       [ 0.55761862,  0.10438399, -0.46908344,  0.00314616],\n",
       "       [ 0.72219361,  2.09738358,  2.01712753, -1.35343537],\n",
       "       [-0.95701322,  0.4130192 ,  0.36190586,  1.77949328],\n",
       "       [-0.41289075, -0.01789793, -0.17786204,  0.99859043]])"
      ]
     },
     "execution_count": 129,
     "metadata": {},
     "output_type": "execute_result"
    }
   ],
   "source": [
    "data[~(names=='Bob')]"
   ]
  },
  {
   "cell_type": "markdown",
   "metadata": {},
   "source": [
    "Selecting two of the three names to combine multiple boolean conditions, use boolean arithmetic operators like & (and) and | (or):"
   ]
  },
  {
   "cell_type": "code",
   "execution_count": 130,
   "metadata": {},
   "outputs": [
    {
     "data": {
      "text/plain": [
       "array([[-1.14478997, -0.43065902,  0.63283902, -0.65900513],\n",
       "       [ 0.55761862,  0.10438399, -0.46908344,  0.00314616],\n",
       "       [-0.90946192, -0.07282316,  0.44594104,  0.03058698],\n",
       "       [ 0.72219361,  2.09738358,  2.01712753, -1.35343537]])"
      ]
     },
     "execution_count": 130,
     "metadata": {},
     "output_type": "execute_result"
    }
   ],
   "source": [
    "mask = (names == 'Bob') | (names == 'Will')\n",
    "data[mask]"
   ]
  },
  {
   "cell_type": "markdown",
   "metadata": {},
   "source": [
    "To set all of the negative values in data to 0 we need only do:"
   ]
  },
  {
   "cell_type": "code",
   "execution_count": 132,
   "metadata": {},
   "outputs": [
    {
     "data": {
      "text/plain": [
       "array([[0.        , 0.        , 0.63283902, 0.        ],\n",
       "       [0.49324263, 0.        , 0.12403513, 0.        ],\n",
       "       [0.55761862, 0.10438399, 0.        , 0.00314616],\n",
       "       [0.        , 0.        , 0.44594104, 0.03058698],\n",
       "       [0.72219361, 2.09738358, 2.01712753, 0.        ],\n",
       "       [0.        , 0.4130192 , 0.36190586, 1.77949328],\n",
       "       [0.        , 0.        , 0.        , 0.99859043]])"
      ]
     },
     "execution_count": 132,
     "metadata": {},
     "output_type": "execute_result"
    }
   ],
   "source": [
    "data[data<0]=0\n",
    "data"
   ]
  },
  {
   "cell_type": "markdown",
   "metadata": {},
   "source": [
    "Setting whole rows or columns using a 1D boolean array is also easy:"
   ]
  },
  {
   "cell_type": "code",
   "execution_count": 133,
   "metadata": {},
   "outputs": [
    {
     "data": {
      "text/plain": [
       "array([[7.        , 7.        , 7.        , 7.        ],\n",
       "       [0.49324263, 0.        , 0.12403513, 0.        ],\n",
       "       [7.        , 7.        , 7.        , 7.        ],\n",
       "       [7.        , 7.        , 7.        , 7.        ],\n",
       "       [7.        , 7.        , 7.        , 7.        ],\n",
       "       [0.        , 0.4130192 , 0.36190586, 1.77949328],\n",
       "       [0.        , 0.        , 0.        , 0.99859043]])"
      ]
     },
     "execution_count": 133,
     "metadata": {},
     "output_type": "execute_result"
    }
   ],
   "source": [
    "data[names != 'Joe']=7\n",
    "data"
   ]
  },
  {
   "cell_type": "markdown",
   "metadata": {},
   "source": [
    "##### Fancy indexing\n",
    "\n",
    "indexing using integer arrays"
   ]
  },
  {
   "cell_type": "code",
   "execution_count": 136,
   "metadata": {},
   "outputs": [
    {
     "data": {
      "text/plain": [
       "array([[1.02829041e-311, 1.10176639e-321, 0.00000000e+000,\n",
       "        0.00000000e+000],\n",
       "       [6.23034601e-307, 1.16096346e-028, 1.04857803e-142,\n",
       "        1.16467185e-028],\n",
       "       [1.20269400e-153, 6.01356675e-154, 6.01347002e-154,\n",
       "        1.50102763e-153],\n",
       "       [6.35229961e-067, 4.56335201e-072, 1.79936126e-153,\n",
       "        4.10115910e+223],\n",
       "       [2.99068648e-067, 4.58546060e-072, 1.21691798e+132,\n",
       "        4.10114587e+223],\n",
       "       [1.05394313e+141, 1.79938770e-153, 2.69379802e+132,\n",
       "        8.48939199e+136],\n",
       "       [5.54481851e-048, 1.21691798e+132, 9.69638060e+140,\n",
       "        6.19343989e-071],\n",
       "       [8.49078911e+136, 4.10123873e+223, 4.10114638e+223,\n",
       "        9.11160086e+130]])"
      ]
     },
     "execution_count": 136,
     "metadata": {},
     "output_type": "execute_result"
    }
   ],
   "source": [
    "arr = np.empty((8,4))\n",
    "arr"
   ]
  },
  {
   "cell_type": "code",
   "execution_count": 137,
   "metadata": {},
   "outputs": [
    {
     "data": {
      "text/plain": [
       "array([[0., 0., 0., 0.],\n",
       "       [1., 1., 1., 1.],\n",
       "       [2., 2., 2., 2.],\n",
       "       [3., 3., 3., 3.],\n",
       "       [4., 4., 4., 4.],\n",
       "       [5., 5., 5., 5.],\n",
       "       [6., 6., 6., 6.],\n",
       "       [7., 7., 7., 7.]])"
      ]
     },
     "execution_count": 137,
     "metadata": {},
     "output_type": "execute_result"
    }
   ],
   "source": [
    "for i in range(8):\n",
    "    arr[i] = i\n",
    "arr"
   ]
  },
  {
   "cell_type": "markdown",
   "metadata": {},
   "source": [
    "To select subset of the rows in a particular order, simply pass a list or ndarray of integers specifying desired order and use negate to select rows from the end."
   ]
  },
  {
   "cell_type": "code",
   "execution_count": 138,
   "metadata": {},
   "outputs": [
    {
     "data": {
      "text/plain": [
       "array([[4., 4., 4., 4.],\n",
       "       [3., 3., 3., 3.],\n",
       "       [0., 0., 0., 0.],\n",
       "       [6., 6., 6., 6.]])"
      ]
     },
     "execution_count": 138,
     "metadata": {},
     "output_type": "execute_result"
    }
   ],
   "source": [
    "arr[[4,3,0,6]]"
   ]
  },
  {
   "cell_type": "code",
   "execution_count": 139,
   "metadata": {},
   "outputs": [
    {
     "data": {
      "text/plain": [
       "array([[4., 4., 4., 4.],\n",
       "       [2., 2., 2., 2.],\n",
       "       [0., 0., 0., 0.]])"
      ]
     },
     "execution_count": 139,
     "metadata": {},
     "output_type": "execute_result"
    }
   ],
   "source": [
    "arr[[~3,~5,~7]]"
   ]
  },
  {
   "cell_type": "markdown",
   "metadata": {},
   "source": [
    "passing multiple index arrays selects 1D array of elements corresponding to each tuple of indices"
   ]
  },
  {
   "cell_type": "code",
   "execution_count": 140,
   "metadata": {},
   "outputs": [
    {
     "data": {
      "text/plain": [
       "array([[ 0,  1,  2,  3],\n",
       "       [ 4,  5,  6,  7],\n",
       "       [ 8,  9, 10, 11],\n",
       "       [12, 13, 14, 15],\n",
       "       [16, 17, 18, 19],\n",
       "       [20, 21, 22, 23],\n",
       "       [24, 25, 26, 27],\n",
       "       [28, 29, 30, 31]])"
      ]
     },
     "execution_count": 140,
     "metadata": {},
     "output_type": "execute_result"
    }
   ],
   "source": [
    "arr = np.arange(32).reshape((8,4))\n",
    "arr"
   ]
  },
  {
   "cell_type": "code",
   "execution_count": 141,
   "metadata": {},
   "outputs": [
    {
     "data": {
      "text/plain": [
       "array([ 4, 23, 29, 10])"
      ]
     },
     "execution_count": 141,
     "metadata": {},
     "output_type": "execute_result"
    }
   ],
   "source": [
    "arr[[1,5,7,2],[0,3,1,2]]"
   ]
  },
  {
   "cell_type": "code",
   "execution_count": 142,
   "metadata": {},
   "outputs": [
    {
     "data": {
      "text/plain": [
       "array([[ 4,  7,  5,  6],\n",
       "       [20, 23, 21, 22],\n",
       "       [28, 31, 29, 30],\n",
       "       [ 8, 11,  9, 10]])"
      ]
     },
     "execution_count": 142,
     "metadata": {},
     "output_type": "execute_result"
    }
   ],
   "source": [
    "#the elements (1, 0), (5, 3), (7,1), and (2, 2) were selected\n",
    "\n",
    "arr[[1,5,7,2]][:,[0,3,1,2]]"
   ]
  },
  {
   "cell_type": "markdown",
   "metadata": {},
   "source": [
    "Another way is to use np.ix_ function which converts two ID integer arrays to an indexer that selects the square region:"
   ]
  },
  {
   "cell_type": "code",
   "execution_count": 144,
   "metadata": {},
   "outputs": [
    {
     "data": {
      "text/plain": [
       "array([[ 4,  7,  5,  6],\n",
       "       [20, 23, 21, 22],\n",
       "       [28, 31, 29, 30],\n",
       "       [ 8, 11,  9, 10]])"
      ]
     },
     "execution_count": 144,
     "metadata": {},
     "output_type": "execute_result"
    }
   ],
   "source": [
    "arr[np.ix_([1,5,7,2],[0,3,1,2])]"
   ]
  },
  {
   "cell_type": "markdown",
   "metadata": {},
   "source": [
    "##### Transposing Arrays and Swapping Axes\n",
    "\n",
    "Transposing is a special form of reshaping which similarly returns a view on the underlying data without copying anything. Arrays have the transpose method and also the special T attribute:"
   ]
  },
  {
   "cell_type": "code",
   "execution_count": 153,
   "metadata": {
    "scrolled": true
   },
   "outputs": [
    {
     "name": "stdout",
     "output_type": "stream",
     "text": [
      "[[ 0  1  2  3  4]\n",
      " [ 5  6  7  8  9]\n",
      " [10 11 12 13 14]]\n",
      "(3, 5)\n",
      "\n",
      "[[ 0  5 10]\n",
      " [ 1  6 11]\n",
      " [ 2  7 12]\n",
      " [ 3  8 13]\n",
      " [ 4  9 14]]\n",
      "(5, 3)\n"
     ]
    }
   ],
   "source": [
    "arr = np.arange(15).reshape((3,5))\n",
    "print(arr)\n",
    "print(arr.shape)\n",
    "print()\n",
    "print(arr.T)\n",
    "print(arr.T.shape)"
   ]
  },
  {
   "cell_type": "code",
   "execution_count": 157,
   "metadata": {},
   "outputs": [
    {
     "name": "stdout",
     "output_type": "stream",
     "text": [
      "[[ 0.63210882  0.19047005 -0.53151694]\n",
      " [-1.34476668  0.0580737   0.94630352]\n",
      " [-1.35602863  0.35554762 -1.86545799]\n",
      " [-0.50559412 -0.49445567 -0.0747253 ]\n",
      " [ 1.17142721 -0.16391396  0.29058546]\n",
      " [-0.31983558 -0.08757797 -0.67494055]]\n",
      "\n",
      "[[ 5.77693455 -0.35383938  1.51513082]\n",
      " [-0.35383938  0.4450896  -0.66111461]\n",
      " [ 1.51513082 -0.66111461  5.20350265]]\n"
     ]
    }
   ],
   "source": [
    "#computing inner matrix product XTX using np.dot\n",
    "#when 3x6 multiplied 6x3 matrix, resultant is 3x3 matrix\n",
    "\n",
    "arr = np.random.randn(6,3)\n",
    "print(arr)\n",
    "print()\n",
    "print(np.dot(arr.T, arr))"
   ]
  },
  {
   "cell_type": "markdown",
   "metadata": {},
   "source": [
    "for higher dimensional arrays, transpose will accept a tuple of axis numbers to permute the axes"
   ]
  },
  {
   "cell_type": "code",
   "execution_count": 159,
   "metadata": {},
   "outputs": [
    {
     "data": {
      "text/plain": [
       "array([[[ 0,  1,  2,  3],\n",
       "        [ 4,  5,  6,  7]],\n",
       "\n",
       "       [[ 8,  9, 10, 11],\n",
       "        [12, 13, 14, 15]]])"
      ]
     },
     "execution_count": 159,
     "metadata": {},
     "output_type": "execute_result"
    }
   ],
   "source": [
    "arr = np.arange(16).reshape((2,2,4))\n",
    "arr"
   ]
  },
  {
   "cell_type": "code",
   "execution_count": 160,
   "metadata": {},
   "outputs": [
    {
     "data": {
      "text/plain": [
       "array([[[ 0,  1,  2,  3],\n",
       "        [ 8,  9, 10, 11]],\n",
       "\n",
       "       [[ 4,  5,  6,  7],\n",
       "        [12, 13, 14, 15]]])"
      ]
     },
     "execution_count": 160,
     "metadata": {},
     "output_type": "execute_result"
    }
   ],
   "source": [
    "arr.transpose((1,0,2))"
   ]
  },
  {
   "cell_type": "markdown",
   "metadata": {},
   "source": [
    "ndarray has method swapaxes which takes a pair of axis numbers"
   ]
  },
  {
   "cell_type": "code",
   "execution_count": 163,
   "metadata": {},
   "outputs": [
    {
     "name": "stdout",
     "output_type": "stream",
     "text": [
      "[[[ 0  1  2  3]\n",
      "  [ 4  5  6  7]]\n",
      "\n",
      " [[ 8  9 10 11]\n",
      "  [12 13 14 15]]]\n",
      "(2, 2, 4)\n"
     ]
    }
   ],
   "source": [
    "print(arr)\n",
    "print(arr.shape)"
   ]
  },
  {
   "cell_type": "code",
   "execution_count": 167,
   "metadata": {},
   "outputs": [
    {
     "name": "stdout",
     "output_type": "stream",
     "text": [
      "[[[ 0  4]\n",
      "  [ 1  5]\n",
      "  [ 2  6]\n",
      "  [ 3  7]]\n",
      "\n",
      " [[ 8 12]\n",
      "  [ 9 13]\n",
      "  [10 14]\n",
      "  [11 15]]]\n"
     ]
    },
    {
     "data": {
      "text/plain": [
       "(2, 4, 2)"
      ]
     },
     "execution_count": 167,
     "metadata": {},
     "output_type": "execute_result"
    }
   ],
   "source": [
    "print(arr.swapaxes(1,2))\n",
    "c =arr.swapaxes(1,2)\n",
    "c.shape"
   ]
  },
  {
   "cell_type": "markdown",
   "metadata": {},
   "source": [
    "##### universal Array functions\n",
    "\n",
    "ufunc or universal function is a function that performs elementwise operations on data in ndarrays. these are fast vectorized wrappers for simple functions that take one or more scalar values and produce one or more scalar results\n",
    "\n",
    "some of the ufunc are: sqrt, exp, modf, maximum, randn etc"
   ]
  },
  {
   "cell_type": "code",
   "execution_count": 181,
   "metadata": {},
   "outputs": [
    {
     "name": "stdout",
     "output_type": "stream",
     "text": [
      "[0.         1.         1.41421356 1.73205081 2.         2.23606798\n",
      " 2.44948974 2.64575131 2.82842712 3.        ]\n",
      "\n",
      "[1.00000000e+00 2.71828183e+00 7.38905610e+00 2.00855369e+01\n",
      " 5.45981500e+01 1.48413159e+02 4.03428793e+02 1.09663316e+03\n",
      " 2.98095799e+03 8.10308393e+03]\n",
      "\n",
      "[ 0.60945621  1.08698139 -0.57719436 -0.84568874 -2.26114071  0.82047832\n",
      "  0.4691058  -0.59480544]\n",
      "\n",
      "[-0.79578356 -0.10041103  0.70434806 -0.39202691 -0.38540209 -2.22253461\n",
      "  0.17528971  1.17548793]\n",
      "\n",
      "[ 0.60945621  1.08698139  0.70434806 -0.39202691 -0.38540209  0.82047832\n",
      "  0.4691058   1.17548793]\n",
      "\n",
      "[-0.79578356 -0.10041103 -0.57719436 -0.84568874 -2.26114071 -2.22253461\n",
      "  0.17528971 -0.59480544]\n",
      "\n"
     ]
    }
   ],
   "source": [
    "arr = np.arange(10)\n",
    "print(np.sqrt(arr))\n",
    "print()\n",
    "print(np.exp(arr))\n",
    "print()\n",
    "\n",
    "x=np.random.randn(8)\n",
    "y = np.random.randn(8)\n",
    "print(x)\n",
    "print()\n",
    "print(y)\n",
    "print()\n",
    "print(np.maximum(x,y))\n",
    "print()\n",
    "print(np.minimum(x,y))\n",
    "print()"
   ]
  },
  {
   "cell_type": "code",
   "execution_count": 180,
   "metadata": {},
   "outputs": [
    {
     "data": {
      "text/plain": [
       "(array([-0.49665824,  0.72819658, -0.39525518,  0.11124541,  0.66727522,\n",
       "        -0.27474784, -0.1155083 ]), array([-3.,  8., -0.,  2.,  1., -2., -2.]))"
      ]
     },
     "execution_count": 180,
     "metadata": {},
     "output_type": "execute_result"
    }
   ],
   "source": [
    "arr = np.random.randn(7)*5\n",
    "np.modf(arr)#returns fractional and integral part of floating point array"
   ]
  },
  {
   "cell_type": "markdown",
   "metadata": {},
   "source": [
    "##### Table 4-3. Unary ufuncs\n",
    "\n",
    "Function Description\n",
    "\n",
    "    abs, fabs --> Compute the absolute value element-wise for integer, floating   point, or complex values.Use fabs as a faster alternative for non-complex-valued data\n",
    "\n",
    "    sqrt -->Compute the square root of each element. Equivalent to arr ** 0.5 square Compute the square of each element. Equivalent to arr ** 2\n",
    "\n",
    "    exp -->Compute the exponent ex of each element\n",
    "    \n",
    "    log, log10, log2, log1p --> Natural logarithm (base e), log base 10, log base 2, and log(1 + x), respectively\n",
    "\n",
    "    sign -->Compute the sign of each element: 1 (positive), 0 (zero), or -1 (negative)\n",
    "\n",
    "    ceil -->Compute the ceiling of each element, i.e. the smallest integer greater than or equal to each element\n",
    "\n",
    "    floor -->Compute the floor of each element, i.e. the largest integer less than or equal to each element\n",
    "\n",
    "    rint -->Round elements to the nearest integer, preserving the dtype\n",
    "\n",
    "    modf -->Return fractional and integral parts of array as separate array\n",
    "\n",
    "    isnan -->Return boolean array indicating whether each value is NaN (Not a Number)\n",
    "\n",
    "    isfinite, isinf -->Return boolean array indicating whether each element is finite (non-inf, non-NaN) or infinite, respectively\n",
    "\n",
    "    cos, cosh, sin, sinh, tan, tanh --> Regular and hyperbolic trigonometric functions\n",
    "    \n",
    "    arccos, arccosh, arcsin, arcsinh, arctan, arctanh -->Inverse trigonometric functions\n",
    "    \n",
    "    logical_not --> Compute truth value of not x element-wise. Equivalent to -arr."
   ]
  },
  {
   "cell_type": "markdown",
   "metadata": {},
   "source": [
    "##### Table 4-4. Binary universal functions\n",
    "\n",
    "Function Description\n",
    "\n",
    "    add -->Add corresponding elements in arrays\n",
    "    \n",
    "    subtract -->Subtract elements in second array from first array\n",
    "\n",
    "    multiply -->Multiply array elements\n",
    "\n",
    "    divide, floor_divide -->Divide or floor divide (truncating the remainder)\n",
    "\n",
    "    power -->Raise elements in first array to powers indicated in second array\n",
    "\n",
    "    maximum, fmax -->Element-wise maximum. fmax ignores NaN\n",
    "\n",
    "    minimum, fmin -->Element-wise minimum. fmin ignores NaN\n",
    "\n",
    "    mod -->Element-wise modulus (remainder of division)\n",
    "\n",
    "    copysign -->Copy sign of values in second argument to values in first argument\n",
    "\n",
    "    greater, greater_equal, less, less_equal, equal,not_equal --> Perform element-wise comparison, yielding boolean array. Equivalent to infix operators\n",
    ">, >=, <, <=, ==, !=\n",
    "\n",
    "    logical_and,logical_or, logical_xor -->Compute element-wise truth value of logical operation. Equivalent to infix operators & |, ^"
   ]
  },
  {
   "cell_type": "markdown",
   "metadata": {},
   "source": [
    "### Data processing using Arrays"
   ]
  },
  {
   "cell_type": "markdown",
   "metadata": {},
   "source": [
    "##### Expressing conditional logic as Array operations\n",
    "\n",
    "numpy where function is a vectorized version of ternary expression x if condition else y"
   ]
  },
  {
   "cell_type": "code",
   "execution_count": 193,
   "metadata": {},
   "outputs": [],
   "source": [
    "xarr = np.array([1.1,1.2,1.3,1.4,1.5])\n",
    "yarr = np.array([2.1,2.2,2.3,2.4,2.5])\n",
    "cond = np.array([True, False, True, True, False])"
   ]
  },
  {
   "cell_type": "markdown",
   "metadata": {},
   "source": [
    "suppose we wanted to take a value from xarr whenever corresponding value in cond is True otherwise take value of yarr"
   ]
  },
  {
   "cell_type": "code",
   "execution_count": 194,
   "metadata": {},
   "outputs": [
    {
     "data": {
      "text/plain": [
       "[1.1, 2.2, 1.3, 1.4, 2.5]"
      ]
     },
     "execution_count": 194,
     "metadata": {},
     "output_type": "execute_result"
    }
   ],
   "source": [
    "res = [(x if c else y) for x, y, c in zip(xarr, yarr, cond)]\n",
    "res"
   ]
  },
  {
   "cell_type": "markdown",
   "metadata": {},
   "source": [
    "This approach will be slower for large arrays. it will not work in ndim arrays. Hence np.where can be used "
   ]
  },
  {
   "cell_type": "code",
   "execution_count": 204,
   "metadata": {},
   "outputs": [
    {
     "data": {
      "text/plain": [
       "array([1.1, 2.2, 1.3, 1.4, 2.5])"
      ]
     },
     "execution_count": 204,
     "metadata": {},
     "output_type": "execute_result"
    }
   ],
   "source": [
    "res = np.where(cond, xarr, yarr)\n",
    "res"
   ]
  },
  {
   "cell_type": "markdown",
   "metadata": {},
   "source": [
    "The second and third arguments to np.where don’t need to be arrays; one or both of them can be scalars. A typical use of where in data analysis is to produce a new array of values based on another array. Suppose you had a matrix of randomly generated data and you wanted to replace all positive values with 2 and all negative values with -2.\n",
    "\n",
    "This is very easy to do with np.where:"
   ]
  },
  {
   "cell_type": "code",
   "execution_count": 205,
   "metadata": {},
   "outputs": [
    {
     "data": {
      "text/plain": [
       "array([[ 0.20705167, -1.64968722, -0.01526411,  1.06398242],\n",
       "       [-0.06868531,  0.23358623,  0.435645  , -0.05574931],\n",
       "       [-0.85665139,  1.24170389, -0.77377435,  0.35366519],\n",
       "       [ 0.28914666, -0.11310177,  0.72362003, -1.56257062]])"
      ]
     },
     "execution_count": 205,
     "metadata": {},
     "output_type": "execute_result"
    }
   ],
   "source": [
    "arr = np.random.randn(4,4)\n",
    "arr"
   ]
  },
  {
   "cell_type": "code",
   "execution_count": 206,
   "metadata": {},
   "outputs": [
    {
     "data": {
      "text/plain": [
       "array([[ 2, -2, -2,  2],\n",
       "       [-2,  2,  2, -2],\n",
       "       [-2,  2, -2,  2],\n",
       "       [ 2, -2,  2, -2]])"
      ]
     },
     "execution_count": 206,
     "metadata": {},
     "output_type": "execute_result"
    }
   ],
   "source": [
    "np.where(arr > 0,2,-2)"
   ]
  },
  {
   "cell_type": "code",
   "execution_count": 207,
   "metadata": {},
   "outputs": [
    {
     "data": {
      "text/plain": [
       "array([[ 2.        , -1.64968722, -0.01526411,  2.        ],\n",
       "       [-0.06868531,  2.        ,  2.        , -0.05574931],\n",
       "       [-0.85665139,  2.        , -0.77377435,  2.        ],\n",
       "       [ 2.        , -0.11310177,  2.        , -1.56257062]])"
      ]
     },
     "execution_count": 207,
     "metadata": {},
     "output_type": "execute_result"
    }
   ],
   "source": [
    "np.where(arr > 0, 2, arr)#set only positive values to 2"
   ]
  },
  {
   "cell_type": "markdown",
   "metadata": {},
   "source": [
    "##### Mathematical and stastistical methods\n",
    "\n",
    "A set of mathematical functions which compute statistics about an entire array or about the data along an axis are accessible as array methods. Aggregations (often called reductions) like sum, mean, and standard deviation std can either be used by calling the array instance method or using the top level NumPy function:"
   ]
  },
  {
   "cell_type": "code",
   "execution_count": 208,
   "metadata": {},
   "outputs": [
    {
     "name": "stdout",
     "output_type": "stream",
     "text": [
      "0.005241598828765704\n",
      "0.005241598828765704\n"
     ]
    }
   ],
   "source": [
    "arr = np.random.randn(5,4)\n",
    "print(arr.mean())\n",
    "print(np.mean(arr))"
   ]
  },
  {
   "cell_type": "code",
   "execution_count": 209,
   "metadata": {},
   "outputs": [
    {
     "name": "stdout",
     "output_type": "stream",
     "text": [
      "0.10483197657531407\n",
      "0.10483197657531407\n"
     ]
    }
   ],
   "source": [
    "print(arr.sum())\n",
    "print(np.sum(arr))"
   ]
  },
  {
   "cell_type": "code",
   "execution_count": 210,
   "metadata": {},
   "outputs": [
    {
     "name": "stdout",
     "output_type": "stream",
     "text": [
      "[ 0.11464304  0.1055471   0.28550506 -0.57475193  0.09526472]\n",
      "[ 0.37614803  1.43132703  3.62156102 -5.3242041 ]\n"
     ]
    }
   ],
   "source": [
    "print(arr.mean(axis=1))\n",
    "print(arr.sum(axis=0))"
   ]
  },
  {
   "cell_type": "markdown",
   "metadata": {},
   "source": [
    "other methods like cumsum and cumprod do not aggregate instead producing an array of the intermediate results"
   ]
  },
  {
   "cell_type": "code",
   "execution_count": 211,
   "metadata": {},
   "outputs": [],
   "source": [
    "arr = np.array([[0,1,2],[3,4,5],[6,7,8]])"
   ]
  },
  {
   "cell_type": "code",
   "execution_count": 212,
   "metadata": {},
   "outputs": [
    {
     "data": {
      "text/plain": [
       "array([[ 0,  1,  2],\n",
       "       [ 3,  5,  7],\n",
       "       [ 9, 12, 15]], dtype=int32)"
      ]
     },
     "execution_count": 212,
     "metadata": {},
     "output_type": "execute_result"
    }
   ],
   "source": [
    "arr.cumsum(0)#axis=0"
   ]
  },
  {
   "cell_type": "code",
   "execution_count": 213,
   "metadata": {},
   "outputs": [
    {
     "data": {
      "text/plain": [
       "array([[  0,   0,   0],\n",
       "       [  3,  12,  60],\n",
       "       [  6,  42, 336]], dtype=int32)"
      ]
     },
     "execution_count": 213,
     "metadata": {},
     "output_type": "execute_result"
    }
   ],
   "source": [
    "arr.cumprod(1)"
   ]
  },
  {
   "cell_type": "markdown",
   "metadata": {},
   "source": [
    "##### Table 4-5. Basic array statistical methods\n",
    "\n",
    "Method Description\n",
    "\n",
    "    sum \n",
    "    Sum of all the elements in the array or along an axis. Zero-length arrays have sum 0.\n",
    "\n",
    "    mean \n",
    "    Arithmetic mean. Zero-length arrays have NaN mean.\n",
    "\n",
    "    std, var \n",
    "    Standard deviation and variance, respectively, with optional degrees of freedom adjustment (default denominator n).\n",
    "\n",
    "    min, max \n",
    "    Minimum and maximum.\n",
    "\n",
    "    argmin, argmax \n",
    "    Indices of minimum and maximum elements, respectively.\n",
    "\n",
    "    cumsum \n",
    "    Cumulative sum of elements starting from 0\n",
    "\n",
    "    cumprod \n",
    "    Cumulative product of elements starting from 1"
   ]
  },
  {
   "cell_type": "markdown",
   "metadata": {},
   "source": [
    "#### Methods for Boolean Arrays"
   ]
  },
  {
   "cell_type": "markdown",
   "metadata": {},
   "source": [
    "Boolean values are coerced to 1 (True) and 0 (False) in the above methods. Thus, sum is often used as a means of counting True values in a boolean array:"
   ]
  },
  {
   "cell_type": "code",
   "execution_count": 216,
   "metadata": {},
   "outputs": [
    {
     "name": "stdout",
     "output_type": "stream",
     "text": [
      "[ 0.53997781  0.00557718  0.35984111  1.45981631  0.67945613  0.86526588\n",
      " -0.06257031  0.19391499  0.26350424  0.16653239 -2.26139625  0.03222884\n",
      "  0.38772186 -0.02920015  2.07055088  0.41144041  0.18263354  1.27595074\n",
      " -1.36344268  1.12433909 -0.5311669  -0.44578708 -0.06532811 -0.17672435\n",
      "  0.2464132   0.63560808 -0.82559619 -0.48477349 -1.24075968 -0.84990056\n",
      " -1.35572017 -0.05210918  0.15583447 -0.6824746   0.49759473  1.74805482\n",
      "  0.73867788 -0.34483352 -0.3305697   0.14231644  0.10836185  0.46766455\n",
      " -1.07693063 -1.39410524  0.96539107 -1.83756928  0.77419284 -1.38322299\n",
      " -0.68181225  0.94070244 -0.36381538  1.3382129   1.23746081 -0.50638834\n",
      "  0.35967382  1.12625359  0.33722728  0.20767591 -1.35591847  0.43420214\n",
      "  0.57423948 -0.01364882  0.00550492  0.80191666 -0.61298246  1.03062479\n",
      " -1.81161318  1.66821431  0.9486599  -0.93817414  0.09581623  0.5024277\n",
      " -0.69554945 -0.08160561  0.24005434 -0.34653952 -0.11679419  0.59006543\n",
      " -1.12877794  1.18999999  0.33116704 -0.64938849 -0.02243702  0.21033144\n",
      " -0.01676767  0.843212   -1.45469556  0.563464   -2.53968173  0.93419576\n",
      "  0.99340661 -1.03234179 -0.44170585 -2.39452824 -0.59336549  0.02713359\n",
      "  1.04813638  0.95268702 -0.04404239 -1.10635958]\n"
     ]
    },
    {
     "data": {
      "text/plain": [
       "55"
      ]
     },
     "execution_count": 216,
     "metadata": {},
     "output_type": "execute_result"
    }
   ],
   "source": [
    "arr = np.random.randn(100)\n",
    "print(arr)\n",
    "(arr>0).sum()#No of positive values"
   ]
  },
  {
   "cell_type": "markdown",
   "metadata": {},
   "source": [
    "There are two additional methods any and all. any tests whether one or more values in an array is True, while all checks if every value is True. These values also work with non-boolean arrays, where non-zero elements evaluate to True."
   ]
  },
  {
   "cell_type": "code",
   "execution_count": 219,
   "metadata": {},
   "outputs": [
    {
     "name": "stdout",
     "output_type": "stream",
     "text": [
      "True False\n"
     ]
    }
   ],
   "source": [
    "bools = np.array([False, False, True, False, True])\n",
    "print(bools.any(), bools.all())"
   ]
  },
  {
   "cell_type": "markdown",
   "metadata": {},
   "source": [
    "##### sorting - \n",
    "\n",
    "Numpy arrays can be sorted in-place using the sort method:"
   ]
  },
  {
   "cell_type": "code",
   "execution_count": 223,
   "metadata": {},
   "outputs": [
    {
     "name": "stdout",
     "output_type": "stream",
     "text": [
      "[ 2.88911986 -3.4669274  -0.16846677  0.12726595 -1.87548577  0.52623416\n",
      " -1.72633136  0.99908648]\n",
      "[-3.4669274  -1.87548577 -1.72633136 -0.16846677  0.12726595  0.52623416\n",
      "  0.99908648  2.88911986]\n"
     ]
    }
   ],
   "source": [
    "arr = np.random.randn(8)\n",
    "print(arr)\n",
    "arr.sort()\n",
    "print(arr)"
   ]
  },
  {
   "cell_type": "markdown",
   "metadata": {},
   "source": [
    "Multidimensional arrays can have each 1D section of values sorted in-place along an axis by passing the axis number to sort"
   ]
  },
  {
   "cell_type": "code",
   "execution_count": 225,
   "metadata": {},
   "outputs": [
    {
     "data": {
      "text/plain": [
       "array([[ 2.20229398,  0.92701456,  1.32242046],\n",
       "       [-0.15579816, -1.27105076, -1.7206375 ],\n",
       "       [-0.31295484,  1.79582849,  0.05030871],\n",
       "       [ 0.12422866,  0.86983156, -0.8900745 ],\n",
       "       [ 1.00874294, -0.19937848,  0.09760879]])"
      ]
     },
     "execution_count": 225,
     "metadata": {},
     "output_type": "execute_result"
    }
   ],
   "source": [
    "arr = np.random.randn(5,3)\n",
    "arr"
   ]
  },
  {
   "cell_type": "code",
   "execution_count": 226,
   "metadata": {},
   "outputs": [
    {
     "data": {
      "text/plain": [
       "array([[ 0.92701456,  1.32242046,  2.20229398],\n",
       "       [-1.7206375 , -1.27105076, -0.15579816],\n",
       "       [-0.31295484,  0.05030871,  1.79582849],\n",
       "       [-0.8900745 ,  0.12422866,  0.86983156],\n",
       "       [-0.19937848,  0.09760879,  1.00874294]])"
      ]
     },
     "execution_count": 226,
     "metadata": {},
     "output_type": "execute_result"
    }
   ],
   "source": [
    "arr.sort()\n",
    "arr"
   ]
  },
  {
   "cell_type": "code",
   "execution_count": 228,
   "metadata": {},
   "outputs": [
    {
     "data": {
      "text/plain": [
       "array([[-1.7206375 , -1.27105076, -0.15579816],\n",
       "       [-0.8900745 ,  0.05030871,  0.86983156],\n",
       "       [-0.31295484,  0.09760879,  1.00874294],\n",
       "       [-0.19937848,  0.12422866,  1.79582849],\n",
       "       [ 0.92701456,  1.32242046,  2.20229398]])"
      ]
     },
     "execution_count": 228,
     "metadata": {},
     "output_type": "execute_result"
    }
   ],
   "source": [
    "arr.sort(0)\n",
    "arr"
   ]
  },
  {
   "cell_type": "markdown",
   "metadata": {},
   "source": [
    "##### Unique and other Set Logic\n",
    "\n",
    "NumPy has some basic set operations for one-dimensional ndarrays. Probably the most commonly used one is np.unique, which returns the sorted unique values in an array"
   ]
  },
  {
   "cell_type": "code",
   "execution_count": 229,
   "metadata": {},
   "outputs": [
    {
     "data": {
      "text/plain": [
       "array(['Bob', 'Joe', 'Will'], dtype='<U4')"
      ]
     },
     "execution_count": 229,
     "metadata": {},
     "output_type": "execute_result"
    }
   ],
   "source": [
    "names = np.array(['Bob','Joe','Will','Bob','Joe'])\n",
    "np.unique(names)"
   ]
  },
  {
   "cell_type": "code",
   "execution_count": 231,
   "metadata": {},
   "outputs": [
    {
     "data": {
      "text/plain": [
       "array([1, 2, 3, 4])"
      ]
     },
     "execution_count": 231,
     "metadata": {},
     "output_type": "execute_result"
    }
   ],
   "source": [
    "ints = np.array([3, 3, 3, 2, 2, 1, 1, 4, 4])\n",
    "np.unique(ints)"
   ]
  },
  {
   "cell_type": "markdown",
   "metadata": {},
   "source": [
    "Another function, np.in1d, tests membership of the values in one array in another, returning a boolean array"
   ]
  },
  {
   "cell_type": "code",
   "execution_count": 232,
   "metadata": {},
   "outputs": [
    {
     "data": {
      "text/plain": [
       "array([ True, False, False,  True,  True, False,  True])"
      ]
     },
     "execution_count": 232,
     "metadata": {},
     "output_type": "execute_result"
    }
   ],
   "source": [
    "values = np.array([6, 0, 0, 3, 2, 5, 6])\n",
    "np.in1d(values,[2,3,6])"
   ]
  },
  {
   "cell_type": "markdown",
   "metadata": {},
   "source": [
    "##### Table 4-6. Array set operations\n",
    "\n",
    "Method Description\n",
    "\n",
    "unique(x) -->Compute the sorted, unique elements in x\n",
    "    \n",
    "intersect1d(x, y) -->Compute the sorted, common elements in x and y\n",
    "    \n",
    "union1d(x, y)--> Compute the sorted union of elements\n",
    "    \n",
    "in1d(x, y) -->Compute a boolean array indicating whether each element of x is contained in y\n",
    "    \n",
    "setdiff1d(x, y) -->Set difference, elements in x that are not in y\n",
    "    \n",
    "setxor1d(x, y)--> Set symmetric differences; elements that are in either of the arrays, but not both"
   ]
  },
  {
   "cell_type": "markdown",
   "metadata": {},
   "source": [
    "#### File input and Output with Arrays"
   ]
  },
  {
   "cell_type": "markdown",
   "metadata": {},
   "source": [
    "##### Storing Arrays on disk in binary format"
   ]
  },
  {
   "cell_type": "markdown",
   "metadata": {},
   "source": [
    "np.save and np.load are the two workhorse functions for efficiently saving and loading array data on disk.  Arrays are saved by default in an uncompressed raw binary format with file extension .npy"
   ]
  },
  {
   "cell_type": "code",
   "execution_count": 233,
   "metadata": {},
   "outputs": [],
   "source": [
    "arr = np.array(10)\n",
    "np.save('some_array', arr)"
   ]
  },
  {
   "cell_type": "code",
   "execution_count": 234,
   "metadata": {},
   "outputs": [
    {
     "data": {
      "text/plain": [
       "array(10)"
      ]
     },
     "execution_count": 234,
     "metadata": {},
     "output_type": "execute_result"
    }
   ],
   "source": [
    "np.load('some_array.npy')"
   ]
  },
  {
   "cell_type": "markdown",
   "metadata": {},
   "source": [
    "You save multiple arrays in a zip archive using np.savez and passing the arrays as keyword arguments"
   ]
  },
  {
   "cell_type": "code",
   "execution_count": 235,
   "metadata": {},
   "outputs": [],
   "source": [
    "np.savez('array_archive.npz', a=arr, b=arr)"
   ]
  },
  {
   "cell_type": "markdown",
   "metadata": {},
   "source": [
    "when loading an .npz file, you get back a dict like ibject which loads the individual arrays lazily"
   ]
  },
  {
   "cell_type": "code",
   "execution_count": 240,
   "metadata": {},
   "outputs": [
    {
     "data": {
      "text/plain": [
       "array(10)"
      ]
     },
     "execution_count": 240,
     "metadata": {},
     "output_type": "execute_result"
    }
   ],
   "source": [
    "arch = np.load('array_archive.npz')\n",
    "arch['b']\n",
    "arch['a']"
   ]
  },
  {
   "cell_type": "markdown",
   "metadata": {},
   "source": [
    "##### linear algebra"
   ]
  },
  {
   "cell_type": "markdown",
   "metadata": {},
   "source": [
    "Linear algebra, like matrix multiplication, decompositions, determinants, and other square matrix math, is an important part of any array library. Unlike some languages like MATLAB, multiplying two two-dimensional arrays with * is an element-wise product instead of a matrix dot product. As such, there is a function dot, both an array method, and a function in the numpy namespace, for matrix multiplication"
   ]
  },
  {
   "cell_type": "code",
   "execution_count": 248,
   "metadata": {},
   "outputs": [
    {
     "name": "stdout",
     "output_type": "stream",
     "text": [
      "(2, 3) (3, 2)\n"
     ]
    }
   ],
   "source": [
    "x = np.array([[1., 2., 3.], [4., 5., 6.]])\n",
    "y = np.array([[6., 23.], [-1, 7], [8, 9]])\n",
    "print(x.shape, y.shape)"
   ]
  },
  {
   "cell_type": "code",
   "execution_count": 249,
   "metadata": {},
   "outputs": [
    {
     "data": {
      "text/plain": [
       "array([[ 28.,  64.],\n",
       "       [ 67., 181.]])"
      ]
     },
     "execution_count": 249,
     "metadata": {},
     "output_type": "execute_result"
    }
   ],
   "source": [
    "x.dot(y)"
   ]
  },
  {
   "cell_type": "code",
   "execution_count": 250,
   "metadata": {},
   "outputs": [
    {
     "data": {
      "text/plain": [
       "array([[ 28.,  64.],\n",
       "       [ 67., 181.]])"
      ]
     },
     "execution_count": 250,
     "metadata": {},
     "output_type": "execute_result"
    }
   ],
   "source": [
    "np.dot(x,y)"
   ]
  },
  {
   "cell_type": "markdown",
   "metadata": {},
   "source": [
    "numpy.linalg has a standard set of matrix decompositions and things like inverse and determinant."
   ]
  },
  {
   "cell_type": "code",
   "execution_count": 253,
   "metadata": {},
   "outputs": [],
   "source": [
    "from numpy.linalg import inv, qr"
   ]
  },
  {
   "cell_type": "code",
   "execution_count": 257,
   "metadata": {},
   "outputs": [
    {
     "name": "stdout",
     "output_type": "stream",
     "text": [
      "[[1. 2. 3.]\n",
      " [4. 5. 6.]]\n",
      "[[17. 22. 27.]\n",
      " [22. 29. 36.]\n",
      " [27. 36. 45.]]\n"
     ]
    }
   ],
   "source": [
    "mat = x.T.dot(x)\n",
    "print(x)\n",
    "print(mat)"
   ]
  },
  {
   "cell_type": "code",
   "execution_count": 260,
   "metadata": {},
   "outputs": [
    {
     "data": {
      "text/plain": [
       "<function ndarray.dot>"
      ]
     },
     "execution_count": 260,
     "metadata": {},
     "output_type": "execute_result"
    }
   ],
   "source": [
    "mat.dot"
   ]
  },
  {
   "cell_type": "markdown",
   "metadata": {},
   "source": [
    "###### Commonly-used numpy.linalg functions\n",
    "\n",
    "Function Description\n",
    "\n",
    "diag  -->\n",
    "Return the diagonal (or off-diagonal) elements of a square matrix as a 1D \n",
    "array, or convert a 1D array into a squarematrix with zeros on the off-diagonal\n",
    "\n",
    "dot -->\n",
    "Matrix multiplication\n",
    "\n",
    "trace \n",
    "Compute the sum of the diagonal elements\n",
    "\n",
    "det -->\n",
    "Compute the matrix determinant\n",
    "\n",
    "eig -->\n",
    "Compute the eigenvalues and eigenvectors of a square matrix\n",
    "\n",
    "inv -->\n",
    "Compute the inverse of a square matrix\n",
    "\n",
    "pinv -->\n",
    "Compute the Moore-Penrose pseudo-inverse inverse of a square matrix\n",
    "\n",
    "qr -->\n",
    "Compute the QR decomposition\n",
    "\n",
    "svd -->\n",
    "Compute the singular value decomposition (SVD)\n",
    "\n",
    "solve -->\n",
    "Solve the linear system Ax = b for x, where A is a square matrix\n",
    "\n",
    "lstsq -->\n",
    "Compute the least-squares solution to y = Xb"
   ]
  },
  {
   "cell_type": "markdown",
   "metadata": {},
   "source": [
    "###### Random number generation\n",
    "\n",
    "The numpy.random module supplements the built-in Python random with functions for efficiently generating whole arrays of sample values from many kinds of probability distributions."
   ]
  },
  {
   "cell_type": "code",
   "execution_count": 268,
   "metadata": {},
   "outputs": [
    {
     "name": "stdout",
     "output_type": "stream",
     "text": [
      "Wall time: 0 ns\n"
     ]
    },
    {
     "data": {
      "text/plain": [
       "array([[-0.06097868, -1.185394  ,  2.3819669 ,  0.07939891],\n",
       "       [-0.24642082, -0.89811377,  2.6130259 , -1.31773516],\n",
       "       [-0.73057064, -1.06289558,  0.3258592 , -0.35788548],\n",
       "       [-0.7112134 , -0.05170353, -2.00733875, -1.12437114]])"
      ]
     },
     "execution_count": 268,
     "metadata": {},
     "output_type": "execute_result"
    }
   ],
   "source": [
    "import numpy as np\n",
    "samples = np.random.normal(size=(4,4))\n",
    "samples"
   ]
  },
  {
   "cell_type": "code",
   "execution_count": 267,
   "metadata": {},
   "outputs": [
    {
     "data": {
      "text/plain": [
       "array([[-0.20938781, -0.93137306, -0.006859  ,  0.33010637],\n",
       "       [ 0.19876352, -1.22029143,  0.7130936 , -0.79188754],\n",
       "       [ 0.17739572, -0.34655827, -0.11462757,  0.06021681],\n",
       "       [ 1.34763149, -0.61490366, -1.1541473 ,  1.35417391]])"
      ]
     },
     "execution_count": 267,
     "metadata": {},
     "output_type": "execute_result"
    }
   ],
   "source": [
    "np.random.randn(4,4)"
   ]
  },
  {
   "cell_type": "markdown",
   "metadata": {},
   "source": [
    "##### Partial list of numpy.random functions\n",
    "\n",
    "Function Description\n",
    "\n",
    "seed ->Seed the random number generator\n",
    "\n",
    "permutation ->Return a random permutation of a sequence, or return a permuted range\n",
    "\n",
    "shuffle ->Randomly permute a sequence in place\n",
    "\n",
    "rand ->Draw samples from a uniform distribution\n",
    "\n",
    "randint ->Draw random integers from a given low-to-high range\n",
    "\n",
    "randn ->Draw samples from a normal distribution with mean 0 and standard \n",
    "deviation 1 (MATLAB-like interface)\n",
    "\n",
    "binomial ->Draw samples a binomial distribution\n",
    "\n",
    "normal ->Draw samples from a normal (Gaussian) distribution\n",
    "\n",
    "beta ->Draw samples from a beta distribution\n",
    "\n",
    "chisquare ->Draw samples from a chi-square distribution\n",
    "\n",
    "gamma ->Draw samples from a gamma distribution\n",
    "\n",
    "uniform ->Draw samples from a uniform [0, 1) distribution"
   ]
  },
  {
   "cell_type": "code",
   "execution_count": null,
   "metadata": {},
   "outputs": [],
   "source": []
  },
  {
   "cell_type": "code",
   "execution_count": null,
   "metadata": {},
   "outputs": [],
   "source": []
  }
 ],
 "metadata": {
  "kernelspec": {
   "display_name": "Python 3",
   "language": "python",
   "name": "python3"
  },
  "language_info": {
   "codemirror_mode": {
    "name": "ipython",
    "version": 3
   },
   "file_extension": ".py",
   "mimetype": "text/x-python",
   "name": "python",
   "nbconvert_exporter": "python",
   "pygments_lexer": "ipython3",
   "version": "3.7.3"
  }
 },
 "nbformat": 4,
 "nbformat_minor": 2
}
