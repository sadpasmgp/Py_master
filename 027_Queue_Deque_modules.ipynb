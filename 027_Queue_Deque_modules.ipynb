{
 "cells": [
  {
   "cell_type": "markdown",
   "metadata": {},
   "source": [
    "#### queue"
   ]
  },
  {
   "cell_type": "code",
   "execution_count": 6,
   "metadata": {},
   "outputs": [
    {
     "name": "stdout",
     "output_type": "stream",
     "text": [
      "['Empty', 'Full', 'LifoQueue', 'PriorityQueue', 'Queue', 'SimpleQueue', '_PySimpleQueue', '__all__', '__builtins__', '__cached__', '__doc__', '__file__', '__loader__', '__name__', '__package__', '__spec__', 'deque', 'heappop', 'heappush', 'threading', 'time']\n"
     ]
    }
   ],
   "source": [
    "import queue\n",
    "print(dir(queue))"
   ]
  },
  {
   "cell_type": "markdown",
   "metadata": {},
   "source": [
    "The Queue module implements multi-producer, multi-consumer queues. It is especially useful in threaded programming when information must be exchanged safely between multiple threads. \n",
    "\n",
    "There are three types of queues provides by queue module,Which are as following : \n",
    "\n",
    "1. Queue \n",
    "2. LifoQueue \n",
    "3. PriorityQueue Exception \n",
    "\n",
    "which could become: \n",
    "\n",
    "1. Full (queue overflow) \n",
    "2. Empty (queue underflow)"
   ]
  },
  {
   "cell_type": "code",
   "execution_count": 8,
   "metadata": {},
   "outputs": [
    {
     "name": "stdout",
     "output_type": "stream",
     "text": [
      "('key', 1)\n",
      "('key', 2)\n",
      "('key', 3)\n",
      "('key', 4)\n",
      "('key', 5)\n",
      "('key', 6)\n",
      "('key', 7)\n",
      "('key', 8)\n",
      "('key', 9)\n"
     ]
    }
   ],
   "source": [
    "from queue import Queue\n",
    "\n",
    "question_queue = Queue()\n",
    "\n",
    "for x in range(1,10):\n",
    "    temp_dict = ('key',x)\n",
    "    question_queue.put(temp_dict)\n",
    "    \n",
    "while(not question_queue.empty()):\n",
    "    item = question_queue.get()\n",
    "    print(str(item))"
   ]
  },
  {
   "cell_type": "markdown",
   "metadata": {},
   "source": [
    "#### deque"
   ]
  },
  {
   "cell_type": "markdown",
   "metadata": {},
   "source": [
    "Parameter Details\n",
    "iterable -Creates the deque with initial elements copied from another iterable.\n",
    "maxlen -Limits how large the deque can be, pushing out old elements as new are added.\n",
    "\n",
    "Main methods that are useful are poleft and appendleft"
   ]
  },
  {
   "cell_type": "code",
   "execution_count": 10,
   "metadata": {},
   "outputs": [
    {
     "data": {
      "text/plain": [
       "deque([5, 2, 3])"
      ]
     },
     "execution_count": 10,
     "metadata": {},
     "output_type": "execute_result"
    }
   ],
   "source": [
    "from collections import deque\n",
    "\n",
    "d = deque([1,2,3])\n",
    "p = d.popleft()\n",
    "d.appendleft(5)\n",
    "d"
   ]
  },
  {
   "cell_type": "code",
   "execution_count": 11,
   "metadata": {},
   "outputs": [
    {
     "name": "stdout",
     "output_type": "stream",
     "text": [
      "['__add__', '__bool__', '__class__', '__contains__', '__copy__', '__delattr__', '__delitem__', '__dir__', '__doc__', '__eq__', '__format__', '__ge__', '__getattribute__', '__getitem__', '__gt__', '__hash__', '__iadd__', '__imul__', '__init__', '__init_subclass__', '__iter__', '__le__', '__len__', '__lt__', '__mul__', '__ne__', '__new__', '__reduce__', '__reduce_ex__', '__repr__', '__reversed__', '__rmul__', '__setattr__', '__setitem__', '__sizeof__', '__str__', '__subclasshook__', 'append', 'appendleft', 'clear', 'copy', 'count', 'extend', 'extendleft', 'index', 'insert', 'maxlen', 'pop', 'popleft', 'remove', 'reverse', 'rotate']\n"
     ]
    }
   ],
   "source": [
    "print(dir(deque))"
   ]
  },
  {
   "cell_type": "code",
   "execution_count": 12,
   "metadata": {},
   "outputs": [
    {
     "name": "stdout",
     "output_type": "stream",
     "text": [
      "deque([])\n",
      "deque([1, 2, 3, 4])\n",
      "deque([1, 2, 3, 4, 5])\n",
      "deque([4, 1, 2, 3, 4, 5])\n",
      "deque([4, 1, 2, 3, 4, 5, 6, 7])\n",
      "deque([7, 9, 4, 1, 2, 3, 4, 5, 6, 7])\n",
      "deque([7, 9, 4, 1, 2, 3, 4, 5, 6])\n",
      "deque([9, 4, 1, 2, 3, 4, 5, 6])\n",
      "deque([9, 4, 2, 3, 4, 5, 6])\n",
      "deque([6, 5, 4, 3, 2, 4, 9])\n"
     ]
    }
   ],
   "source": [
    "#Available methods in deque\n",
    "\n",
    "d = deque()\n",
    "print(d)\n",
    "d1 = deque([1,2,3,4])\n",
    "print(d1)\n",
    "d1.append(5)\n",
    "print(d1)\n",
    "d1.appendleft(4)\n",
    "print(d1)\n",
    "d1.extend([6,7])\n",
    "print(d1)\n",
    "d1.extendleft([9,7])\n",
    "print(d1)\n",
    "d1.pop()\n",
    "print(d1)\n",
    "d1.popleft()\n",
    "print(d1)\n",
    "d1.remove(1)\n",
    "print(d1)\n",
    "d1.reverse()\n",
    "print(d1)"
   ]
  },
  {
   "cell_type": "markdown",
   "metadata": {},
   "source": [
    "limit deque size\n",
    "\n",
    "Use the maxlen parameter while creating a deque to limit size of deque"
   ]
  },
  {
   "cell_type": "code",
   "execution_count": 14,
   "metadata": {},
   "outputs": [
    {
     "name": "stdout",
     "output_type": "stream",
     "text": [
      "deque([1, 2, 3], maxlen=3)\n",
      "deque([2, 3, 4], maxlen=3)\n",
      "deque([3, 4, 5], maxlen=3)\n"
     ]
    }
   ],
   "source": [
    "from collections import deque\n",
    "d = deque(maxlen =3)\n",
    "d.append(1)\n",
    "d.append(2)\n",
    "d.append(3)\n",
    "print(d)\n",
    "d.append(4)\n",
    "print(d)\n",
    "d.append(5)\n",
    "print(d)"
   ]
  },
  {
   "cell_type": "markdown",
   "metadata": {},
   "source": [
    "breadth first search\n",
    "\n",
    "The Deque is the only Python data structure with fast Queue operations. (Note queue. A basic use case of a Queue is the breadth first search."
   ]
  },
  {
   "cell_type": "code",
   "execution_count": 21,
   "metadata": {},
   "outputs": [],
   "source": [
    "from collections import deque\n",
    "def bfs(graph, root):\n",
    "    distances = {}\n",
    "    distances[root]=0\n",
    "    q = deque([root])\n",
    "    while q:\n",
    "        current = q.popleft()\n",
    "        for neighbor in graph[current]:\n",
    "            if neighbor not in distances:\n",
    "                distances[neighbor] = distances[current] + 1\n",
    "                # When we see a new node, we add it to the right side of the queue.\n",
    "                q.append(neighbor)\n",
    "    return distances"
   ]
  },
  {
   "cell_type": "code",
   "execution_count": 22,
   "metadata": {},
   "outputs": [],
   "source": [
    "graph = {1:[2,3], 2:[4], 3:[4,5], 4:[3,5], 5:[]}"
   ]
  },
  {
   "cell_type": "code",
   "execution_count": 23,
   "metadata": {},
   "outputs": [
    {
     "data": {
      "text/plain": [
       "{1: 0, 2: 1, 3: 1, 4: 2, 5: 2}"
      ]
     },
     "execution_count": 23,
     "metadata": {},
     "output_type": "execute_result"
    }
   ],
   "source": [
    "bfs(graph, 1)"
   ]
  },
  {
   "cell_type": "code",
   "execution_count": 24,
   "metadata": {},
   "outputs": [
    {
     "data": {
      "text/plain": [
       "{3: 0, 4: 1, 5: 1}"
      ]
     },
     "execution_count": 24,
     "metadata": {},
     "output_type": "execute_result"
    }
   ],
   "source": [
    "bfs(graph, 3)"
   ]
  }
 ],
 "metadata": {
  "kernelspec": {
   "display_name": "Python 3",
   "language": "python",
   "name": "python3"
  },
  "language_info": {
   "codemirror_mode": {
    "name": "ipython",
    "version": 3
   },
   "file_extension": ".py",
   "mimetype": "text/x-python",
   "name": "python",
   "nbconvert_exporter": "python",
   "pygments_lexer": "ipython3",
   "version": "3.7.3"
  }
 },
 "nbformat": 4,
 "nbformat_minor": 2
}
