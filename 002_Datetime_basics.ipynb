{
 "cells": [
  {
   "cell_type": "markdown",
   "metadata": {},
   "source": [
    "\"\"\"\n",
    "In python, date, time, datetime classes provide number of functions to work with dates, times and time intervals. \n",
    "datetime classes in python are categorized into 5 main classes.\n",
    "1. date -  manipulate just date(month, day, year)\n",
    "2. time - (manipulate hour, min, sec, microsecond)\n",
    "3. datetime - combination of time and date\n",
    "4. timedelta - duration of time used for manipulating dates\n",
    "5. tzinfo - an anstract class for dealing with timezones\n",
    "\"\"\""
   ]
  },
  {
   "cell_type": "code",
   "execution_count": 1,
   "metadata": {},
   "outputs": [],
   "source": [
    "import datetime\n",
    "\"\"\"\n",
    "this will also work:\n",
    "from datetime import date\n",
    "from datetime import time\n",
    "from datetime import datetime\n",
    "from datetime import timedelta\n",
    "\"\"\""
   ]
  },
  {
   "cell_type": "code",
   "execution_count": 3,
   "metadata": {
    "scrolled": true
   },
   "outputs": [
    {
     "name": "stdout",
     "output_type": "stream",
     "text": [
      "['MAXYEAR', 'MINYEAR', '__builtins__', '__cached__', '__doc__', '__file__', '__loader__', '__name__', '__package__', '__spec__', 'date', 'datetime', 'datetime_CAPI', 'sys', 'time', 'timedelta', 'timezone', 'tzinfo']\n"
     ]
    }
   ],
   "source": [
    "#check the functions it provides to work with\n",
    "print(dir(datetime))"
   ]
  },
  {
   "cell_type": "code",
   "execution_count": 34,
   "metadata": {},
   "outputs": [
    {
     "name": "stdout",
     "output_type": "stream",
     "text": [
      "9999\n",
      "1\n",
      "2019-10-05 09:08:35.647792\n"
     ]
    }
   ],
   "source": [
    "#max year available is 9999 and starting year is 1\n",
    "print(datetime.MAXYEAR)\n",
    "print(datetime.MINYEAR)\n",
    "print(datetime.datetime.now())"
   ]
  },
  {
   "cell_type": "code",
   "execution_count": 19,
   "metadata": {},
   "outputs": [
    {
     "name": "stdout",
     "output_type": "stream",
     "text": [
      "['__add__', '__class__', '__delattr__', '__dir__', '__doc__', '__eq__', '__format__', '__ge__', '__getattribute__', '__gt__', '__hash__', '__init__', '__init_subclass__', '__le__', '__lt__', '__ne__', '__new__', '__radd__', '__reduce__', '__reduce_ex__', '__repr__', '__rsub__', '__setattr__', '__sizeof__', '__str__', '__sub__', '__subclasshook__', 'ctime', 'day', 'fromisoformat', 'fromordinal', 'fromtimestamp', 'isocalendar', 'isoformat', 'isoweekday', 'max', 'min', 'month', 'replace', 'resolution', 'strftime', 'timetuple', 'today', 'toordinal', 'weekday', 'year']\n"
     ]
    }
   ],
   "source": [
    "#lets work with date function from datetime\n",
    "print(dir(datetime.date))"
   ]
  },
  {
   "cell_type": "code",
   "execution_count": 32,
   "metadata": {},
   "outputs": [
    {
     "name": "stdout",
     "output_type": "stream",
     "text": [
      "9999-12-31\n",
      "0001-01-01\n",
      "1 day, 0:00:00\n",
      "2019-10-05\n",
      "10\n",
      "2019\n",
      "5\n",
      "5\n"
     ]
    },
    {
     "data": {
      "text/plain": [
       "'\\ndate.today() function also gives weekday number. \\nstarts with Monday as 0 and sunday as 6\\n'"
      ]
     },
     "execution_count": 32,
     "metadata": {},
     "output_type": "execute_result"
    }
   ],
   "source": [
    "#working with date object\n",
    "print(datetime.date.max)#indicates max date\n",
    "print(datetime.date.min)#indicates min date\n",
    "print(datetime.date.resolution)\n",
    "print(datetime.date.today())#gives today's date\n",
    "print(datetime.date.today().month)#prints current month\n",
    "print(datetime.date.today().year)\n",
    "print(datetime.date.today().day)\n",
    "print(datetime.date.today().weekday())#weekday 5 indicates today is saturday\n",
    "\"\"\"\n",
    "date.today() function also gives weekday number. \n",
    "starts with Monday as 0 and sunday as 6\n",
    "\"\"\""
   ]
  },
  {
   "cell_type": "code",
   "execution_count": 47,
   "metadata": {},
   "outputs": [
    {
     "name": "stdout",
     "output_type": "stream",
     "text": [
      "['__add__', '__class__', '__delattr__', '__dir__', '__doc__', '__eq__', '__format__', '__ge__', '__getattribute__', '__gt__', '__hash__', '__init__', '__init_subclass__', '__le__', '__lt__', '__ne__', '__new__', '__radd__', '__reduce__', '__reduce_ex__', '__repr__', '__rsub__', '__setattr__', '__sizeof__', '__str__', '__sub__', '__subclasshook__', 'astimezone', 'combine', 'ctime', 'date', 'day', 'dst', 'fold', 'fromisoformat', 'fromordinal', 'fromtimestamp', 'hour', 'isocalendar', 'isoformat', 'isoweekday', 'max', 'microsecond', 'min', 'minute', 'month', 'now', 'replace', 'resolution', 'second', 'strftime', 'strptime', 'time', 'timestamp', 'timetuple', 'timetz', 'today', 'toordinal', 'tzinfo', 'tzname', 'utcfromtimestamp', 'utcnow', 'utcoffset', 'utctimetuple', 'weekday', 'year']\n",
      "2019-10-05 09:15:54.421719\n"
     ]
    }
   ],
   "source": [
    "print(dir(datetime.datetime))\n",
    "print(datetime.datetime.now())"
   ]
  },
  {
   "cell_type": "code",
   "execution_count": 48,
   "metadata": {},
   "outputs": [
    {
     "name": "stdout",
     "output_type": "stream",
     "text": [
      "Today is day number 5\n",
      "which is saturday\n"
     ]
    }
   ],
   "source": [
    "#small program to get current time and date using datetime now\n",
    "\n",
    "today = datetime.datetime.now()\n",
    "wd = datetime.date.today().weekday()\n",
    "days= [\"monday\",\"tuesday\",\"wednesday\",\"thursday\",\"friday\",\"saturday\",\"sunday\"]\n",
    "print(\"Today is day number %d\" %wd)\n",
    "print(\"which is \"+days[wd])"
   ]
  },
  {
   "cell_type": "code",
   "execution_count": 73,
   "metadata": {},
   "outputs": [
    {
     "name": "stdout",
     "output_type": "stream",
     "text": [
      "2019-10-05 09:48:10.986231\n",
      "2019\n",
      "19\n",
      "10/05/19\n",
      "05\n",
      "Saturday\n",
      "Sat\n",
      "October\n",
      "Oct\n",
      "today's date is:  Sat, 05 Oct, 2019\n",
      "today's date is:  Saturday, 05 October, 2019\n",
      "Current system time is :  Sat Oct  5 09:48:10 2019\n",
      "Current system time is :  Sat Oct  5 09:48:10 2019 AM\n"
     ]
    }
   ],
   "source": [
    "#How to Format Date and Time Output with Strftime()\n",
    "\"\"\"\n",
    "    We use the \"strftime function\" for formatting.\n",
    "    This function uses different control code to give an output.\n",
    "    Each control code resembles different parameters like year,month, weekday and date [(%y/%Y – Year), (%a/%A- weekday), (%b/%B- month), (%d - day of month)] .\n",
    "    In our case, it is (\"%Y\") which resembles year, it prints out the full year with the century (e.g., 2018).\n",
    "    \n",
    "\"\"\"\n",
    "\n",
    "nw = datetime.datetime.now()\n",
    "print(nw)\n",
    "print(nw.strftime(\"%Y\"))#year printed in yyyy format\n",
    "print(nw.strftime(\"%y\"))#year printed as yy format\n",
    "print(nw.strftime(\"%D\"))# date in mmddyy format\n",
    "print(nw.strftime(\"%d\"))#only mm format\n",
    "\n",
    "#(%y/%Y – Year), (%a/%A- weekday), (%b/%B- month), (%d - day of month)\n",
    "\n",
    "print(nw.strftime(\"%A\"))\n",
    "print(nw.strftime(\"%a\"))\n",
    "print(nw.strftime(\"%B\"))\n",
    "print(nw.strftime(\"%b\"))\n",
    "print(\"today's date is: \", nw.strftime(\"%a, %d %b, %Y\"))\n",
    "print(\"today's date is: \", nw.strftime(\"%A, %d %B, %Y\"))\n",
    "print(\"Current system time is : \", nw.strftime(\"%c\"))#24 hour format\n",
    "print(\"Current system time is : \", nw.strftime(\"%c %p\"))#12 hr format using %p"
   ]
  },
  {
   "cell_type": "raw",
   "metadata": {},
   "source": [
    "\"\"\"\n",
    "timedelta objects - we can estimate the time for both future and past\n",
    "\"\"\"\n",
    "\n",
    "td = datetime.timedelta(days = 365, hours = 8, minutes = 15)\n",
    "print(\"one year from now it will be: \" +str(nw)+str(td)))"
   ]
  },
  {
   "cell_type": "code",
   "execution_count": 103,
   "metadata": {},
   "outputs": [
    {
     "name": "stdout",
     "output_type": "stream",
     "text": [
      "365 days, 8:15:00\n",
      "today is: 2019-10-05 09:48:10.986231\n",
      "one year from now it will be:2020-10-04 09:48:10.986231\n",
      "New Year day already went by 277 days ago\n",
      "next new year will be by 88 days to go\n"
     ]
    }
   ],
   "source": [
    "\"\"\"\n",
    "timedelta objects - we can estimate the time for both future and past\n",
    "\"\"\"\n",
    "\n",
    "print (datetime.timedelta(days=365, hours=8, minutes=15))\n",
    "print (\"today is: \" + str(nw))\n",
    "print (\"one year from now it will be:\" + str(nw + datetime.timedelta(days=365)))\n",
    "today = datetime.date.today()# get todays date\n",
    "nyd = datetime.date(today.year, 1, 1)  # get New Year Day for the same year\n",
    "# use date comparison to see if New Year Day has already gone for this year\n",
    "# if it has, use the replace() function to get the date for next year\n",
    "if nyd < today:\n",
    "    print (\"New Year day already went by %d days ago\" % ((today - nyd).days))\n",
    "    print(\"next new year will be by %d days to go\"%int(365-(today - nyd).days))"
   ]
  },
  {
   "cell_type": "code",
   "execution_count": 106,
   "metadata": {},
   "outputs": [
    {
     "name": "stdout",
     "output_type": "stream",
     "text": [
      "['__class__', '__delattr__', '__dir__', '__doc__', '__eq__', '__format__', '__ge__', '__getattribute__', '__gt__', '__hash__', '__init__', '__init_subclass__', '__le__', '__lt__', '__ne__', '__new__', '__reduce__', '__reduce_ex__', '__repr__', '__setattr__', '__sizeof__', '__str__', '__subclasshook__', 'dst', 'fromutc', 'tzname', 'utcoffset']\n"
     ]
    }
   ],
   "source": [
    "print(dir(datetime.tzinfo()))"
   ]
  }
 ],
 "metadata": {
  "kernelspec": {
   "display_name": "Python 3",
   "language": "python",
   "name": "python3"
  },
  "language_info": {
   "codemirror_mode": {
    "name": "ipython",
    "version": 3
   },
   "file_extension": ".py",
   "mimetype": "text/x-python",
   "name": "python",
   "nbconvert_exporter": "python",
   "pygments_lexer": "ipython3",
   "version": "3.7.3"
  }
 },
 "nbformat": 4,
 "nbformat_minor": 2
}
