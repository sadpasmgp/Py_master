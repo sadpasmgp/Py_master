{
 "cells": [
  {
   "cell_type": "code",
   "execution_count": 9,
   "metadata": {},
   "outputs": [
    {
     "name": "stdout",
     "output_type": "stream",
     "text": [
      "{} {} {'lang': 'python'} {'lang': 'python'} {'lang': 'python'}\n"
     ]
    }
   ],
   "source": [
    "\"\"\"\n",
    "A dictionary is an example of a key value store also known as Mapping in Python. \n",
    "It allows you to store and retrieve elements by referencing a key. \n",
    "As dictionaries are referenced by key, they have very fast lookups.\n",
    "\n",
    "Syntax:\n",
    "d = {}\n",
    "d = {'key':'value'}\n",
    "d = dict()\n",
    "d = dict(key='value')\n",
    "d = dict([('key', 'value')])\n",
    "\"\"\"\n",
    "\n",
    "d1 = {}\n",
    "d2 = dict()\n",
    "d3 = {'lang':'python'}\n",
    "d4 = dict(lang='python')\n",
    "d5 = dict([('lang','python')])\n",
    "\n",
    "print(d1, d2, d3, d4, d5)"
   ]
  },
  {
   "cell_type": "code",
   "execution_count": 10,
   "metadata": {},
   "outputs": [
    {
     "name": "stdout",
     "output_type": "stream",
     "text": [
      "['__class__', '__contains__', '__delattr__', '__delitem__', '__dir__', '__doc__', '__eq__', '__format__', '__ge__', '__getattribute__', '__getitem__', '__gt__', '__hash__', '__init__', '__init_subclass__', '__iter__', '__le__', '__len__', '__lt__', '__ne__', '__new__', '__reduce__', '__reduce_ex__', '__repr__', '__setattr__', '__setitem__', '__sizeof__', '__str__', '__subclasshook__', 'clear', 'copy', 'fromkeys', 'get', 'items', 'keys', 'pop', 'popitem', 'setdefault', 'update', 'values']\n"
     ]
    }
   ],
   "source": [
    "print(dir(d))"
   ]
  },
  {
   "cell_type": "code",
   "execution_count": 13,
   "metadata": {},
   "outputs": [
    {
     "name": "stdout",
     "output_type": "stream",
     "text": [
      "{}\n",
      "{'lang': 'python'}\n",
      "{}\n"
     ]
    }
   ],
   "source": [
    "#Add new items to dict\n",
    "print(d1)\n",
    "d1['lang'] = 'python'\n",
    "print(d1)\n",
    "\n",
    "#To delete an item, use delete\n",
    "del d1['lang']\n",
    "print(d1)"
   ]
  },
  {
   "cell_type": "code",
   "execution_count": 21,
   "metadata": {},
   "outputs": [
    {
     "name": "stdout",
     "output_type": "stream",
     "text": [
      "bar\n",
      "{}\n",
      "bar\n",
      "{'foo': 'bar'}\n"
     ]
    }
   ],
   "source": [
    "#Avoiding KeyError Exceptions\n",
    "\"\"\"\n",
    "One way to avoid key errors is to use the dict.get method, which allows you \n",
    "to specify a default value to return in the case of an absent key.\n",
    "\n",
    "value = mydict.get(key, default_values)\n",
    "\n",
    "Which returns mydict[key] if it exists, but otherwise returns default_value. Note that this doesn't add key to\n",
    "mydict. So if you want to retain that key value pair, you should use mydict.setdefault(key, default_value),\n",
    "which does store the key value pair.\n",
    "\n",
    "\"\"\"\n",
    "\n",
    "mydict = {}\n",
    "\n",
    "print(mydict.get(\"foo\", \"bar\"))\n",
    "print(mydict)\n",
    "\n",
    "print(mydict.setdefault(\"foo\",\"bar\"))\n",
    "print(mydict)\n",
    "\n",
    "\"\"\"Alternate way is to catch exceptions\n",
    "\n",
    "try:\n",
    "    value = mydict[key]\n",
    "except KeyError:\n",
    "    value = default_value\n",
    "    \n",
    "\"\"\""
   ]
  },
  {
   "cell_type": "code",
   "execution_count": 22,
   "metadata": {},
   "outputs": [
    {
     "name": "stdout",
     "output_type": "stream",
     "text": [
      "a 1\n",
      "b 2\n",
      "c 3\n"
     ]
    }
   ],
   "source": [
    "#when dictionary is used as iterator, it traverses using keys\n",
    "\n",
    "d = {'a':1, 'b':2, 'c':3}\n",
    "for key in d:\n",
    "    print(key, d[key])"
   ]
  },
  {
   "cell_type": "code",
   "execution_count": 24,
   "metadata": {},
   "outputs": [
    {
     "name": "stdout",
     "output_type": "stream",
     "text": [
      "['a', 'b', 'c']\n",
      "a 1\n",
      "b 2\n",
      "c 3\n"
     ]
    }
   ],
   "source": [
    "print([key for key in d])\n",
    "for k,v in d.items():\n",
    "    print(k, v)"
   ]
  },
  {
   "cell_type": "code",
   "execution_count": 31,
   "metadata": {},
   "outputs": [
    {
     "name": "stdout",
     "output_type": "stream",
     "text": [
      "{'name': 'Clifford', 'hands': 'paws', 'special': 'gills', 'color': 'red'}\n",
      "{'name': 'Clifford', 'hands': 'paws', 'color': 'red', 'special': 'gills'}\n",
      "dict_keys(['name', 'hands', 'special', 'color'])\n",
      "dict_values(['Clifford', 'paws', 'gills', 'red'])\n",
      "dict_items([('name', 'Clifford'), ('hands', 'paws'), ('special', 'gills'), ('color', 'red')])\n"
     ]
    }
   ],
   "source": [
    "#Merging dictionaries\n",
    "\n",
    "fish = {'name': \"Nemo\", 'hands': \"fins\", 'special': \"gills\"}\n",
    "dog = {'name': \"Clifford\", 'hands': \"paws\", 'color': \"red\"}\n",
    "\n",
    "fish.update(dog)\n",
    "print(fish)\n",
    "dog.update(fish)\n",
    "print(dog)\n",
    "\n",
    "#Accessing keys and values\n",
    "print(fish.keys())\n",
    "print(fish.values())\n",
    "print(fish.items())"
   ]
  },
  {
   "cell_type": "code",
   "execution_count": 35,
   "metadata": {},
   "outputs": [
    {
     "name": "stdout",
     "output_type": "stream",
     "text": [
      "4\n",
      "{'name': 'Clifford', 'hands': 'paws', 'special': 'gills', 'color': 'red'}\n"
     ]
    }
   ],
   "source": [
    "print(len(fish))\n",
    "print(str(fish))"
   ]
  },
  {
   "cell_type": "code",
   "execution_count": null,
   "metadata": {},
   "outputs": [],
   "source": [
    "\"\"\"\n",
    "1 dict.clear()  Removes all elements of dictionary dict\n",
    "2 dict.copy()   Returns a shallow copy of dictionary dict\n",
    "3 dict.fromkeys() Create a new dictionary with keys from seq and values set to value.\n",
    "4 dict.get(key, default=None) For key key, returns value or default if key not in dictionary\n",
    "5 dict.has_key(key) Returns true if key in dictionary dict, false otherwise\n",
    "6 dict.items() Returns a list of dict's (key, value) tuple pairs\n",
    "7 dict.keys() Returns list of dictionary dict's keys\n",
    "8 dict.setdefault(key, default=None) Similar to get(), but will set dict[key]=default if key is not already in dict\n",
    "9 dict.update(dict2) Adds dictionary dict2's key-values pairs to dict\n",
    "10 dict.values() Returns list of dictionary dict's values\n",
    "\"\"\""
   ]
  },
  {
   "cell_type": "code",
   "execution_count": null,
   "metadata": {},
   "outputs": [],
   "source": []
  },
  {
   "cell_type": "code",
   "execution_count": null,
   "metadata": {},
   "outputs": [],
   "source": []
  }
 ],
 "metadata": {
  "kernelspec": {
   "display_name": "Python 3",
   "language": "python",
   "name": "python3"
  },
  "language_info": {
   "codemirror_mode": {
    "name": "ipython",
    "version": 3
   },
   "file_extension": ".py",
   "mimetype": "text/x-python",
   "name": "python",
   "nbconvert_exporter": "python",
   "pygments_lexer": "ipython3",
   "version": "3.7.3"
  }
 },
 "nbformat": 4,
 "nbformat_minor": 2
}
