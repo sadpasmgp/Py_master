{
 "cells": [
  {
   "cell_type": "code",
   "execution_count": null,
   "metadata": {},
   "outputs": [],
   "source": [
    "\"\"\"\n",
    "Date and time Topics:\n",
    "1. Parsing a string into a timezone aware datetime object\n",
    "2. constructing timezone aware datetimes\n",
    "3. computing time differences\n",
    "4. basic datetime objects usage\n",
    "5. switching between timezones\n",
    "6. simele date arithmetic\n",
    "7. converting timestamp to datetime\n",
    "8. subtracting months from date accurately\n",
    "9. parsing arbitrary ISO 8601 timestamp with minimal libraries\n",
    "10. Get an ISO 8601 timestamp\n",
    "11. Fuzzy datetime parsing\n",
    "12. Iterate over dates\n",
    "13. date time formatting\n",
    "\"\"\""
   ]
  },
  {
   "cell_type": "code",
   "execution_count": 24,
   "metadata": {},
   "outputs": [],
   "source": [
    "from datetime import *"
   ]
  },
  {
   "cell_type": "code",
   "execution_count": 25,
   "metadata": {},
   "outputs": [
    {
     "name": "stdout",
     "output_type": "stream",
     "text": [
      "['__add__', '__class__', '__delattr__', '__dir__', '__doc__', '__eq__', '__format__', '__ge__', '__getattribute__', '__gt__', '__hash__', '__init__', '__init_subclass__', '__le__', '__lt__', '__ne__', '__new__', '__radd__', '__reduce__', '__reduce_ex__', '__repr__', '__rsub__', '__setattr__', '__sizeof__', '__str__', '__sub__', '__subclasshook__', 'astimezone', 'combine', 'ctime', 'date', 'day', 'dst', 'fold', 'fromisoformat', 'fromordinal', 'fromtimestamp', 'hour', 'isocalendar', 'isoformat', 'isoweekday', 'max', 'microsecond', 'min', 'minute', 'month', 'now', 'replace', 'resolution', 'second', 'strftime', 'strptime', 'time', 'timestamp', 'timetuple', 'timetz', 'today', 'toordinal', 'tzinfo', 'tzname', 'utcfromtimestamp', 'utcnow', 'utcoffset', 'utctimetuple', 'weekday', 'year']\n"
     ]
    }
   ],
   "source": [
    "print(dir(datetime))"
   ]
  },
  {
   "cell_type": "code",
   "execution_count": 27,
   "metadata": {},
   "outputs": [
    {
     "name": "stdout",
     "output_type": "stream",
     "text": [
      "2016-04-15 08:27:18-05:00\n"
     ]
    }
   ],
   "source": [
    "# 1.Parsing a string into a timezone aware datetime object\n",
    "\n",
    "dt = datetime.strptime(\"2016-04-15T08:27:18-0500\", \"%Y-%m-%dT%H:%M:%S%z\")\n",
    "print(dt)"
   ]
  },
  {
   "cell_type": "code",
   "execution_count": 29,
   "metadata": {},
   "outputs": [
    {
     "name": "stdout",
     "output_type": "stream",
     "text": [
      "2016-04-15 08:27:18-05:00\n",
      "2016-04-15 08:27:18-05:00\n",
      "2019-10-09 23:15:36\n"
     ]
    }
   ],
   "source": [
    "#same can also be done using below\n",
    "import dateutil.parser\n",
    "dt1 = dateutil.parser.parse(\"2016-04-15T08:27:18-0500\")\n",
    "print(dt1)\n",
    "print(dt)\n",
    "dt2 = dateutil.parser.parse(\"2019-10-09T23:15:36\")\n",
    "print(dt2)"
   ]
  },
  {
   "cell_type": "code",
   "execution_count": 33,
   "metadata": {},
   "outputs": [
    {
     "name": "stdout",
     "output_type": "stream",
     "text": [
      "2015-01-01 12:00:00+09:00\n",
      "UTC+09:00\n",
      "JST\n"
     ]
    }
   ],
   "source": [
    "# 2.Constructing timezone-aware datetimes\n",
    "\"\"\"\n",
    "To make all datetime objects timezone-aware, we use tzinfo object which provided UTC offset\n",
    "and timezone abbrevation as a function of datetime\n",
    "\"\"\"\n",
    "\n",
    "jst = timezone(timedelta(hours=+9))\n",
    "dt = datetime(2015,1,1,12,0,0, tzinfo=jst)\n",
    "print(dt)\n",
    "print(dt.tzname())\n",
    "dt1 = datetime(2015,1,1,12,0,0,tzinfo=timezone(timedelta(hours=9),'JST'))\n",
    "print(dt1.tzname())\n"
   ]
  },
  {
   "cell_type": "code",
   "execution_count": 45,
   "metadata": {},
   "outputs": [
    {
     "name": "stdout",
     "output_type": "stream",
     "text": [
      "It has been following days since mentioned time:  1230 days, 16:28:56.021651\n",
      "upcoming new year is after :  87 days, 7:31:03.978349\n"
     ]
    }
   ],
   "source": [
    "#3. computing time differences\n",
    "\n",
    "nw = datetime.now()\n",
    "then = datetime(2016, 5, 23)\n",
    "up = datetime(2020,1,1)\n",
    "delta = nw-then\n",
    "print(\"It has been following days since mentioned time: \",delta)\n",
    "print(\"upcoming new year is after : \", up-nw)"
   ]
  },
  {
   "cell_type": "code",
   "execution_count": 54,
   "metadata": {},
   "outputs": [
    {
     "name": "stdout",
     "output_type": "stream",
     "text": [
      "tzutc()\n",
      "tzlocal()\n",
      "2019-10-05 11:05:15.776122\n",
      "2019-10-05 11:05:15.776122+00:00\n",
      "2019-10-05 16:35:15.776122+05:30\n"
     ]
    }
   ],
   "source": [
    "\"\"\"4. Switching between time zones\n",
    "\n",
    "To switch between timezones, we need timezone-aware time objects\n",
    "\n",
    "\"\"\"\n",
    "\n",
    "from datetime import datetime\n",
    "from dateutil import tz\n",
    "\n",
    "utc = tz.tzutc()#tz onject that represents utc timezone\n",
    "print(utc)\n",
    "local = tz.tzlocal()\n",
    "print(local)\n",
    "\n",
    "utc_now = datetime.utcnow() #not tmezone aware\n",
    "print(utc_now)\n",
    "utc_now = utc_now.replace(tzinfo=utc) #timezone aware\n",
    "print(utc_now)\n",
    "\n",
    "local_now = utc_now.astimezone(local) #converted to local timezone aware\n",
    "print(local_now)\n"
   ]
  },
  {
   "cell_type": "code",
   "execution_count": 58,
   "metadata": {},
   "outputs": [
    {
     "name": "stdout",
     "output_type": "stream",
     "text": [
      "2019-10-05\n",
      "2019-10-04\n",
      "2019-10-06\n"
     ]
    }
   ],
   "source": [
    "#5. simple date arithmetic\n",
    "\n",
    "import datetime\n",
    "\n",
    "today = datetime.date.today()\n",
    "print(today)\n",
    "\n",
    "yesterday = today - datetime.timedelta(days = 1)\n",
    "print(yesterday)\n",
    "\n",
    "tomorrow = today + datetime.timedelta(days =1)\n",
    "print(tomorrow)"
   ]
  },
  {
   "cell_type": "code",
   "execution_count": 63,
   "metadata": {},
   "outputs": [
    {
     "name": "stdout",
     "output_type": "stream",
     "text": [
      "1570274029.3228664\n",
      "2019-10-05 11:13:49.322866\n"
     ]
    }
   ],
   "source": [
    "#6. converting timestamp to datetime\n",
    "\n",
    "#datetime module can convert a POSIX timestamp to a ITC datetime object\n",
    "#Epoch is January 1st 1970 midnight\n",
    "\n",
    "import time\n",
    "from datetime import datetime\n",
    "\n",
    "epoch_secs = time.time()\n",
    "print(epoch_secs)\n",
    "\n",
    "utc_date = datetime.utcfromtimestamp(epoch_secs)\n",
    "print(utc_date)"
   ]
  },
  {
   "cell_type": "code",
   "execution_count": 66,
   "metadata": {},
   "outputs": [
    {
     "data": {
      "text/plain": [
       "datetime.datetime(2013, 2, 28, 0, 0)"
      ]
     },
     "execution_count": 66,
     "metadata": {},
     "output_type": "execute_result"
    }
   ],
   "source": [
    "#7. subtracting months from a date accurately\n",
    "\n",
    "import datetime\n",
    "import dateutil.relativedelta\n",
    "\n",
    "d = datetime.datetime.strptime(\"2013-03-31\", \"%Y-%m-%d\")\n",
    "d2 = d - dateutil.relativedelta.relativedelta(months = 1)\n",
    "d2"
   ]
  },
  {
   "cell_type": "code",
   "execution_count": 82,
   "metadata": {},
   "outputs": [
    {
     "name": "stdout",
     "output_type": "stream",
     "text": [
      "2019-10-05T17:40:22.753224\n",
      "2019-10-05T17:40:22+05:30\n"
     ]
    }
   ],
   "source": [
    "\"\"\"8. PARSING ISO 8601 timestamp\n",
    "\n",
    "Date and time expressed according to ISO 8601\n",
    "Date\t2019-10-05\n",
    "Date and time in UTC\t2019-10-05T10:17:16+00:00\n",
    "2019-10-05T10:17:16Z\n",
    "20191005T101716Z\n",
    "Week\t2019-W40\n",
    "Date with week number\t2019-W40-6\n",
    "Date without year\t--10-05[1]\n",
    "Ordinal date\t2019-278\n",
    "\n",
    "\"\"\"\n",
    "\n",
    "from datetime import datetime\n",
    "print(datetime.now().isoformat())#isoformat is used to represent datetime in iso8601 format\n",
    "\n",
    "from dateutil.tz import tzlocal\n",
    "print(datetime.now(tzlocal()).replace(microsecond = 0).isoformat())"
   ]
  },
  {
   "cell_type": "code",
   "execution_count": 83,
   "metadata": {},
   "outputs": [
    {
     "name": "stdout",
     "output_type": "stream",
     "text": [
      "2047-01-01 08:21:36\n"
     ]
    }
   ],
   "source": [
    "\"\"\" 9. Fuzzy datetime parsing - \n",
    "To extract datetime out of text using dateutil parser\n",
    "\"\"\"\n",
    "\n",
    "from dateutil.parser import parse\n",
    "\n",
    "dt = parse(\"Today is January 1, 2047 at 08:21:36 AM\", fuzzy=True)\n",
    "print(dt)"
   ]
  },
  {
   "cell_type": "code",
   "execution_count": 89,
   "metadata": {},
   "outputs": [
    {
     "name": "stdout",
     "output_type": "stream",
     "text": [
      "2019-10-06\n",
      "2019-10-07\n",
      "2019-10-08\n",
      "2019-10-09\n",
      "2019-10-10\n",
      "2019-10-11\n",
      "2019-10-12\n",
      "2019-10-13\n",
      "2019-10-14\n"
     ]
    }
   ],
   "source": [
    "\"\"\"10. Iterate over dates\"\"\"\n",
    "\n",
    "import datetime\n",
    "\n",
    "dt = datetime.timedelta(days=1)\n",
    "st = datetime.date.today()\n",
    "\n",
    "for i in range(1,10):\n",
    "    print(st + i*dt)"
   ]
  },
  {
   "cell_type": "code",
   "execution_count": 94,
   "metadata": {},
   "outputs": [
    {
     "name": "stdout",
     "output_type": "stream",
     "text": [
      "917\n",
      "79217937.0\n"
     ]
    }
   ],
   "source": [
    "\"\"\"11. Date formatting\"\"\"\n",
    "\n",
    "a = datetime.datetime(2016,1,1,8,5,6)\n",
    "b = datetime.datetime(2018,7,6,5,4,3)\n",
    "\n",
    "print(abs((a-b).days))\n",
    "print(abs(a-b).total_seconds())"
   ]
  }
 ],
 "metadata": {
  "kernelspec": {
   "display_name": "Python 3",
   "language": "python",
   "name": "python3"
  },
  "language_info": {
   "codemirror_mode": {
    "name": "ipython",
    "version": 3
   },
   "file_extension": ".py",
   "mimetype": "text/x-python",
   "name": "python",
   "nbconvert_exporter": "python",
   "pygments_lexer": "ipython3",
   "version": "3.7.3"
  }
 },
 "nbformat": 4,
 "nbformat_minor": 2
}
