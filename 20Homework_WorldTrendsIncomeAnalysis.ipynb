{
 "cells": [
  {
   "cell_type": "code",
   "execution_count": 1,
   "metadata": {},
   "outputs": [],
   "source": [
    "import numpy as np\n",
    "import pandas as pd\n",
    "import matplotlib.pyplot as plt\n",
    "import seaborn as sns\n",
    "\n",
    "%matplotlib inline\n",
    "\n",
    "plt.rcParams['figure.figsize'] = 8,4"
   ]
  },
  {
   "cell_type": "code",
   "execution_count": 2,
   "metadata": {},
   "outputs": [],
   "source": [
    "worldtrend = pd.read_csv(r'P4-Demographic-Data.csv')"
   ]
  },
  {
   "cell_type": "code",
   "execution_count": 3,
   "metadata": {},
   "outputs": [],
   "source": [
    "worldtrend.columns = ['CountryName','Countrycode','BirthRate','InternetUsers','IncomeGroup']"
   ]
  },
  {
   "cell_type": "code",
   "execution_count": 4,
   "metadata": {},
   "outputs": [
    {
     "data": {
      "text/html": [
       "<div>\n",
       "<style scoped>\n",
       "    .dataframe tbody tr th:only-of-type {\n",
       "        vertical-align: middle;\n",
       "    }\n",
       "\n",
       "    .dataframe tbody tr th {\n",
       "        vertical-align: top;\n",
       "    }\n",
       "\n",
       "    .dataframe thead th {\n",
       "        text-align: right;\n",
       "    }\n",
       "</style>\n",
       "<table border=\"1\" class=\"dataframe\">\n",
       "  <thead>\n",
       "    <tr style=\"text-align: right;\">\n",
       "      <th></th>\n",
       "      <th>CountryName</th>\n",
       "      <th>Countrycode</th>\n",
       "      <th>BirthRate</th>\n",
       "      <th>InternetUsers</th>\n",
       "      <th>IncomeGroup</th>\n",
       "    </tr>\n",
       "  </thead>\n",
       "  <tbody>\n",
       "    <tr>\n",
       "      <th>0</th>\n",
       "      <td>Aruba</td>\n",
       "      <td>ABW</td>\n",
       "      <td>10.244</td>\n",
       "      <td>78.9</td>\n",
       "      <td>High income</td>\n",
       "    </tr>\n",
       "    <tr>\n",
       "      <th>1</th>\n",
       "      <td>Afghanistan</td>\n",
       "      <td>AFG</td>\n",
       "      <td>35.253</td>\n",
       "      <td>5.9</td>\n",
       "      <td>Low income</td>\n",
       "    </tr>\n",
       "    <tr>\n",
       "      <th>2</th>\n",
       "      <td>Angola</td>\n",
       "      <td>AGO</td>\n",
       "      <td>45.985</td>\n",
       "      <td>19.1</td>\n",
       "      <td>Upper middle income</td>\n",
       "    </tr>\n",
       "    <tr>\n",
       "      <th>3</th>\n",
       "      <td>Albania</td>\n",
       "      <td>ALB</td>\n",
       "      <td>12.877</td>\n",
       "      <td>57.2</td>\n",
       "      <td>Upper middle income</td>\n",
       "    </tr>\n",
       "    <tr>\n",
       "      <th>4</th>\n",
       "      <td>United Arab Emirates</td>\n",
       "      <td>ARE</td>\n",
       "      <td>11.044</td>\n",
       "      <td>88.0</td>\n",
       "      <td>High income</td>\n",
       "    </tr>\n",
       "  </tbody>\n",
       "</table>\n",
       "</div>"
      ],
      "text/plain": [
       "            CountryName Countrycode  BirthRate  InternetUsers  \\\n",
       "0                 Aruba         ABW     10.244           78.9   \n",
       "1           Afghanistan         AFG     35.253            5.9   \n",
       "2                Angola         AGO     45.985           19.1   \n",
       "3               Albania         ALB     12.877           57.2   \n",
       "4  United Arab Emirates         ARE     11.044           88.0   \n",
       "\n",
       "           IncomeGroup  \n",
       "0          High income  \n",
       "1           Low income  \n",
       "2  Upper middle income  \n",
       "3  Upper middle income  \n",
       "4          High income  "
      ]
     },
     "execution_count": 4,
     "metadata": {},
     "output_type": "execute_result"
    }
   ],
   "source": [
    "worldtrend.head()"
   ]
  },
  {
   "cell_type": "code",
   "execution_count": 5,
   "metadata": {},
   "outputs": [
    {
     "data": {
      "text/html": [
       "<div>\n",
       "<style scoped>\n",
       "    .dataframe tbody tr th:only-of-type {\n",
       "        vertical-align: middle;\n",
       "    }\n",
       "\n",
       "    .dataframe tbody tr th {\n",
       "        vertical-align: top;\n",
       "    }\n",
       "\n",
       "    .dataframe thead th {\n",
       "        text-align: right;\n",
       "    }\n",
       "</style>\n",
       "<table border=\"1\" class=\"dataframe\">\n",
       "  <thead>\n",
       "    <tr style=\"text-align: right;\">\n",
       "      <th></th>\n",
       "      <th>CountryName</th>\n",
       "      <th>Countrycode</th>\n",
       "      <th>BirthRate</th>\n",
       "      <th>InternetUsers</th>\n",
       "      <th>IncomeGroup</th>\n",
       "    </tr>\n",
       "  </thead>\n",
       "  <tbody>\n",
       "    <tr>\n",
       "      <th>190</th>\n",
       "      <td>Yemen, Rep.</td>\n",
       "      <td>YEM</td>\n",
       "      <td>32.947</td>\n",
       "      <td>20.0</td>\n",
       "      <td>Lower middle income</td>\n",
       "    </tr>\n",
       "    <tr>\n",
       "      <th>191</th>\n",
       "      <td>South Africa</td>\n",
       "      <td>ZAF</td>\n",
       "      <td>20.850</td>\n",
       "      <td>46.5</td>\n",
       "      <td>Upper middle income</td>\n",
       "    </tr>\n",
       "    <tr>\n",
       "      <th>192</th>\n",
       "      <td>Congo, Dem. Rep.</td>\n",
       "      <td>COD</td>\n",
       "      <td>42.394</td>\n",
       "      <td>2.2</td>\n",
       "      <td>Low income</td>\n",
       "    </tr>\n",
       "    <tr>\n",
       "      <th>193</th>\n",
       "      <td>Zambia</td>\n",
       "      <td>ZMB</td>\n",
       "      <td>40.471</td>\n",
       "      <td>15.4</td>\n",
       "      <td>Lower middle income</td>\n",
       "    </tr>\n",
       "    <tr>\n",
       "      <th>194</th>\n",
       "      <td>Zimbabwe</td>\n",
       "      <td>ZWE</td>\n",
       "      <td>35.715</td>\n",
       "      <td>18.5</td>\n",
       "      <td>Low income</td>\n",
       "    </tr>\n",
       "  </tbody>\n",
       "</table>\n",
       "</div>"
      ],
      "text/plain": [
       "          CountryName Countrycode  BirthRate  InternetUsers  \\\n",
       "190       Yemen, Rep.         YEM     32.947           20.0   \n",
       "191      South Africa         ZAF     20.850           46.5   \n",
       "192  Congo, Dem. Rep.         COD     42.394            2.2   \n",
       "193            Zambia         ZMB     40.471           15.4   \n",
       "194          Zimbabwe         ZWE     35.715           18.5   \n",
       "\n",
       "             IncomeGroup  \n",
       "190  Lower middle income  \n",
       "191  Upper middle income  \n",
       "192           Low income  \n",
       "193  Lower middle income  \n",
       "194           Low income  "
      ]
     },
     "execution_count": 5,
     "metadata": {},
     "output_type": "execute_result"
    }
   ],
   "source": [
    "worldtrend.tail()"
   ]
  },
  {
   "cell_type": "code",
   "execution_count": 6,
   "metadata": {},
   "outputs": [
    {
     "name": "stdout",
     "output_type": "stream",
     "text": [
      "<class 'pandas.core.frame.DataFrame'>\n",
      "RangeIndex: 195 entries, 0 to 194\n",
      "Data columns (total 5 columns):\n",
      "CountryName      195 non-null object\n",
      "Countrycode      195 non-null object\n",
      "BirthRate        195 non-null float64\n",
      "InternetUsers    195 non-null float64\n",
      "IncomeGroup      195 non-null object\n",
      "dtypes: float64(2), object(3)\n",
      "memory usage: 7.7+ KB\n"
     ]
    }
   ],
   "source": [
    "worldtrend.info()"
   ]
  },
  {
   "cell_type": "code",
   "execution_count": 7,
   "metadata": {},
   "outputs": [
    {
     "data": {
      "text/html": [
       "<div>\n",
       "<style scoped>\n",
       "    .dataframe tbody tr th:only-of-type {\n",
       "        vertical-align: middle;\n",
       "    }\n",
       "\n",
       "    .dataframe tbody tr th {\n",
       "        vertical-align: top;\n",
       "    }\n",
       "\n",
       "    .dataframe thead th {\n",
       "        text-align: right;\n",
       "    }\n",
       "</style>\n",
       "<table border=\"1\" class=\"dataframe\">\n",
       "  <thead>\n",
       "    <tr style=\"text-align: right;\">\n",
       "      <th></th>\n",
       "      <th>BirthRate</th>\n",
       "      <th>InternetUsers</th>\n",
       "    </tr>\n",
       "  </thead>\n",
       "  <tbody>\n",
       "    <tr>\n",
       "      <th>count</th>\n",
       "      <td>195.000000</td>\n",
       "      <td>195.000000</td>\n",
       "    </tr>\n",
       "    <tr>\n",
       "      <th>mean</th>\n",
       "      <td>21.469928</td>\n",
       "      <td>42.076471</td>\n",
       "    </tr>\n",
       "    <tr>\n",
       "      <th>std</th>\n",
       "      <td>10.605467</td>\n",
       "      <td>29.030788</td>\n",
       "    </tr>\n",
       "    <tr>\n",
       "      <th>min</th>\n",
       "      <td>7.900000</td>\n",
       "      <td>0.900000</td>\n",
       "    </tr>\n",
       "    <tr>\n",
       "      <th>25%</th>\n",
       "      <td>12.120500</td>\n",
       "      <td>14.520000</td>\n",
       "    </tr>\n",
       "    <tr>\n",
       "      <th>50%</th>\n",
       "      <td>19.680000</td>\n",
       "      <td>41.000000</td>\n",
       "    </tr>\n",
       "    <tr>\n",
       "      <th>75%</th>\n",
       "      <td>29.759500</td>\n",
       "      <td>66.225000</td>\n",
       "    </tr>\n",
       "    <tr>\n",
       "      <th>max</th>\n",
       "      <td>49.661000</td>\n",
       "      <td>96.546800</td>\n",
       "    </tr>\n",
       "  </tbody>\n",
       "</table>\n",
       "</div>"
      ],
      "text/plain": [
       "        BirthRate  InternetUsers\n",
       "count  195.000000     195.000000\n",
       "mean    21.469928      42.076471\n",
       "std     10.605467      29.030788\n",
       "min      7.900000       0.900000\n",
       "25%     12.120500      14.520000\n",
       "50%     19.680000      41.000000\n",
       "75%     29.759500      66.225000\n",
       "max     49.661000      96.546800"
      ]
     },
     "execution_count": 7,
     "metadata": {},
     "output_type": "execute_result"
    }
   ],
   "source": [
    "worldtrend.describe()"
   ]
  },
  {
   "cell_type": "code",
   "execution_count": 9,
   "metadata": {},
   "outputs": [
    {
     "data": {
      "image/png": "[encoded data removed]",
      "text/plain": [
       "<Figure size 503.125x360 with 1 Axes>"
      ]
     },
     "metadata": {
      "needs_background": "light"
     },
     "output_type": "display_data"
    }
   ],
   "source": [
    "vis1 = sns.lmplot(data = worldtrend, x = 'BirthRate', y = 'InternetUsers', fit_reg = False\n",
    "                 ,hue = 'IncomeGroup')"
   ]
  },
  {
   "cell_type": "code",
   "execution_count": 11,
   "metadata": {},
   "outputs": [],
   "source": [
    "Countries_2012_Dataset = list ([\"Aruba\",\"Afghanistan\",\"Angola\",\"Albania\",\"United Arab Emirates\",\"Argentina\",\"Armenia\",\"Antigua and Barbuda\",\"Australia\",\"Austria\",\"Azerbaijan\",\"Burundi\",\"Belgium\",\"Benin\",\"Burkina Faso\",\"Bangladesh\",\"Bulgaria\",\"Bahrain\",\"Bahamas, The\",\"Bosnia and Herzegovina\",\"Belarus\",\"Belize\",\"Bermuda\",\"Bolivia\",\"Brazil\",\"Barbados\",\"Brunei Darussalam\",\"Bhutan\",\"Botswana\",\"Central African Republic\",\"Canada\",\"Switzerland\",\"Chile\",\"China\",\"Cote d'Ivoire\",\"Cameroon\",\"Congo, Rep.\",\"Colombia\",\"Comoros\",\"Cabo Verde\",\"Costa Rica\",\"Cuba\",\"Cayman Islands\",\"Cyprus\",\"Czech Republic\",\"Germany\",\"Djibouti\",\"Denmark\",\"Dominican Republic\",\"Algeria\",\"Ecuador\",\"Egypt, Arab Rep.\",\"Eritrea\",\"Spain\",\"Estonia\",\"Ethiopia\",\"Finland\",\"Fiji\",\"France\",\"Micronesia, Fed. Sts.\",\"Gabon\",\"United Kingdom\",\"Georgia\",\"Ghana\",\"Guinea\",\"Gambia, The\",\"Guinea-Bissau\",\"Equatorial Guinea\",\"Greece\",\"Grenada\",\"Greenland\",\"Guatemala\",\"Guam\",\"Guyana\",\"Hong Kong SAR, China\",\"Honduras\",\"Croatia\",\"Haiti\",\"Hungary\",\"Indonesia\",\"India\",\"Ireland\",\"Iran, Islamic Rep.\",\"Iraq\",\"Iceland\",\"Israel\",\"Italy\",\"Jamaica\",\"Jordan\",\"Japan\",\"Kazakhstan\",\"Kenya\",\"Kyrgyz Republic\",\"Cambodia\",\"Kiribati\",\"Korea, Rep.\",\"Kuwait\",\"Lao PDR\",\"Lebanon\",\"Liberia\",\"Libya\",\"St. Lucia\",\"Liechtenstein\",\"Sri Lanka\",\"Lesotho\",\"Lithuania\",\"Luxembourg\",\"Latvia\",\"Macao SAR, China\",\"Morocco\",\"Moldova\",\"Madagascar\",\"Maldives\",\"Mexico\",\"Macedonia, FYR\",\"Mali\",\"Malta\",\"Myanmar\",\"Montenegro\",\"Mongolia\",\"Mozambique\",\"Mauritania\",\"Mauritius\",\"Malawi\",\"Malaysia\",\"Namibia\",\"New Caledonia\",\"Niger\",\"Nigeria\",\"Nicaragua\",\"Netherlands\",\"Norway\",\"Nepal\",\"New Zealand\",\"Oman\",\"Pakistan\",\"Panama\",\"Peru\",\"Philippines\",\"Papua New Guinea\",\"Poland\",\"Puerto Rico\",\"Portugal\",\"Paraguay\",\"French Polynesia\",\"Qatar\",\"Romania\",\"Russian Federation\",\"Rwanda\",\"Saudi Arabia\",\"Sudan\",\"Senegal\",\"Singapore\",\"Solomon Islands\",\"Sierra Leone\",\"El Salvador\",\"Somalia\",\"Serbia\",\"South Sudan\",\"Sao Tome and Principe\",\"Suriname\",\"Slovak Republic\",\"Slovenia\",\"Sweden\",\"Swaziland\",\"Seychelles\",\"Syrian Arab Republic\",\"Chad\",\"Togo\",\"Thailand\",\"Tajikistan\",\"Turkmenistan\",\"Timor-Leste\",\"Tonga\",\"Trinidad and Tobago\",\"Tunisia\",\"Turkey\",\"Tanzania\",\"Uganda\",\"Ukraine\",\"Uruguay\",\"United States\",\"Uzbekistan\",\"St. Vincent and the Grenadines\",\"Venezuela, RB\",\"Virgin Islands (U.S.)\",\"Vietnam\",\"Vanuatu\",\"West Bank and Gaza\",\"Samoa\",\"Yemen, Rep.\",\"South Africa\",\"Congo, Dem. Rep.\",\"Zambia\",\"Zimbabwe\"])\n",
    "Codes_2012_Dataset = list ([\"ABW\",\"AFG\",\"AGO\",\"ALB\",\"ARE\",\"ARG\",\"ARM\",\"ATG\",\"AUS\",\"AUT\",\"AZE\",\"BDI\",\"BEL\",\"BEN\",\"BFA\",\"BGD\",\"BGR\",\"BHR\",\"BHS\",\"BIH\",\"BLR\",\"BLZ\",\"BMU\",\"BOL\",\"BRA\",\"BRB\",\"BRN\",\"BTN\",\"BWA\",\"CAF\",\"CAN\",\"CHE\",\"CHL\",\"CHN\",\"CIV\",\"CMR\",\"COG\",\"COL\",\"COM\",\"CPV\",\"CRI\",\"CUB\",\"CYM\",\"CYP\",\"CZE\",\"DEU\",\"DJI\",\"DNK\",\"DOM\",\"DZA\",\"ECU\",\"EGY\",\"ERI\",\"ESP\",\"EST\",\"ETH\",\"FIN\",\"FJI\",\"FRA\",\"FSM\",\"GAB\",\"GBR\",\"GEO\",\"GHA\",\"GIN\",\"GMB\",\"GNB\",\"GNQ\",\"GRC\",\"GRD\",\"GRL\",\"GTM\",\"GUM\",\"GUY\",\"HKG\",\"HND\",\"HRV\",\"HTI\",\"HUN\",\"IDN\",\"IND\",\"IRL\",\"IRN\",\"IRQ\",\"ISL\",\"ISR\",\"ITA\",\"JAM\",\"JOR\",\"JPN\",\"KAZ\",\"KEN\",\"KGZ\",\"KHM\",\"KIR\",\"KOR\",\"KWT\",\"LAO\",\"LBN\",\"LBR\",\"LBY\",\"LCA\",\"LIE\",\"LKA\",\"LSO\",\"LTU\",\"LUX\",\"LVA\",\"MAC\",\"MAR\",\"MDA\",\"MDG\",\"MDV\",\"MEX\",\"MKD\",\"MLI\",\"MLT\",\"MMR\",\"MNE\",\"MNG\",\"MOZ\",\"MRT\",\"MUS\",\"MWI\",\"MYS\",\"NAM\",\"NCL\",\"NER\",\"NGA\",\"NIC\",\"NLD\",\"NOR\",\"NPL\",\"NZL\",\"OMN\",\"PAK\",\"PAN\",\"PER\",\"PHL\",\"PNG\",\"POL\",\"PRI\",\"PRT\",\"PRY\",\"PYF\",\"QAT\",\"ROU\",\"RUS\",\"RWA\",\"SAU\",\"SDN\",\"SEN\",\"SGP\",\"SLB\",\"SLE\",\"SLV\",\"SOM\",\"SRB\",\"SSD\",\"STP\",\"SUR\",\"SVK\",\"SVN\",\"SWE\",\"SWZ\",\"SYC\",\"SYR\",\"TCD\",\"TGO\",\"THA\",\"TJK\",\"TKM\",\"TLS\",\"TON\",\"TTO\",\"TUN\",\"TUR\",\"TZA\",\"UGA\",\"UKR\",\"URY\",\"USA\",\"UZB\",\"VCT\",\"VEN\",\"VIR\",\"VNM\",\"VUT\",\"PSE\",\"WSM\",\"YEM\",\"ZAF\",\"COD\",\"ZMB\",\"ZWE\"])\n",
    "Regions_2012_Dataset = list ([\"The Americas\",\"Asia\",\"Africa\",\"Europe\",\"Middle East\",\"The Americas\",\"Asia\",\"The Americas\",\"Oceania\",\"Europe\",\"Asia\",\"Africa\",\"Europe\",\"Africa\",\"Africa\",\"Asia\",\"Europe\",\"Middle East\",\"The Americas\",\"Europe\",\"Europe\",\"The Americas\",\"The Americas\",\"The Americas\",\"The Americas\",\"The Americas\",\"Asia\",\"Asia\",\"Africa\",\"Africa\",\"The Americas\",\"Europe\",\"The Americas\",\"Asia\",\"Africa\",\"Africa\",\"Africa\",\"The Americas\",\"Africa\",\"Africa\",\"The Americas\",\"The Americas\",\"The Americas\",\"Europe\",\"Europe\",\"Europe\",\"Africa\",\"Europe\",\"The Americas\",\"Africa\",\"The Americas\",\"Africa\",\"Africa\",\"Europe\",\"Europe\",\"Africa\",\"Europe\",\"Oceania\",\"Europe\",\"Oceania\",\"Africa\",\"Europe\",\"Asia\",\"Africa\",\"Africa\",\"Africa\",\"Africa\",\"Africa\",\"Europe\",\"The Americas\",\"The Americas\",\"The Americas\",\"Oceania\",\"The Americas\",\"Asia\",\"The Americas\",\"Europe\",\"The Americas\",\"Europe\",\"Asia\",\"Asia\",\"Europe\",\"Middle East\",\"Middle East\",\"Europe\",\"Middle East\",\"Europe\",\"The Americas\",\"Middle East\",\"Asia\",\"Asia\",\"Africa\",\"Asia\",\"Asia\",\"Oceania\",\"Asia\",\"Middle East\",\"Asia\",\"Middle East\",\"Africa\",\"Africa\",\"The Americas\",\"Europe\",\"Asia\",\"Africa\",\"Europe\",\"Europe\",\"Europe\",\"Asia\",\"Africa\",\"Europe\",\"Africa\",\"Asia\",\"The Americas\",\"Europe\",\"Africa\",\"Europe\",\"Asia\",\"Europe\",\"Asia\",\"Africa\",\"Africa\",\"Africa\",\"Africa\",\"Asia\",\"Africa\",\"Oceania\",\"Africa\",\"Africa\",\"The Americas\",\"Europe\",\"Europe\",\"Asia\",\"Oceania\",\"Middle East\",\"Asia\",\"The Americas\",\"The Americas\",\"Asia\",\"Oceania\",\"Europe\",\"The Americas\",\"Europe\",\"The Americas\",\"Oceania\",\"Middle East\",\"Europe\",\"Europe\",\"Africa\",\"Middle East\",\"Africa\",\"Africa\",\"Asia\",\"Oceania\",\"Africa\",\"The Americas\",\"Africa\",\"Europe\",\"Africa\",\"Africa\",\"The Americas\",\"Europe\",\"Europe\",\"Europe\",\"Africa\",\"Africa\",\"Middle East\",\"Africa\",\"Africa\",\"Asia\",\"Asia\",\"Asia\",\"Asia\",\"Oceania\",\"The Americas\",\"Africa\",\"Europe\",\"Africa\",\"Africa\",\"Europe\",\"The Americas\",\"The Americas\",\"Asia\",\"The Americas\",\"The Americas\",\"The Americas\",\"Asia\",\"Oceania\",\"Middle East\",\"Oceania\",\"Middle East\",\"Africa\",\"Africa\",\"Africa\",\"Africa\"])\n"
   ]
  },
  {
   "cell_type": "code",
   "execution_count": 18,
   "metadata": {},
   "outputs": [],
   "source": [
    "country_data = pd.DataFrame({'CountryName':np.array(Countries_2012_Dataset),\n",
    "                           'Countrycode':np.array(Codes_2012_Dataset),\n",
    "                           'CountryRegion':np.array(Regions_2012_Dataset)})"
   ]
  },
  {
   "cell_type": "code",
   "execution_count": 19,
   "metadata": {},
   "outputs": [
    {
     "data": {
      "text/html": [
       "<div>\n",
       "<style scoped>\n",
       "    .dataframe tbody tr th:only-of-type {\n",
       "        vertical-align: middle;\n",
       "    }\n",
       "\n",
       "    .dataframe tbody tr th {\n",
       "        vertical-align: top;\n",
       "    }\n",
       "\n",
       "    .dataframe thead th {\n",
       "        text-align: right;\n",
       "    }\n",
       "</style>\n",
       "<table border=\"1\" class=\"dataframe\">\n",
       "  <thead>\n",
       "    <tr style=\"text-align: right;\">\n",
       "      <th></th>\n",
       "      <th>CountryName</th>\n",
       "      <th>Countrycode</th>\n",
       "      <th>CountryRegion</th>\n",
       "    </tr>\n",
       "  </thead>\n",
       "  <tbody>\n",
       "    <tr>\n",
       "      <th>0</th>\n",
       "      <td>Aruba</td>\n",
       "      <td>ABW</td>\n",
       "      <td>The Americas</td>\n",
       "    </tr>\n",
       "    <tr>\n",
       "      <th>1</th>\n",
       "      <td>Afghanistan</td>\n",
       "      <td>AFG</td>\n",
       "      <td>Asia</td>\n",
       "    </tr>\n",
       "    <tr>\n",
       "      <th>2</th>\n",
       "      <td>Angola</td>\n",
       "      <td>AGO</td>\n",
       "      <td>Africa</td>\n",
       "    </tr>\n",
       "    <tr>\n",
       "      <th>3</th>\n",
       "      <td>Albania</td>\n",
       "      <td>ALB</td>\n",
       "      <td>Europe</td>\n",
       "    </tr>\n",
       "    <tr>\n",
       "      <th>4</th>\n",
       "      <td>United Arab Emirates</td>\n",
       "      <td>ARE</td>\n",
       "      <td>Middle East</td>\n",
       "    </tr>\n",
       "  </tbody>\n",
       "</table>\n",
       "</div>"
      ],
      "text/plain": [
       "            CountryName Countrycode CountryRegion\n",
       "0                 Aruba         ABW  The Americas\n",
       "1           Afghanistan         AFG          Asia\n",
       "2                Angola         AGO        Africa\n",
       "3               Albania         ALB        Europe\n",
       "4  United Arab Emirates         ARE   Middle East"
      ]
     },
     "execution_count": 19,
     "metadata": {},
     "output_type": "execute_result"
    }
   ],
   "source": [
    "country_data.head()"
   ]
  },
  {
   "cell_type": "code",
   "execution_count": 21,
   "metadata": {},
   "outputs": [],
   "source": [
    "#merge worldtrend with country_data\n",
    "\n",
    "worldtrends = pd.merge(left=worldtrend, right=country_data, how='inner', on='Countrycode')"
   ]
  },
  {
   "cell_type": "code",
   "execution_count": 22,
   "metadata": {},
   "outputs": [
    {
     "data": {
      "text/html": [
       "<div>\n",
       "<style scoped>\n",
       "    .dataframe tbody tr th:only-of-type {\n",
       "        vertical-align: middle;\n",
       "    }\n",
       "\n",
       "    .dataframe tbody tr th {\n",
       "        vertical-align: top;\n",
       "    }\n",
       "\n",
       "    .dataframe thead th {\n",
       "        text-align: right;\n",
       "    }\n",
       "</style>\n",
       "<table border=\"1\" class=\"dataframe\">\n",
       "  <thead>\n",
       "    <tr style=\"text-align: right;\">\n",
       "      <th></th>\n",
       "      <th>CountryName_x</th>\n",
       "      <th>Countrycode</th>\n",
       "      <th>BirthRate</th>\n",
       "      <th>InternetUsers</th>\n",
       "      <th>IncomeGroup</th>\n",
       "      <th>CountryName_y</th>\n",
       "      <th>CountryRegion</th>\n",
       "    </tr>\n",
       "  </thead>\n",
       "  <tbody>\n",
       "    <tr>\n",
       "      <th>0</th>\n",
       "      <td>Aruba</td>\n",
       "      <td>ABW</td>\n",
       "      <td>10.244</td>\n",
       "      <td>78.9</td>\n",
       "      <td>High income</td>\n",
       "      <td>Aruba</td>\n",
       "      <td>The Americas</td>\n",
       "    </tr>\n",
       "    <tr>\n",
       "      <th>1</th>\n",
       "      <td>Afghanistan</td>\n",
       "      <td>AFG</td>\n",
       "      <td>35.253</td>\n",
       "      <td>5.9</td>\n",
       "      <td>Low income</td>\n",
       "      <td>Afghanistan</td>\n",
       "      <td>Asia</td>\n",
       "    </tr>\n",
       "    <tr>\n",
       "      <th>2</th>\n",
       "      <td>Angola</td>\n",
       "      <td>AGO</td>\n",
       "      <td>45.985</td>\n",
       "      <td>19.1</td>\n",
       "      <td>Upper middle income</td>\n",
       "      <td>Angola</td>\n",
       "      <td>Africa</td>\n",
       "    </tr>\n",
       "    <tr>\n",
       "      <th>3</th>\n",
       "      <td>Albania</td>\n",
       "      <td>ALB</td>\n",
       "      <td>12.877</td>\n",
       "      <td>57.2</td>\n",
       "      <td>Upper middle income</td>\n",
       "      <td>Albania</td>\n",
       "      <td>Europe</td>\n",
       "    </tr>\n",
       "    <tr>\n",
       "      <th>4</th>\n",
       "      <td>United Arab Emirates</td>\n",
       "      <td>ARE</td>\n",
       "      <td>11.044</td>\n",
       "      <td>88.0</td>\n",
       "      <td>High income</td>\n",
       "      <td>United Arab Emirates</td>\n",
       "      <td>Middle East</td>\n",
       "    </tr>\n",
       "  </tbody>\n",
       "</table>\n",
       "</div>"
      ],
      "text/plain": [
       "          CountryName_x Countrycode  BirthRate  InternetUsers  \\\n",
       "0                 Aruba         ABW     10.244           78.9   \n",
       "1           Afghanistan         AFG     35.253            5.9   \n",
       "2                Angola         AGO     45.985           19.1   \n",
       "3               Albania         ALB     12.877           57.2   \n",
       "4  United Arab Emirates         ARE     11.044           88.0   \n",
       "\n",
       "           IncomeGroup         CountryName_y CountryRegion  \n",
       "0          High income                 Aruba  The Americas  \n",
       "1           Low income           Afghanistan          Asia  \n",
       "2  Upper middle income                Angola        Africa  \n",
       "3  Upper middle income               Albania        Europe  \n",
       "4          High income  United Arab Emirates   Middle East  "
      ]
     },
     "execution_count": 22,
     "metadata": {},
     "output_type": "execute_result"
    }
   ],
   "source": [
    "worldtrends.head()"
   ]
  },
  {
   "cell_type": "code",
   "execution_count": 24,
   "metadata": {},
   "outputs": [
    {
     "data": {
      "image/png": "[encoded data removed]",
      "text/plain": [
       "<Figure size 464.125x360 with 1 Axes>"
      ]
     },
     "metadata": {
      "needs_background": "light"
     },
     "output_type": "display_data"
    }
   ],
   "source": [
    "vis2 = sns.lmplot(data = worldtrends, x = 'BirthRate', y = 'InternetUsers', fit_reg = False\n",
    "                 ,hue = 'CountryRegion')"
   ]
  },
  {
   "cell_type": "code",
   "execution_count": 25,
   "metadata": {},
   "outputs": [],
   "source": [
    "#Country code and life expectancy at birth in 1960 and 2013\n",
    "Country_Code = list ([\"ABW\",\"AFG\",\"AGO\",\"ALB\",\"ARE\",\"ARG\",\"ARM\",\"ATG\",\"AUS\",\"AUT\",\"AZE\",\"BDI\",\"BEL\",\"BEN\",\"BFA\",\"BGD\",\"BGR\",\"BHR\",\"BHS\",\"BIH\",\"BLR\",\"BLZ\",\"BOL\",\"BRA\",\"BRB\",\"BRN\",\"BTN\",\"BWA\",\"CAF\",\"CAN\",\"CHE\",\"CHL\",\"CHN\",\"CIV\",\"CMR\",\"COG\",\"COL\",\"COM\",\"CPV\",\"CRI\",\"CUB\",\"CYP\",\"CZE\",\"DEU\",\"DJI\",\"DNK\",\"DOM\",\"DZA\",\"ECU\",\"EGY\",\"ERI\",\"ESP\",\"EST\",\"ETH\",\"FIN\",\"FJI\",\"FRA\",\"FSM\",\"GAB\",\"GBR\",\"GEO\",\"GHA\",\"GIN\",\"GMB\",\"GNB\",\"GNQ\",\"GRC\",\"GRD\",\"GTM\",\"GUM\",\"GUY\",\"HKG\",\"HND\",\"HRV\",\"HTI\",\"HUN\",\"IDN\",\"IND\",\"IRL\",\"IRN\",\"IRQ\",\"ISL\",\"ITA\",\"JAM\",\"JOR\",\"JPN\",\"KAZ\",\"KEN\",\"KGZ\",\"KHM\",\"KIR\",\"KOR\",\"KWT\",\"LAO\",\"LBN\",\"LBR\",\"LBY\",\"LCA\",\"LKA\",\"LSO\",\"LTU\",\"LUX\",\"LVA\",\"MAC\",\"MAR\",\"MDA\",\"MDG\",\"MDV\",\"MEX\",\"MKD\",\"MLI\",\"MLT\",\"MMR\",\"MNE\",\"MNG\",\"MOZ\",\"MRT\",\"MUS\",\"MWI\",\"MYS\",\"NAM\",\"NCL\",\"NER\",\"NGA\",\"NIC\",\"NLD\",\"NOR\",\"NPL\",\"NZL\",\"OMN\",\"PAK\",\"PAN\",\"PER\",\"PHL\",\"PNG\",\"POL\",\"PRI\",\"PRT\",\"PRY\",\"PYF\",\"QAT\",\"ROU\",\"RUS\",\"RWA\",\"SAU\",\"SDN\",\"SEN\",\"SGP\",\"SLB\",\"SLE\",\"SLV\",\"SOM\",\"SSD\",\"STP\",\"SUR\",\"SVK\",\"SVN\",\"SWE\",\"SWZ\",\"SYR\",\"TCD\",\"TGO\",\"THA\",\"TJK\",\"TKM\",\"TLS\",\"TON\",\"TTO\",\"TUN\",\"TUR\",\"TZA\",\"UGA\",\"UKR\",\"URY\",\"USA\",\"UZB\",\"VCT\",\"VEN\",\"VIR\",\"VNM\",\"VUT\",\"WSM\",\"YEM\",\"ZAF\",\"COD\",\"ZMB\",\"ZWE\"])\n",
    "Life_Expectancy_At_Birth_1960 = list ([65.5693658536586,32.328512195122,32.9848292682927,62.2543658536585,52.2432195121951,65.2155365853659,65.8634634146342,61.7827317073171,70.8170731707317,68.5856097560976,60.836243902439,41.2360487804878,69.7019512195122,37.2782682926829,34.4779024390244,45.8293170731707,69.2475609756098,52.0893658536585,62.7290487804878,60.2762195121951,67.7080975609756,59.9613658536585,42.1183170731707,54.2054634146342,60.7380487804878,62.5003658536585,32.3593658536585,50.5477317073171,36.4826341463415,71.1331707317073,71.3134146341463,57.4582926829268,43.4658048780488,36.8724146341463,41.523756097561,48.5816341463415,56.716756097561,41.4424390243903,48.8564146341463,60.5761951219512,63.9046585365854,69.5939268292683,70.3487804878049,69.3129512195122,44.0212682926829,72.1765853658537,51.8452682926829,46.1351219512195,53.215,48.0137073170732,37.3629024390244,69.1092682926829,67.9059756097561,38.4057073170732,68.819756097561,55.9584878048781,69.8682926829268,57.5865853658537,39.5701219512195,71.1268292682927,63.4318536585366,45.8314634146342,34.8863902439024,32.0422195121951,37.8404390243902,36.7330487804878,68.1639024390244,59.8159268292683,45.5316341463415,61.2263414634146,60.2787317073171,66.9997073170732,46.2883170731707,64.6086585365854,42.1000975609756,68.0031707317073,48.6403170731707,41.1719512195122,69.691756097561,44.945512195122,48.0306829268293,73.4286585365854,69.1239024390244,64.1918292682927,52.6852682926829,67.6660975609756,58.3675853658537,46.3624146341463,56.1280731707317,41.2320243902439,49.2159756097561,53.0013170731707,60.3479512195122,43.2044634146342,63.2801219512195,34.7831707317073,42.6411951219512,57.303756097561,59.7471463414634,46.5107073170732,69.8473170731707,68.4463902439024,69.7868292682927,64.6609268292683,48.4466341463415,61.8127804878049,39.9746829268293,37.2686341463415,57.0656341463415,60.6228048780488,28.2116097560976,67.6017804878049,42.7363902439024,63.7056097560976,48.3688048780488,35.0037073170732,43.4830975609756,58.7452195121951,37.7736341463415,59.4753414634146,46.8803902439024,58.6390243902439,35.5150487804878,37.1829512195122,46.9988292682927,73.3926829268293,73.549756097561,35.1708292682927,71.2365853658537,42.6670731707317,45.2904634146342,60.8817073170732,47.6915853658537,57.8119268292683,38.462243902439,67.6804878048781,68.7196097560976,62.8089268292683,63.7937073170732,56.3570487804878,61.2060731707317,65.6424390243903,66.0552926829268,42.2492926829268,45.6662682926829,48.1876341463415,38.206,65.6598292682927,49.3817073170732,30.3315365853659,49.9479268292683,36.9658780487805,31.6767073170732,50.4513658536585,59.6801219512195,69.9759268292683,68.9780487804878,73.0056097560976,44.2337804878049,52.768243902439,38.0161219512195,40.2728292682927,54.6993170731707,56.1535365853659,54.4586829268293,33.7271219512195,61.3645365853659,62.6575853658537,42.009756097561,45.3844146341463,43.6538780487805,43.9835609756098,68.2995365853659,67.8963902439025,69.7707317073171,58.8855365853659,57.7238780487805,59.2851219512195,63.7302195121951,59.0670243902439,46.4874878048781,49.969512195122,34.3638048780488,49.0362926829268,41.0180487804878,45.1098048780488,51.5424634146342])\n",
    "Life_Expectancy_At_Birth_2013 = list ([75.3286585365854,60.0282682926829,51.8661707317073,77.537243902439,77.1956341463415,75.9860975609756,74.5613658536585,75.7786585365854,82.1975609756098,80.890243902439,70.6931463414634,56.2516097560976,80.3853658536585,59.3120243902439,58.2406341463415,71.245243902439,74.4658536585366,76.5459512195122,75.0735365853659,76.2769268292683,72.4707317073171,69.9820487804878,67.9134390243903,74.1224390243903,75.3339512195122,78.5466585365854,69.1029268292683,64.3608048780488,49.8798780487805,81.4011219512195,82.7487804878049,81.1979268292683,75.3530243902439,51.2084634146342,55.0418048780488,61.6663902439024,73.8097317073171,62.9321707317073,72.9723658536585,79.2252195121951,79.2563902439025,79.9497804878049,78.2780487804878,81.0439024390244,61.6864634146342,80.3024390243903,73.3199024390244,74.5689512195122,75.648512195122,70.9257804878049,63.1778780487805,82.4268292682927,76.4243902439025,63.4421951219512,80.8317073170732,69.9179268292683,81.9682926829268,68.9733902439024,63.8435853658537,80.9560975609756,74.079512195122,61.1420731707317,58.216487804878,59.9992682926829,54.8384146341464,57.2908292682927,80.6341463414634,73.1935609756098,71.4863902439024,78.872512195122,66.3100243902439,83.8317073170732,72.9428536585366,77.1268292682927,62.4011463414634,75.2682926829268,68.7046097560976,67.6604146341463,81.0439024390244,75.1259756097561,69.4716829268293,83.1170731707317,82.290243902439,73.4689268292683,73.9014146341463,83.3319512195122,70.45,60.9537804878049,70.2024390243902,67.7720487804878,65.7665853658537,81.459756097561,74.462756097561,65.687243902439,80.1288780487805,60.5203902439024,71.6576829268293,74.9127073170732,74.2402926829268,49.3314634146342,74.1634146341464,81.7975609756098,73.9804878048781,80.3391463414634,73.7090487804878,68.811512195122,64.6739024390244,76.6026097560976,76.5326585365854,75.1870487804878,57.5351951219512,80.7463414634146,65.6540975609756,74.7583658536585,69.0618048780488,54.641512195122,62.8027073170732,74.46,61.466,74.567512195122,64.3438780487805,77.1219512195122,60.8281463414634,52.4421463414634,74.514756097561,81.1048780487805,81.4512195121951,69.222,81.4073170731707,76.8410487804878,65.9636829268293,77.4192195121951,74.2838536585366,68.1315609756097,62.4491707317073,76.8487804878049,78.7111951219512,80.3731707317073,72.7991707317073,76.3340731707317,78.4184878048781,74.4634146341463,71.0731707317073,63.3948292682927,74.1776341463415,63.1670487804878,65.878756097561,82.3463414634146,67.7189268292683,50.3631219512195,72.4981463414634,55.0230243902439,55.2209024390244,66.259512195122,70.99,76.2609756097561,80.2780487804878,81.7048780487805,48.9379268292683,74.7157804878049,51.1914878048781,59.1323658536585,74.2469268292683,69.4001707317073,65.4565609756098,67.5223658536585,72.6403414634147,70.3052926829268,73.6463414634147,75.1759512195122,64.2918292682927,57.7676829268293,71.159512195122,76.8361951219512,78.8414634146341,68.2275853658537,72.8108780487805,74.0744146341464,79.6243902439024,75.756487804878,71.669243902439,73.2503902439024,63.583512195122,56.7365853658537,58.2719268292683,59.2373658536585,55.633])"
   ]
  },
  {
   "cell_type": "code",
   "execution_count": 26,
   "metadata": {},
   "outputs": [],
   "source": [
    "life_exp_data = pd.DataFrame({'LE1960':np.array(Life_Expectancy_At_Birth_1960),\n",
    "                           'Countrycode':np.array(Country_Code),\n",
    "                           'LE2013':np.array(Life_Expectancy_At_Birth_2013)})"
   ]
  },
  {
   "cell_type": "code",
   "execution_count": 27,
   "metadata": {},
   "outputs": [
    {
     "data": {
      "text/html": [
       "<div>\n",
       "<style scoped>\n",
       "    .dataframe tbody tr th:only-of-type {\n",
       "        vertical-align: middle;\n",
       "    }\n",
       "\n",
       "    .dataframe tbody tr th {\n",
       "        vertical-align: top;\n",
       "    }\n",
       "\n",
       "    .dataframe thead th {\n",
       "        text-align: right;\n",
       "    }\n",
       "</style>\n",
       "<table border=\"1\" class=\"dataframe\">\n",
       "  <thead>\n",
       "    <tr style=\"text-align: right;\">\n",
       "      <th></th>\n",
       "      <th>LE1960</th>\n",
       "      <th>Countrycode</th>\n",
       "      <th>LE2013</th>\n",
       "    </tr>\n",
       "  </thead>\n",
       "  <tbody>\n",
       "    <tr>\n",
       "      <th>0</th>\n",
       "      <td>65.569366</td>\n",
       "      <td>ABW</td>\n",
       "      <td>75.328659</td>\n",
       "    </tr>\n",
       "    <tr>\n",
       "      <th>1</th>\n",
       "      <td>32.328512</td>\n",
       "      <td>AFG</td>\n",
       "      <td>60.028268</td>\n",
       "    </tr>\n",
       "    <tr>\n",
       "      <th>2</th>\n",
       "      <td>32.984829</td>\n",
       "      <td>AGO</td>\n",
       "      <td>51.866171</td>\n",
       "    </tr>\n",
       "    <tr>\n",
       "      <th>3</th>\n",
       "      <td>62.254366</td>\n",
       "      <td>ALB</td>\n",
       "      <td>77.537244</td>\n",
       "    </tr>\n",
       "    <tr>\n",
       "      <th>4</th>\n",
       "      <td>52.243220</td>\n",
       "      <td>ARE</td>\n",
       "      <td>77.195634</td>\n",
       "    </tr>\n",
       "  </tbody>\n",
       "</table>\n",
       "</div>"
      ],
      "text/plain": [
       "      LE1960 Countrycode     LE2013\n",
       "0  65.569366         ABW  75.328659\n",
       "1  32.328512         AFG  60.028268\n",
       "2  32.984829         AGO  51.866171\n",
       "3  62.254366         ALB  77.537244\n",
       "4  52.243220         ARE  77.195634"
      ]
     },
     "execution_count": 27,
     "metadata": {},
     "output_type": "execute_result"
    }
   ],
   "source": [
    "life_exp_data.head()"
   ]
  },
  {
   "cell_type": "code",
   "execution_count": 28,
   "metadata": {},
   "outputs": [],
   "source": [
    "#merge worldtrend with country_data\n",
    "\n",
    "world_trends = pd.merge(left=worldtrends, right=life_exp_data, how='inner', on='Countrycode')"
   ]
  },
  {
   "cell_type": "code",
   "execution_count": 29,
   "metadata": {},
   "outputs": [
    {
     "data": {
      "text/html": [
       "<div>\n",
       "<style scoped>\n",
       "    .dataframe tbody tr th:only-of-type {\n",
       "        vertical-align: middle;\n",
       "    }\n",
       "\n",
       "    .dataframe tbody tr th {\n",
       "        vertical-align: top;\n",
       "    }\n",
       "\n",
       "    .dataframe thead th {\n",
       "        text-align: right;\n",
       "    }\n",
       "</style>\n",
       "<table border=\"1\" class=\"dataframe\">\n",
       "  <thead>\n",
       "    <tr style=\"text-align: right;\">\n",
       "      <th></th>\n",
       "      <th>CountryName_x</th>\n",
       "      <th>Countrycode</th>\n",
       "      <th>BirthRate</th>\n",
       "      <th>InternetUsers</th>\n",
       "      <th>IncomeGroup</th>\n",
       "      <th>CountryName_y</th>\n",
       "      <th>CountryRegion</th>\n",
       "      <th>LE1960</th>\n",
       "      <th>LE2013</th>\n",
       "    </tr>\n",
       "  </thead>\n",
       "  <tbody>\n",
       "    <tr>\n",
       "      <th>0</th>\n",
       "      <td>Aruba</td>\n",
       "      <td>ABW</td>\n",
       "      <td>10.244</td>\n",
       "      <td>78.9</td>\n",
       "      <td>High income</td>\n",
       "      <td>Aruba</td>\n",
       "      <td>The Americas</td>\n",
       "      <td>65.569366</td>\n",
       "      <td>75.328659</td>\n",
       "    </tr>\n",
       "    <tr>\n",
       "      <th>1</th>\n",
       "      <td>Afghanistan</td>\n",
       "      <td>AFG</td>\n",
       "      <td>35.253</td>\n",
       "      <td>5.9</td>\n",
       "      <td>Low income</td>\n",
       "      <td>Afghanistan</td>\n",
       "      <td>Asia</td>\n",
       "      <td>32.328512</td>\n",
       "      <td>60.028268</td>\n",
       "    </tr>\n",
       "    <tr>\n",
       "      <th>2</th>\n",
       "      <td>Angola</td>\n",
       "      <td>AGO</td>\n",
       "      <td>45.985</td>\n",
       "      <td>19.1</td>\n",
       "      <td>Upper middle income</td>\n",
       "      <td>Angola</td>\n",
       "      <td>Africa</td>\n",
       "      <td>32.984829</td>\n",
       "      <td>51.866171</td>\n",
       "    </tr>\n",
       "    <tr>\n",
       "      <th>3</th>\n",
       "      <td>Albania</td>\n",
       "      <td>ALB</td>\n",
       "      <td>12.877</td>\n",
       "      <td>57.2</td>\n",
       "      <td>Upper middle income</td>\n",
       "      <td>Albania</td>\n",
       "      <td>Europe</td>\n",
       "      <td>62.254366</td>\n",
       "      <td>77.537244</td>\n",
       "    </tr>\n",
       "    <tr>\n",
       "      <th>4</th>\n",
       "      <td>United Arab Emirates</td>\n",
       "      <td>ARE</td>\n",
       "      <td>11.044</td>\n",
       "      <td>88.0</td>\n",
       "      <td>High income</td>\n",
       "      <td>United Arab Emirates</td>\n",
       "      <td>Middle East</td>\n",
       "      <td>52.243220</td>\n",
       "      <td>77.195634</td>\n",
       "    </tr>\n",
       "  </tbody>\n",
       "</table>\n",
       "</div>"
      ],
      "text/plain": [
       "          CountryName_x Countrycode  BirthRate  InternetUsers  \\\n",
       "0                 Aruba         ABW     10.244           78.9   \n",
       "1           Afghanistan         AFG     35.253            5.9   \n",
       "2                Angola         AGO     45.985           19.1   \n",
       "3               Albania         ALB     12.877           57.2   \n",
       "4  United Arab Emirates         ARE     11.044           88.0   \n",
       "\n",
       "           IncomeGroup         CountryName_y CountryRegion     LE1960  \\\n",
       "0          High income                 Aruba  The Americas  65.569366   \n",
       "1           Low income           Afghanistan          Asia  32.328512   \n",
       "2  Upper middle income                Angola        Africa  32.984829   \n",
       "3  Upper middle income               Albania        Europe  62.254366   \n",
       "4          High income  United Arab Emirates   Middle East  52.243220   \n",
       "\n",
       "      LE2013  \n",
       "0  75.328659  \n",
       "1  60.028268  \n",
       "2  51.866171  \n",
       "3  77.537244  \n",
       "4  77.195634  "
      ]
     },
     "execution_count": 29,
     "metadata": {},
     "output_type": "execute_result"
    }
   ],
   "source": [
    "world_trends.head()"
   ]
  },
  {
   "cell_type": "code",
   "execution_count": 30,
   "metadata": {},
   "outputs": [
    {
     "name": "stdout",
     "output_type": "stream",
     "text": [
      "<class 'pandas.core.frame.DataFrame'>\n",
      "Int64Index: 187 entries, 0 to 186\n",
      "Data columns (total 9 columns):\n",
      "CountryName_x    187 non-null object\n",
      "Countrycode      187 non-null object\n",
      "BirthRate        187 non-null float64\n",
      "InternetUsers    187 non-null float64\n",
      "IncomeGroup      187 non-null object\n",
      "CountryName_y    187 non-null object\n",
      "CountryRegion    187 non-null object\n",
      "LE1960           187 non-null float64\n",
      "LE2013           187 non-null float64\n",
      "dtypes: float64(4), object(5)\n",
      "memory usage: 14.6+ KB\n"
     ]
    }
   ],
   "source": [
    "world_trends.info()"
   ]
  },
  {
   "cell_type": "code",
   "execution_count": 31,
   "metadata": {},
   "outputs": [],
   "source": [
    "#Delete duplicate columns\n",
    "\n",
    "del world_trends['CountryName_y']"
   ]
  },
  {
   "cell_type": "code",
   "execution_count": 33,
   "metadata": {},
   "outputs": [],
   "source": [
    "world_trends.rename(columns = {'CountryName_x': 'CountryName'}, inplace = True)"
   ]
  },
  {
   "cell_type": "code",
   "execution_count": 34,
   "metadata": {},
   "outputs": [
    {
     "data": {
      "text/html": [
       "<div>\n",
       "<style scoped>\n",
       "    .dataframe tbody tr th:only-of-type {\n",
       "        vertical-align: middle;\n",
       "    }\n",
       "\n",
       "    .dataframe tbody tr th {\n",
       "        vertical-align: top;\n",
       "    }\n",
       "\n",
       "    .dataframe thead th {\n",
       "        text-align: right;\n",
       "    }\n",
       "</style>\n",
       "<table border=\"1\" class=\"dataframe\">\n",
       "  <thead>\n",
       "    <tr style=\"text-align: right;\">\n",
       "      <th></th>\n",
       "      <th>CountryName</th>\n",
       "      <th>Countrycode</th>\n",
       "      <th>BirthRate</th>\n",
       "      <th>InternetUsers</th>\n",
       "      <th>IncomeGroup</th>\n",
       "      <th>CountryRegion</th>\n",
       "      <th>LE1960</th>\n",
       "      <th>LE2013</th>\n",
       "    </tr>\n",
       "  </thead>\n",
       "  <tbody>\n",
       "    <tr>\n",
       "      <th>0</th>\n",
       "      <td>Aruba</td>\n",
       "      <td>ABW</td>\n",
       "      <td>10.244</td>\n",
       "      <td>78.9</td>\n",
       "      <td>High income</td>\n",
       "      <td>The Americas</td>\n",
       "      <td>65.569366</td>\n",
       "      <td>75.328659</td>\n",
       "    </tr>\n",
       "    <tr>\n",
       "      <th>1</th>\n",
       "      <td>Afghanistan</td>\n",
       "      <td>AFG</td>\n",
       "      <td>35.253</td>\n",
       "      <td>5.9</td>\n",
       "      <td>Low income</td>\n",
       "      <td>Asia</td>\n",
       "      <td>32.328512</td>\n",
       "      <td>60.028268</td>\n",
       "    </tr>\n",
       "    <tr>\n",
       "      <th>2</th>\n",
       "      <td>Angola</td>\n",
       "      <td>AGO</td>\n",
       "      <td>45.985</td>\n",
       "      <td>19.1</td>\n",
       "      <td>Upper middle income</td>\n",
       "      <td>Africa</td>\n",
       "      <td>32.984829</td>\n",
       "      <td>51.866171</td>\n",
       "    </tr>\n",
       "    <tr>\n",
       "      <th>3</th>\n",
       "      <td>Albania</td>\n",
       "      <td>ALB</td>\n",
       "      <td>12.877</td>\n",
       "      <td>57.2</td>\n",
       "      <td>Upper middle income</td>\n",
       "      <td>Europe</td>\n",
       "      <td>62.254366</td>\n",
       "      <td>77.537244</td>\n",
       "    </tr>\n",
       "    <tr>\n",
       "      <th>4</th>\n",
       "      <td>United Arab Emirates</td>\n",
       "      <td>ARE</td>\n",
       "      <td>11.044</td>\n",
       "      <td>88.0</td>\n",
       "      <td>High income</td>\n",
       "      <td>Middle East</td>\n",
       "      <td>52.243220</td>\n",
       "      <td>77.195634</td>\n",
       "    </tr>\n",
       "  </tbody>\n",
       "</table>\n",
       "</div>"
      ],
      "text/plain": [
       "            CountryName Countrycode  BirthRate  InternetUsers  \\\n",
       "0                 Aruba         ABW     10.244           78.9   \n",
       "1           Afghanistan         AFG     35.253            5.9   \n",
       "2                Angola         AGO     45.985           19.1   \n",
       "3               Albania         ALB     12.877           57.2   \n",
       "4  United Arab Emirates         ARE     11.044           88.0   \n",
       "\n",
       "           IncomeGroup CountryRegion     LE1960     LE2013  \n",
       "0          High income  The Americas  65.569366  75.328659  \n",
       "1           Low income          Asia  32.328512  60.028268  \n",
       "2  Upper middle income        Africa  32.984829  51.866171  \n",
       "3  Upper middle income        Europe  62.254366  77.537244  \n",
       "4          High income   Middle East  52.243220  77.195634  "
      ]
     },
     "execution_count": 34,
     "metadata": {},
     "output_type": "execute_result"
    }
   ],
   "source": [
    "world_trends.head()"
   ]
  },
  {
   "cell_type": "code",
   "execution_count": 35,
   "metadata": {},
   "outputs": [
    {
     "data": {
      "image/png": "[encoded data removed]",
      "text/plain": [
       "<Figure size 464.125x360 with 1 Axes>"
      ]
     },
     "metadata": {
      "needs_background": "light"
     },
     "output_type": "display_data"
    }
   ],
   "source": [
    "vis3 = sns.lmplot(data=world_trends, x='BirthRate',y='LE1960',fit_reg=False, hue='CountryRegion')"
   ]
  },
  {
   "cell_type": "code",
   "execution_count": 36,
   "metadata": {},
   "outputs": [
    {
     "data": {
      "image/png": "[encoded data removed]",
      "text/plain": [
       "<Figure size 464.125x360 with 1 Axes>"
      ]
     },
     "metadata": {
      "needs_background": "light"
     },
     "output_type": "display_data"
    }
   ],
   "source": [
    "vis4 = sns.lmplot(data=world_trends, x='BirthRate',y='LE2013',fit_reg=False, hue='CountryRegion')"
   ]
  },
  {
   "cell_type": "markdown",
   "metadata": {},
   "source": [
    "Conclusion: Europe and Americas are leading with higher life expectancy and with lower birthrates.\n",
    "    Also, Asia and Africa has lesser life expectancy with Africa being the lowest and highest birthrates.\n",
    "    vis4 indicates that trend is improving for Asia and Africa, countries are slowly moving up the graph, meaning their life expectancy is imporving."
   ]
  },
  {
   "cell_type": "code",
   "execution_count": null,
   "metadata": {},
   "outputs": [],
   "source": []
  }
 ],
 "metadata": {
  "kernelspec": {
   "display_name": "Python 3",
   "language": "python",
   "name": "python3"
  },
  "language_info": {
   "codemirror_mode": {
    "name": "ipython",
    "version": 3
   },
   "file_extension": ".py",
   "mimetype": "text/x-python",
   "name": "python",
   "nbconvert_exporter": "python",
   "pygments_lexer": "ipython3",
   "version": "3.7.3"
  }
 },
 "nbformat": 4,
 "nbformat_minor": 2
}
