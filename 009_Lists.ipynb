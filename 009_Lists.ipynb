{
 "cells": [
  {
   "cell_type": "code",
   "execution_count": 1,
   "metadata": {},
   "outputs": [
    {
     "name": "stdout",
     "output_type": "stream",
     "text": [
      "['__add__', '__class__', '__contains__', '__delattr__', '__delitem__', '__dir__', '__doc__', '__eq__', '__format__', '__ge__', '__getattribute__', '__getitem__', '__gt__', '__hash__', '__iadd__', '__imul__', '__init__', '__init_subclass__', '__iter__', '__le__', '__len__', '__lt__', '__mul__', '__ne__', '__new__', '__reduce__', '__reduce_ex__', '__repr__', '__reversed__', '__rmul__', '__setattr__', '__setitem__', '__sizeof__', '__str__', '__subclasshook__', 'append', 'clear', 'copy', 'count', 'extend', 'index', 'insert', 'pop', 'remove', 'reverse', 'sort']\n"
     ]
    }
   ],
   "source": [
    "print(dir(list))"
   ]
  },
  {
   "cell_type": "code",
   "execution_count": 4,
   "metadata": {},
   "outputs": [
    {
     "name": "stdout",
     "output_type": "stream",
     "text": [
      "[1, 2, 3, 4, 5]\n",
      "[1, 2, 3, 4, 5, 6, 7, 8]\n",
      "[1, 2, 3, 4, 5, 6, 7, 8, [8, 9]]\n",
      "[1, 2, 3, 4, 5, 6, 7, 7, 8, 9, 10]\n"
     ]
    }
   ],
   "source": [
    "\"\"\"\n",
    "Lists - are both mutable and a sequence data type that allows them to be indexed\n",
    "and sliced. The list can contain different types of objects, including other list objects.\n",
    "\"\"\"\n",
    "\n",
    "#append method\n",
    "a = [1,2,3,4,5]\n",
    "print(a)\n",
    "a.append(6)\n",
    "a.append(7)\n",
    "a.append(8)\n",
    "print(a)\n",
    "\n",
    "b = [8,9]\n",
    "a.append(b)\n",
    "print(a)\n",
    "\n",
    "#extend - extends the list by appending elements from another enumerable\n",
    "a = [1, 2, 3, 4, 5, 6, 7, 7]\n",
    "b = [8, 9, 10]\n",
    "a.extend(b)\n",
    "print(a)"
   ]
  },
  {
   "cell_type": "code",
   "execution_count": 10,
   "metadata": {},
   "outputs": [
    {
     "name": "stdout",
     "output_type": "stream",
     "text": [
      "8\n",
      "10\n",
      "[0, 0, 0, 0, 1, 2, 3, 5, 6, 7, 7, 8]\n",
      "[0, 0, 0, 0, 1, 2, 3, 5, 6, 7, 7]\n",
      "[0, 0, 0, 1, 2, 3, 5, 6, 7, 7]\n"
     ]
    }
   ],
   "source": [
    "\"\"\"Index- gets the index of the first occurrence of the input value. If the input value is\n",
    "not in the list a ValueError exception is raised. If a second argument is provided, the search is started at that\n",
    "specified index.\n",
    "\"\"\"\n",
    "print(a.index(7))\n",
    "print(a.index(8))\n",
    "\n",
    "#insert\n",
    "a.insert (0,0)\n",
    "print(a)\n",
    "\n",
    "\"\"\"pop([index]) – removes and returns the item at index. With no argument it removes and returns the last\n",
    "element of the list.\n",
    "\"\"\"\n",
    "a.pop()\n",
    "print(a)\n",
    "a.pop(0)\n",
    "print(a)\n"
   ]
  },
  {
   "cell_type": "code",
   "execution_count": 17,
   "metadata": {},
   "outputs": [
    {
     "name": "stdout",
     "output_type": "stream",
     "text": [
      "[0, 0, 1, 2, 3, 4, 5, 6, 7, 8, 9]\n",
      "[9, 8, 7, 6, 5, 4, 3, 2, 1, 0, 0]\n"
     ]
    }
   ],
   "source": [
    "\"\"\"\n",
    "remove(value) – removes the first occurrence of the specified value. If the provided value cannot be found, a\n",
    "ValueError is raised.\n",
    "\"\"\"\n",
    "a = [0,0,0,1,2,3,4,5,6,7,8,9]\n",
    "a.remove(0)\n",
    "print(a)\n",
    "\n",
    "#reverse\n",
    "a.reverse()\n",
    "print(a)"
   ]
  },
  {
   "cell_type": "code",
   "execution_count": 18,
   "metadata": {},
   "outputs": [
    {
     "data": {
      "text/plain": [
       "2"
      ]
     },
     "execution_count": 18,
     "metadata": {},
     "output_type": "execute_result"
    }
   ],
   "source": [
    "a.count(0)"
   ]
  },
  {
   "cell_type": "code",
   "execution_count": 24,
   "metadata": {},
   "outputs": [
    {
     "name": "stdout",
     "output_type": "stream",
     "text": [
      "[0, 0, 1, 2, 3, 4, 5, 6, 7, 8, 9]\n",
      "[9, 8, 7, 6, 5, 4, 3, 2, 1, 0, 0]\n"
     ]
    }
   ],
   "source": [
    "#sort() – sorts the list in numerical and lexicographical order and returns None\n",
    "a = [9, 8, 7, 6, 5, 4, 3, 2, 1, 0, 0]\n",
    "a.sort()\n",
    "print(a)\n",
    "\n",
    "a.sort(reverse = True)\n",
    "print(a)"
   ]
  },
  {
   "cell_type": "code",
   "execution_count": 32,
   "metadata": {},
   "outputs": [
    {
     "name": "stdout",
     "output_type": "stream",
     "text": [
      "[9, 8, 7, 6, 5, 4, 3, 2, 1, 0, 0, 9, 8, 7, 6, 5, 4, 3, 2, 1, 0, 0]\n"
     ]
    },
    {
     "data": {
      "text/plain": [
       "22"
      ]
     },
     "execution_count": 32,
     "metadata": {},
     "output_type": "execute_result"
    }
   ],
   "source": [
    "#replication\n",
    "b=a*2\n",
    "print(b)\n",
    "\n",
    "len(b)"
   ]
  },
  {
   "cell_type": "code",
   "execution_count": 40,
   "metadata": {},
   "outputs": [
    {
     "name": "stdout",
     "output_type": "stream",
     "text": [
      "1\n",
      "2\n",
      "3\n",
      "9\n",
      "8\n",
      "5\n",
      "[2, 3, 4]\n",
      "[4, 5, 6, 7, 8]\n",
      "[2, 3, 4, 5, 6, 7, 8, 9]\n",
      "[1, 2, 3]\n",
      "[1, 2, 3, 4, 5, 6, 7, 8, 9]\n",
      "[1, 3, 5, 7, 9]\n",
      "[9, 8, 7, 6, 5, 4, 3, 2, 1]\n",
      "[9, 8, 7, 6, 5, 4, 3, 2]\n",
      "[5, 4, 3, 2, 1]\n"
     ]
    }
   ],
   "source": [
    "#accessing list values\n",
    "#python are zero-indexed and act as arrays in other languages\n",
    "lst = [1,2,3,4,5,6,7,8,9]\n",
    "print(lst[0])\n",
    "print(lst[1])\n",
    "print(lst[2])\n",
    "print(lst[-1])\n",
    "print(lst[-2])\n",
    "print(lst[-5])\n",
    "print(lst[1:4])\n",
    "print(lst[3:8])\n",
    "print(lst[1:])\n",
    "print(lst[:3])\n",
    "print(lst[::])\n",
    "print(lst[::2])\n",
    "print(lst[::-1])\n",
    "print(lst[-1:0:-1])\n",
    "print(lst[-5::-1])\n"
   ]
  },
  {
   "cell_type": "code",
   "execution_count": 41,
   "metadata": {},
   "outputs": [
    {
     "name": "stdout",
     "output_type": "stream",
     "text": [
      "list is empty\n"
     ]
    }
   ],
   "source": [
    "#checking if list is empty\n",
    "ls = []\n",
    "if not ls:\n",
    "    print(\"list is empty\")"
   ]
  },
  {
   "cell_type": "code",
   "execution_count": 48,
   "metadata": {},
   "outputs": [
    {
     "name": "stdout",
     "output_type": "stream",
     "text": [
      "foo\n",
      "bar\n",
      "baz\n",
      "The item in position 0 is: foo\n",
      "The item in position 1 is: bar\n",
      "The item in position 2 is: baz\n",
      "foo\n",
      "bar\n",
      "baz\n"
     ]
    }
   ],
   "source": [
    "#iterating over a list\n",
    "\n",
    "my_list = ['foo', 'bar', 'baz']\n",
    "for item in my_list:\n",
    "    print(item)\n",
    "    \n",
    "\n",
    "for(index, item) in enumerate(my_list):\n",
    "    print('The item in position {} is: {}'.format(index, item))\n",
    "    \n",
    "#The other way of iterating a list based on the index value:\n",
    "\n",
    "for i in range(0,len(my_list)):\n",
    "    print(my_list[i])"
   ]
  },
  {
   "cell_type": "code",
   "execution_count": 55,
   "metadata": {},
   "outputs": [
    {
     "name": "stdout",
     "output_type": "stream",
     "text": [
      "False\n",
      "True\n",
      "True\n",
      "True\n",
      "False\n"
     ]
    }
   ],
   "source": [
    "\"\"\"\n",
    "You can use all() to determine if all the values in an iterable evaluate to True\n",
    "Likewise, any() determines if one or more values in an iterable evaluate to True\n",
    "\"\"\"\n",
    "\n",
    "nums = [1, 1, 0, 1]\n",
    "print(all(nums))\n",
    "\n",
    "chars = ['a', 'b', 'c', 'd']\n",
    "print(all(chars))\n",
    "\n",
    "\n",
    "nums = [1, 1, 0, 1]\n",
    "print(any(nums))\n",
    "\n",
    "chars = ['a', 'b', 'c', 'd']\n",
    "print(any(chars))\n",
    "\n",
    "vals = [1, 2, 3, 4]\n",
    "print(any(val > 12 for val in vals))"
   ]
  },
  {
   "cell_type": "code",
   "execution_count": 57,
   "metadata": {},
   "outputs": [
    {
     "name": "stdout",
     "output_type": "stream",
     "text": [
      "['a1', 'a2', 'a3', 'b1', 'b2', 'b3']\n",
      "a1 b1\n",
      "a2 b2\n",
      "a3 b3\n"
     ]
    }
   ],
   "source": [
    "#concatenate and merge lists\n",
    "\n",
    "alist = ['a1', 'a2', 'a3']\n",
    "blist = ['b1', 'b2', 'b3']\n",
    "\n",
    "print(alist+blist)\n",
    "\n",
    "#zip returns a list of tuples, where the i-th tuple contains the i-th element from each of the argument\n",
    "#sequences or iterables:\n",
    "for a , b in zip(alist, blist):\n",
    "    print(a,b)\n",
    "    \n"
   ]
  },
  {
   "cell_type": "code",
   "execution_count": 60,
   "metadata": {},
   "outputs": [
    {
     "name": "stdout",
     "output_type": "stream",
     "text": [
      "a1 b1\n",
      "a2 b2\n",
      "a3 b3\n"
     ]
    }
   ],
   "source": [
    "#If the lists have different lengths then the result will include only as many elements as the shortest one:\n",
    "\n",
    "alist = ['a1', 'a2', 'a3']\n",
    "blist = ['b1', 'b2', 'b3', 'b4']\n",
    "\n",
    "for a , b in zip(alist, blist):\n",
    "    print(a,b)\n"
   ]
  },
  {
   "cell_type": "code",
   "execution_count": 61,
   "metadata": {},
   "outputs": [
    {
     "name": "stdout",
     "output_type": "stream",
     "text": [
      "Final List : [123, 'xyz', 'zara', [2009], 'abc']\n"
     ]
    }
   ],
   "source": [
    "#insert to a specific index values:\n",
    "alist = [123, 'xyz', 'zara', 'abc']\n",
    "alist.insert(3, [2009])\n",
    "print(\"Final List :\", alist)"
   ]
  },
  {
   "cell_type": "code",
   "execution_count": 62,
   "metadata": {},
   "outputs": [
    {
     "name": "stdout",
     "output_type": "stream",
     "text": [
      "2\n",
      "10\n",
      "11\n"
     ]
    }
   ],
   "source": [
    "#Accessing values in nested list\n",
    "\n",
    "alist = [[[1,2],[3,4]], [[5,6,7],[8,9,10], [12, 13, 14]]]\n",
    "print(alist[0][0][1])\n",
    "print(alist[1][1][2])\n",
    "alist[0][0].append(11)\n",
    "print(alist[0][0][2])"
   ]
  },
  {
   "cell_type": "code",
   "execution_count": 63,
   "metadata": {},
   "outputs": [
    {
     "name": "stdout",
     "output_type": "stream",
     "text": [
      "[1, 2]\n",
      "[3, 4]\n",
      "[5, 6, 7]\n",
      "[8, 9, 10]\n",
      "[12, 13, 14]\n"
     ]
    }
   ],
   "source": [
    "alist = [[[1,2],[3,4]], [[5,6,7],[8,9,10], [12, 13, 14]]]\n",
    "\n",
    "for row in alist:\n",
    "    for col in row:\n",
    "        print(col)"
   ]
  },
  {
   "cell_type": "code",
   "execution_count": 64,
   "metadata": {},
   "outputs": [
    {
     "data": {
      "text/plain": [
       "[[1, 2], [3, 4], [5, 6, 7], [8, 9, 10], [12, 13, 14]]"
      ]
     },
     "execution_count": 64,
     "metadata": {},
     "output_type": "execute_result"
    }
   ],
   "source": [
    "#using list comprehensions\n",
    "[col for row in alist for col in row]"
   ]
  }
 ],
 "metadata": {
  "kernelspec": {
   "display_name": "Python 3",
   "language": "python",
   "name": "python3"
  },
  "language_info": {
   "codemirror_mode": {
    "name": "ipython",
    "version": 3
   },
   "file_extension": ".py",
   "mimetype": "text/x-python",
   "name": "python",
   "nbconvert_exporter": "python",
   "pygments_lexer": "ipython3",
   "version": "3.7.3"
  }
 },
 "nbformat": 4,
 "nbformat_minor": 2
}
