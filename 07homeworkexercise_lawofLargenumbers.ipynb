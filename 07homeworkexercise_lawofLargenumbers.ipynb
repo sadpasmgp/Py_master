{
 "cells": [
  {
   "cell_type": "markdown",
   "metadata": {},
   "source": [
    "#Law of large numbers\n",
    "#Avg(Xn)->E(X) when n-> infinity\n",
    "\n",
    "In probability theory, the law of large numbers is a theorem that describes the result of performing the same experiment a large number of times. According to the law, the average of the results obtained from a large number of trials should be close to the expected value, and will tend to become closer to the expected value as more trials are performed"
   ]
  },
  {
   "cell_type": "markdown",
   "metadata": {},
   "source": [
    "---"
   ]
  },
  {
   "cell_type": "markdown",
   "metadata": {},
   "source": [
    "Exercise: Test the Law of large numbers for N random normally distributed numbers with mean = 0 ,stdev = 1:\n",
    "\n",
    "Create apython script that will count how many of these numbers fall between -1 and 1 and divide by total quantity of N\n",
    "\n",
    "You know that E(X) = 68.2%\n",
    "\n",
    "Check that Mean(Xn)->E(X) as you rerun your script while increasing N"
   ]
  },
  {
   "cell_type": "markdown",
   "metadata": {},
   "source": [
    "---"
   ]
  },
  {
   "cell_type": "code",
   "execution_count": 1,
   "metadata": {},
   "outputs": [],
   "source": [
    "import numpy as np\n",
    "from numpy.random import randn"
   ]
  },
  {
   "cell_type": "code",
   "execution_count": 17,
   "metadata": {},
   "outputs": [
    {
     "name": "stdout",
     "output_type": "stream",
     "text": [
      "0.5\n"
     ]
    }
   ],
   "source": [
    "N = 10\n",
    "counter = 0\n",
    "for i in randn(N):\n",
    "    if i > -1 and i < 1:\n",
    "        counter = counter + 1\n",
    "answer = counter / N\n",
    "print(answer)"
   ]
  },
  {
   "cell_type": "markdown",
   "metadata": {},
   "source": [
    "As N is increased, stdev reaches to 68.2%"
   ]
  },
  {
   "cell_type": "code",
   "execution_count": 18,
   "metadata": {},
   "outputs": [
    {
     "name": "stdout",
     "output_type": "stream",
     "text": [
      "0.76\n"
     ]
    }
   ],
   "source": [
    "N = 100\n",
    "counter = 0\n",
    "for i in randn(N):\n",
    "    if i > -1 and i < 1:\n",
    "        counter = counter + 1\n",
    "answer = counter / N\n",
    "print(answer)"
   ]
  },
  {
   "cell_type": "code",
   "execution_count": 19,
   "metadata": {},
   "outputs": [
    {
     "name": "stdout",
     "output_type": "stream",
     "text": [
      "0.678\n"
     ]
    }
   ],
   "source": [
    "N = 1000\n",
    "counter = 0\n",
    "for i in randn(N):\n",
    "    if i > -1 and i < 1:\n",
    "        counter = counter + 1\n",
    "answer = counter / N\n",
    "print(answer)"
   ]
  },
  {
   "cell_type": "code",
   "execution_count": 20,
   "metadata": {},
   "outputs": [
    {
     "name": "stdout",
     "output_type": "stream",
     "text": [
      "0.6883\n"
     ]
    }
   ],
   "source": [
    "N = 10000\n",
    "counter = 0\n",
    "for i in randn(N):\n",
    "    if i > -1 and i < 1:\n",
    "        counter = counter + 1\n",
    "answer = counter / N\n",
    "print(answer)"
   ]
  },
  {
   "cell_type": "code",
   "execution_count": 21,
   "metadata": {},
   "outputs": [
    {
     "name": "stdout",
     "output_type": "stream",
     "text": [
      "0.68338\n"
     ]
    }
   ],
   "source": [
    "N = 100000\n",
    "counter = 0\n",
    "for i in randn(N):\n",
    "    if i > -1 and i < 1:\n",
    "        counter = counter + 1\n",
    "answer = counter / N\n",
    "print(answer)"
   ]
  },
  {
   "cell_type": "code",
   "execution_count": 22,
   "metadata": {},
   "outputs": [
    {
     "name": "stdout",
     "output_type": "stream",
     "text": [
      "0.683092\n"
     ]
    }
   ],
   "source": [
    "N = 1000000\n",
    "counter = 0\n",
    "for i in randn(N):\n",
    "    if i > -1 and i < 1:\n",
    "        counter = counter + 1\n",
    "answer = counter / N\n",
    "print(answer)"
   ]
  },
  {
   "cell_type": "code",
   "execution_count": 23,
   "metadata": {},
   "outputs": [
    {
     "name": "stdout",
     "output_type": "stream",
     "text": [
      "0.6826781\n"
     ]
    }
   ],
   "source": [
    "N = 10000000\n",
    "counter = 0\n",
    "for i in randn(N):\n",
    "    if i > -1 and i < 1:\n",
    "        counter = counter + 1\n",
    "answer = counter / N\n",
    "print(answer)"
   ]
  },
  {
   "cell_type": "code",
   "execution_count": 24,
   "metadata": {},
   "outputs": [
    {
     "name": "stdout",
     "output_type": "stream",
     "text": [
      "0.68275505\n"
     ]
    }
   ],
   "source": [
    "N = 100000000\n",
    "counter = 0\n",
    "for i in randn(N):\n",
    "    if i > -1 and i < 1:\n",
    "        counter = counter + 1\n",
    "answer = counter / N\n",
    "print(answer)"
   ]
  },
  {
   "cell_type": "markdown",
   "metadata": {},
   "source": [
    "conclusion: As N increases stdev converges to 68.2%, Hence LLn is proved"
   ]
  }
 ],
 "metadata": {
  "kernelspec": {
   "display_name": "Python 3",
   "language": "python",
   "name": "python3"
  },
  "language_info": {
   "codemirror_mode": {
    "name": "ipython",
    "version": 3
   },
   "file_extension": ".py",
   "mimetype": "text/x-python",
   "name": "python",
   "nbconvert_exporter": "python",
   "pygments_lexer": "ipython3",
   "version": "3.7.3"
  }
 },
 "nbformat": 4,
 "nbformat_minor": 2
}
