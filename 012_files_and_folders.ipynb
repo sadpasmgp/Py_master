{
 "cells": [
  {
   "cell_type": "code",
   "execution_count": null,
   "metadata": {},
   "outputs": [],
   "source": [
    "\"\"\"\n",
    "Parameter Details\n",
    "filename - the path to your file or, if the file is in the working directory, the filename of your file\n",
    "access_mode - a string value that determines how the file is opened\n",
    "buffering - an integer value used for optional line buffering\n",
    "\"\"\""
   ]
  },
  {
   "cell_type": "code",
   "execution_count": null,
   "metadata": {},
   "outputs": [],
   "source": [
    "\"\"\"\n",
    "File modes - \n",
    "There are different modes you can open a file with, specified by the mode parameter. These include:\n",
    "\n",
    "'r' - reading mode. The default. It allows you only to read the file, not to modify it. When using this mode the\n",
    "file must exist.\n",
    "'w' - writing mode. It will create a new file if it does not exist, otherwise will erase the file and allow you to\n",
    "write to it.\n",
    "'a' - append mode. It will write data to the end of the file. It does not erase the file, and the file must exist for\n",
    "this mode.\n",
    "'rb' - reading mode in binary. This is similar to r except that the reading is forced in binary mode. This is\n",
    "also a default choice.\n",
    "'r+' - reading mode plus writing mode at the same time. This allows you to read and write into files at the\n",
    "same time without having to use r and w.\n",
    "'rb+' - reading and writing mode in binary. The same as r+ except the data is in binary\n",
    "'wb' - writing mode in binary. The same as w except the data is in binary.\n",
    "'w+' - writing and reading mode. The exact same as r+ but if the file does not exist, a new one is made.\n",
    "Otherwise, the file is overwritten.\n",
    "'wb+' - writing and reading mode in binary mode. The same as w+ but the data is in binary.\n",
    "'ab' - appending in binary mode. Similar to a except that the data is in binary.\n",
    "'a+' - appending and reading mode. Similar to w+ as it will create a new file if the file does not exist.\n",
    "Otherwise, the file pointer is at the end of the file if it exists.\n",
    "'ab+' - appending and reading mode in binary. The same as a+ except that the data is in binary.\n",
    "\n",
    "\n",
    "with open(filename, 'r') as f:\n",
    "    f.read()\n",
    "with open(filename, 'w') as f:\n",
    "    f.write(filedata)\n",
    "with open(filename, 'a') as f:\n",
    "    f.write('\\\\n' + newdata)\n",
    "\n",
    "Python 3 added a new mode for exclusive creation so that you will not accidentally truncate or overwrite and\n",
    "existing file.\n",
    "'x' - open for exclusive creation, will raise FileExistsError if the file already exists\n",
    "'xb' - open for exclusive creation writing mode in binary. The same as x except the data is in binary.\n",
    "'x+' - reading and writing mode. Similar to w+ as it will create a new file if the file does not exist. Otherwise,\n",
    "will raise FileExistsError.\n",
    "'xb+' - writing and reading mode. The exact same as x+ but the data is binary\n",
    "\"\"\"\n"
   ]
  },
  {
   "cell_type": "code",
   "execution_count": 10,
   "metadata": {},
   "outputs": [],
   "source": [
    "#Simple file program, creating file\n",
    "\n",
    "with open('myfile.txt','w') as fp:\n",
    "    fp.write(\"Hello \\ngood \\nmorning\")\n",
    "    fp.close()"
   ]
  },
  {
   "cell_type": "code",
   "execution_count": 11,
   "metadata": {},
   "outputs": [
    {
     "name": "stdout",
     "output_type": "stream",
     "text": [
      "Hello \n",
      "\n",
      "good \n",
      "\n",
      "morning\n"
     ]
    }
   ],
   "source": [
    "#reading file\n",
    "\n",
    "with open('myfile.txt', 'r') as fp:\n",
    "    for line in fp:\n",
    "        print(line)"
   ]
  },
  {
   "cell_type": "code",
   "execution_count": 13,
   "metadata": {},
   "outputs": [
    {
     "name": "stdout",
     "output_type": "stream",
     "text": [
      "Hello \n",
      "\n",
      "good \n",
      "\n",
      "morning\n"
     ]
    }
   ],
   "source": [
    "#reading line by line\n",
    "with open('myfile.txt', 'r') as fp:\n",
    "    print(fp.readline())\n",
    "    print(fp.readline())\n",
    "    print(fp.readline())"
   ]
  },
  {
   "cell_type": "code",
   "execution_count": 14,
   "metadata": {},
   "outputs": [
    {
     "name": "stdout",
     "output_type": "stream",
     "text": [
      "['Hello \\n', 'good \\n', 'morning']\n"
     ]
    }
   ],
   "source": [
    "#reading all lines\n",
    "with open('myfile.txt', 'r') as fp:\n",
    "    print(fp.readlines())"
   ]
  },
  {
   "cell_type": "code",
   "execution_count": 39,
   "metadata": {},
   "outputs": [
    {
     "name": "stdout",
     "output_type": "stream",
     "text": [
      "<nt.ScandirIterator object at 0x0000023364AEC220>\n"
     ]
    }
   ],
   "source": [
    "#Directory listing\n",
    "#os.scandir() returns an iterator as opposed to a list when called\n",
    "import os\n",
    "mydir = os.scandir(r'C:\\Users\\SP\\Desktop\\WorldofDS\\JourneyintoDataScience')\n",
    "print(mydir)"
   ]
  },
  {
   "cell_type": "code",
   "execution_count": 38,
   "metadata": {},
   "outputs": [
    {
     "name": "stdout",
     "output_type": "stream",
     "text": [
      "['DirEntry', 'F_OK', 'MutableMapping', 'O_APPEND', 'O_BINARY', 'O_CREAT', 'O_EXCL', 'O_NOINHERIT', 'O_RANDOM', 'O_RDONLY', 'O_RDWR', 'O_SEQUENTIAL', 'O_SHORT_LIVED', 'O_TEMPORARY', 'O_TEXT', 'O_TRUNC', 'O_WRONLY', 'P_DETACH', 'P_NOWAIT', 'P_NOWAITO', 'P_OVERLAY', 'P_WAIT', 'PathLike', 'R_OK', 'SEEK_CUR', 'SEEK_END', 'SEEK_SET', 'TMP_MAX', 'W_OK', 'X_OK', '_Environ', '__all__', '__builtins__', '__cached__', '__doc__', '__file__', '__loader__', '__name__', '__package__', '__spec__', '_execvpe', '_exists', '_exit', '_fspath', '_get_exports_list', '_putenv', '_unsetenv', '_wrap_close', 'abc', 'abort', 'access', 'altsep', 'chdir', 'chmod', 'close', 'closerange', 'cpu_count', 'curdir', 'defpath', 'device_encoding', 'devnull', 'dup', 'dup2', 'environ', 'error', 'execl', 'execle', 'execlp', 'execlpe', 'execv', 'execve', 'execvp', 'execvpe', 'extsep', 'fdopen', 'fsdecode', 'fsencode', 'fspath', 'fstat', 'fsync', 'ftruncate', 'get_exec_path', 'get_handle_inheritable', 'get_inheritable', 'get_terminal_size', 'getcwd', 'getcwdb', 'getenv', 'getlogin', 'getpid', 'getppid', 'isatty', 'kill', 'linesep', 'link', 'listdir', 'lseek', 'lstat', 'makedirs', 'mkdir', 'name', 'open', 'pardir', 'path', 'pathsep', 'pipe', 'popen', 'putenv', 'read', 'readlink', 'remove', 'removedirs', 'rename', 'renames', 'replace', 'rmdir', 'scandir', 'sep', 'set_handle_inheritable', 'set_inheritable', 'spawnl', 'spawnle', 'spawnv', 'spawnve', 'st', 'startfile', 'stat', 'stat_result', 'statvfs_result', 'strerror', 'supports_bytes_environ', 'supports_dir_fd', 'supports_effective_ids', 'supports_fd', 'supports_follow_symlinks', 'symlink', 'sys', 'system', 'terminal_size', 'times', 'times_result', 'truncate', 'umask', 'uname_result', 'unlink', 'urandom', 'utime', 'waitpid', 'walk', 'write']\n"
     ]
    }
   ],
   "source": [
    "print(dir(os))"
   ]
  },
  {
   "cell_type": "code",
   "execution_count": 37,
   "metadata": {},
   "outputs": [
    {
     "name": "stdout",
     "output_type": "stream",
     "text": [
      ".git\n",
      ".ipynb_checkpoints\n",
      "001_Basics.ipynb\n",
      "002_Datetime_basics.ipynb\n",
      "003_datetime_advance.ipynb\n",
      "004_Sets_ops and simple math_ops.ipynb\n",
      "005_Variable scope and binding.ipynb\n",
      "006_Conditionals_Loops.ipynb\n",
      "007_Arrays.ipynb\n",
      "008_dictionary.ipynb\n",
      "009_Lists.ipynb\n",
      "010_list_comprehensions.ipynb\n",
      "011_Tuples.ipynb\n",
      "012_files_and_folders.ipynb\n",
      "myfile.txt\n",
      "README.md\n"
     ]
    }
   ],
   "source": [
    "#The ScandirIterator points to all the entries in the current directory.\n",
    "#You can loop over the contents of the iterator and print out the filenames\n",
    "\n",
    "import os\n",
    "\n",
    "with os.scandir(r'C:\\Users\\SP\\Desktop\\WorldofDS\\JourneyintoDataScience') as entries:\n",
    "    for entry in entries:\n",
    "        print(entry.name)"
   ]
  },
  {
   "cell_type": "code",
   "execution_count": 40,
   "metadata": {},
   "outputs": [
    {
     "name": "stdout",
     "output_type": "stream",
     "text": [
      ".git\n",
      ".ipynb_checkpoints\n",
      "001_Basics.ipynb\n",
      "002_Datetime_basics.ipynb\n",
      "003_datetime_advance.ipynb\n",
      "004_Sets_ops and simple math_ops.ipynb\n",
      "005_Variable scope and binding.ipynb\n",
      "006_Conditionals_Loops.ipynb\n",
      "007_Arrays.ipynb\n",
      "008_dictionary.ipynb\n",
      "009_Lists.ipynb\n",
      "010_list_comprehensions.ipynb\n",
      "011_Tuples.ipynb\n",
      "012_files_and_folders.ipynb\n",
      "myfile.txt\n",
      "README.md\n"
     ]
    }
   ],
   "source": [
    "#Another method\n",
    "\n",
    "from pathlib import Path\n",
    "\n",
    "entries = Path(r'C:\\Users\\SP\\Desktop\\WorldofDS\\JourneyintoDataScience')\n",
    "for entry in entries.iterdir():\n",
    "    print(entry.name)"
   ]
  },
  {
   "cell_type": "code",
   "execution_count": null,
   "metadata": {},
   "outputs": [],
   "source": [
    "\"\"\"\n",
    "Using pathlib.Path() or os.scandir() instead of os.listdir() is the preferred way of getting a directory listing, \n",
    "especially when you’re working with code that needs the file type and file attribute information.\n",
    "pathlib.Path() offers much of the file and path handling functionality found in os and shutil, \n",
    "and it’s methods are more efficient than some found in these modules.\n",
    "\n",
    "Here are the directory-listing functions again:\n",
    "Function \tDescription\n",
    "os.listdir() \tReturns a list of all files and folders in a directory\n",
    "os.scandir() \tReturns an iterator of all the objects in a directory including file attribute information\n",
    "pathlib.Path.iterdir() \tReturns an iterator of all the objects in a directory including file attribute information\n",
    "\n",
    "These functions return a list of everything in the directory, including subdirectories.\n",
    "\"\"\""
   ]
  },
  {
   "cell_type": "code",
   "execution_count": 46,
   "metadata": {},
   "outputs": [
    {
     "name": "stdout",
     "output_type": "stream",
     "text": [
      "001_Basics.ipynb\n",
      "002_Datetime_basics.ipynb\n",
      "003_datetime_advance.ipynb\n",
      "004_Sets_ops and simple math_ops.ipynb\n",
      "005_Variable scope and binding.ipynb\n",
      "006_Conditionals_Loops.ipynb\n",
      "007_Arrays.ipynb\n",
      "008_dictionary.ipynb\n",
      "009_Lists.ipynb\n",
      "010_list_comprehensions.ipynb\n",
      "011_Tuples.ipynb\n",
      "012_files_and_folders.ipynb\n",
      "myfile.txt\n",
      "README.md\n"
     ]
    }
   ],
   "source": [
    "#listing all files in a directory\n",
    "\n",
    "import os\n",
    "\n",
    "#list all files in a directory using os.scandir()\n",
    "\n",
    "basepath = r'C:\\Users\\SP\\Desktop\\WorldofDS\\JourneyintoDataScience'\n",
    "with os.scandir(basepath) as entries:\n",
    "    for entry in entries:\n",
    "        if entry.is_file():\n",
    "            print(entry.name)\n"
   ]
  },
  {
   "cell_type": "code",
   "execution_count": 49,
   "metadata": {},
   "outputs": [
    {
     "name": "stdout",
     "output_type": "stream",
     "text": [
      "JourneyintoDataScience\n",
      "weekday2019_09_05\n"
     ]
    }
   ],
   "source": [
    "#listing all sub directories in a directory\n",
    "\n",
    "import os\n",
    "\n",
    "#list all files subdirectories using os.scandir()\n",
    "\n",
    "basepath = r'C:\\Users\\SP\\Desktop\\WorldofDS'\n",
    "\n",
    "with os.scandir(basepath) as entries:\n",
    "    for entry in entries:\n",
    "        if entry.is_dir():\n",
    "            print(entry.name)"
   ]
  },
  {
   "cell_type": "code",
   "execution_count": 56,
   "metadata": {},
   "outputs": [
    {
     "name": "stdout",
     "output_type": "stream",
     "text": [
      "001_Basics.ipynb \t 1570243862.1214387 \t 05 Oct 2019\n",
      "002_Datetime_basics.ipynb \t 1570250108.0989268 \t 05 Oct 2019\n",
      "003_datetime_advance.ipynb \t 1570278138.3069198 \t 05 Oct 2019\n",
      "004_Sets_ops and simple math_ops.ipynb \t 1570281319.801463 \t 05 Oct 2019\n",
      "005_Variable scope and binding.ipynb \t 1570284059.0920303 \t 05 Oct 2019\n",
      "006_Conditionals_Loops.ipynb \t 1570291746.9190738 \t 05 Oct 2019\n",
      "007_Arrays.ipynb \t 1570311710.5029402 \t 05 Oct 2019\n",
      "008_dictionary.ipynb \t 1570316927.1665032 \t 05 Oct 2019\n",
      "009_Lists.ipynb \t 1570338453.6358786 \t 06 Oct 2019\n",
      "010_list_comprehensions.ipynb \t 1570341625.2101002 \t 06 Oct 2019\n",
      "011_Tuples.ipynb \t 1570415302.0550694 \t 07 Oct 2019\n",
      "012_files_and_folders.ipynb \t 1570421197.5097034 \t 07 Oct 2019\n",
      "myfile.txt \t 1570417018.1169958 \t 07 Oct 2019\n",
      "README.md \t 1570210731.293132 \t 04 Oct 2019\n"
     ]
    }
   ],
   "source": [
    "#getting file attributes\n",
    "\"\"\"\n",
    "Python makes retrieving file attributes such as file size and modified times easy. \n",
    "This is done through os.stat(), os.scandir(), or pathlib.Path().\n",
    "\n",
    "os.scandir() and pathlib.Path() retrieve a directory listing with file attributes combined. \n",
    "This can be potentially more efficient than using os.listdir() to list files and \n",
    "then getting file attribute information for each file.\n",
    "\"\"\"\n",
    "\n",
    "import os\n",
    "from datetime import datetime\n",
    "\n",
    "basepath = r'C:\\Users\\SP\\Desktop\\WorldofDS\\JourneyintoDataScience'\n",
    "with os.scandir(basepath) as dir_contents:\n",
    "    for entry in dir_contents:\n",
    "        if entry.is_file():\n",
    "            info = entry.stat()\n",
    "            print(entry.name,'\\t',info.st_mtime,'\\t',datetime.utcfromtimestamp(info.st_mtime).strftime('%d %b %Y'))\n",
    "        "
   ]
  },
  {
   "cell_type": "code",
   "execution_count": 63,
   "metadata": {},
   "outputs": [],
   "source": [
    "#making directories\n",
    "\n",
    "\"\"\"\n",
    "Function \tDescription\n",
    "os.mkdir() \tCreates a single subdirectory\n",
    "pathlib.Path.mkdir() \tCreates single or multiple directories\n",
    "os.makedirs() \tCreates multiple directories, including intermediate directories\n",
    "\"\"\"\n",
    "\n",
    "import os\n",
    "os.mkdir(\"test1_dir\")\n",
    "os.makedirs(\"test2_dir\")"
   ]
  },
  {
   "cell_type": "code",
   "execution_count": 64,
   "metadata": {},
   "outputs": [
    {
     "name": "stdout",
     "output_type": "stream",
     "text": [
      ".git\n",
      ".ipynb_checkpoints\n",
      "test1_dir\n",
      "test2_dir\n",
      "test_dir\n"
     ]
    }
   ],
   "source": [
    "#reading created dirs\n",
    "basepath = r'C:\\Users\\SP\\Desktop\\WorldofDS\\JourneyintoDataScience'\n",
    "with os.scandir(basepath) as entries:\n",
    "    for entry in entries:\n",
    "        if entry.is_dir():\n",
    "            print(entry.name)"
   ]
  },
  {
   "cell_type": "code",
   "execution_count": 90,
   "metadata": {},
   "outputs": [],
   "source": [
    "#creating nested directory\n",
    "import os\n",
    "os.makedirs(\"test2_dir/2018/10/07\")"
   ]
  },
  {
   "cell_type": "code",
   "execution_count": 96,
   "metadata": {},
   "outputs": [
    {
     "name": "stdout",
     "output_type": "stream",
     "text": [
      "Found directory: C:\\Users\\SP\\Desktop\\WorldofDS\\JourneyintoDataScience\n",
      "001_Basics.ipynb\n",
      "002_Datetime_basics.ipynb\n",
      "003_datetime_advance.ipynb\n",
      "004_Sets_ops and simple math_ops.ipynb\n",
      "005_Variable scope and binding.ipynb\n",
      "006_Conditionals_Loops.ipynb\n",
      "007_Arrays.ipynb\n",
      "008_dictionary.ipynb\n",
      "009_Lists.ipynb\n",
      "010_list_comprehensions.ipynb\n",
      "011_Tuples.ipynb\n",
      "012_files_and_folders.ipynb\n",
      "myfile.txt\n",
      "README.md\n",
      "Found directory: C:\\Users\\SP\\Desktop\\WorldofDS\\JourneyintoDataScience\\.git\n",
      ".COMMIT_EDITMSG.swp\n",
      "COMMIT_EDITMSG\n",
      "config\n",
      "description\n",
      "HEAD\n",
      "index\n",
      "packed-refs\n",
      "Found directory: C:\\Users\\SP\\Desktop\\WorldofDS\\JourneyintoDataScience\\.git\\hooks\n",
      "applypatch-msg.sample\n",
      "commit-msg.sample\n",
      "fsmonitor-watchman.sample\n",
      "post-update.sample\n",
      "pre-applypatch.sample\n",
      "pre-commit.sample\n",
      "pre-push.sample\n",
      "pre-rebase.sample\n",
      "pre-receive.sample\n",
      "prepare-commit-msg.sample\n",
      "update.sample\n",
      "Found directory: C:\\Users\\SP\\Desktop\\WorldofDS\\JourneyintoDataScience\\.git\\info\n",
      "exclude\n",
      "Found directory: C:\\Users\\SP\\Desktop\\WorldofDS\\JourneyintoDataScience\\.git\\logs\n",
      "HEAD\n",
      "Found directory: C:\\Users\\SP\\Desktop\\WorldofDS\\JourneyintoDataScience\\.git\\logs\\refs\n",
      "Found directory: C:\\Users\\SP\\Desktop\\WorldofDS\\JourneyintoDataScience\\.git\\logs\\refs\\heads\n",
      "master\n",
      "Found directory: C:\\Users\\SP\\Desktop\\WorldofDS\\JourneyintoDataScience\\.git\\logs\\refs\\remotes\n",
      "Found directory: C:\\Users\\SP\\Desktop\\WorldofDS\\JourneyintoDataScience\\.git\\logs\\refs\\remotes\\origin\n",
      "HEAD\n",
      "master\n",
      "Found directory: C:\\Users\\SP\\Desktop\\WorldofDS\\JourneyintoDataScience\\.git\\objects\n",
      "Found directory: C:\\Users\\SP\\Desktop\\WorldofDS\\JourneyintoDataScience\\.git\\objects\\03\n",
      "4f5e4db4479cb1fc0e1de975bde268df53ef49\n",
      "Found directory: C:\\Users\\SP\\Desktop\\WorldofDS\\JourneyintoDataScience\\.git\\objects\\04\n",
      "4f9098916c8aab82d156efd55d2cff1f306a55\n",
      "e194c7dcdb2fe0ae2820e8a582ace91258be7f\n",
      "Found directory: C:\\Users\\SP\\Desktop\\WorldofDS\\JourneyintoDataScience\\.git\\objects\\05\n",
      "a141113a768666f7d185ef45406d36642ae907\n",
      "Found directory: C:\\Users\\SP\\Desktop\\WorldofDS\\JourneyintoDataScience\\.git\\objects\\06\n",
      "6e959d6d958e2886d2125021110b2a38931aa7\n",
      "Found directory: C:\\Users\\SP\\Desktop\\WorldofDS\\JourneyintoDataScience\\.git\\objects\\0c\n",
      "d6cc9cbf423c73769575e111fe314cb189436b\n",
      "Found directory: C:\\Users\\SP\\Desktop\\WorldofDS\\JourneyintoDataScience\\.git\\objects\\16\n",
      "c6cb47982d6b6e5372bc070c805e547eee6473\n",
      "Found directory: C:\\Users\\SP\\Desktop\\WorldofDS\\JourneyintoDataScience\\.git\\objects\\20\n",
      "7dd69727139f173ee95631935fb6d775497fb7\n",
      "Found directory: C:\\Users\\SP\\Desktop\\WorldofDS\\JourneyintoDataScience\\.git\\objects\\2c\n",
      "ef4890dd8c6044531a30e2cc6e905c9b56bb32\n",
      "Found directory: C:\\Users\\SP\\Desktop\\WorldofDS\\JourneyintoDataScience\\.git\\objects\\2e\n",
      "8c2a09d87794300e9c82565573e904d7430809\n",
      "96becdb90b3a148b792f8530fe3cb0445329da\n",
      "Found directory: C:\\Users\\SP\\Desktop\\WorldofDS\\JourneyintoDataScience\\.git\\objects\\33\n",
      "35352ab50892c026343c15d11d5bc073f9e13e\n",
      "Found directory: C:\\Users\\SP\\Desktop\\WorldofDS\\JourneyintoDataScience\\.git\\objects\\38\n",
      "db73159e9f3d4716156bf1e988cd701ee13ec8\n",
      "Found directory: C:\\Users\\SP\\Desktop\\WorldofDS\\JourneyintoDataScience\\.git\\objects\\45\n",
      "df5d6d44463a3e4362615fb99dcc17fee1cddd\n",
      "Found directory: C:\\Users\\SP\\Desktop\\WorldofDS\\JourneyintoDataScience\\.git\\objects\\48\n",
      "f705275844243ea4e9e82e1e3b6e3fae2a7964\n",
      "Found directory: C:\\Users\\SP\\Desktop\\WorldofDS\\JourneyintoDataScience\\.git\\objects\\49\n",
      "685fafdb999014940afe99439a909c7cbeee9b\n",
      "Found directory: C:\\Users\\SP\\Desktop\\WorldofDS\\JourneyintoDataScience\\.git\\objects\\4d\n",
      "6d3984a8bcf028509269b849f61198544326b0\n",
      "Found directory: C:\\Users\\SP\\Desktop\\WorldofDS\\JourneyintoDataScience\\.git\\objects\\67\n",
      "a44d45b8cf32ce1a09dc4e77477409a1571f5b\n",
      "Found directory: C:\\Users\\SP\\Desktop\\WorldofDS\\JourneyintoDataScience\\.git\\objects\\6d\n",
      "d1a400b7fbafa6203e88fdbac0ae89e23b518a\n",
      "Found directory: C:\\Users\\SP\\Desktop\\WorldofDS\\JourneyintoDataScience\\.git\\objects\\7d\n",
      "a829500b722a56f0cf0a0cbf831e6ccef4d9e1\n",
      "Found directory: C:\\Users\\SP\\Desktop\\WorldofDS\\JourneyintoDataScience\\.git\\objects\\81\n",
      "376eb6af76ff02a9a7dcd100699d0819d0862d\n",
      "Found directory: C:\\Users\\SP\\Desktop\\WorldofDS\\JourneyintoDataScience\\.git\\objects\\93\n",
      "0fedbc6424cebb94c0cf5b609319b409c290db\n",
      "Found directory: C:\\Users\\SP\\Desktop\\WorldofDS\\JourneyintoDataScience\\.git\\objects\\96\n",
      "31f6a737e333eb390fff53edc990f7096d8228\n",
      "Found directory: C:\\Users\\SP\\Desktop\\WorldofDS\\JourneyintoDataScience\\.git\\objects\\9f\n",
      "ae2beca482a879806c720806bce572203dbaf6\n",
      "Found directory: C:\\Users\\SP\\Desktop\\WorldofDS\\JourneyintoDataScience\\.git\\objects\\a2\n",
      "372ab01d563c3be0d39aa001ab7981e5f2e156\n",
      "Found directory: C:\\Users\\SP\\Desktop\\WorldofDS\\JourneyintoDataScience\\.git\\objects\\a5\n",
      "20fdd7ca57f0e28dcfc05177738fe34eb9cc6d\n",
      "Found directory: C:\\Users\\SP\\Desktop\\WorldofDS\\JourneyintoDataScience\\.git\\objects\\a7\n",
      "f6fdbdb83997d254012d3b9c7e4c0c89f97391\n",
      "Found directory: C:\\Users\\SP\\Desktop\\WorldofDS\\JourneyintoDataScience\\.git\\objects\\b6\n",
      "90c638ec75c79dadb7ad8c79b23a132a952c53\n",
      "Found directory: C:\\Users\\SP\\Desktop\\WorldofDS\\JourneyintoDataScience\\.git\\objects\\cc\n",
      "2327a5db46cb1ed1767e17684b01302b975f9d\n",
      "Found directory: C:\\Users\\SP\\Desktop\\WorldofDS\\JourneyintoDataScience\\.git\\objects\\d9\n",
      "74551dda653e0e5f642312cadbcba4cc1a4fab\n",
      "d4778c8c46cdc82d325dda0676fdd6eda42d68\n",
      "Found directory: C:\\Users\\SP\\Desktop\\WorldofDS\\JourneyintoDataScience\\.git\\objects\\dc\n",
      "99303624a39a81cf0ea8a805e1c5db768914f2\n",
      "Found directory: C:\\Users\\SP\\Desktop\\WorldofDS\\JourneyintoDataScience\\.git\\objects\\de\n",
      "f543f69990292429b14cd4773203c1e1637531\n",
      "Found directory: C:\\Users\\SP\\Desktop\\WorldofDS\\JourneyintoDataScience\\.git\\objects\\e6\n",
      "3f9fe91bdb2e08e09f13e54b06dea5a88c18c7\n",
      "Found directory: C:\\Users\\SP\\Desktop\\WorldofDS\\JourneyintoDataScience\\.git\\objects\\ec\n",
      "0e7ffb8610d9f1004b9d67b73302a8c37fda7f\n",
      "Found directory: C:\\Users\\SP\\Desktop\\WorldofDS\\JourneyintoDataScience\\.git\\objects\\f3\n",
      "5dfb9fd9813509726813747590841e0c47f329\n",
      "Found directory: C:\\Users\\SP\\Desktop\\WorldofDS\\JourneyintoDataScience\\.git\\objects\\info\n",
      "Found directory: C:\\Users\\SP\\Desktop\\WorldofDS\\JourneyintoDataScience\\.git\\objects\\pack\n",
      "Found directory: C:\\Users\\SP\\Desktop\\WorldofDS\\JourneyintoDataScience\\.git\\refs\n",
      "Found directory: C:\\Users\\SP\\Desktop\\WorldofDS\\JourneyintoDataScience\\.git\\refs\\heads\n",
      "master\n",
      "Found directory: C:\\Users\\SP\\Desktop\\WorldofDS\\JourneyintoDataScience\\.git\\refs\\remotes\n",
      "Found directory: C:\\Users\\SP\\Desktop\\WorldofDS\\JourneyintoDataScience\\.git\\refs\\remotes\\origin\n",
      "HEAD\n",
      "master\n",
      "Found directory: C:\\Users\\SP\\Desktop\\WorldofDS\\JourneyintoDataScience\\.git\\refs\\tags\n",
      "Found directory: C:\\Users\\SP\\Desktop\\WorldofDS\\JourneyintoDataScience\\.ipynb_checkpoints\n",
      "001_Basics-checkpoint.ipynb\n",
      "002_Datetime_basics-checkpoint.ipynb\n",
      "003_datetime_advance-checkpoint.ipynb\n",
      "004_Sets_ops and simple math_ops-checkpoint.ipynb\n",
      "005_Variable scope and binding-checkpoint.ipynb\n",
      "006_Conditionals_Loops-checkpoint.ipynb\n",
      "007_Arrays-checkpoint.ipynb\n",
      "008_dictionary-checkpoint.ipynb\n",
      "009_Lists-checkpoint.ipynb\n",
      "010_list_comprehensions-checkpoint.ipynb\n",
      "011_Tuples-checkpoint.ipynb\n",
      "012_files_and_folders-checkpoint.ipynb\n",
      "Found directory: C:\\Users\\SP\\Desktop\\WorldofDS\\JourneyintoDataScience\\test1_dir\n",
      "Found directory: C:\\Users\\SP\\Desktop\\WorldofDS\\JourneyintoDataScience\\test2_dir\n",
      "Found directory: C:\\Users\\SP\\Desktop\\WorldofDS\\JourneyintoDataScience\\test2_dir\\2018\n",
      "Found directory: C:\\Users\\SP\\Desktop\\WorldofDS\\JourneyintoDataScience\\test2_dir\\2018\\10\n",
      "Found directory: C:\\Users\\SP\\Desktop\\WorldofDS\\JourneyintoDataScience\\test2_dir\\2018\\10\\07\n",
      "Found directory: C:\\Users\\SP\\Desktop\\WorldofDS\\JourneyintoDataScience\\test_dir\n"
     ]
    }
   ],
   "source": [
    "#printing nexted directory\n",
    "\"\"\"\n",
    "os.walk() is used to generate filename in a directory tree by walking the tree either top-down or bottom-up\n",
    "\n",
    "os.walk() returns three values on each iteration of the loop:\n",
    "    The name of the current folder\n",
    "    A list of folders in the current folder\n",
    "    A list of files in the current folder\n",
    "\n",
    "On each iteration, it prints out the names of the subdirectories and files it finds\n",
    "\"\"\"\n",
    "\n",
    "basepath = r'C:\\Users\\SP\\Desktop\\WorldofDS\\JourneyintoDataScience'\n",
    "for dirpath, dirnames, files in os.walk(basepath):\n",
    "    print(f'Found directory: {dirpath}')\n",
    "    for file_name in files:\n",
    "        print(file_name)"
   ]
  },
  {
   "cell_type": "code",
   "execution_count": 102,
   "metadata": {},
   "outputs": [
    {
     "name": "stdout",
     "output_type": "stream",
     "text": [
      "found dir: C:\\Users\\SP\\Desktop\\WorldofDS\\JourneyintoDataScience\\.git\\hooks\n",
      "applypatch-msg.sample\n",
      "commit-msg.sample\n",
      "fsmonitor-watchman.sample\n",
      "post-update.sample\n",
      "pre-applypatch.sample\n",
      "pre-commit.sample\n",
      "pre-push.sample\n",
      "pre-rebase.sample\n",
      "pre-receive.sample\n",
      "prepare-commit-msg.sample\n",
      "update.sample\n",
      "found dir: C:\\Users\\SP\\Desktop\\WorldofDS\\JourneyintoDataScience\\.git\\info\n",
      "exclude\n",
      "found dir: C:\\Users\\SP\\Desktop\\WorldofDS\\JourneyintoDataScience\\.git\\logs\\refs\\heads\n",
      "master\n",
      "found dir: C:\\Users\\SP\\Desktop\\WorldofDS\\JourneyintoDataScience\\.git\\logs\\refs\\remotes\\origin\n",
      "HEAD\n",
      "master\n",
      "found dir: C:\\Users\\SP\\Desktop\\WorldofDS\\JourneyintoDataScience\\.git\\logs\\refs\\remotes\n",
      "found dir: C:\\Users\\SP\\Desktop\\WorldofDS\\JourneyintoDataScience\\.git\\logs\\refs\n",
      "found dir: C:\\Users\\SP\\Desktop\\WorldofDS\\JourneyintoDataScience\\.git\\logs\n",
      "HEAD\n",
      "found dir: C:\\Users\\SP\\Desktop\\WorldofDS\\JourneyintoDataScience\\.git\\objects\\03\n",
      "4f5e4db4479cb1fc0e1de975bde268df53ef49\n",
      "found dir: C:\\Users\\SP\\Desktop\\WorldofDS\\JourneyintoDataScience\\.git\\objects\\04\n",
      "4f9098916c8aab82d156efd55d2cff1f306a55\n",
      "e194c7dcdb2fe0ae2820e8a582ace91258be7f\n",
      "found dir: C:\\Users\\SP\\Desktop\\WorldofDS\\JourneyintoDataScience\\.git\\objects\\05\n",
      "a141113a768666f7d185ef45406d36642ae907\n",
      "found dir: C:\\Users\\SP\\Desktop\\WorldofDS\\JourneyintoDataScience\\.git\\objects\\06\n",
      "6e959d6d958e2886d2125021110b2a38931aa7\n",
      "found dir: C:\\Users\\SP\\Desktop\\WorldofDS\\JourneyintoDataScience\\.git\\objects\\0c\n",
      "d6cc9cbf423c73769575e111fe314cb189436b\n",
      "found dir: C:\\Users\\SP\\Desktop\\WorldofDS\\JourneyintoDataScience\\.git\\objects\\16\n",
      "c6cb47982d6b6e5372bc070c805e547eee6473\n",
      "found dir: C:\\Users\\SP\\Desktop\\WorldofDS\\JourneyintoDataScience\\.git\\objects\\20\n",
      "7dd69727139f173ee95631935fb6d775497fb7\n",
      "found dir: C:\\Users\\SP\\Desktop\\WorldofDS\\JourneyintoDataScience\\.git\\objects\\2c\n",
      "ef4890dd8c6044531a30e2cc6e905c9b56bb32\n",
      "found dir: C:\\Users\\SP\\Desktop\\WorldofDS\\JourneyintoDataScience\\.git\\objects\\2e\n",
      "8c2a09d87794300e9c82565573e904d7430809\n",
      "96becdb90b3a148b792f8530fe3cb0445329da\n",
      "found dir: C:\\Users\\SP\\Desktop\\WorldofDS\\JourneyintoDataScience\\.git\\objects\\33\n",
      "35352ab50892c026343c15d11d5bc073f9e13e\n",
      "found dir: C:\\Users\\SP\\Desktop\\WorldofDS\\JourneyintoDataScience\\.git\\objects\\38\n",
      "db73159e9f3d4716156bf1e988cd701ee13ec8\n",
      "found dir: C:\\Users\\SP\\Desktop\\WorldofDS\\JourneyintoDataScience\\.git\\objects\\45\n",
      "df5d6d44463a3e4362615fb99dcc17fee1cddd\n",
      "found dir: C:\\Users\\SP\\Desktop\\WorldofDS\\JourneyintoDataScience\\.git\\objects\\48\n",
      "f705275844243ea4e9e82e1e3b6e3fae2a7964\n",
      "found dir: C:\\Users\\SP\\Desktop\\WorldofDS\\JourneyintoDataScience\\.git\\objects\\49\n",
      "685fafdb999014940afe99439a909c7cbeee9b\n",
      "found dir: C:\\Users\\SP\\Desktop\\WorldofDS\\JourneyintoDataScience\\.git\\objects\\4d\n",
      "6d3984a8bcf028509269b849f61198544326b0\n",
      "found dir: C:\\Users\\SP\\Desktop\\WorldofDS\\JourneyintoDataScience\\.git\\objects\\67\n",
      "a44d45b8cf32ce1a09dc4e77477409a1571f5b\n",
      "found dir: C:\\Users\\SP\\Desktop\\WorldofDS\\JourneyintoDataScience\\.git\\objects\\6d\n",
      "d1a400b7fbafa6203e88fdbac0ae89e23b518a\n",
      "found dir: C:\\Users\\SP\\Desktop\\WorldofDS\\JourneyintoDataScience\\.git\\objects\\7d\n",
      "a829500b722a56f0cf0a0cbf831e6ccef4d9e1\n",
      "found dir: C:\\Users\\SP\\Desktop\\WorldofDS\\JourneyintoDataScience\\.git\\objects\\81\n",
      "376eb6af76ff02a9a7dcd100699d0819d0862d\n",
      "found dir: C:\\Users\\SP\\Desktop\\WorldofDS\\JourneyintoDataScience\\.git\\objects\\93\n",
      "0fedbc6424cebb94c0cf5b609319b409c290db\n",
      "found dir: C:\\Users\\SP\\Desktop\\WorldofDS\\JourneyintoDataScience\\.git\\objects\\96\n",
      "31f6a737e333eb390fff53edc990f7096d8228\n",
      "found dir: C:\\Users\\SP\\Desktop\\WorldofDS\\JourneyintoDataScience\\.git\\objects\\9f\n",
      "ae2beca482a879806c720806bce572203dbaf6\n",
      "found dir: C:\\Users\\SP\\Desktop\\WorldofDS\\JourneyintoDataScience\\.git\\objects\\a2\n",
      "372ab01d563c3be0d39aa001ab7981e5f2e156\n",
      "found dir: C:\\Users\\SP\\Desktop\\WorldofDS\\JourneyintoDataScience\\.git\\objects\\a5\n",
      "20fdd7ca57f0e28dcfc05177738fe34eb9cc6d\n",
      "found dir: C:\\Users\\SP\\Desktop\\WorldofDS\\JourneyintoDataScience\\.git\\objects\\a7\n",
      "f6fdbdb83997d254012d3b9c7e4c0c89f97391\n",
      "found dir: C:\\Users\\SP\\Desktop\\WorldofDS\\JourneyintoDataScience\\.git\\objects\\b6\n",
      "90c638ec75c79dadb7ad8c79b23a132a952c53\n",
      "found dir: C:\\Users\\SP\\Desktop\\WorldofDS\\JourneyintoDataScience\\.git\\objects\\cc\n",
      "2327a5db46cb1ed1767e17684b01302b975f9d\n",
      "found dir: C:\\Users\\SP\\Desktop\\WorldofDS\\JourneyintoDataScience\\.git\\objects\\d9\n",
      "74551dda653e0e5f642312cadbcba4cc1a4fab\n",
      "d4778c8c46cdc82d325dda0676fdd6eda42d68\n",
      "found dir: C:\\Users\\SP\\Desktop\\WorldofDS\\JourneyintoDataScience\\.git\\objects\\dc\n",
      "99303624a39a81cf0ea8a805e1c5db768914f2\n",
      "found dir: C:\\Users\\SP\\Desktop\\WorldofDS\\JourneyintoDataScience\\.git\\objects\\de\n",
      "f543f69990292429b14cd4773203c1e1637531\n",
      "found dir: C:\\Users\\SP\\Desktop\\WorldofDS\\JourneyintoDataScience\\.git\\objects\\e6\n",
      "3f9fe91bdb2e08e09f13e54b06dea5a88c18c7\n",
      "found dir: C:\\Users\\SP\\Desktop\\WorldofDS\\JourneyintoDataScience\\.git\\objects\\ec\n",
      "0e7ffb8610d9f1004b9d67b73302a8c37fda7f\n",
      "found dir: C:\\Users\\SP\\Desktop\\WorldofDS\\JourneyintoDataScience\\.git\\objects\\f3\n",
      "5dfb9fd9813509726813747590841e0c47f329\n",
      "found dir: C:\\Users\\SP\\Desktop\\WorldofDS\\JourneyintoDataScience\\.git\\objects\\info\n",
      "found dir: C:\\Users\\SP\\Desktop\\WorldofDS\\JourneyintoDataScience\\.git\\objects\\pack\n",
      "found dir: C:\\Users\\SP\\Desktop\\WorldofDS\\JourneyintoDataScience\\.git\\objects\n",
      "found dir: C:\\Users\\SP\\Desktop\\WorldofDS\\JourneyintoDataScience\\.git\\refs\\heads\n",
      "master\n",
      "found dir: C:\\Users\\SP\\Desktop\\WorldofDS\\JourneyintoDataScience\\.git\\refs\\remotes\\origin\n",
      "HEAD\n",
      "master\n",
      "found dir: C:\\Users\\SP\\Desktop\\WorldofDS\\JourneyintoDataScience\\.git\\refs\\remotes\n",
      "found dir: C:\\Users\\SP\\Desktop\\WorldofDS\\JourneyintoDataScience\\.git\\refs\\tags\n",
      "found dir: C:\\Users\\SP\\Desktop\\WorldofDS\\JourneyintoDataScience\\.git\\refs\n",
      "found dir: C:\\Users\\SP\\Desktop\\WorldofDS\\JourneyintoDataScience\\.git\n",
      ".COMMIT_EDITMSG.swp\n",
      "COMMIT_EDITMSG\n",
      "config\n",
      "description\n",
      "HEAD\n",
      "index\n",
      "packed-refs\n",
      "found dir: C:\\Users\\SP\\Desktop\\WorldofDS\\JourneyintoDataScience\\.ipynb_checkpoints\n",
      "001_Basics-checkpoint.ipynb\n",
      "002_Datetime_basics-checkpoint.ipynb\n",
      "003_datetime_advance-checkpoint.ipynb\n",
      "004_Sets_ops and simple math_ops-checkpoint.ipynb\n",
      "005_Variable scope and binding-checkpoint.ipynb\n",
      "006_Conditionals_Loops-checkpoint.ipynb\n",
      "007_Arrays-checkpoint.ipynb\n",
      "008_dictionary-checkpoint.ipynb\n",
      "009_Lists-checkpoint.ipynb\n",
      "010_list_comprehensions-checkpoint.ipynb\n",
      "011_Tuples-checkpoint.ipynb\n",
      "012_files_and_folders-checkpoint.ipynb\n",
      "found dir: C:\\Users\\SP\\Desktop\\WorldofDS\\JourneyintoDataScience\\test1_dir\n",
      "found dir: C:\\Users\\SP\\Desktop\\WorldofDS\\JourneyintoDataScience\\test2_dir\\2018\\10\\07\n",
      "found dir: C:\\Users\\SP\\Desktop\\WorldofDS\\JourneyintoDataScience\\test2_dir\\2018\\10\n",
      "found dir: C:\\Users\\SP\\Desktop\\WorldofDS\\JourneyintoDataScience\\test2_dir\\2018\n",
      "found dir: C:\\Users\\SP\\Desktop\\WorldofDS\\JourneyintoDataScience\\test2_dir\n",
      "found dir: C:\\Users\\SP\\Desktop\\WorldofDS\\JourneyintoDataScience\\test_dir\n",
      "found dir: C:\\Users\\SP\\Desktop\\WorldofDS\\JourneyintoDataScience\n",
      "001_Basics.ipynb\n",
      "002_Datetime_basics.ipynb\n",
      "003_datetime_advance.ipynb\n",
      "004_Sets_ops and simple math_ops.ipynb\n",
      "005_Variable scope and binding.ipynb\n",
      "006_Conditionals_Loops.ipynb\n",
      "007_Arrays.ipynb\n",
      "008_dictionary.ipynb\n",
      "009_Lists.ipynb\n",
      "010_list_comprehensions.ipynb\n",
      "011_Tuples.ipynb\n",
      "012_files_and_folders.ipynb\n",
      "myfile.txt\n",
      "README.md\n"
     ]
    }
   ],
   "source": [
    "#To traverse the directory tree in a bottom-up manner, pass in a topdown=False keyword argument to os.walk():\n",
    "\n",
    "for dirpath, dirnames, files in os.walk(basepath, topdown = False):\n",
    "    print(f'found dir: {dirpath}')\n",
    "    for file_name in files:\n",
    "        print(file_name)"
   ]
  },
  {
   "cell_type": "code",
   "execution_count": 105,
   "metadata": {},
   "outputs": [
    {
     "name": "stdout",
     "output_type": "stream",
     "text": [
      "Help on function walk in module os:\n",
      "\n",
      "walk(top, topdown=True, onerror=None, followlinks=False)\n",
      "    Directory tree generator.\n",
      "    \n",
      "    For each directory in the directory tree rooted at top (including top\n",
      "    itself, but excluding '.' and '..'), yields a 3-tuple\n",
      "    \n",
      "        dirpath, dirnames, filenames\n",
      "    \n",
      "    dirpath is a string, the path to the directory.  dirnames is a list of\n",
      "    the names of the subdirectories in dirpath (excluding '.' and '..').\n",
      "    filenames is a list of the names of the non-directory files in dirpath.\n",
      "    Note that the names in the lists are just names, with no path components.\n",
      "    To get a full path (which begins with top) to a file or directory in\n",
      "    dirpath, do os.path.join(dirpath, name).\n",
      "    \n",
      "    If optional arg 'topdown' is true or not specified, the triple for a\n",
      "    directory is generated before the triples for any of its subdirectories\n",
      "    (directories are generated top down).  If topdown is false, the triple\n",
      "    for a directory is generated after the triples for all of its\n",
      "    subdirectories (directories are generated bottom up).\n",
      "    \n",
      "    When topdown is true, the caller can modify the dirnames list in-place\n",
      "    (e.g., via del or slice assignment), and walk will only recurse into the\n",
      "    subdirectories whose names remain in dirnames; this can be used to prune the\n",
      "    search, or to impose a specific order of visiting.  Modifying dirnames when\n",
      "    topdown is false is ineffective, since the directories in dirnames have\n",
      "    already been generated by the time dirnames itself is generated. No matter\n",
      "    the value of topdown, the list of subdirectories is retrieved before the\n",
      "    tuples for the directory and its subdirectories are generated.\n",
      "    \n",
      "    By default errors from the os.scandir() call are ignored.  If\n",
      "    optional arg 'onerror' is specified, it should be a function; it\n",
      "    will be called with one argument, an OSError instance.  It can\n",
      "    report the error to continue with the walk, or raise the exception\n",
      "    to abort the walk.  Note that the filename is available as the\n",
      "    filename attribute of the exception object.\n",
      "    \n",
      "    By default, os.walk does not follow symbolic links to subdirectories on\n",
      "    systems that support them.  In order to get this functionality, set the\n",
      "    optional argument 'followlinks' to true.\n",
      "    \n",
      "    Caution:  if you pass a relative pathname for top, don't change the\n",
      "    current working directory between resumptions of walk.  walk never\n",
      "    changes the current directory, and assumes that the client doesn't\n",
      "    either.\n",
      "    \n",
      "    Example:\n",
      "    \n",
      "    import os\n",
      "    from os.path import join, getsize\n",
      "    for root, dirs, files in os.walk('python/Lib/email'):\n",
      "        print(root, \"consumes\", end=\"\")\n",
      "        print(sum([getsize(join(root, name)) for name in files]), end=\"\")\n",
      "        print(\"bytes in\", len(files), \"non-directory files\")\n",
      "        if 'CVS' in dirs:\n",
      "            dirs.remove('CVS')  # don't visit CVS directories\n",
      "\n"
     ]
    }
   ],
   "source": [
    "help(os.walk)"
   ]
  },
  {
   "cell_type": "code",
   "execution_count": 109,
   "metadata": {},
   "outputs": [
    {
     "name": "stdout",
     "output_type": "stream",
     "text": [
      "['Hello MilkyWay']\n"
     ]
    }
   ],
   "source": [
    "#Making temporary Files and Directories\n",
    "\n",
    "from tempfile import TemporaryFile\n",
    "\n",
    "#Create a temp file and write some date to it\n",
    "fp = TemporaryFile('w+t')\n",
    "fp.write(\"Hello MilkyWay\")\n",
    "\n",
    "#Go back to beginning and read data from file\n",
    "fp.seek(0)\n",
    "data = fp.readlines()\n",
    "print(data)\n",
    "fp.close()"
   ]
  },
  {
   "cell_type": "code",
   "execution_count": 114,
   "metadata": {},
   "outputs": [
    {
     "name": "stdout",
     "output_type": "stream",
     "text": [
      "before removal\n"
     ]
    },
    {
     "ename": "FileNotFoundError",
     "evalue": "[WinError 2] The system cannot find the file specified: 'myfile.txt'",
     "output_type": "error",
     "traceback": [
      "\u001b[1;31m---------------------------------------------------------------------------\u001b[0m",
      "\u001b[1;31mFileNotFoundError\u001b[0m                         Traceback (most recent call last)",
      "\u001b[1;32m<ipython-input-114-564b9c6d81aa>\u001b[0m in \u001b[0;36m<module>\u001b[1;34m\u001b[0m\n\u001b[0;32m     13\u001b[0m \u001b[0mprint\u001b[0m\u001b[1;33m(\u001b[0m\u001b[1;34m\"before removal\"\u001b[0m\u001b[1;33m)\u001b[0m\u001b[1;33m\u001b[0m\u001b[1;33m\u001b[0m\u001b[0m\n\u001b[0;32m     14\u001b[0m \u001b[0mbasepath\u001b[0m \u001b[1;33m=\u001b[0m \u001b[1;34mr'C:\\Users\\SP\\Desktop\\WorldofDS\\JourneyintoDataScience\\myfile.txt'\u001b[0m\u001b[1;33m\u001b[0m\u001b[1;33m\u001b[0m\u001b[0m\n\u001b[1;32m---> 15\u001b[1;33m \u001b[0mos\u001b[0m\u001b[1;33m.\u001b[0m\u001b[0mremove\u001b[0m\u001b[1;33m(\u001b[0m\u001b[1;34m'myfile.txt'\u001b[0m\u001b[1;33m)\u001b[0m\u001b[1;33m\u001b[0m\u001b[1;33m\u001b[0m\u001b[0m\n\u001b[0m\u001b[0;32m     16\u001b[0m \u001b[0mos\u001b[0m\u001b[1;33m.\u001b[0m\u001b[0mlistdir\u001b[0m\u001b[1;33m(\u001b[0m\u001b[1;34mr'C:\\Users\\SP\\Desktop\\WorldofDS\\JourneyintoDataScience'\u001b[0m\u001b[1;33m)\u001b[0m\u001b[1;33m\u001b[0m\u001b[1;33m\u001b[0m\u001b[0m\n",
      "\u001b[1;31mFileNotFoundError\u001b[0m: [WinError 2] The system cannot find the file specified: 'myfile.txt'"
     ]
    }
   ],
   "source": [
    "#Deleting files and Driectories\n",
    "\n",
    "\"\"\"\n",
    "To delete a single file, use pathlib.Path.unlink(), os.remove(). or os.unlink().\n",
    "\n",
    "os.remove() and os.unlink() are semantically identical. \n",
    "To delete a file using os.remove(), do the following:\n",
    "\"\"\"\n",
    "\n",
    "import os\n",
    "\n",
    "os.listdir(r'C:\\Users\\SP\\Desktop\\WorldofDS\\JourneyintoDataScience')\n",
    "print(\"before removal\")\n",
    "basepath = r'C:\\Users\\SP\\Desktop\\WorldofDS\\JourneyintoDataScience\\myfile.txt'\n",
    "os.remove('myfile.txt')\n"
   ]
  },
  {
   "cell_type": "code",
   "execution_count": 117,
   "metadata": {},
   "outputs": [
    {
     "name": "stdout",
     "output_type": "stream",
     "text": [
      "001_Basics.ipynb\n",
      "002_Datetime_basics.ipynb\n",
      "003_datetime_advance.ipynb\n",
      "004_Sets_ops and simple math_ops.ipynb\n",
      "005_Variable scope and binding.ipynb\n",
      "006_Conditionals_Loops.ipynb\n",
      "007_Arrays.ipynb\n",
      "008_dictionary.ipynb\n",
      "009_Lists.ipynb\n",
      "010_list_comprehensions.ipynb\n",
      "011_Tuples.ipynb\n",
      "012_files_and_folders.ipynb\n",
      "README.md\n"
     ]
    }
   ],
   "source": [
    "basepath = r'C:\\Users\\SP\\Desktop\\WorldofDS\\JourneyintoDataScience'\n",
    "with os.scandir(basepath) as entries:\n",
    "    for entry in entries:\n",
    "        if entry.is_file():\n",
    "            print(entry.name)"
   ]
  },
  {
   "cell_type": "code",
   "execution_count": 119,
   "metadata": {},
   "outputs": [
    {
     "name": "stdout",
     "output_type": "stream",
     "text": [
      ".git\n",
      ".ipynb_checkpoints\n",
      "test1_dir\n",
      "test2_dir\n",
      "test_dir\n"
     ]
    }
   ],
   "source": [
    "#removing directory\n",
    "\"\"\"\n",
    "The standard library offers the following functions for deleting directories:\n",
    "\n",
    "    os.rmdir()\n",
    "    pathlib.Path.rmdir()\n",
    "    shutil.rmtree()\n",
    "\n",
    "To delete a single directory or folder, use os.rmdir() or pathlib.rmdir(). These two functions only work if the directory you’re trying to delete is empty. \n",
    "If the directory isn’t empty, an OSError is raised.\n",
    "\"\"\"\n",
    "basepath = r'C:\\Users\\SP\\Desktop\\WorldofDS\\JourneyintoDataScience'\n",
    "with os.scandir(basepath) as entries:\n",
    "    for entry in entries:\n",
    "        if entry.is_dir():\n",
    "            print(entry.name)"
   ]
  },
  {
   "cell_type": "code",
   "execution_count": 124,
   "metadata": {},
   "outputs": [],
   "source": [
    "os.rmdir('test_dir')"
   ]
  },
  {
   "cell_type": "code",
   "execution_count": 125,
   "metadata": {},
   "outputs": [
    {
     "name": "stdout",
     "output_type": "stream",
     "text": [
      ".git\n",
      ".ipynb_checkpoints\n",
      "test2_dir\n"
     ]
    }
   ],
   "source": [
    "#after deletion\n",
    "basepath = r'C:\\Users\\SP\\Desktop\\WorldofDS\\JourneyintoDataScience'\n",
    "with os.scandir(basepath) as entries:\n",
    "    for entry in entries:\n",
    "        if entry.is_dir():\n",
    "            print(entry.name)"
   ]
  },
  {
   "cell_type": "code",
   "execution_count": 126,
   "metadata": {},
   "outputs": [],
   "source": [
    "#deleting entire directory trees\n",
    "#To delete non-empty directories and entire directory trees, Python offers shutil.rmtree():\n",
    "\n",
    "import shutil\n",
    "\n",
    "basepath = r'C:\\Users\\SP\\Desktop\\WorldofDS\\JourneyintoDataScience\\test2_dir'\n",
    "\n",
    "try:\n",
    "    shutil.rmtree(basepath)\n",
    "except OSError as e:\n",
    "    print(f'Error: {trash_dir} : {e.strerror}')\n"
   ]
  },
  {
   "cell_type": "code",
   "execution_count": 130,
   "metadata": {},
   "outputs": [
    {
     "name": "stdout",
     "output_type": "stream",
     "text": [
      ".git\n",
      ".ipynb_checkpoints\n"
     ]
    }
   ],
   "source": [
    "basepath = r'C:\\Users\\SP\\Desktop\\WorldofDS\\JourneyintoDataScience'\n",
    "with os.scandir(basepath) as entries:\n",
    "    for entry in entries:\n",
    "        if entry.is_dir():\n",
    "            print(entry.name)"
   ]
  },
  {
   "cell_type": "code",
   "execution_count": 131,
   "metadata": {},
   "outputs": [
    {
     "name": "stdout",
     "output_type": "stream",
     "text": [
      "001_Basics.ipynb\n",
      "002_Datetime_basics.ipynb\n",
      "003_datetime_advance.ipynb\n",
      "004_Sets_ops and simple math_ops.ipynb\n",
      "005_Variable scope and binding.ipynb\n",
      "006_Conditionals_Loops.ipynb\n",
      "007_Arrays.ipynb\n",
      "008_dictionary.ipynb\n",
      "009_Lists.ipynb\n",
      "010_list_comprehensions.ipynb\n",
      "011_Tuples.ipynb\n",
      "012_files_and_folders.ipynb\n",
      "README.md\n"
     ]
    }
   ],
   "source": [
    "basepath = r'C:\\Users\\SP\\Desktop\\WorldofDS\\JourneyintoDataScience'\n",
    "with os.scandir(basepath) as entries:\n",
    "    for entry in entries:\n",
    "        if entry.is_file():\n",
    "            print(entry.name)"
   ]
  },
  {
   "cell_type": "code",
   "execution_count": null,
   "metadata": {},
   "outputs": [],
   "source": [
    "\"\"\"\n",
    "Function \tDescription\n",
    "os.remove() \tDeletes a file and does not delete directories\n",
    "os.unlink() \tIs identical to os.remove() and deletes a single file\n",
    "pathlib.Path.unlink() \tDeletes a file and cannot delete directories\n",
    "os.rmdir() \tDeletes an empty directory\n",
    "pathlib.Path.rmdir() \tDeletes an empty directory\n",
    "shutil.rmtree() \tDeletes entire directory tree and can be used to delete non-empty directories\n",
    "\"\"\""
   ]
  },
  {
   "cell_type": "code",
   "execution_count": null,
   "metadata": {},
   "outputs": [],
   "source": [
    "\"\"\"\n",
    "Copying Files in Python - \n",
    "\n",
    "shutil offers a couple of functions for copying files. The most commonly used functions are shutil.copy() and shutil.copy2(). \n",
    "To copy a file from one location to another using shutil.copy(), do the following:\n",
    "\n",
    "import shutil\n",
    "\n",
    "src = 'path/to/file.txt'\n",
    "dst = 'path/to/dest_dir'\n",
    "shutil.copy(src, dst)\n",
    "\n",
    "To preserve all file metadata when copying, use shutil.copy2():\n",
    "\n",
    "import shutil\n",
    "\n",
    "src = 'path/to/file.txt'\n",
    "dst = 'path/to/dest_dir'\n",
    "shutil.copy2(src, dst)\n",
    "Using .copy2() preserves details about the file such as last access time, permission bits, last modification time, and flags.\n",
    "\n",
    "Copying Directories - \n",
    "\n",
    "import shutil\n",
    "shutil.copytree('data_1', 'data1_backup')\n",
    "'data1_backup'\n",
    "\n",
    " .copytree() copies the contents of data_1 to a new location data1_backup and returns the destination directory. The destination directory must not already exist. \n",
    " It will be created as well as missing parent directories. \n",
    " \n",
    "\n",
    "To move a file or directory to another location, use shutil.move(src, dst). \n",
    "\n",
    ">>> import shutil\n",
    ">>> shutil.move('dir_1/', 'backup/')\n",
    "'backup'\n",
    "\n",
    "os.rename('first.zip', 'first_01.zip')\n",
    "\n",
    "\"\"\"\n",
    "\n",
    "\n"
   ]
  },
  {
   "cell_type": "code",
   "execution_count": null,
   "metadata": {},
   "outputs": [],
   "source": []
  },
  {
   "cell_type": "code",
   "execution_count": null,
   "metadata": {},
   "outputs": [],
   "source": []
  }
 ],
 "metadata": {
  "kernelspec": {
   "display_name": "Python 3",
   "language": "python",
   "name": "python3"
  },
  "language_info": {
   "codemirror_mode": {
    "name": "ipython",
    "version": 3
   },
   "file_extension": ".py",
   "mimetype": "text/x-python",
   "name": "python",
   "nbconvert_exporter": "python",
   "pygments_lexer": "ipython3",
   "version": "3.7.3"
  }
 },
 "nbformat": 4,
 "nbformat_minor": 2
}
