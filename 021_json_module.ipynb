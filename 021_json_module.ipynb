{
 "cells": [
  {
   "cell_type": "code",
   "execution_count": 1,
   "metadata": {},
   "outputs": [],
   "source": [
    "import json"
   ]
  },
  {
   "cell_type": "code",
   "execution_count": 2,
   "metadata": {},
   "outputs": [
    {
     "name": "stdout",
     "output_type": "stream",
     "text": [
      "['JSONDecodeError', 'JSONDecoder', 'JSONEncoder', '__all__', '__author__', '__builtins__', '__cached__', '__doc__', '__file__', '__loader__', '__name__', '__package__', '__path__', '__spec__', '__version__', '_default_decoder', '_default_encoder', 'codecs', 'decoder', 'detect_encoding', 'dump', 'dumps', 'encoder', 'load', 'loads', 'scanner']\n"
     ]
    }
   ],
   "source": [
    "print(dir(json))"
   ]
  },
  {
   "cell_type": "code",
   "execution_count": 26,
   "metadata": {},
   "outputs": [],
   "source": [
    "#storing data into a file\n",
    "d = {'foo':'bar','alice':'1','wonderland':[1,2,3]}\n",
    "\n",
    "with open('jsontest.json', 'w') as f:\n",
    "    json.dump(d, f)"
   ]
  },
  {
   "cell_type": "code",
   "execution_count": 27,
   "metadata": {},
   "outputs": [
    {
     "name": "stdout",
     "output_type": "stream",
     "text": [
      "{'foo': 'bar', 'alice': '1', 'wonderland': [1, 2, 3]}\n"
     ]
    }
   ],
   "source": [
    "#retrieving data from a file\n",
    "\n",
    "import json\n",
    "\n",
    "with open('jsontest.json','r') as f:\n",
    "    d = json.load(f)\n",
    "    \n",
    "print(d)"
   ]
  },
  {
   "cell_type": "code",
   "execution_count": 41,
   "metadata": {},
   "outputs": [
    {
     "name": "stdout",
     "output_type": "stream",
     "text": [
      "{\"cats\": [{\"name\": \"Tubbs\", \"color\": \"white\"}, {\"name\": \"Pepper\", \"color\": \"black\"}]}\n",
      "{\n",
      "    \"cats\": [\n",
      "        {\n",
      "            \"name\": \"Tubbs\",\n",
      "            \"color\": \"white\"\n",
      "        },\n",
      "        {\n",
      "            \"name\": \"Pepper\",\n",
      "            \"color\": \"black\"\n",
      "        }\n",
      "    ]\n",
      "}\n",
      "{\"cats\": [{\"color\": \"white\", \"name\": \"Tubbs\"}, {\"color\": \"black\", \"name\": \"Pepper\"}]}\n",
      "{\"cats\":[{\"name\":\"Tubbs\",\"color\":\"white\"},{\"name\":\"Pepper\",\"color\":\"black\"}]}\n"
     ]
    }
   ],
   "source": [
    "#formatting json output\n",
    "\n",
    "data = {\"cats\": [{\"name\": \"Tubbs\", \"color\": \"white\"}, {\"name\": \"Pepper\", \"color\": \"black\"}]}\n",
    "\n",
    "print(json.dumps(data))\n",
    "\n",
    "#we can align data\n",
    "print(json.dumps(data, indent = 4))\n",
    "\n",
    "#we can also sort alphabetically\n",
    "print(json.dumps(data, sort_keys=True))\n",
    "\n",
    "#removing whitespaces\n",
    "print(json.dumps(data, separators=(',', ':')))"
   ]
  },
  {
   "cell_type": "markdown",
   "metadata": {},
   "source": [
    "#load vs loads, dump vs dumps\n",
    "\n",
    "The json module contains functions for both reading and writing to and from unicode strings, and reading and\n",
    "writing to and from files. These are differentiated by a trailing s in the function name"
   ]
  },
  {
   "cell_type": "code",
   "execution_count": 18,
   "metadata": {},
   "outputs": [
    {
     "data": {
      "text/plain": [
       "'{\"foo\": \"bar\", \"baz\": []}'"
      ]
     },
     "execution_count": 18,
     "metadata": {},
     "output_type": "execute_result"
    }
   ],
   "source": [
    "#load vs loads, dump vs dumps\n",
    "data = {u\"foo\":u\"bar\",u\"baz\":[]}\n",
    "json_string = json.dumps(data)\n",
    "json_string"
   ]
  },
  {
   "cell_type": "code",
   "execution_count": 19,
   "metadata": {},
   "outputs": [
    {
     "data": {
      "text/plain": [
       "{'foo': 'bar', 'baz': []}"
      ]
     },
     "execution_count": 19,
     "metadata": {},
     "output_type": "execute_result"
    }
   ],
   "source": [
    "json.loads(json_string)"
   ]
  },
  {
   "cell_type": "code",
   "execution_count": 35,
   "metadata": {},
   "outputs": [
    {
     "name": "stdout",
     "output_type": "stream",
     "text": [
      "{\"foo\": \"bar\", \"baz\": []}\n",
      "{'foo': 'bar', 'baz': []}\n"
     ]
    }
   ],
   "source": [
    "#load vs loads, dump vs dumps\n",
    "json_file_path = './jsontest.json'\n",
    "data = {u\"foo\":u\"bar\",u\"baz\":[]}\n",
    "\n",
    "with open('jsontest.json','w') as json_file:\n",
    "    json.dump(data, json_file)\n",
    "\n",
    "with open('jsontest.json') as json_file:\n",
    "    json_file_content= json_file.read()\n",
    "    \n",
    "print(json_file_content)\n",
    "\n",
    "with open('jsontest.json') as json_file:\n",
    "    a=json.load(json_file)\n",
    "\n",
    "print(a)"
   ]
  },
  {
   "cell_type": "code",
   "execution_count": 52,
   "metadata": {},
   "outputs": [
    {
     "name": "stdout",
     "output_type": "stream",
     "text": [
      "{\"foo\": \"bar\", \"alice\": \"wonderland\", \"author\": \"lewis caroll\"}\n"
     ]
    },
    {
     "data": {
      "text/plain": [
       "{'Alice in wonderland': 'Lewis carol'}"
      ]
     },
     "execution_count": 52,
     "metadata": {},
     "output_type": "execute_result"
    }
   ],
   "source": [
    "#creating JSON from python dict and oython dict from JSON\n",
    "\n",
    "import json\n",
    "d = {'foo':'bar','alice':'wonderland','author':'lewis caroll'}\n",
    "\n",
    "print(json.dumps(d))\n",
    "\n",
    "s = '{\"Alice in wonderland\":\"Lewis carol\"}'\n",
    "json.loads(s)"
   ]
  },
  {
   "cell_type": "code",
   "execution_count": null,
   "metadata": {},
   "outputs": [],
   "source": []
  }
 ],
 "metadata": {
  "kernelspec": {
   "display_name": "Python 3",
   "language": "python",
   "name": "python3"
  },
  "language_info": {
   "codemirror_mode": {
    "name": "ipython",
    "version": 3
   },
   "file_extension": ".py",
   "mimetype": "text/x-python",
   "name": "python",
   "nbconvert_exporter": "python",
   "pygments_lexer": "ipython3",
   "version": "3.7.3"
  }
 },
 "nbformat": 4,
 "nbformat_minor": 2
}
