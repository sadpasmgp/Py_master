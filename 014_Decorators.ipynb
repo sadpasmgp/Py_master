{
 "cells": [
  {
   "cell_type": "code",
   "execution_count": 23,
   "metadata": {},
   "outputs": [
    {
     "name": "stdout",
     "output_type": "stream",
     "text": [
      "just some statement printed\n",
      "which is confusing\n"
     ]
    }
   ],
   "source": [
    "\"\"\"\n",
    "Parameter Details\n",
    "f       The function to be decorated (wrapped)\n",
    "Decorator functions dynamically alter the functionality of a function, method, or\n",
    "class without having to directly use subclasses or change the source code of the decorated function.\n",
    "\n",
    "Any function that takes a function as a parameter and returns an augmented function can be used as a decorator\n",
    "\n",
    "In Decorators, functions are taken as the argument into another function and then called inside the wrapper function.\n",
    "\"\"\"\n",
    "\n",
    "#Decorators augment the behavior of other functions or methods. Any function that takes a function as a parameter\n",
    "#and returns an augmented function can be used as a decorator\n",
    "\n",
    "def dfunc(somearg):\n",
    "    def anotherfunc():\n",
    "        print(\"just some statement printed\")\n",
    "        somearg()\n",
    "    return anotherfunc\n",
    "\n",
    "def func2():\n",
    "    print(\"which is confusing\")\n",
    "\n",
    "someobj = dfunc(func2)\n",
    "someobj()"
   ]
  },
  {
   "cell_type": "code",
   "execution_count": 24,
   "metadata": {},
   "outputs": [
    {
     "name": "stdout",
     "output_type": "stream",
     "text": [
      "Hello \n",
      "Alice\n"
     ]
    }
   ],
   "source": [
    "def hello(func):                                                                                            \n",
    "    def inner():                                                                                            \n",
    "        print(\"Hello \")                                                                                     \n",
    "        func()                                                                                              \n",
    "    return inner                                                                                            \n",
    "                                                                                                            \n",
    "def name():                                                                                                 \n",
    "    print(\"Alice\")                                                                                          \n",
    "                                                                                                            \n",
    "                                                                                                            \n",
    "obj = hello(name)                                                                                           \n",
    "obj()"
   ]
  },
  {
   "cell_type": "code",
   "execution_count": 54,
   "metadata": {},
   "outputs": [
    {
     "name": "stdout",
     "output_type": "stream",
     "text": [
      "Head of the family\n",
      "neck of the family\n"
     ]
    }
   ],
   "source": [
    "def family(mother):\n",
    "    def father():\n",
    "        print(\"Head of the family\")\n",
    "        mother()\n",
    "    return father\n",
    "        \n",
    "def mother():\n",
    "    print(\"neck of the family\")\n",
    "\n",
    "fam = family(mother)\n",
    "fam()"
   ]
  },
  {
   "cell_type": "code",
   "execution_count": 62,
   "metadata": {},
   "outputs": [
    {
     "name": "stdout",
     "output_type": "stream",
     "text": [
      "The current user is : Alice\n"
     ]
    }
   ],
   "source": [
    "def who():                                                                                                  \n",
    "    print(\"Alice\")                                                                                          \n",
    "                                                                                                            \n",
    "def display(func):                                                                                          \n",
    "    def inner():                                                                                            \n",
    "        print(\"The current user is : \", end=\"\")                                                             \n",
    "        func()                                                                                              \n",
    "    return inner                                                                                            \n",
    "                                                                                                            \n",
    "if __name__ == \"__main__\":                                                                                  \n",
    "    myobj = display(who)                                                                                    \n",
    "    myobj()"
   ]
  },
  {
   "cell_type": "code",
   "execution_count": 63,
   "metadata": {},
   "outputs": [
    {
     "name": "stdout",
     "output_type": "stream",
     "text": [
      "The current user is : Alice\n"
     ]
    }
   ],
   "source": [
    "def who():                                                                                                  \n",
    "    print(\"Alice\")                                                                                          \n",
    "                                                                                                            \n",
    "@display                                                                                          \n",
    "def inner():                                                                                            \n",
    "    print(\"The current user is : \", end=\"\")                                                             \n",
    "    func()                                                                                              \n",
    "    return inner                                                                                            \n",
    "                                                                                                            \n",
    "if __name__ == \"__main__\":                                                                                  \n",
    "    myobj = display(who)                                                                                    \n",
    "    myobj()"
   ]
  },
  {
   "cell_type": "code",
   "execution_count": 61,
   "metadata": {},
   "outputs": [
    {
     "name": "stdout",
     "output_type": "stream",
     "text": [
      "Hello \n",
      "Alice\n"
     ]
    }
   ],
   "source": [
    "@hello                                                                                                      \n",
    "def name():                                                                                                 \n",
    "    print(\"Alice\")                                                                                          \n",
    "                                                                                                            \n",
    "if __name__ == \"__main__\":                                                                                  \n",
    "    name()  "
   ]
  },
  {
   "cell_type": "code",
   "execution_count": 64,
   "metadata": {},
   "outputs": [
    {
     "name": "stdout",
     "output_type": "stream",
     "text": [
      "1\n",
      "22\n",
      "333\n",
      "Hello World!\n",
      "333\n",
      "22\n",
      "1\n"
     ]
    }
   ],
   "source": [
    "def top(func):\n",
    "    def wrapper(*args, **kwargs):\n",
    "        print(\"1\" * 1)\n",
    "        func(*args, **kwargs)\n",
    "        print(\"1\" * 1)\n",
    "    return wrapper\n",
    "\n",
    "def middle(func):\n",
    "    def wrapper(*args, **kwargs):\n",
    "        print(\"2\" * 2)\n",
    "        func(*args, **kwargs)\n",
    "        print(\"2\" * 2)\n",
    "    return wrapper\n",
    "\n",
    "def bottom(func):\n",
    "    def wrapper(*args, **kwargs):\n",
    "        print(\"3\" * 3)\n",
    "        func(*args, **kwargs)\n",
    "        print(\"3\" * 3)\n",
    "    return wrapper\n",
    "\n",
    "@top\n",
    "@middle\n",
    "@bottom\n",
    "def myTest(anyString):\n",
    "    print(anyString)\n",
    "\n",
    "myTest(\"Hello World!\")"
   ]
  },
  {
   "cell_type": "code",
   "execution_count": 69,
   "metadata": {},
   "outputs": [
    {
     "name": "stdout",
     "output_type": "stream",
     "text": [
      "Hello World!\n",
      "This is an original function that is not decorated : \n",
      "This is a decorated function :\n",
      "Hello World!....\n",
      "This is the First Program on Decorators.\n"
     ]
    }
   ],
   "source": [
    "def decorate(func):\n",
    "    def first():\n",
    "        func()\n",
    "        print(\"This is the First Program on Decorators.\")\n",
    "    return first\n",
    "\n",
    "def hello_not_decorated():\n",
    "    print(\"Hello World!\")\n",
    "    print(\"This is an original function that is not decorated : \")\n",
    "\n",
    "hello_not_decorated()\n",
    "\n",
    "print(\"This is a decorated function :\")\n",
    "\n",
    "@decorate\n",
    "def hello():\n",
    "   print(\"Hello World!....\")\n",
    "\n",
    "hello()"
   ]
  },
  {
   "cell_type": "code",
   "execution_count": 70,
   "metadata": {},
   "outputs": [
    {
     "name": "stdout",
     "output_type": "stream",
     "text": [
      "This is a decorated function.\n",
      "The addition is : 12\n",
      "The subtraction is : 4\n",
      "The product is : 32\n",
      "The division is : 2.0\n",
      "The remainder is : 0\n"
     ]
    }
   ],
   "source": [
    "def arithmetic_operations(func):\n",
    "    def operators(a, b):\n",
    "        func(a, b)\n",
    "        print(\"The product is :\", a*b)\n",
    "        print(\"The division is :\", a/b)\n",
    "        print(\"The remainder is :\", a%b)\n",
    "    return operators\n",
    "         \n",
    "print(\"This is a decorated function.\")\n",
    "\n",
    "@arithmetic_operations\n",
    "def add_and_subtract(a, b):\n",
    "    print(\"The addition is :\", a + b)\n",
    "    print(\"The subtraction is :\", a - b)\n",
    "\n",
    "add_and_subtract(8, 4)"
   ]
  },
  {
   "cell_type": "markdown",
   "metadata": {},
   "source": [
    "## Decorator class"
   ]
  },
  {
   "cell_type": "code",
   "execution_count": 72,
   "metadata": {},
   "outputs": [
    {
     "name": "stdout",
     "output_type": "stream",
     "text": [
      "Before the function call\n",
      "Inside the function:\n",
      "After the function call\n"
     ]
    }
   ],
   "source": [
    "class Decorator(object):\n",
    "    #simple decorator class\n",
    "    \n",
    "    def __init__(self, func):\n",
    "        self.func = func\n",
    "        \n",
    "    def __call__(self, *args, **kwargs):\n",
    "        print(\"Before the function call\")\n",
    "        res = self.func(*args, **kwargs)\n",
    "        print(\"After the function call\")\n",
    "        return res\n",
    "\n",
    "@Decorator\n",
    "def testfunc():\n",
    "    print(\"Inside the function:\")\n",
    "\n",
    "testfunc()"
   ]
  },
  {
   "cell_type": "code",
   "execution_count": null,
   "metadata": {},
   "outputs": [],
   "source": []
  },
  {
   "cell_type": "code",
   "execution_count": null,
   "metadata": {},
   "outputs": [],
   "source": []
  },
  {
   "cell_type": "code",
   "execution_count": null,
   "metadata": {},
   "outputs": [],
   "source": []
  },
  {
   "cell_type": "code",
   "execution_count": null,
   "metadata": {},
   "outputs": [],
   "source": []
  }
 ],
 "metadata": {
  "kernelspec": {
   "display_name": "Python 3",
   "language": "python",
   "name": "python3"
  },
  "language_info": {
   "codemirror_mode": {
    "name": "ipython",
    "version": 3
   },
   "file_extension": ".py",
   "mimetype": "text/x-python",
   "name": "python",
   "nbconvert_exporter": "python",
   "pygments_lexer": "ipython3",
   "version": "3.7.3"
  }
 },
 "nbformat": 4,
 "nbformat_minor": 2
}
