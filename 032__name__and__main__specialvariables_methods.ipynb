{
 "cells": [
  {
   "cell_type": "markdown",
   "metadata": {},
   "source": [
    "##### __name__ and __main__"
   ]
  },
  {
   "cell_type": "code",
   "execution_count": 1,
   "metadata": {
    "scrolled": true
   },
   "outputs": [
    {
     "name": "stdout",
     "output_type": "stream",
     "text": [
      "['__add__', '__class__', '__contains__', '__delattr__', '__dir__', '__doc__', '__eq__', '__format__', '__ge__', '__getattribute__', '__getitem__', '__getnewargs__', '__gt__', '__hash__', '__init__', '__init_subclass__', '__iter__', '__le__', '__len__', '__lt__', '__mod__', '__mul__', '__ne__', '__new__', '__reduce__', '__reduce_ex__', '__repr__', '__rmod__', '__rmul__', '__setattr__', '__sizeof__', '__str__', '__subclasshook__', 'capitalize', 'casefold', 'center', 'count', 'encode', 'endswith', 'expandtabs', 'find', 'format', 'format_map', 'index', 'isalnum', 'isalpha', 'isascii', 'isdecimal', 'isdigit', 'isidentifier', 'islower', 'isnumeric', 'isprintable', 'isspace', 'istitle', 'isupper', 'join', 'ljust', 'lower', 'lstrip', 'maketrans', 'partition', 'replace', 'rfind', 'rindex', 'rjust', 'rpartition', 'rsplit', 'rstrip', 'split', 'splitlines', 'startswith', 'strip', 'swapcase', 'title', 'translate', 'upper', 'zfill']\n"
     ]
    }
   ],
   "source": [
    "print(dir(__name__))"
   ]
  },
  {
   "cell_type": "markdown",
   "metadata": {},
   "source": [
    "Since there is no main() function in Python, when the command to run a python program is given to the interpreter, the code that is at level 0 indentation is to be executed.\n",
    "\n",
    "However, before doing that, it will define a few special variables. __name__ is one such special variable. If the source file is executed as the main program, the interpreter sets the __name__ variable to have a value “__main__”. \n",
    "If this file is being imported from another module, __name__ will be set to the module’s name.\n",
    "\n",
    "__name__ is a built-in variable which evaluates to the name of the current module. Thus it can be used to check whether the current script is being run on its own or being imported somewhere else by combining it with if statement"
   ]
  },
  {
   "cell_type": "code",
   "execution_count": 2,
   "metadata": {},
   "outputs": [
    {
     "name": "stdout",
     "output_type": "stream",
     "text": [
      "File1 __name__ = __main__\n",
      "File1 is being run directly\n"
     ]
    }
   ],
   "source": [
    "# File1.py \n",
    "  \n",
    "print(\"File1 __name__ = %s\" %__name__)\n",
    "  \n",
    "if __name__ == \"__main__\": \n",
    "    print(\"File1 is being run directly\")\n",
    "else: \n",
    "    print(\"File1 is being imported\")\n"
   ]
  },
  {
   "cell_type": "code",
   "execution_count": null,
   "metadata": {},
   "outputs": [],
   "source": [
    "import File1 \n",
    "  \n",
    "print(\"File2 __name__ = %s\" %__name__ )\n",
    "  \n",
    "if __name__ == \"__main__\": \n",
    "    print(\"File2 is being run directly\")\n",
    "else: \n",
    "    print(\"File2 is being imported\")"
   ]
  },
  {
   "cell_type": "markdown",
   "metadata": {},
   "source": [
    "File2.py is run.\n",
    "python File2.py\n",
    "Output :\n",
    "File1 __name__ = File1\n",
    "File1 is being imported\n",
    "File2 __name__ = __main__\n",
    "File2 is being run directly"
   ]
  },
  {
   "cell_type": "markdown",
   "metadata": {},
   "source": [
    "__doc__\n",
    "__doc__ will print out the docstring that appears in a class or method. A docstring is a string comment and is the first line after the class or method header:"
   ]
  },
  {
   "cell_type": "code",
   "execution_count": 6,
   "metadata": {},
   "outputs": [
    {
     "name": "stdout",
     "output_type": "stream",
     "text": [
      "\n",
      "    This function shows the documentation available \n",
      "    for the defined function\n",
      "    \n"
     ]
    }
   ],
   "source": [
    "def sampledoc():\n",
    "    \"\"\"\n",
    "    This function shows the documentation available \n",
    "    for the defined function\n",
    "    \"\"\"\n",
    "    \n",
    "    pass\n",
    "\n",
    "print(sampledoc.__doc__)"
   ]
  },
  {
   "cell_type": "markdown",
   "metadata": {},
   "source": [
    "__getattr__ and getattr\n",
    "\n",
    "__getattr__ is a method that you can write into your classes that specifies how Python reacts when it can't find a called variable or method. __getattr__ takes the name of what it's looking for as a parameter. It can be used in the singleton pattern to redirect the called variable to the inner class or it can be used to raise exceptions:"
   ]
  },
  {
   "cell_type": "code",
   "execution_count": 15,
   "metadata": {},
   "outputs": [
    {
     "name": "stdout",
     "output_type": "stream",
     "text": [
      "Not Found\n"
     ]
    }
   ],
   "source": [
    "\n",
    "\n",
    "class ATest:\n",
    "    class_wide_var=0\n",
    "    def __init__(self):\n",
    "        self.x=5\n",
    "        self.y=7\n",
    "        self.z=10\n",
    "        ATest.class_wide_var+=1\n",
    "     \n",
    "    def add(self,num1,num2):\n",
    "        return num1+num2\n",
    "    \n",
    "    def __getattr__(self,name):\n",
    "        print(\"Not Found\")\n",
    "                \n",
    "a=ATest()\n",
    "x=a.novar"
   ]
  },
  {
   "cell_type": "markdown",
   "metadata": {},
   "source": [
    "Then there's 'getattr', which is a base function that gets an attribute of an object. Its first parameter is the object and the second the attribute:"
   ]
  },
  {
   "cell_type": "code",
   "execution_count": 17,
   "metadata": {},
   "outputs": [
    {
     "name": "stdout",
     "output_type": "stream",
     "text": [
      "7\n"
     ]
    }
   ],
   "source": [
    "class ATest:\n",
    "    class_wide_var=0\n",
    "    def __init__(self):\n",
    "        self.x=5\n",
    "        self.y=7\n",
    "        self.z=10\n",
    "a=ATest()\n",
    "print(getattr(a,\"y\"))"
   ]
  },
  {
   "cell_type": "markdown",
   "metadata": {},
   "source": [
    "__setattr__ and setattr\n",
    "_setattr__ and setattr work in the same way as their corresponding \"get\" methods above:"
   ]
  },
  {
   "cell_type": "code",
   "execution_count": null,
   "metadata": {},
   "outputs": [],
   "source": [
    "class Trees:\n",
    "    \n",
    "    def __init__(self):\n",
    "        Trees._instance=Trees.inner()\n",
    "        \n",
    "    class inner:\n",
    "        def __init__(self):\n",
    "            pass\n",
    "        \n",
    "    def __getattr__(self,name):\n",
    "        return getattr(Trees._instance,name)\n",
    "    \n",
    "    def __setattr__(self, name, value):\n",
    "        print(\"Setting the inner class.\")\n",
    "        setattr(Trees._instance, name, value)\n",
    "\n",
    "tree_list=[]\n",
    "\n",
    "handler=open(\"trees.txt\",\"r\")\n",
    "\n",
    "for line in handler:\n",
    "    split_list=line.split(\",\")\n",
    "    tree=Trees()\n",
    "    for att in split_list:\n",
    "        split_att=att.split(\":\")\n",
    "        setattr(tree,split_att[0],split_att[1])\n",
    " \n",
    "    tree_list.append(tree)\n",
    "    print(tree.tree_type,tree.category,tree.leaf_color)"
   ]
  },
  {
   "cell_type": "markdown",
   "metadata": {},
   "source": [
    "Setting the inner class.\n",
    "Setting the inner class.\n",
    "Setting the inner class.\n",
    "Pine Conifer Green\n",
    "Setting the inner class.\n",
    "Setting the inner class.\n",
    "Setting the inner class.\n",
    "Oak Deciduous Orange"
   ]
  },
  {
   "cell_type": "markdown",
   "metadata": {},
   "source": [
    "__class__ and type\n",
    "__class__ returns the class an instance is:"
   ]
  },
  {
   "cell_type": "code",
   "execution_count": 22,
   "metadata": {},
   "outputs": [
    {
     "name": "stdout",
     "output_type": "stream",
     "text": [
      "<class '__main__.ATest'>\n"
     ]
    }
   ],
   "source": [
    "class ATest:\n",
    "    def __init__(self):\n",
    "        self.x=5\n",
    "        self.y=7\n",
    "        self.z=10\n",
    "    def add(self,num1,num2):\n",
    "        return num1+num2\n",
    "\n",
    "a=ATest()\n",
    "print(a.__class__)"
   ]
  },
  {
   "cell_type": "markdown",
   "metadata": {},
   "source": [
    "__bases__\n",
    "__bases__ is a variable that contains as a tuple all the classes that a class inherites from:"
   ]
  },
  {
   "cell_type": "code",
   "execution_count": 26,
   "metadata": {},
   "outputs": [
    {
     "name": "stdout",
     "output_type": "stream",
     "text": [
      "(<class 'object'>,)\n",
      "(<class '__main__.DTest'>, <class '__main__.CTest'>)\n"
     ]
    }
   ],
   "source": [
    "class CTest(object):\n",
    "    def __init__(self):\n",
    "        pass\n",
    "class DTest(object):\n",
    "    def __init__(self):\n",
    "        pass\n",
    "class ETest(DTest,CTest):\n",
    "    def __init__(self):\n",
    "        pass\n",
    "\n",
    "print(CTest.__bases__)\n",
    "print(ETest.__bases__)"
   ]
  },
  {
   "cell_type": "markdown",
   "metadata": {},
   "source": [
    "__subclasses__()\n",
    "Similar to above, __subclasses__ is a method that will return all the subclasses of a class in a list:\n"
   ]
  },
  {
   "cell_type": "code",
   "execution_count": 29,
   "metadata": {},
   "outputs": [
    {
     "name": "stdout",
     "output_type": "stream",
     "text": [
      "[<class '__main__.DTest'>, <class '__main__.ETest'>]\n",
      "[<class '__main__.ETest'>]\n",
      "[]\n"
     ]
    }
   ],
   "source": [
    "class CTest(object):\n",
    "    def __init__(self):\n",
    "        pass\n",
    "class DTest(CTest,object):\n",
    "    def __init__(self):\n",
    "        pass\n",
    "class ETest(DTest,CTest):\n",
    "    def __init__(self):\n",
    "        pass\n",
    "\n",
    "print(CTest.__subclasses__())\n",
    "print(DTest.__subclasses__())\n",
    "print(ETest.__subclasses__())"
   ]
  },
  {
   "cell_type": "markdown",
   "metadata": {},
   "source": [
    "dir\n",
    "dir() is a method that will return, as a list, every associated method or attribute. It can be run on an instance, a class, a list, and others:"
   ]
  },
  {
   "cell_type": "code",
   "execution_count": 31,
   "metadata": {},
   "outputs": [
    {
     "name": "stdout",
     "output_type": "stream",
     "text": [
      "['__class__', '__delattr__', '__dict__', '__dir__', '__doc__', '__eq__', '__format__', '__ge__', '__getattribute__', '__gt__', '__hash__', '__init__', '__init_subclass__', '__le__', '__lt__', '__module__', '__ne__', '__new__', '__reduce__', '__reduce_ex__', '__repr__', '__setattr__', '__sizeof__', '__str__', '__subclasshook__', '__weakref__', 'add', 'x', 'y', 'z']\n",
      "['__class__', '__delattr__', '__dict__', '__dir__', '__doc__', '__eq__', '__format__', '__ge__', '__getattribute__', '__gt__', '__hash__', '__init__', '__init_subclass__', '__le__', '__lt__', '__module__', '__ne__', '__new__', '__reduce__', '__reduce_ex__', '__repr__', '__setattr__', '__sizeof__', '__str__', '__subclasshook__', '__weakref__', 'add']\n",
      "['__add__', '__class__', '__contains__', '__delattr__', '__delitem__', '__dir__', '__doc__', '__eq__', '__format__', '__ge__', '__getattribute__', '__getitem__', '__gt__', '__hash__', '__iadd__', '__imul__', '__init__', '__init_subclass__', '__iter__', '__le__', '__len__', '__lt__', '__mul__', '__ne__', '__new__', '__reduce__', '__reduce_ex__', '__repr__', '__reversed__', '__rmul__', '__setattr__', '__setitem__', '__sizeof__', '__str__', '__subclasshook__', 'append', 'clear', 'copy', 'count', 'extend', 'index', 'insert', 'pop', 'remove', 'reverse', 'sort']\n"
     ]
    }
   ],
   "source": [
    "class ATest:\n",
    "    def __init__(self):\n",
    "        self.x=5\n",
    "        self.y=7\n",
    "        self.z=10\n",
    "    def add(self,num1,num2):\n",
    "        return num1+num2\n",
    "a=ATest()\n",
    "mylist=[\"test\",\"another test\"]\n",
    "\n",
    "print(dir(a))\n",
    "print(dir(ATest))\n",
    "print(dir(mylist))"
   ]
  },
  {
   "cell_type": "markdown",
   "metadata": {},
   "source": [
    "locals() and globals()\n",
    "locals is a native method that displays all the local variables as dictionary entries. globals does the same with global variables:"
   ]
  },
  {
   "cell_type": "code",
   "execution_count": 35,
   "metadata": {},
   "outputs": [
    {
     "name": "stdout",
     "output_type": "stream",
     "text": [
      "{'a': 5, 'b': 10, 'c': 15}\n",
      "{'__name__': '__main__', '__doc__': 'Automatically created module for IPython interactive environment', '__package__': None, '__loader__': None, '__spec__': None, '__builtin__': <module 'builtins' (built-in)>, '__builtins__': <module 'builtins' (built-in)>, '_ih': ['', 'print(dir(__name__))', '# File1.py \\n  \\nprint(\"File1 __name__ = %s\" %__name__)\\n  \\nif __name__ == \"__main__\": \\n    print(\"File1 is being run directly\")\\nelse: \\n    print(\"File1 is being imported\")', 'import File1 \\n  \\nprint(\"File2 __name__ = %s\" %__name__ )\\n  \\nif __name__ == \"__main__\": \\n    print(\"File2 is being run directly\")\\nelse: \\n    print(\"File2 is being imported\")', '__name__ and __main__', 'def sampledoc():\\n    \"\"\"\\n    This function shows the documentation available \\n    for the defined function\\n    \"\"\"\\n    \\n    pass\\n\\nprint(__doc__.sampledoc())', 'def sampledoc():\\n    \"\"\"\\n    This function shows the documentation available \\n    for the defined function\\n    \"\"\"\\n    \\n    pass\\n\\nprint(sampledoc.__doc__)', 'class ATest:\\n    class_wide_var=0\\n    def __init__(self):\\n        self.x=5\\n        self.y=7\\n        self.z=10\\n        ATest.class_wide_var+=1\\n     \\n    def add(self,num1,num2):\\n        return num1+num2\\n    def __getattr__(self,name):\\n        print \"Not Found\"\\n        raise BadValueException', 'class ATest:\\n    class_wide_var=0\\n    def __init__(self):\\n        self.x=5\\n        self.y=7\\n        self.z=10\\n        ATest.class_wide_var+=1\\n     \\n    def add(self,num1,num2):\\n        return num1+num2\\n    def __getattr__(self,name):\\n        print(\"Not Found\")\\n        raise BadValueException', 'class ATest:\\n    class_wide_var=0\\n    def __init__(self):\\n        self.x=5\\n        self.y=7\\n        self.z=10\\n        ATest.class_wide_var+=1\\n     \\n    def add(self,num1,num2):\\n        return num1+num2\\n    def __getattr__(self,name):\\n        print(\"Not Found\")\\n        raise BadValueException\\n        \\nAtest', 'class ATest:\\n    class_wide_var=0\\n    def __init__(self):\\n        self.x=5\\n        self.y=7\\n        self.z=10\\n        ATest.class_wide_var+=1\\n     \\n    def add(self,num1,num2):\\n        return num1+num2\\n    def __getattr__(self,name):\\n        print(\"Not Found\")\\n        raise BadValueException\\n        \\nAtest()', 'class ATest:\\n    class_wide_var=0\\n    def __init__(self):\\n        self.x=5\\n        self.y=7\\n        self.z=10\\n        ATest.class_wide_var+=1\\n     \\n    def add(self,num1,num2):\\n        return num1+num2\\n    def __getattr__(self,name):\\n        print(\"Not Found\")\\n        raise BadValueException\\n        \\nATest()', 'class ATest:\\n    class_wide_var=0\\n    def __init__(self):\\n        self.x=5\\n        self.y=7\\n        self.z=10\\n        ATest.class_wide_var+=1\\n     \\n    def add(self,num1,num2):\\n        return num1+num2\\n    def __getattr__(self,name):\\n        print(\"Not Found\")\\n        raise BadValueException\\n        \\na=ATest()\\nx=a.novar', 'class ATest:\\n    class_wide_var=0\\n    def __init__(self):\\n        self.x=5\\n        self.y=7\\n        self.z=10\\n        ATest.class_wide_var+=1\\n     \\n    def add(self,num1,num2):\\n        return num1+num2\\n    \\n    def __getattr__(self,name):\\n        print(\"Not Found\")\\n        raise \\'BadValueException\\'\\n        \\na=ATest()\\nx=a.novar', 'class ATest:\\n    class_wide_var=0\\n    def __init__(self):\\n        self.x=5\\n        self.y=7\\n        self.z=10\\n        ATest.class_wide_var+=1\\n     \\n    def add(self,num1,num2):\\n        return num1+num2\\n    \\n    def __getattr__(self,name):\\n        print(\"Not Found\")\\n        raise \\'BadValueException\\' as error\\n        print(\"error\")\\n        \\na=ATest()\\nx=a.novar', 'class ATest:\\n    class_wide_var=0\\n    def __init__(self):\\n        self.x=5\\n        self.y=7\\n        self.z=10\\n        ATest.class_wide_var+=1\\n     \\n    def add(self,num1,num2):\\n        return num1+num2\\n    \\n    def __getattr__(self,name):\\n        print(\"Not Found\")\\n                \\na=ATest()\\nx=a.novar', 'class ATest:\\n    class_wide_var=0\\n    def __init__(self):\\n        self.x=5\\n        self.y=7\\n        self.z=10\\na=ATest()\\nprint getattr(a,\"y\")', 'class ATest:\\n    class_wide_var=0\\n    def __init__(self):\\n        self.x=5\\n        self.y=7\\n        self.z=10\\na=ATest()\\nprint(getattr(a,\"y\"))', 'class Trees:\\n    \\n    def __init__(self):\\n        Trees._instance=Trees.inner()\\n        \\n    class inner:\\n        def __init__(self):\\n            pass\\n        \\n    def __getattr__(self,name):\\n        return getattr(Trees._instance,name)\\n    \\n    def __setattr__(self, name, value):\\n        print \"Setting the inner class.\"\\n        setattr(Trees._instance, name, value)\\n\\ntree_list=[]\\n\\nhandler=open(\"Trees.txt\",\"r\")\\n\\nfor line in handler:\\n    split_list=line.split(\",\")\\n    tree=Trees()\\n    for att in split_list:\\n        split_att=att.split(\":\")\\n        setattr(tree,split_att[0],split_att[1])\\n \\n    tree_list.append(tree)\\n    print(tree.tree_type,tree.category,tree.leaf_color)', 'class Trees:\\n    \\n    def __init__(self):\\n        Trees._instance=Trees.inner()\\n        \\n    class inner:\\n        def __init__(self):\\n            pass\\n        \\n    def __getattr__(self,name):\\n        return getattr(Trees._instance,name)\\n    \\n    def __setattr__(self, name, value):\\n        print(\"Setting the inner class.\")\\n        setattr(Trees._instance, name, value)\\n\\ntree_list=[]\\n\\nhandler=open(\"Trees.txt\",\"r\")\\n\\nfor line in handler:\\n    split_list=line.split(\",\")\\n    tree=Trees()\\n    for att in split_list:\\n        split_att=att.split(\":\")\\n        setattr(tree,split_att[0],split_att[1])\\n \\n    tree_list.append(tree)\\n    print(tree.tree_type,tree.category,tree.leaf_color)', 'class Trees:\\n    \\n    def __init__(self):\\n        Trees._instance=Trees.inner()\\n        \\n    class inner:\\n        def __init__(self):\\n            pass\\n        \\n    def __getattr__(self,name):\\n        return getattr(Trees._instance,name)\\n    \\n    def __setattr__(self, name, value):\\n        print(\"Setting the inner class.\")\\n        setattr(Trees._instance, name, value)\\n\\ntree_list=[]\\n\\nhandler=open(\"GFG.txt\",\"r\")\\n\\nfor line in handler:\\n    split_list=line.split(\",\")\\n    tree=Trees()\\n    for att in split_list:\\n        split_att=att.split(\":\")\\n        setattr(tree,split_att[0],split_att[1])\\n \\n    tree_list.append(tree)\\n    print(tree.tree_type,tree.category,tree.leaf_color)', 'class ATest:\\n    def __init__(self):\\n        self.x=5\\n        self.y=7\\n        self.z=10\\n    def add(self,num1,num2):\\n        return num1+num2\\n\\na=ATest()\\nprint a.__class__', 'class ATest:\\n    def __init__(self):\\n        self.x=5\\n        self.y=7\\n        self.z=10\\n    def add(self,num1,num2):\\n        return num1+num2\\n\\na=ATest()\\nprint(a.__class__)', 'class CTest(object):\\n    def __init__(self):\\n        pass\\nclass DTest(object):\\n    def __init__(self):\\n        pass\\nclass ETest(DTest,CTest):\\n    def __init__(self):\\n        pass\\n\\nprint(CTest.__bases__)\\nprint(ETest.__bases__)', 'class CTest(object):\\n    def __init__(self):\\n        pass\\nclass DTest(object):\\n    def __init__(self):\\n        pass\\nclass ETest(DTest,CTest):\\n    def __init__(self):\\n        pass', 'class CTest(object):\\n    def __init__(self):\\n        pass\\nclass DTest(object):\\n    def __init__(self):\\n        pass\\nclass ETest(DTest,CTest):\\n    def __init__(self):\\n        pass', 'class CTest(object):\\n    def __init__(self):\\n        pass\\nclass DTest(object):\\n    def __init__(self):\\n        pass\\nclass ETest(DTest,CTest):\\n    def __init__(self):\\n        pass\\n\\nprint(CTest.__bases__)\\nprint(ETest.__bases__)', 'class CTest(object):\\n    def __init__(self):\\n        pass\\nclass DTest(object):\\n    def __init__(self):\\n        pass\\nclass ETest(DTest,CTest):\\n    def __init__(self):\\n        pass\\n\\nprint(CTest.__subclasses__())\\nprint(ETest.__subclasses__())', 'class CTest(object):\\n    def __init__(self):\\n        pass\\nclass DTest(object):\\n    def __init__(self):\\n        pass\\nclass ETest(DTest,CTest):\\n    def __init__(self):\\n        pass\\n\\nprint(CTest.__subclasses__())\\nprint(DTest.__subclasses__())\\nprint(ETest.__subclasses__())', 'class CTest(object):\\n    def __init__(self):\\n        pass\\nclass DTest(CTest,object):\\n    def __init__(self):\\n        pass\\nclass ETest(DTest,CTest):\\n    def __init__(self):\\n        pass\\n\\nprint(CTest.__subclasses__())\\nprint(DTest.__subclasses__())\\nprint(ETest.__subclasses__())', 'class ATest:\\n    def __init__(self):\\n        self.x=5\\n        self.y=7\\n        self.z=10\\n    def add(self,num1,num2):\\n        return num1+num2\\na=ATest()\\nmylist=[\"test\",\"another test\"]\\n\\nprint dir(a)\\nprint dir(ATest)\\nprint dir(mylist)', 'class ATest:\\n    def __init__(self):\\n        self.x=5\\n        self.y=7\\n        self.z=10\\n    def add(self,num1,num2):\\n        return num1+num2\\na=ATest()\\nmylist=[\"test\",\"another test\"]\\n\\nprint(dir(a))\\nprint(dir(ATest))\\nprint(dir(mylist))', 'x=3\\ny=6\\nz=9\\nmylist=[\"first\",\"second\",\"third\"]\\n\\ndef mytest():\\n    a=5\\n    b=10\\n    c=15\\n    print(locals())\\n    print(globals())\\n\\nmytest()', 'x=3\\ny=6\\nz=9\\nmylist=[\"first\",\"second\",\"third\"]\\n\\ndef mytest():\\n    a=5\\n    b=10\\n    c=15\\n    print(locals())\\n    print(globals())\\n\\nmytest()', 'x=3\\ny=6\\nz=9\\nmylist=[\"first\",\"second\",\"third\"]\\n\\ndef mytest():\\n    a=5\\n    b=10\\n    c=15\\n    print(locals())\\n    \\nmytest()', 'x=3\\ny=6\\nz=9\\nmylist=[\"first\",\"second\",\"third\"]\\n\\ndef mytest():\\n    a=5\\n    b=10\\n    c=15\\n    print(locals())\\n    print(globals())\\nmytest()'], '_oh': {11: <__main__.ATest object at 0x0000021425F21198>}, '_dh': ['C:\\\\Users\\\\SP\\\\Desktop\\\\WorldofDS\\\\JourneyintoDataScience'], 'In': ['', 'print(dir(__name__))', '# File1.py \\n  \\nprint(\"File1 __name__ = %s\" %__name__)\\n  \\nif __name__ == \"__main__\": \\n    print(\"File1 is being run directly\")\\nelse: \\n    print(\"File1 is being imported\")', 'import File1 \\n  \\nprint(\"File2 __name__ = %s\" %__name__ )\\n  \\nif __name__ == \"__main__\": \\n    print(\"File2 is being run directly\")\\nelse: \\n    print(\"File2 is being imported\")', '__name__ and __main__', 'def sampledoc():\\n    \"\"\"\\n    This function shows the documentation available \\n    for the defined function\\n    \"\"\"\\n    \\n    pass\\n\\nprint(__doc__.sampledoc())', 'def sampledoc():\\n    \"\"\"\\n    This function shows the documentation available \\n    for the defined function\\n    \"\"\"\\n    \\n    pass\\n\\nprint(sampledoc.__doc__)', 'class ATest:\\n    class_wide_var=0\\n    def __init__(self):\\n        self.x=5\\n        self.y=7\\n        self.z=10\\n        ATest.class_wide_var+=1\\n     \\n    def add(self,num1,num2):\\n        return num1+num2\\n    def __getattr__(self,name):\\n        print \"Not Found\"\\n        raise BadValueException', 'class ATest:\\n    class_wide_var=0\\n    def __init__(self):\\n        self.x=5\\n        self.y=7\\n        self.z=10\\n        ATest.class_wide_var+=1\\n     \\n    def add(self,num1,num2):\\n        return num1+num2\\n    def __getattr__(self,name):\\n        print(\"Not Found\")\\n        raise BadValueException', 'class ATest:\\n    class_wide_var=0\\n    def __init__(self):\\n        self.x=5\\n        self.y=7\\n        self.z=10\\n        ATest.class_wide_var+=1\\n     \\n    def add(self,num1,num2):\\n        return num1+num2\\n    def __getattr__(self,name):\\n        print(\"Not Found\")\\n        raise BadValueException\\n        \\nAtest', 'class ATest:\\n    class_wide_var=0\\n    def __init__(self):\\n        self.x=5\\n        self.y=7\\n        self.z=10\\n        ATest.class_wide_var+=1\\n     \\n    def add(self,num1,num2):\\n        return num1+num2\\n    def __getattr__(self,name):\\n        print(\"Not Found\")\\n        raise BadValueException\\n        \\nAtest()', 'class ATest:\\n    class_wide_var=0\\n    def __init__(self):\\n        self.x=5\\n        self.y=7\\n        self.z=10\\n        ATest.class_wide_var+=1\\n     \\n    def add(self,num1,num2):\\n        return num1+num2\\n    def __getattr__(self,name):\\n        print(\"Not Found\")\\n        raise BadValueException\\n        \\nATest()', 'class ATest:\\n    class_wide_var=0\\n    def __init__(self):\\n        self.x=5\\n        self.y=7\\n        self.z=10\\n        ATest.class_wide_var+=1\\n     \\n    def add(self,num1,num2):\\n        return num1+num2\\n    def __getattr__(self,name):\\n        print(\"Not Found\")\\n        raise BadValueException\\n        \\na=ATest()\\nx=a.novar', 'class ATest:\\n    class_wide_var=0\\n    def __init__(self):\\n        self.x=5\\n        self.y=7\\n        self.z=10\\n        ATest.class_wide_var+=1\\n     \\n    def add(self,num1,num2):\\n        return num1+num2\\n    \\n    def __getattr__(self,name):\\n        print(\"Not Found\")\\n        raise \\'BadValueException\\'\\n        \\na=ATest()\\nx=a.novar', 'class ATest:\\n    class_wide_var=0\\n    def __init__(self):\\n        self.x=5\\n        self.y=7\\n        self.z=10\\n        ATest.class_wide_var+=1\\n     \\n    def add(self,num1,num2):\\n        return num1+num2\\n    \\n    def __getattr__(self,name):\\n        print(\"Not Found\")\\n        raise \\'BadValueException\\' as error\\n        print(\"error\")\\n        \\na=ATest()\\nx=a.novar', 'class ATest:\\n    class_wide_var=0\\n    def __init__(self):\\n        self.x=5\\n        self.y=7\\n        self.z=10\\n        ATest.class_wide_var+=1\\n     \\n    def add(self,num1,num2):\\n        return num1+num2\\n    \\n    def __getattr__(self,name):\\n        print(\"Not Found\")\\n                \\na=ATest()\\nx=a.novar', 'class ATest:\\n    class_wide_var=0\\n    def __init__(self):\\n        self.x=5\\n        self.y=7\\n        self.z=10\\na=ATest()\\nprint getattr(a,\"y\")', 'class ATest:\\n    class_wide_var=0\\n    def __init__(self):\\n        self.x=5\\n        self.y=7\\n        self.z=10\\na=ATest()\\nprint(getattr(a,\"y\"))', 'class Trees:\\n    \\n    def __init__(self):\\n        Trees._instance=Trees.inner()\\n        \\n    class inner:\\n        def __init__(self):\\n            pass\\n        \\n    def __getattr__(self,name):\\n        return getattr(Trees._instance,name)\\n    \\n    def __setattr__(self, name, value):\\n        print \"Setting the inner class.\"\\n        setattr(Trees._instance, name, value)\\n\\ntree_list=[]\\n\\nhandler=open(\"Trees.txt\",\"r\")\\n\\nfor line in handler:\\n    split_list=line.split(\",\")\\n    tree=Trees()\\n    for att in split_list:\\n        split_att=att.split(\":\")\\n        setattr(tree,split_att[0],split_att[1])\\n \\n    tree_list.append(tree)\\n    print(tree.tree_type,tree.category,tree.leaf_color)', 'class Trees:\\n    \\n    def __init__(self):\\n        Trees._instance=Trees.inner()\\n        \\n    class inner:\\n        def __init__(self):\\n            pass\\n        \\n    def __getattr__(self,name):\\n        return getattr(Trees._instance,name)\\n    \\n    def __setattr__(self, name, value):\\n        print(\"Setting the inner class.\")\\n        setattr(Trees._instance, name, value)\\n\\ntree_list=[]\\n\\nhandler=open(\"Trees.txt\",\"r\")\\n\\nfor line in handler:\\n    split_list=line.split(\",\")\\n    tree=Trees()\\n    for att in split_list:\\n        split_att=att.split(\":\")\\n        setattr(tree,split_att[0],split_att[1])\\n \\n    tree_list.append(tree)\\n    print(tree.tree_type,tree.category,tree.leaf_color)', 'class Trees:\\n    \\n    def __init__(self):\\n        Trees._instance=Trees.inner()\\n        \\n    class inner:\\n        def __init__(self):\\n            pass\\n        \\n    def __getattr__(self,name):\\n        return getattr(Trees._instance,name)\\n    \\n    def __setattr__(self, name, value):\\n        print(\"Setting the inner class.\")\\n        setattr(Trees._instance, name, value)\\n\\ntree_list=[]\\n\\nhandler=open(\"GFG.txt\",\"r\")\\n\\nfor line in handler:\\n    split_list=line.split(\",\")\\n    tree=Trees()\\n    for att in split_list:\\n        split_att=att.split(\":\")\\n        setattr(tree,split_att[0],split_att[1])\\n \\n    tree_list.append(tree)\\n    print(tree.tree_type,tree.category,tree.leaf_color)', 'class ATest:\\n    def __init__(self):\\n        self.x=5\\n        self.y=7\\n        self.z=10\\n    def add(self,num1,num2):\\n        return num1+num2\\n\\na=ATest()\\nprint a.__class__', 'class ATest:\\n    def __init__(self):\\n        self.x=5\\n        self.y=7\\n        self.z=10\\n    def add(self,num1,num2):\\n        return num1+num2\\n\\na=ATest()\\nprint(a.__class__)', 'class CTest(object):\\n    def __init__(self):\\n        pass\\nclass DTest(object):\\n    def __init__(self):\\n        pass\\nclass ETest(DTest,CTest):\\n    def __init__(self):\\n        pass\\n\\nprint(CTest.__bases__)\\nprint(ETest.__bases__)', 'class CTest(object):\\n    def __init__(self):\\n        pass\\nclass DTest(object):\\n    def __init__(self):\\n        pass\\nclass ETest(DTest,CTest):\\n    def __init__(self):\\n        pass', 'class CTest(object):\\n    def __init__(self):\\n        pass\\nclass DTest(object):\\n    def __init__(self):\\n        pass\\nclass ETest(DTest,CTest):\\n    def __init__(self):\\n        pass', 'class CTest(object):\\n    def __init__(self):\\n        pass\\nclass DTest(object):\\n    def __init__(self):\\n        pass\\nclass ETest(DTest,CTest):\\n    def __init__(self):\\n        pass\\n\\nprint(CTest.__bases__)\\nprint(ETest.__bases__)', 'class CTest(object):\\n    def __init__(self):\\n        pass\\nclass DTest(object):\\n    def __init__(self):\\n        pass\\nclass ETest(DTest,CTest):\\n    def __init__(self):\\n        pass\\n\\nprint(CTest.__subclasses__())\\nprint(ETest.__subclasses__())', 'class CTest(object):\\n    def __init__(self):\\n        pass\\nclass DTest(object):\\n    def __init__(self):\\n        pass\\nclass ETest(DTest,CTest):\\n    def __init__(self):\\n        pass\\n\\nprint(CTest.__subclasses__())\\nprint(DTest.__subclasses__())\\nprint(ETest.__subclasses__())', 'class CTest(object):\\n    def __init__(self):\\n        pass\\nclass DTest(CTest,object):\\n    def __init__(self):\\n        pass\\nclass ETest(DTest,CTest):\\n    def __init__(self):\\n        pass\\n\\nprint(CTest.__subclasses__())\\nprint(DTest.__subclasses__())\\nprint(ETest.__subclasses__())', 'class ATest:\\n    def __init__(self):\\n        self.x=5\\n        self.y=7\\n        self.z=10\\n    def add(self,num1,num2):\\n        return num1+num2\\na=ATest()\\nmylist=[\"test\",\"another test\"]\\n\\nprint dir(a)\\nprint dir(ATest)\\nprint dir(mylist)', 'class ATest:\\n    def __init__(self):\\n        self.x=5\\n        self.y=7\\n        self.z=10\\n    def add(self,num1,num2):\\n        return num1+num2\\na=ATest()\\nmylist=[\"test\",\"another test\"]\\n\\nprint(dir(a))\\nprint(dir(ATest))\\nprint(dir(mylist))', 'x=3\\ny=6\\nz=9\\nmylist=[\"first\",\"second\",\"third\"]\\n\\ndef mytest():\\n    a=5\\n    b=10\\n    c=15\\n    print(locals())\\n    print(globals())\\n\\nmytest()', 'x=3\\ny=6\\nz=9\\nmylist=[\"first\",\"second\",\"third\"]\\n\\ndef mytest():\\n    a=5\\n    b=10\\n    c=15\\n    print(locals())\\n    print(globals())\\n\\nmytest()', 'x=3\\ny=6\\nz=9\\nmylist=[\"first\",\"second\",\"third\"]\\n\\ndef mytest():\\n    a=5\\n    b=10\\n    c=15\\n    print(locals())\\n    \\nmytest()', 'x=3\\ny=6\\nz=9\\nmylist=[\"first\",\"second\",\"third\"]\\n\\ndef mytest():\\n    a=5\\n    b=10\\n    c=15\\n    print(locals())\\n    print(globals())\\nmytest()'], 'Out': {11: <__main__.ATest object at 0x0000021425F21198>}, 'get_ipython': <bound method InteractiveShell.get_ipython of <ipykernel.zmqshell.ZMQInteractiveShell object at 0x0000021425D03C18>>, 'exit': <IPython.core.autocall.ZMQExitAutocall object at 0x0000021425D713C8>, 'quit': <IPython.core.autocall.ZMQExitAutocall object at 0x0000021425D713C8>, '_': <__main__.ATest object at 0x0000021425F21198>, '__': '', '___': '', '_i': 'x=3\\ny=6\\nz=9\\nmylist=[\"first\",\"second\",\"third\"]\\n\\ndef mytest():\\n    a=5\\n    b=10\\n    c=15\\n    print(locals())\\n    \\nmytest()', '_ii': 'x=3\\ny=6\\nz=9\\nmylist=[\"first\",\"second\",\"third\"]\\n\\ndef mytest():\\n    a=5\\n    b=10\\n    c=15\\n    print(locals())\\n    print(globals())\\n\\nmytest()', '_iii': 'x=3\\ny=6\\nz=9\\nmylist=[\"first\",\"second\",\"third\"]\\n\\ndef mytest():\\n    a=5\\n    b=10\\n    c=15\\n    print(locals())\\n    print(globals())\\n\\nmytest()', '_i1': 'print(dir(__name__))', '_i2': '# File1.py \\n  \\nprint(\"File1 __name__ = %s\" %__name__)\\n  \\nif __name__ == \"__main__\": \\n    print(\"File1 is being run directly\")\\nelse: \\n    print(\"File1 is being imported\")', '_i3': 'import File1 \\n  \\nprint(\"File2 __name__ = %s\" %__name__ )\\n  \\nif __name__ == \"__main__\": \\n    print(\"File2 is being run directly\")\\nelse: \\n    print(\"File2 is being imported\")', '_i4': '__name__ and __main__', '_i5': 'def sampledoc():\\n    \"\"\"\\n    This function shows the documentation available \\n    for the defined function\\n    \"\"\"\\n    \\n    pass\\n\\nprint(__doc__.sampledoc())', 'sampledoc': <function sampledoc at 0x0000021425F09AE8>, '_i6': 'def sampledoc():\\n    \"\"\"\\n    This function shows the documentation available \\n    for the defined function\\n    \"\"\"\\n    \\n    pass\\n\\nprint(sampledoc.__doc__)', '_i7': 'class ATest:\\n    class_wide_var=0\\n    def __init__(self):\\n        self.x=5\\n        self.y=7\\n        self.z=10\\n        ATest.class_wide_var+=1\\n     \\n    def add(self,num1,num2):\\n        return num1+num2\\n    def __getattr__(self,name):\\n        print \"Not Found\"\\n        raise BadValueException', '_i8': 'class ATest:\\n    class_wide_var=0\\n    def __init__(self):\\n        self.x=5\\n        self.y=7\\n        self.z=10\\n        ATest.class_wide_var+=1\\n     \\n    def add(self,num1,num2):\\n        return num1+num2\\n    def __getattr__(self,name):\\n        print(\"Not Found\")\\n        raise BadValueException', 'ATest': <class '__main__.ATest'>, '_i9': 'class ATest:\\n    class_wide_var=0\\n    def __init__(self):\\n        self.x=5\\n        self.y=7\\n        self.z=10\\n        ATest.class_wide_var+=1\\n     \\n    def add(self,num1,num2):\\n        return num1+num2\\n    def __getattr__(self,name):\\n        print(\"Not Found\")\\n        raise BadValueException\\n        \\nAtest', '_i10': 'class ATest:\\n    class_wide_var=0\\n    def __init__(self):\\n        self.x=5\\n        self.y=7\\n        self.z=10\\n        ATest.class_wide_var+=1\\n     \\n    def add(self,num1,num2):\\n        return num1+num2\\n    def __getattr__(self,name):\\n        print(\"Not Found\")\\n        raise BadValueException\\n        \\nAtest()', '_i11': 'class ATest:\\n    class_wide_var=0\\n    def __init__(self):\\n        self.x=5\\n        self.y=7\\n        self.z=10\\n        ATest.class_wide_var+=1\\n     \\n    def add(self,num1,num2):\\n        return num1+num2\\n    def __getattr__(self,name):\\n        print(\"Not Found\")\\n        raise BadValueException\\n        \\nATest()', '_11': <__main__.ATest object at 0x0000021425F21198>, '_i12': 'class ATest:\\n    class_wide_var=0\\n    def __init__(self):\\n        self.x=5\\n        self.y=7\\n        self.z=10\\n        ATest.class_wide_var+=1\\n     \\n    def add(self,num1,num2):\\n        return num1+num2\\n    def __getattr__(self,name):\\n        print(\"Not Found\")\\n        raise BadValueException\\n        \\na=ATest()\\nx=a.novar', 'a': <__main__.ATest object at 0x0000021425F14710>, '_i13': 'class ATest:\\n    class_wide_var=0\\n    def __init__(self):\\n        self.x=5\\n        self.y=7\\n        self.z=10\\n        ATest.class_wide_var+=1\\n     \\n    def add(self,num1,num2):\\n        return num1+num2\\n    \\n    def __getattr__(self,name):\\n        print(\"Not Found\")\\n        raise \\'BadValueException\\'\\n        \\na=ATest()\\nx=a.novar', '_i14': '\\n\\nclass ATest:\\n    class_wide_var=0\\n    def __init__(self):\\n        self.x=5\\n        self.y=7\\n        self.z=10\\n        ATest.class_wide_var+=1\\n     \\n    def add(self,num1,num2):\\n        return num1+num2\\n    \\n    def __getattr__(self,name):\\n        print(\"Not Found\")\\n        raise \\'BadValueException\\' as error\\n        print(\"error\")\\n        \\na=ATest()\\nx=a.novar', '_i15': '\\n\\nclass ATest:\\n    class_wide_var=0\\n    def __init__(self):\\n        self.x=5\\n        self.y=7\\n        self.z=10\\n        ATest.class_wide_var+=1\\n     \\n    def add(self,num1,num2):\\n        return num1+num2\\n    \\n    def __getattr__(self,name):\\n        print(\"Not Found\")\\n                \\na=ATest()\\nx=a.novar', 'x': 3, '_i16': 'class ATest:\\n    class_wide_var=0\\n    def __init__(self):\\n        self.x=5\\n        self.y=7\\n        self.z=10\\na=ATest()\\nprint getattr(a,\"y\")', '_i17': 'class ATest:\\n    class_wide_var=0\\n    def __init__(self):\\n        self.x=5\\n        self.y=7\\n        self.z=10\\na=ATest()\\nprint(getattr(a,\"y\"))', '_i18': 'class Trees:\\n    \\n    def __init__(self):\\n        Trees._instance=Trees.inner()\\n        \\n    class inner:\\n        def __init__(self):\\n            pass\\n        \\n    def __getattr__(self,name):\\n        return getattr(Trees._instance,name)\\n    \\n    def __setattr__(self, name, value):\\n        print \"Setting the inner class.\"\\n        setattr(Trees._instance, name, value)\\n\\ntree_list=[]\\n\\nhandler=open(\"Trees.txt\",\"r\")\\n\\nfor line in handler:\\n    split_list=line.split(\",\")\\n    tree=Trees()\\n    for att in split_list:\\n        split_att=att.split(\":\")\\n        setattr(tree,split_att[0],split_att[1])\\n \\n    tree_list.append(tree)\\n    print(tree.tree_type,tree.category,tree.leaf_color)', '_i19': 'class Trees:\\n    \\n    def __init__(self):\\n        Trees._instance=Trees.inner()\\n        \\n    class inner:\\n        def __init__(self):\\n            pass\\n        \\n    def __getattr__(self,name):\\n        return getattr(Trees._instance,name)\\n    \\n    def __setattr__(self, name, value):\\n        print(\"Setting the inner class.\")\\n        setattr(Trees._instance, name, value)\\n\\ntree_list=[]\\n\\nhandler=open(\"Trees.txt\",\"r\")\\n\\nfor line in handler:\\n    split_list=line.split(\",\")\\n    tree=Trees()\\n    for att in split_list:\\n        split_att=att.split(\":\")\\n        setattr(tree,split_att[0],split_att[1])\\n \\n    tree_list.append(tree)\\n    print(tree.tree_type,tree.category,tree.leaf_color)', 'Trees': <class '__main__.Trees'>, 'tree_list': [], '_i20': 'class Trees:\\n    \\n    def __init__(self):\\n        Trees._instance=Trees.inner()\\n        \\n    class inner:\\n        def __init__(self):\\n            pass\\n        \\n    def __getattr__(self,name):\\n        return getattr(Trees._instance,name)\\n    \\n    def __setattr__(self, name, value):\\n        print(\"Setting the inner class.\")\\n        setattr(Trees._instance, name, value)\\n\\ntree_list=[]\\n\\nhandler=open(\"GFG.txt\",\"r\")\\n\\nfor line in handler:\\n    split_list=line.split(\",\")\\n    tree=Trees()\\n    for att in split_list:\\n        split_att=att.split(\":\")\\n        setattr(tree,split_att[0],split_att[1])\\n \\n    tree_list.append(tree)\\n    print(tree.tree_type,tree.category,tree.leaf_color)', 'handler': <_io.TextIOWrapper name='GFG.txt' mode='r' encoding='cp1252'>, 'line': 'Hellothere', 'split_list': ['Hellothere'], 'tree': <__main__.Trees object at 0x0000021425F39D30>, 'att': 'Hellothere', 'split_att': ['Hellothere'], '_i21': 'class ATest:\\n    def __init__(self):\\n        self.x=5\\n        self.y=7\\n        self.z=10\\n    def add(self,num1,num2):\\n        return num1+num2\\n\\na=ATest()\\nprint a.__class__', '_i22': 'class ATest:\\n    def __init__(self):\\n        self.x=5\\n        self.y=7\\n        self.z=10\\n    def add(self,num1,num2):\\n        return num1+num2\\n\\na=ATest()\\nprint(a.__class__)', '_i23': 'class CTest(object):\\n    def __init__(self):\\n        pass\\nclass DTest(object):\\n    def __init__(self):\\n        pass\\nclass ETest(DTest,CTest):\\n    def __init__(self):\\n        pass\\n\\nprint(CTest.__bases__)\\nprint(ETest.__bases__)', 'CTest': <class '__main__.CTest'>, 'DTest': <class '__main__.DTest'>, 'ETest': <class '__main__.ETest'>, '_i24': 'class CTest(object):\\n    def __init__(self):\\n        pass\\nclass DTest(object):\\n    def __init__(self):\\n        pass\\nclass ETest(DTest,CTest):\\n    def __init__(self):\\n        pass', '_i25': 'class CTest(object):\\n    def __init__(self):\\n        pass\\nclass DTest(object):\\n    def __init__(self):\\n        pass\\nclass ETest(DTest,CTest):\\n    def __init__(self):\\n        pass', '_i26': 'class CTest(object):\\n    def __init__(self):\\n        pass\\nclass DTest(object):\\n    def __init__(self):\\n        pass\\nclass ETest(DTest,CTest):\\n    def __init__(self):\\n        pass\\n\\nprint(CTest.__bases__)\\nprint(ETest.__bases__)', '_i27': 'class CTest(object):\\n    def __init__(self):\\n        pass\\nclass DTest(object):\\n    def __init__(self):\\n        pass\\nclass ETest(DTest,CTest):\\n    def __init__(self):\\n        pass\\n\\nprint(CTest.__subclasses__())\\nprint(ETest.__subclasses__())', '_i28': 'class CTest(object):\\n    def __init__(self):\\n        pass\\nclass DTest(object):\\n    def __init__(self):\\n        pass\\nclass ETest(DTest,CTest):\\n    def __init__(self):\\n        pass\\n\\nprint(CTest.__subclasses__())\\nprint(DTest.__subclasses__())\\nprint(ETest.__subclasses__())', '_i29': 'class CTest(object):\\n    def __init__(self):\\n        pass\\nclass DTest(CTest,object):\\n    def __init__(self):\\n        pass\\nclass ETest(DTest,CTest):\\n    def __init__(self):\\n        pass\\n\\nprint(CTest.__subclasses__())\\nprint(DTest.__subclasses__())\\nprint(ETest.__subclasses__())', '_i30': 'class ATest:\\n    def __init__(self):\\n        self.x=5\\n        self.y=7\\n        self.z=10\\n    def add(self,num1,num2):\\n        return num1+num2\\na=ATest()\\nmylist=[\"test\",\"another test\"]\\n\\nprint dir(a)\\nprint dir(ATest)\\nprint dir(mylist)', '_i31': 'class ATest:\\n    def __init__(self):\\n        self.x=5\\n        self.y=7\\n        self.z=10\\n    def add(self,num1,num2):\\n        return num1+num2\\na=ATest()\\nmylist=[\"test\",\"another test\"]\\n\\nprint(dir(a))\\nprint(dir(ATest))\\nprint(dir(mylist))', 'mylist': ['first', 'second', 'third'], '_i32': 'x=3\\ny=6\\nz=9\\nmylist=[\"first\",\"second\",\"third\"]\\n\\ndef mytest():\\n    a=5\\n    b=10\\n    c=15\\n    print(locals())\\n    print(globals())\\n\\nmytest()', 'y': 6, 'z': 9, 'mytest': <function mytest at 0x0000021425E5F8C8>, '_i33': 'x=3\\ny=6\\nz=9\\nmylist=[\"first\",\"second\",\"third\"]\\n\\ndef mytest():\\n    a=5\\n    b=10\\n    c=15\\n    print(locals())\\n    print(globals())\\n\\nmytest()', '_i34': 'x=3\\ny=6\\nz=9\\nmylist=[\"first\",\"second\",\"third\"]\\n\\ndef mytest():\\n    a=5\\n    b=10\\n    c=15\\n    print(locals())\\n    \\nmytest()', '_i35': 'x=3\\ny=6\\nz=9\\nmylist=[\"first\",\"second\",\"third\"]\\n\\ndef mytest():\\n    a=5\\n    b=10\\n    c=15\\n    print(locals())\\n    print(globals())\\nmytest()'}\n"
     ]
    }
   ],
   "source": [
    "x=3\n",
    "y=6\n",
    "z=9\n",
    "mylist=[\"first\",\"second\",\"third\"]\n",
    "\n",
    "def mytest():\n",
    "    a=5\n",
    "    b=10\n",
    "    c=15\n",
    "    print(locals())\n",
    "    print(globals())\n",
    "mytest()"
   ]
  },
  {
   "cell_type": "markdown",
   "metadata": {},
   "source": [
    "__dict__\n",
    "Similar to locals(), __dict__ will return, as a dictionary, all attributes of a class instance:"
   ]
  },
  {
   "cell_type": "code",
   "execution_count": 36,
   "metadata": {},
   "outputs": [
    {
     "name": "stdout",
     "output_type": "stream",
     "text": [
      "{'x': 5, 'y': 7, 'z': 10}\n",
      "{}\n",
      "{'__module__': '__main__', 'class_wide_var': 1, '__init__': <function ATest.__init__ at 0x0000021425F09F28>, 'add': <function ATest.add at 0x0000021425F09D90>, '__dict__': <attribute '__dict__' of 'ATest' objects>, '__weakref__': <attribute '__weakref__' of 'ATest' objects>, '__doc__': None}\n"
     ]
    }
   ],
   "source": [
    "def mytest():\n",
    "    a=5\n",
    "    b=10\n",
    "    c=15\n",
    "\n",
    "class ATest:\n",
    "    class_wide_var=0\n",
    "    def __init__(self):\n",
    "        self.x=5\n",
    "        self.y=7\n",
    "        self.z=10\n",
    "        ATest.class_wide_var+=1\n",
    "     \n",
    "    def add(self,num1,num2):\n",
    "        return num1+num2\n",
    "\n",
    "a=ATest()\n",
    "print(a.__dict__)\n",
    "print(mytest.__dict__)\n",
    "print(ATest.__dict__)"
   ]
  },
  {
   "cell_type": "markdown",
   "metadata": {},
   "source": [
    "When we run it on the instance, we see the values of all instance variables. Then, we attempt to run it on a method, which will return an empty dictionary. And when we run it directly on the class, we get the class variable and the methods but not the variables that are tied to a specific instance."
   ]
  },
  {
   "cell_type": "code",
   "execution_count": null,
   "metadata": {},
   "outputs": [],
   "source": []
  },
  {
   "cell_type": "code",
   "execution_count": null,
   "metadata": {},
   "outputs": [],
   "source": []
  },
  {
   "cell_type": "code",
   "execution_count": null,
   "metadata": {},
   "outputs": [],
   "source": []
  }
 ],
 "metadata": {
  "kernelspec": {
   "display_name": "Python 3",
   "language": "python",
   "name": "python3"
  },
  "language_info": {
   "codemirror_mode": {
    "name": "ipython",
    "version": 3
   },
   "file_extension": ".py",
   "mimetype": "text/x-python",
   "name": "python",
   "nbconvert_exporter": "python",
   "pygments_lexer": "ipython3",
   "version": "3.7.3"
  }
 },
 "nbformat": 4,
 "nbformat_minor": 2
}
