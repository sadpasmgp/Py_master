{
 "cells": [
  {
   "cell_type": "code",
   "execution_count": 1,
   "metadata": {},
   "outputs": [
    {
     "name": "stdout",
     "output_type": "stream",
     "text": [
      "['BPF', 'LOG4', 'NV_MAGICCONST', 'RECIP_BPF', 'Random', 'SG_MAGICCONST', 'SystemRandom', 'TWOPI', '_BuiltinMethodType', '_MethodType', '_Sequence', '_Set', '__all__', '__builtins__', '__cached__', '__doc__', '__file__', '__loader__', '__name__', '__package__', '__spec__', '_acos', '_bisect', '_ceil', '_cos', '_e', '_exp', '_inst', '_itertools', '_log', '_os', '_pi', '_random', '_sha512', '_sin', '_sqrt', '_test', '_test_generator', '_urandom', '_warn', 'betavariate', 'choice', 'choices', 'expovariate', 'gammavariate', 'gauss', 'getrandbits', 'getstate', 'lognormvariate', 'normalvariate', 'paretovariate', 'randint', 'random', 'randrange', 'sample', 'seed', 'setstate', 'shuffle', 'triangular', 'uniform', 'vonmisesvariate', 'weibullvariate']\n"
     ]
    }
   ],
   "source": [
    "import random\n",
    "print(dir(random))"
   ]
  },
  {
   "cell_type": "markdown",
   "metadata": {},
   "source": [
    "Random module is used - \n",
    "We want the computer to pick a random number in a given range\n",
    "\n",
    "to pick a random element from a list, pick a random card from a deck, flip a coin\n",
    "etc. \n",
    "\n",
    "When making your password database more secure or powering a random page feature of your website. "
   ]
  },
  {
   "cell_type": "markdown",
   "metadata": {},
   "source": [
    "#### random.randint\n",
    "\n",
    "-If we wanted a random integer, we can use the randint function\n",
    "-Randint accepts two parameters: a lowest and a highest number."
   ]
  },
  {
   "cell_type": "code",
   "execution_count": 49,
   "metadata": {},
   "outputs": [
    {
     "data": {
      "text/plain": [
       "1"
      ]
     },
     "execution_count": 49,
     "metadata": {},
     "output_type": "execute_result"
    }
   ],
   "source": [
    "#Return random integer in range [a, b], including both end points.\n",
    "from random import randint\n",
    "randint(0,5)"
   ]
  },
  {
   "cell_type": "markdown",
   "metadata": {},
   "source": [
    "#### random.random"
   ]
  },
  {
   "cell_type": "code",
   "execution_count": 56,
   "metadata": {},
   "outputs": [
    {
     "data": {
      "text/plain": [
       "0.34548592895878794"
      ]
     },
     "execution_count": 56,
     "metadata": {},
     "output_type": "execute_result"
    }
   ],
   "source": [
    "#random() -> x in the interval [0, 1).\n",
    "from random import random\n",
    "random()"
   ]
  },
  {
   "cell_type": "markdown",
   "metadata": {},
   "source": [
    "#### random.choice"
   ]
  },
  {
   "cell_type": "markdown",
   "metadata": {},
   "source": [
    "Generate a random value from the sequence.\n",
    "\n",
    "ex. random.choice( ['red', 'black', 'green'] ).\n",
    "\n",
    "The choice function can often be used for choosing a random element from a list."
   ]
  },
  {
   "cell_type": "code",
   "execution_count": 115,
   "metadata": {},
   "outputs": [
    {
     "data": {
      "text/plain": [
       "1"
      ]
     },
     "execution_count": 115,
     "metadata": {},
     "output_type": "execute_result"
    }
   ],
   "source": [
    "#Choose a random element from a non-empty sequence\n",
    "from random import choice\n",
    "a= [1,2,6,9,0,13,'Hello']\n",
    "choice(a)"
   ]
  },
  {
   "cell_type": "markdown",
   "metadata": {},
   "source": [
    "#### random.shuffle"
   ]
  },
  {
   "cell_type": "markdown",
   "metadata": {},
   "source": [
    "The shuffle function, shuffles the elements in list in place, so they are in a\n",
    "random order.\n",
    "\n",
    "random.shuffle(a)"
   ]
  },
  {
   "cell_type": "code",
   "execution_count": 139,
   "metadata": {},
   "outputs": [
    {
     "name": "stdout",
     "output_type": "stream",
     "text": [
      "[0, 1, 2, 3, 4, 5, 6, 7, 8, 9]\n",
      "[5, 6, 9, 7, 8, 2, 1, 3, 4, 0]\n"
     ]
    }
   ],
   "source": [
    "from random import shuffle\n",
    "a= [i for i in range(10)]\n",
    "print(a)\n",
    "shuffle(a)\n",
    "print(a)"
   ]
  },
  {
   "cell_type": "markdown",
   "metadata": {},
   "source": [
    "#### random.sample"
   ]
  },
  {
   "cell_type": "markdown",
   "metadata": {},
   "source": [
    "Like choice it takes random elements from arbitrary sequence but you can specify how many"
   ]
  },
  {
   "cell_type": "code",
   "execution_count": 178,
   "metadata": {},
   "outputs": [
    {
     "name": "stdout",
     "output_type": "stream",
     "text": [
      "['ho', 'hooo', 'ha', 'Hi']\n"
     ]
    }
   ],
   "source": [
    "from random import sample\n",
    "laughs = [\"Hi\",\"ha\",\"ho\",\"hooo\"]\n",
    "print(sample(laughs,4))"
   ]
  },
  {
   "cell_type": "markdown",
   "metadata": {},
   "source": [
    "#### random.randrange"
   ]
  },
  {
   "cell_type": "markdown",
   "metadata": {},
   "source": [
    "Generate a randomly selected element from range(start, stop, step)\n",
    "\n",
    "random.randrange(start, stop[, step])"
   ]
  },
  {
   "cell_type": "code",
   "execution_count": 142,
   "metadata": {},
   "outputs": [
    {
     "name": "stdout",
     "output_type": "stream",
     "text": [
      "85\n",
      "10\n",
      "40\n"
     ]
    }
   ],
   "source": [
    "import random\n",
    "for i in range(3):\n",
    "    print(random.randrange(0, 101, 5))"
   ]
  },
  {
   "cell_type": "markdown",
   "metadata": {},
   "source": [
    "#### random.uniform"
   ]
  },
  {
   "cell_type": "markdown",
   "metadata": {},
   "source": [
    "#while random returns a float between 0 and 1 , uniform returns float between x and y inclusive"
   ]
  },
  {
   "cell_type": "code",
   "execution_count": 164,
   "metadata": {},
   "outputs": [
    {
     "data": {
      "text/plain": [
       "1.619889083209641"
      ]
     },
     "execution_count": 164,
     "metadata": {},
     "output_type": "execute_result"
    }
   ],
   "source": [
    "random.uniform(1,5)"
   ]
  },
  {
   "cell_type": "markdown",
   "metadata": {},
   "source": [
    "#### random.seed()"
   ]
  },
  {
   "cell_type": "markdown",
   "metadata": {},
   "source": [
    "random() produces different values each time it is called and has a very large period before it repeats any numbers. This is useful for producing unique values or variations, but there are times when having the same data set available to be processed in different ways is useful. One technique is to use a program to generate random values and save them to be processed by a separate step. That may not be practical for large amounts of data, though, so random includes the seed() function for initializing the pseudorandom generator so that it produces an expected set of values."
   ]
  },
  {
   "cell_type": "code",
   "execution_count": 181,
   "metadata": {},
   "outputs": [
    {
     "name": "stdout",
     "output_type": "stream",
     "text": [
      "4\n",
      "2\n",
      "2\n",
      "4\n",
      "4\n",
      "2\n",
      "2\n",
      "4\n"
     ]
    }
   ],
   "source": [
    "import random\n",
    "random.seed(5)\n",
    "print(random.randrange(0,5))\n",
    "print(random.randrange(0,5))\n",
    "print(random.randrange(0,5))\n",
    "print(random.randrange(0,5))\n",
    "\n",
    "#resetting seed will create same random sequence again\n",
    "\n",
    "random.seed(5)\n",
    "print(random.randrange(0,5))\n",
    "print(random.randrange(0,5))\n",
    "print(random.randrange(0,5))\n",
    "print(random.randrange(0,5))"
   ]
  },
  {
   "cell_type": "markdown",
   "metadata": {},
   "source": [
    "#### random.getstate and random.setstate"
   ]
  },
  {
   "cell_type": "markdown",
   "metadata": {},
   "source": [
    "Since the seed is fixed the results are always the same. If having specific numbers is not required only that the values will be the same one can also just use getstate and setstate to recover to a previous state:"
   ]
  },
  {
   "cell_type": "code",
   "execution_count": 186,
   "metadata": {},
   "outputs": [
    {
     "name": "stdout",
     "output_type": "stream",
     "text": [
      "3\n",
      "4\n",
      "0\n",
      "4\n",
      "3\n",
      "4\n",
      "0\n",
      "4\n"
     ]
    }
   ],
   "source": [
    "from random import getstate, setstate\n",
    "\n",
    "save_state = getstate()\n",
    "print(random.randrange(0,5))\n",
    "print(random.randrange(0,5))\n",
    "print(random.randrange(0,5))\n",
    "print(random.randrange(0,5))\n",
    "\n",
    "setstate(save_state)\n",
    "print(random.randrange(0,5))\n",
    "print(random.randrange(0,5))\n",
    "print(random.randrange(0,5))\n",
    "print(random.randrange(0,5))\n"
   ]
  },
  {
   "cell_type": "markdown",
   "metadata": {},
   "source": [
    "#### creating a random password"
   ]
  },
  {
   "cell_type": "markdown",
   "metadata": {},
   "source": [
    "In order to create a random user password we can use the symbols provided in the string module. Specifically punctuation for punctuation symbols, ascii_letters for letters and digits for digits:"
   ]
  },
  {
   "cell_type": "code",
   "execution_count": 192,
   "metadata": {},
   "outputs": [
    {
     "name": "stdout",
     "output_type": "stream",
     "text": [
      "SQ~hi>M};[\n"
     ]
    }
   ],
   "source": [
    "import random\n",
    "from string import punctuation, ascii_letters, digits\n",
    "symbols = ascii_letters + digits + punctuation\n",
    "\n",
    "secure_random = random.SystemRandom()\n",
    "password = \"\".join(secure_random.choice(symbols) for i in range(10))\n",
    "print(password)\n",
    "                                "
   ]
  },
  {
   "cell_type": "markdown",
   "metadata": {},
   "source": [
    "Note that other routines made immediately available by the random module — such as random.choice, random.randint, etc. — are unsuitable for cryptographic purposes.\n",
    "\n",
    "Behind the curtains, these routines use the Mersenne Twister PRNG, which does not satisfy the requirements of a CSPRNG. Thus, in particular, you should not use any of them to generate passwords you plan to use. Always use an\n",
    "instance of SystemRandom as shown above.\n",
    "\n",
    "Starting from Python 3.6, the secrets module is available, which exposes cryptographically safe functionality."
   ]
  },
  {
   "cell_type": "code",
   "execution_count": 196,
   "metadata": {},
   "outputs": [
    {
     "name": "stdout",
     "output_type": "stream",
     "text": [
      "l89Sm995yt\n"
     ]
    }
   ],
   "source": [
    "import string\n",
    "alphabet = string.ascii_letters + string.digits\n",
    "while True:\n",
    "    password = ''.join(choice(alphabet) for i in range(10))\n",
    "    if (any(c.islower() for c in password)\n",
    "    and any(c.isupper() for c in password)\n",
    "    and sum(c.isdigit() for c in password) >= 3):\n",
    "        break\n",
    "print(password)"
   ]
  },
  {
   "cell_type": "markdown",
   "metadata": {},
   "source": [
    "#### Creating cryptogrphically secure random numbers"
   ]
  },
  {
   "cell_type": "markdown",
   "metadata": {},
   "source": [
    "By default the Python random module use the Mersenne Twister PRNG to generate random numbers, which,although suitable in domains like simulations, fails to meet security requirements in more demanding environments.\n",
    "\n",
    "In order to create a cryptographically secure pseudorandom number, one can use SystemRandom which, by using os.urandom, is able to act as a Cryptographically secure pseudorandom number generator, CPRNG.\n",
    "\n",
    "The easiest way to use it simply involves initializing the SystemRandom class. The methods provided are similar to the ones exported by the random module"
   ]
  },
  {
   "cell_type": "code",
   "execution_count": 199,
   "metadata": {},
   "outputs": [
    {
     "name": "stdout",
     "output_type": "stream",
     "text": [
      "[0, 7, 1, 6, 8, 9, 4, 0, 1, 9]\n",
      "15\n"
     ]
    }
   ],
   "source": [
    "from random import SystemRandom\n",
    "secure_rand_gen = SystemRandom()\n",
    "\n",
    "#In order to create a random sequence of 10 ints in range [0, 20], one can simply call randrange():\n",
    "print([secure_rand_gen.randrange(10) for i in range(10)])\n",
    "\n",
    "#To create a random integer in a given range, one can use randint:\n",
    "print(secure_rand_gen.randint(0, 20))"
   ]
  },
  {
   "cell_type": "markdown",
   "metadata": {},
   "source": [
    "#### secrets module"
   ]
  },
  {
   "cell_type": "markdown",
   "metadata": {},
   "source": [
    "The secrets module is used for generating random numbers for managing important data such as passwords, account authentication, security tokens, and related secrets, that are cryptographically strong. This module is responsible for providing access to the most secure source of randomness. This module is present in Python 3.6 and above.\n",
    "\n",
    "Random Numbers: class secrets.SystemRandom\n",
    "\n",
    "This class uses the os.urandom() function for the generation of random numbers from sources provided by the operating system."
   ]
  },
  {
   "cell_type": "markdown",
   "metadata": {},
   "source": [
    "##### secrets.choice(sequence): \n",
    "This function returns a randomly-chosen element from a non-empty sequence to manage a basic level of security."
   ]
  },
  {
   "cell_type": "code",
   "execution_count": 200,
   "metadata": {},
   "outputs": [
    {
     "name": "stdout",
     "output_type": "stream",
     "text": [
      "mx2ArBiI2Y\n"
     ]
    }
   ],
   "source": [
    "#Example 1 : Generate a ten-character alphanumeric password.\n",
    "import secrets \n",
    "import string \n",
    "  \n",
    "alphabet = string.ascii_letters + string.digits \n",
    "password = ''.join(secrets.choice(alphabet) for i in range(10)) \n",
    "  \n",
    "print(password) \n"
   ]
  },
  {
   "cell_type": "code",
   "execution_count": 201,
   "metadata": {},
   "outputs": [
    {
     "name": "stdout",
     "output_type": "stream",
     "text": [
      "['DEFAULT_ENTROPY', 'SystemRandom', '__all__', '__builtins__', '__cached__', '__doc__', '__file__', '__loader__', '__name__', '__package__', '__spec__', '_sysrand', 'base64', 'binascii', 'choice', 'compare_digest', 'os', 'randbelow', 'randbits', 'token_bytes', 'token_hex', 'token_urlsafe']\n"
     ]
    }
   ],
   "source": [
    "print(dir(secrets))"
   ]
  },
  {
   "cell_type": "code",
   "execution_count": 202,
   "metadata": {},
   "outputs": [
    {
     "name": "stdout",
     "output_type": "stream",
     "text": [
      "CYic2r7K4v\n"
     ]
    }
   ],
   "source": [
    "#Generate a ten-character alphanumeric password with at least one lowercase character, at least one uppercase character, and at least three digits.\n",
    "\n",
    "import secrets \n",
    "import string \n",
    "  \n",
    "alphabet = string.ascii_letters + string.digits \n",
    "while True: \n",
    "    password = ''.join(secrets.choice(alphabet) for i in range(10)) \n",
    "    if (any(c.islower() for c in password) and any(c.isupper()  \n",
    "    for c in password) and sum(c.isdigit() for c in password) >= 3): \n",
    "        print(password) \n",
    "        break"
   ]
  },
  {
   "cell_type": "markdown",
   "metadata": {},
   "source": [
    "##### secrets.randbelow(n): \n",
    "This function returns a random integer in the range [0, n). "
   ]
  },
  {
   "cell_type": "code",
   "execution_count": 203,
   "metadata": {},
   "outputs": [
    {
     "name": "stdout",
     "output_type": "stream",
     "text": [
      "4\n"
     ]
    }
   ],
   "source": [
    "\n",
    "import secrets \n",
    "  \n",
    "passwd = secrets.randbelow(20) \n",
    "print(passwd)\n"
   ]
  },
  {
   "cell_type": "markdown",
   "metadata": {},
   "source": [
    "##### secrets.randbits(k): \n",
    "This function returns an int with k random bits. "
   ]
  },
  {
   "cell_type": "code",
   "execution_count": 210,
   "metadata": {},
   "outputs": [
    {
     "name": "stdout",
     "output_type": "stream",
     "text": [
      "40\n"
     ]
    }
   ],
   "source": [
    "\n",
    "import secrets \n",
    "  \n",
    "passwd = secrets.randbits(7) \n",
    "print(passwd)\n"
   ]
  },
  {
   "cell_type": "markdown",
   "metadata": {},
   "source": [
    "#### Generating tokens\n",
    "This module provides several functions for generating secure tokens for applications such as password resets, hard-to-guess URLs etc."
   ]
  },
  {
   "cell_type": "markdown",
   "metadata": {},
   "source": [
    "##### secrets.token_bytes([nbytes=None]) : \n",
    "This function is responsible for generating a random byte string containing nbytes number of bytes. If no value is provided, a reasonable default is used. "
   ]
  },
  {
   "cell_type": "code",
   "execution_count": 211,
   "metadata": {},
   "outputs": [
    {
     "name": "stdout",
     "output_type": "stream",
     "text": [
      "b\"\\xf3\\x8dizA\\x1a'\\x82ZF\\x10g*\\xeb\\xae\\x1f\\x9c\\xe8V\\x0f\\xf5\\xa3cDs\\xa4\\x9c\\xf6\\xbe\\x14\\x04u\"\n",
      "b'7\\x95$<\\xd2)K\\xd6\\xcc\\\\'\n"
     ]
    }
   ],
   "source": [
    "\n",
    "import secrets \n",
    "  \n",
    "token1 = secrets.token_bytes() \n",
    "token2 = secrets.token_bytes(10) \n",
    "  \n",
    "print(token1) \n",
    "print(token2)"
   ]
  },
  {
   "cell_type": "markdown",
   "metadata": {},
   "source": [
    "##### secrets.token_hex([nbytes=None]) : \n",
    "This function is responsible for generating a random text string in hexadecimal containing nbytes random bytes. If no value is provided, a reasonable default is used."
   ]
  },
  {
   "cell_type": "code",
   "execution_count": 212,
   "metadata": {},
   "outputs": [
    {
     "name": "stdout",
     "output_type": "stream",
     "text": [
      "574ca2896d9872b2a6691ac1634274b0\n",
      "79ccb3f9dab03c3bc6\n"
     ]
    }
   ],
   "source": [
    "\n",
    "import secrets \n",
    "  \n",
    "token1 = secrets.token_hex(16) \n",
    "token2 = secrets.token_hex(9) \n",
    "  \n",
    "print(token1) \n",
    "print(token2)\n"
   ]
  },
  {
   "cell_type": "markdown",
   "metadata": {},
   "source": [
    "##### secrets.token_urlsafe([nbytes=None]) : \n",
    "This function is responsible for generating a random URL-safe text string containing nbytes random bytes. This is suitable for password recovery applications.\n"
   ]
  },
  {
   "cell_type": "code",
   "execution_count": 213,
   "metadata": {},
   "outputs": [
    {
     "name": "stdout",
     "output_type": "stream",
     "text": [
      "https://mydomain.com/reset=fHoXxSH-tokr47yGGipX8vuCc3yB2-cOl6CIVYGofkI\n"
     ]
    }
   ],
   "source": [
    "#Example : Generate a hard-to-guess temporary URL containing a security token.\n",
    "\n",
    "\n",
    "import secrets \n",
    "  \n",
    "url = 'https://mydomain.com/reset=' + secrets.token_urlsafe() \n",
    "print(url) \n"
   ]
  },
  {
   "cell_type": "code",
   "execution_count": null,
   "metadata": {},
   "outputs": [],
   "source": []
  }
 ],
 "metadata": {
  "kernelspec": {
   "display_name": "Python 3",
   "language": "python",
   "name": "python3"
  },
  "language_info": {
   "codemirror_mode": {
    "name": "ipython",
    "version": 3
   },
   "file_extension": ".py",
   "mimetype": "text/x-python",
   "name": "python",
   "nbconvert_exporter": "python",
   "pygments_lexer": "ipython3",
   "version": "3.7.3"
  }
 },
 "nbformat": 4,
 "nbformat_minor": 2
}
